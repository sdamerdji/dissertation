{
 "cells": [
  {
   "cell_type": "code",
   "execution_count": 74,
   "id": "99eafeac",
   "metadata": {},
   "outputs": [],
   "source": [
    "import pandas as pd\n",
    "import geopandas as gpd\n",
    "import numpy as np\n",
    "\n",
    "import matplotlib.pyplot as plt\n",
    "import seaborn as sns\n",
    "import contextily as ctx\n",
    "from shapely.wkt import load\n",
    "\n",
    "import clean_utils\n",
    "from importlib import reload\n",
    "\n",
    "\n",
    "import doubleml as dml\n",
    "from sklearn.ensemble import RandomForestRegressor, RandomForestClassifier\n",
    "from sklearn.model_selection import RandomizedSearchCV\n",
    "from sklearn.metrics import confusion_matrix "
   ]
  },
  {
   "cell_type": "code",
   "execution_count": 2,
   "id": "64ae0eb2",
   "metadata": {},
   "outputs": [],
   "source": [
    "df4 = pd.read_csv('cleaned_rhna4_data.csv', low_memory=False)\n",
    "df5 = pd.read_csv('cleaned_rhna5_data.csv', low_memory=False)"
   ]
  },
  {
   "cell_type": "code",
   "execution_count": 3,
   "id": "b2e9abf3",
   "metadata": {},
   "outputs": [],
   "source": [
    "train = df4.drop(\n",
    "    ['Unnamed: 0', 'MapBlkLot_Master', 'mapblklot', \n",
    "    'blklot', 'active', 'geometry', 'PROPLOC',\n",
    "    'RP1PRCLID', 'RP1TRACDE', 'ZONE', 'area'], axis=1\n",
    ")"
   ]
  },
  {
   "cell_type": "markdown",
   "id": "5819f1ba",
   "metadata": {},
   "source": [
    "### Remove illegal values"
   ]
  },
  {
   "cell_type": "code",
   "execution_count": 4,
   "id": "69bd4705",
   "metadata": {},
   "outputs": [],
   "source": [
    "# FBA and Rooms must be positive. YRBLT must be before 2023\n",
    "train = train[(train.FBA >= 0) &\n",
    "              (train.ROOMS >= 0) & \n",
    "              (train.YRBLT <= 2023)]"
   ]
  },
  {
   "cell_type": "code",
   "execution_count": 5,
   "id": "37a913a6",
   "metadata": {},
   "outputs": [],
   "source": [
    "train.Developed = train.Developed > 0"
   ]
  },
  {
   "cell_type": "code",
   "execution_count": 7,
   "id": "bee7d70b",
   "metadata": {},
   "outputs": [],
   "source": [
    "train = pd.get_dummies(train, drop_first=True)"
   ]
  },
  {
   "cell_type": "code",
   "execution_count": 8,
   "id": "02589b16",
   "metadata": {},
   "outputs": [],
   "source": [
    "obj_dml_data = dml.DoubleMLData(train, 'Developed', 'inInventory')"
   ]
  },
  {
   "cell_type": "code",
   "execution_count": 9,
   "id": "5fc67b6b",
   "metadata": {},
   "outputs": [],
   "source": [
    "# Predict y as function of X\n",
    "ml_l = RandomForestRegressor(n_estimators=250, n_jobs=1)"
   ]
  },
  {
   "cell_type": "markdown",
   "id": "d9a6b5ac",
   "metadata": {},
   "source": [
    "### Propensity Score Model"
   ]
  },
  {
   "cell_type": "markdown",
   "id": "248ab430",
   "metadata": {},
   "source": [
    "Only 2.87% of the dataset was selected in the site inventory."
   ]
  },
  {
   "cell_type": "code",
   "execution_count": 101,
   "id": "e2a36951",
   "metadata": {},
   "outputs": [
    {
     "name": "stdout",
     "output_type": "stream",
     "text": [
      "2.87%\n"
     ]
    }
   ],
   "source": [
    "print(f'{round(train.inInventory.mean() * 100, 2)}%')"
   ]
  },
  {
   "cell_type": "code",
   "execution_count": 87,
   "id": "387bffa4",
   "metadata": {},
   "outputs": [],
   "source": [
    "# Predict d as function of X\n",
    "ml_c = RandomForestClassifier(n_estimators=100,\n",
    "                              n_jobs=8, \n",
    "                              class_weight='balanced')"
   ]
  },
  {
   "cell_type": "code",
   "execution_count": 105,
   "id": "c8440153",
   "metadata": {},
   "outputs": [],
   "source": [
    "max_features = ['log2', 'sqrt', 1.0]\n",
    "min_samples_split = [2, 3, 4, 5, 10, 20]\n",
    "min_samples_leaf = [1, 2, 3, 5, 10]\n",
    "max_depth = [10, 20, 30, 40, 50]\n",
    "random_grid = {'max_features': max_features,\n",
    "               'min_samples_split': min_samples_split,\n",
    "               'min_samples_leaf': min_samples_leaf,\n",
    "               'max_depth': max_depth}"
   ]
  },
  {
   "cell_type": "code",
   "execution_count": 106,
   "id": "fe0eac7a",
   "metadata": {},
   "outputs": [
    {
     "data": {
      "text/plain": [
       "{'max_features': ['log2', 'sqrt', 1.0],\n",
       " 'min_samples_split': [2, 3, 4, 5, 10, 20],\n",
       " 'min_samples_leaf': [1, 2, 3, 5, 10],\n",
       " 'max_depth': [10, 20, 30, 40, 50]}"
      ]
     },
     "execution_count": 106,
     "metadata": {},
     "output_type": "execute_result"
    }
   ],
   "source": [
    "random_grid"
   ]
  },
  {
   "cell_type": "code",
   "execution_count": 107,
   "id": "9e258036",
   "metadata": {},
   "outputs": [
    {
     "name": "stdout",
     "output_type": "stream",
     "text": [
      "Fitting 5 folds for each of 20 candidates, totalling 100 fits\n"
     ]
    },
    {
     "data": {
      "text/html": [
       "<style>#sk-container-id-7 {color: black;background-color: white;}#sk-container-id-7 pre{padding: 0;}#sk-container-id-7 div.sk-toggleable {background-color: white;}#sk-container-id-7 label.sk-toggleable__label {cursor: pointer;display: block;width: 100%;margin-bottom: 0;padding: 0.3em;box-sizing: border-box;text-align: center;}#sk-container-id-7 label.sk-toggleable__label-arrow:before {content: \"▸\";float: left;margin-right: 0.25em;color: #696969;}#sk-container-id-7 label.sk-toggleable__label-arrow:hover:before {color: black;}#sk-container-id-7 div.sk-estimator:hover label.sk-toggleable__label-arrow:before {color: black;}#sk-container-id-7 div.sk-toggleable__content {max-height: 0;max-width: 0;overflow: hidden;text-align: left;background-color: #f0f8ff;}#sk-container-id-7 div.sk-toggleable__content pre {margin: 0.2em;color: black;border-radius: 0.25em;background-color: #f0f8ff;}#sk-container-id-7 input.sk-toggleable__control:checked~div.sk-toggleable__content {max-height: 200px;max-width: 100%;overflow: auto;}#sk-container-id-7 input.sk-toggleable__control:checked~label.sk-toggleable__label-arrow:before {content: \"▾\";}#sk-container-id-7 div.sk-estimator input.sk-toggleable__control:checked~label.sk-toggleable__label {background-color: #d4ebff;}#sk-container-id-7 div.sk-label input.sk-toggleable__control:checked~label.sk-toggleable__label {background-color: #d4ebff;}#sk-container-id-7 input.sk-hidden--visually {border: 0;clip: rect(1px 1px 1px 1px);clip: rect(1px, 1px, 1px, 1px);height: 1px;margin: -1px;overflow: hidden;padding: 0;position: absolute;width: 1px;}#sk-container-id-7 div.sk-estimator {font-family: monospace;background-color: #f0f8ff;border: 1px dotted black;border-radius: 0.25em;box-sizing: border-box;margin-bottom: 0.5em;}#sk-container-id-7 div.sk-estimator:hover {background-color: #d4ebff;}#sk-container-id-7 div.sk-parallel-item::after {content: \"\";width: 100%;border-bottom: 1px solid gray;flex-grow: 1;}#sk-container-id-7 div.sk-label:hover label.sk-toggleable__label {background-color: #d4ebff;}#sk-container-id-7 div.sk-serial::before {content: \"\";position: absolute;border-left: 1px solid gray;box-sizing: border-box;top: 0;bottom: 0;left: 50%;z-index: 0;}#sk-container-id-7 div.sk-serial {display: flex;flex-direction: column;align-items: center;background-color: white;padding-right: 0.2em;padding-left: 0.2em;position: relative;}#sk-container-id-7 div.sk-item {position: relative;z-index: 1;}#sk-container-id-7 div.sk-parallel {display: flex;align-items: stretch;justify-content: center;background-color: white;position: relative;}#sk-container-id-7 div.sk-item::before, #sk-container-id-7 div.sk-parallel-item::before {content: \"\";position: absolute;border-left: 1px solid gray;box-sizing: border-box;top: 0;bottom: 0;left: 50%;z-index: -1;}#sk-container-id-7 div.sk-parallel-item {display: flex;flex-direction: column;z-index: 1;position: relative;background-color: white;}#sk-container-id-7 div.sk-parallel-item:first-child::after {align-self: flex-end;width: 50%;}#sk-container-id-7 div.sk-parallel-item:last-child::after {align-self: flex-start;width: 50%;}#sk-container-id-7 div.sk-parallel-item:only-child::after {width: 0;}#sk-container-id-7 div.sk-dashed-wrapped {border: 1px dashed gray;margin: 0 0.4em 0.5em 0.4em;box-sizing: border-box;padding-bottom: 0.4em;background-color: white;}#sk-container-id-7 div.sk-label label {font-family: monospace;font-weight: bold;display: inline-block;line-height: 1.2em;}#sk-container-id-7 div.sk-label-container {text-align: center;}#sk-container-id-7 div.sk-container {/* jupyter's `normalize.less` sets `[hidden] { display: none; }` but bootstrap.min.css set `[hidden] { display: none !important; }` so we also need the `!important` here to be able to override the default hidden behavior on the sphinx rendered scikit-learn.org. See: https://github.com/scikit-learn/scikit-learn/issues/21755 */display: inline-block !important;position: relative;}#sk-container-id-7 div.sk-text-repr-fallback {display: none;}</style><div id=\"sk-container-id-7\" class=\"sk-top-container\"><div class=\"sk-text-repr-fallback\"><pre>RandomizedSearchCV(cv=5,\n",
       "                   estimator=RandomForestClassifier(class_weight=&#x27;balanced&#x27;,\n",
       "                                                    n_jobs=8),\n",
       "                   n_iter=20, n_jobs=1,\n",
       "                   param_distributions={&#x27;max_depth&#x27;: [10, 20, 30, 40, 50],\n",
       "                                        &#x27;max_features&#x27;: [&#x27;log2&#x27;, &#x27;sqrt&#x27;, 1.0],\n",
       "                                        &#x27;min_samples_leaf&#x27;: [1, 2, 3, 5, 10],\n",
       "                                        &#x27;min_samples_split&#x27;: [2, 3, 4, 5, 10,\n",
       "                                                              20]},\n",
       "                   verbose=1)</pre><b>In a Jupyter environment, please rerun this cell to show the HTML representation or trust the notebook. <br />On GitHub, the HTML representation is unable to render, please try loading this page with nbviewer.org.</b></div><div class=\"sk-container\" hidden><div class=\"sk-item sk-dashed-wrapped\"><div class=\"sk-label-container\"><div class=\"sk-label sk-toggleable\"><input class=\"sk-toggleable__control sk-hidden--visually\" id=\"sk-estimator-id-17\" type=\"checkbox\" ><label for=\"sk-estimator-id-17\" class=\"sk-toggleable__label sk-toggleable__label-arrow\">RandomizedSearchCV</label><div class=\"sk-toggleable__content\"><pre>RandomizedSearchCV(cv=5,\n",
       "                   estimator=RandomForestClassifier(class_weight=&#x27;balanced&#x27;,\n",
       "                                                    n_jobs=8),\n",
       "                   n_iter=20, n_jobs=1,\n",
       "                   param_distributions={&#x27;max_depth&#x27;: [10, 20, 30, 40, 50],\n",
       "                                        &#x27;max_features&#x27;: [&#x27;log2&#x27;, &#x27;sqrt&#x27;, 1.0],\n",
       "                                        &#x27;min_samples_leaf&#x27;: [1, 2, 3, 5, 10],\n",
       "                                        &#x27;min_samples_split&#x27;: [2, 3, 4, 5, 10,\n",
       "                                                              20]},\n",
       "                   verbose=1)</pre></div></div></div><div class=\"sk-parallel\"><div class=\"sk-parallel-item\"><div class=\"sk-item\"><div class=\"sk-label-container\"><div class=\"sk-label sk-toggleable\"><input class=\"sk-toggleable__control sk-hidden--visually\" id=\"sk-estimator-id-18\" type=\"checkbox\" ><label for=\"sk-estimator-id-18\" class=\"sk-toggleable__label sk-toggleable__label-arrow\">estimator: RandomForestClassifier</label><div class=\"sk-toggleable__content\"><pre>RandomForestClassifier(class_weight=&#x27;balanced&#x27;, n_jobs=8)</pre></div></div></div><div class=\"sk-serial\"><div class=\"sk-item\"><div class=\"sk-estimator sk-toggleable\"><input class=\"sk-toggleable__control sk-hidden--visually\" id=\"sk-estimator-id-19\" type=\"checkbox\" ><label for=\"sk-estimator-id-19\" class=\"sk-toggleable__label sk-toggleable__label-arrow\">RandomForestClassifier</label><div class=\"sk-toggleable__content\"><pre>RandomForestClassifier(class_weight=&#x27;balanced&#x27;, n_jobs=8)</pre></div></div></div></div></div></div></div></div></div></div>"
      ],
      "text/plain": [
       "RandomizedSearchCV(cv=5,\n",
       "                   estimator=RandomForestClassifier(class_weight='balanced',\n",
       "                                                    n_jobs=8),\n",
       "                   n_iter=20, n_jobs=1,\n",
       "                   param_distributions={'max_depth': [10, 20, 30, 40, 50],\n",
       "                                        'max_features': ['log2', 'sqrt', 1.0],\n",
       "                                        'min_samples_leaf': [1, 2, 3, 5, 10],\n",
       "                                        'min_samples_split': [2, 3, 4, 5, 10,\n",
       "                                                              20]},\n",
       "                   verbose=1)"
      ]
     },
     "execution_count": 107,
     "metadata": {},
     "output_type": "execute_result"
    }
   ],
   "source": [
    "ml_c_random = RandomizedSearchCV(estimator=ml_c,\n",
    "                                 param_distributions=random_grid,\n",
    "                                 n_iter=20,\n",
    "                                 cv=5, \n",
    "                                 verbose=1,\n",
    "                                 n_jobs=1)\n",
    "# Fit the random search model\n",
    "ml_c_random.fit(obj_dml_data.x, obj_dml_data.d)"
   ]
  },
  {
   "cell_type": "code",
   "execution_count": 108,
   "id": "911482cd",
   "metadata": {},
   "outputs": [
    {
     "data": {
      "text/plain": [
       "array([[90.98,  6.15],\n",
       "       [ 0.38,  2.48]])"
      ]
     },
     "execution_count": 108,
     "metadata": {},
     "output_type": "execute_result"
    }
   ],
   "source": [
    "# Balanced classes\n",
    "np.set_printoptions(suppress=True)\n",
    "\n",
    "(confusion_matrix(obj_dml_data.d,\n",
    "                 ml_c_random.predict(obj_dml_data.x),\n",
    "                 normalize='all') * 100).round(2)"
   ]
  },
  {
   "cell_type": "code",
   "execution_count": 93,
   "id": "50a712bf",
   "metadata": {},
   "outputs": [
    {
     "data": {
      "text/plain": [
       "array([[91.76,  5.37],\n",
       "       [ 0.38,  2.49]])"
      ]
     },
     "execution_count": 93,
     "metadata": {},
     "output_type": "execute_result"
    }
   ],
   "source": [
    "# Balanced classes\n",
    "np.set_printoptions(suppress=True)\n",
    "\n",
    "(confusion_matrix(obj_dml_data.d,\n",
    "                 ml_c_random.predict(obj_dml_data.x),\n",
    "                 normalize='all') * 100).round(2)"
   ]
  },
  {
   "cell_type": "code",
   "execution_count": 69,
   "id": "01b55110",
   "metadata": {},
   "outputs": [
    {
     "data": {
      "text/plain": [
       "0.971637141643377"
      ]
     },
     "execution_count": 69,
     "metadata": {},
     "output_type": "execute_result"
    }
   ],
   "source": [
    "ml_c_random.best_score_"
   ]
  },
  {
   "cell_type": "code",
   "execution_count": 109,
   "id": "1d4206de",
   "metadata": {},
   "outputs": [
    {
     "data": {
      "text/plain": [
       "{'min_samples_split': 3,\n",
       " 'min_samples_leaf': 2,\n",
       " 'max_features': 'sqrt',\n",
       " 'max_depth': 10}"
      ]
     },
     "execution_count": 109,
     "metadata": {},
     "output_type": "execute_result"
    }
   ],
   "source": [
    "ml_c_random.best_params_"
   ]
  },
  {
   "cell_type": "code",
   "execution_count": 111,
   "id": "ed07ae0e",
   "metadata": {},
   "outputs": [
    {
     "data": {
      "text/plain": [
       "0.9159304732170013"
      ]
     },
     "execution_count": 111,
     "metadata": {},
     "output_type": "execute_result"
    }
   ],
   "source": [
    "ml_c_random.best_score_"
   ]
  },
  {
   "cell_type": "code",
   "execution_count": 110,
   "id": "d2b8ebd9",
   "metadata": {},
   "outputs": [
    {
     "data": {
      "text/plain": [
       "<BarContainer object of 25 artists>"
      ]
     },
     "execution_count": 110,
     "metadata": {},
     "output_type": "execute_result"
    },
    {
     "data": {
      "image/png": "[encoded data removed]",
      "text/plain": [
       "<Figure size 432x576 with 1 Axes>"
      ]
     },
     "metadata": {
      "needs_background": "light"
     },
     "output_type": "display_data"
    }
   ],
   "source": [
    "ft_imp = pd.Series(ml_c_random.best_estimator_.feature_importances_,\n",
    "                   index=obj_dml_data.x_cols)\n",
    "ft_imp = ft_imp.sort_values(ascending=False)\n",
    "plt.figure(figsize=(6, 8))\n",
    "plt.barh(ft_imp.index[:25], ft_imp[:25])"
   ]
  },
  {
   "cell_type": "code",
   "execution_count": 39,
   "id": "252eb5ec",
   "metadata": {},
   "outputs": [
    {
     "data": {
      "text/plain": [
       "<BarContainer object of 25 artists>"
      ]
     },
     "execution_count": 39,
     "metadata": {},
     "output_type": "execute_result"
    },
    {
     "data": {
      "image/png": "[encoded data removed]",
      "text/plain": [
       "<Figure size 432x576 with 1 Axes>"
      ]
     },
     "metadata": {
      "needs_background": "light"
     },
     "output_type": "display_data"
    }
   ],
   "source": [
    "ft_imp = pd.Series(ml_c_random.best_estimator_.feature_importances_,\n",
    "                   index=obj_dml_data.x_cols)\n",
    "ft_imp = ft_imp.sort_values(ascending=False)\n",
    "plt.figure(figsize=(6, 8))\n",
    "plt.barh(ft_imp.index[:25], ft_imp[:25])"
   ]
  },
  {
   "cell_type": "code",
   "execution_count": 116,
   "id": "ffdb1e6b",
   "metadata": {},
   "outputs": [
    {
     "data": {
      "text/plain": [
       "array([[0, 0, 42.497730032, ..., 1, 0, 0],\n",
       "       [1, 0, 11.219192364, ..., 1, 0, 0],\n",
       "       [0, 0, 39.108626635, ..., 1, 0, 0],\n",
       "       ...,\n",
       "       [1, 0, 5.2418824862, ..., 0, 0, 0],\n",
       "       [0, 0, 3.4056685143, ..., 0, 1, 0],\n",
       "       [0, 0, 56.306155315, ..., 1, 0, 0]], dtype=object)"
      ]
     },
     "execution_count": 116,
     "metadata": {},
     "output_type": "execute_result"
    }
   ],
   "source": [
    "obj_dml_data.x"
   ]
  },
  {
   "cell_type": "code",
   "execution_count": 88,
   "id": "0a549e97",
   "metadata": {},
   "outputs": [],
   "source": [
    "dml_plr_obj = dml.DoubleMLPLR(obj_dml_data, ml_l, ml_c)"
   ]
  },
  {
   "cell_type": "code",
   "execution_count": null,
   "id": "1c8fb845",
   "metadata": {},
   "outputs": [],
   "source": [
    "dml_plr_obj.tune(par_grids,\n",
    "                 search_mode='randomized_search', \n",
    "                 n_iter_randomized_search=20)"
   ]
  },
  {
   "cell_type": "code",
   "execution_count": 89,
   "id": "37ef7392",
   "metadata": {},
   "outputs": [
    {
     "data": {
      "text/html": [
       "<div>\n",
       "<style scoped>\n",
       "    .dataframe tbody tr th:only-of-type {\n",
       "        vertical-align: middle;\n",
       "    }\n",
       "\n",
       "    .dataframe tbody tr th {\n",
       "        vertical-align: top;\n",
       "    }\n",
       "\n",
       "    .dataframe thead th {\n",
       "        text-align: right;\n",
       "    }\n",
       "</style>\n",
       "<table border=\"1\" class=\"dataframe\">\n",
       "  <thead>\n",
       "    <tr style=\"text-align: right;\">\n",
       "      <th></th>\n",
       "      <th>coef</th>\n",
       "      <th>std err</th>\n",
       "      <th>t</th>\n",
       "      <th>P&gt;|t|</th>\n",
       "      <th>2.5 %</th>\n",
       "      <th>97.5 %</th>\n",
       "    </tr>\n",
       "  </thead>\n",
       "  <tbody>\n",
       "    <tr>\n",
       "      <th>inInventory</th>\n",
       "      <td>-0.002068</td>\n",
       "      <td>0.00237</td>\n",
       "      <td>-0.872609</td>\n",
       "      <td>0.382876</td>\n",
       "      <td>-0.006713</td>\n",
       "      <td>0.002577</td>\n",
       "    </tr>\n",
       "  </tbody>\n",
       "</table>\n",
       "</div>"
      ],
      "text/plain": [
       "                 coef  std err         t     P>|t|     2.5 %    97.5 %\n",
       "inInventory -0.002068  0.00237 -0.872609  0.382876 -0.006713  0.002577"
      ]
     },
     "execution_count": 89,
     "metadata": {},
     "output_type": "execute_result"
    }
   ],
   "source": [
    "dml_plr_obj.fit().summary"
   ]
  },
  {
   "cell_type": "code",
   "execution_count": 94,
   "id": "6c28579f",
   "metadata": {},
   "outputs": [
    {
     "data": {
      "text/plain": [
       "False"
      ]
     },
     "execution_count": 94,
     "metadata": {},
     "output_type": "execute_result"
    }
   ],
   "source": [
    "obj_dml_data.binary_outcome"
   ]
  },
  {
   "cell_type": "code",
   "execution_count": 96,
   "id": "7779ca77",
   "metadata": {},
   "outputs": [
    {
     "data": {
      "text/plain": [
       "2"
      ]
     },
     "execution_count": 96,
     "metadata": {},
     "output_type": "execute_result"
    }
   ],
   "source": [
    "train.Developed.max()"
   ]
  },
  {
   "cell_type": "code",
   "execution_count": 114,
   "id": "88cdc718",
   "metadata": {},
   "outputs": [
    {
     "data": {
      "text/html": [
       "<div>\n",
       "<style scoped>\n",
       "    .dataframe tbody tr th:only-of-type {\n",
       "        vertical-align: middle;\n",
       "    }\n",
       "\n",
       "    .dataframe tbody tr th {\n",
       "        vertical-align: top;\n",
       "    }\n",
       "\n",
       "    .dataframe thead th {\n",
       "        text-align: right;\n",
       "    }\n",
       "</style>\n",
       "<table border=\"1\" class=\"dataframe\">\n",
       "  <thead>\n",
       "    <tr style=\"text-align: right;\">\n",
       "      <th></th>\n",
       "      <th>2.5 %</th>\n",
       "      <th>97.5 %</th>\n",
       "    </tr>\n",
       "  </thead>\n",
       "  <tbody>\n",
       "    <tr>\n",
       "      <th>inInventory</th>\n",
       "      <td>-0.006713</td>\n",
       "      <td>0.002577</td>\n",
       "    </tr>\n",
       "  </tbody>\n",
       "</table>\n",
       "</div>"
      ],
      "text/plain": [
       "                2.5 %    97.5 %\n",
       "inInventory -0.006713  0.002577"
      ]
     },
     "execution_count": 114,
     "metadata": {},
     "output_type": "execute_result"
    }
   ],
   "source": [
    "dml_plr_obj.confint()"
   ]
  },
  {
   "cell_type": "code",
   "execution_count": null,
   "id": "861355df",
   "metadata": {},
   "outputs": [],
   "source": []
  }
 ],
 "metadata": {
  "kernelspec": {
   "display_name": "Python 3",
   "language": "python",
   "name": "python3"
  },
  "language_info": {
   "codemirror_mode": {
    "name": "ipython",
    "version": 3
   },
   "file_extension": ".py",
   "mimetype": "text/x-python",
   "name": "python",
   "nbconvert_exporter": "python",
   "pygments_lexer": "ipython3",
   "version": "3.8.8"
  }
 },
 "nbformat": 4,
 "nbformat_minor": 5
}
