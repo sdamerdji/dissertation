{
 "cells": [
  {
   "cell_type": "code",
   "execution_count": 54,
   "id": "35664c22",
   "metadata": {},
   "outputs": [],
   "source": [
    "import pandas as pd\n",
    "import geopandas as gpd\n",
    "import seaborn as sns\n",
    "import matplotlib.pyplot as plt\n",
    "import numpy as np"
   ]
  },
  {
   "cell_type": "code",
   "execution_count": 2,
   "id": "549e9b45",
   "metadata": {},
   "outputs": [],
   "source": [
    "panel_rent_per_sf_per_neighborhood = pd.read_csv('../data/panel_rent_per_sf_per_neighborhood.csv', index_col=0)\n",
    "panel = gpd.read_feather('../data/panel_data_estimated_costs.geofeather')\n",
    "panel_df = pd.merge(panel, panel_rent_per_sf_per_neighborhood)"
   ]
  },
  {
   "cell_type": "code",
   "execution_count": 6,
   "id": "c1d00011",
   "metadata": {},
   "outputs": [
    {
     "data": {
      "text/html": [
       "<div>\n",
       "<style scoped>\n",
       "    .dataframe tbody tr th:only-of-type {\n",
       "        vertical-align: middle;\n",
       "    }\n",
       "\n",
       "    .dataframe tbody tr th {\n",
       "        vertical-align: top;\n",
       "    }\n",
       "\n",
       "    .dataframe thead th {\n",
       "        text-align: right;\n",
       "    }\n",
       "</style>\n",
       "<table border=\"1\" class=\"dataframe\">\n",
       "  <thead>\n",
       "    <tr style=\"text-align: right;\">\n",
       "      <th></th>\n",
       "      <th>home_size1</th>\n",
       "      <th>year</th>\n",
       "      <th>rent/sf</th>\n",
       "      <th>assessor_neighborhood</th>\n",
       "    </tr>\n",
       "  </thead>\n",
       "  <tbody>\n",
       "    <tr>\n",
       "      <th>667304</th>\n",
       "      <td>1200.0</td>\n",
       "      <td>2013.0</td>\n",
       "      <td>587.519481</td>\n",
       "      <td>Yerba Buena</td>\n",
       "    </tr>\n",
       "    <tr>\n",
       "      <th>586877</th>\n",
       "      <td>1388.0</td>\n",
       "      <td>2013.0</td>\n",
       "      <td>290.000000</td>\n",
       "      <td>Bayview</td>\n",
       "    </tr>\n",
       "    <tr>\n",
       "      <th>252729</th>\n",
       "      <td>1378.7</td>\n",
       "      <td>2016.0</td>\n",
       "      <td>1191.000000</td>\n",
       "      <td>Russian Hill</td>\n",
       "    </tr>\n",
       "    <tr>\n",
       "      <th>379866</th>\n",
       "      <td>1717.5</td>\n",
       "      <td>2014.0</td>\n",
       "      <td>752.000000</td>\n",
       "      <td>Forest Hill Extension</td>\n",
       "    </tr>\n",
       "    <tr>\n",
       "      <th>1013171</th>\n",
       "      <td>1250.0</td>\n",
       "      <td>2007.0</td>\n",
       "      <td>559.000000</td>\n",
       "      <td>Outer Mission</td>\n",
       "    </tr>\n",
       "    <tr>\n",
       "      <th>518437</th>\n",
       "      <td>1200.0</td>\n",
       "      <td>2014.0</td>\n",
       "      <td>791.000000</td>\n",
       "      <td>Merced Heights</td>\n",
       "    </tr>\n",
       "    <tr>\n",
       "      <th>1181346</th>\n",
       "      <td>1387.0</td>\n",
       "      <td>2010.0</td>\n",
       "      <td>389.000000</td>\n",
       "      <td>South of Market</td>\n",
       "    </tr>\n",
       "    <tr>\n",
       "      <th>706342</th>\n",
       "      <td>1458.0</td>\n",
       "      <td>2008.0</td>\n",
       "      <td>629.000000</td>\n",
       "      <td>Outer Richmond</td>\n",
       "    </tr>\n",
       "    <tr>\n",
       "      <th>522024</th>\n",
       "      <td>1200.0</td>\n",
       "      <td>2014.0</td>\n",
       "      <td>532.000000</td>\n",
       "      <td>Oceanview</td>\n",
       "    </tr>\n",
       "    <tr>\n",
       "      <th>777635</th>\n",
       "      <td>1336.0</td>\n",
       "      <td>2016.0</td>\n",
       "      <td>638.000000</td>\n",
       "      <td>Portola</td>\n",
       "    </tr>\n",
       "  </tbody>\n",
       "</table>\n",
       "</div>"
      ],
      "text/plain": [
       "         home_size1    year      rent/sf  assessor_neighborhood\n",
       "667304       1200.0  2013.0   587.519481            Yerba Buena\n",
       "586877       1388.0  2013.0   290.000000                Bayview\n",
       "252729       1378.7  2016.0  1191.000000           Russian Hill\n",
       "379866       1717.5  2014.0   752.000000  Forest Hill Extension\n",
       "1013171      1250.0  2007.0   559.000000          Outer Mission\n",
       "518437       1200.0  2014.0   791.000000         Merced Heights\n",
       "1181346      1387.0  2010.0   389.000000        South of Market\n",
       "706342       1458.0  2008.0   629.000000         Outer Richmond\n",
       "522024       1200.0  2014.0   532.000000              Oceanview\n",
       "777635       1336.0  2016.0   638.000000                Portola"
      ]
     },
     "execution_count": 6,
     "metadata": {},
     "output_type": "execute_result"
    }
   ],
   "source": [
    "panel_df.sample(10)[['home_size1', 'year', 'rent/sf', 'assessor_neighborhood']]"
   ]
  },
  {
   "cell_type": "code",
   "execution_count": 7,
   "id": "4eb17e5f",
   "metadata": {},
   "outputs": [],
   "source": [
    "fires = gpd.read_feather('../data/clean_accidental_fires.geofeather')"
   ]
  },
  {
   "cell_type": "code",
   "execution_count": 13,
   "id": "0a548569",
   "metadata": {},
   "outputs": [
    {
     "data": {
      "text/plain": [
       "Index(['geometry', 'number_of_floors_with_significant_damage',\n",
       "       'number_of_floors_with_heavy_damage',\n",
       "       'number_of_floors_with_extreme_damage', 'address', 'property_use',\n",
       "       'estimated_contents_loss', 'estimated_property_loss', 'alarm_dttm',\n",
       "       'incident_date', 'number_of_floors_with_minimum_damage',\n",
       "       'number_of_alarms', 'civilian_injuries', 'year'],\n",
       "      dtype='object')"
      ]
     },
     "execution_count": 13,
     "metadata": {},
     "output_type": "execute_result"
    }
   ],
   "source": [
    "fires.columns"
   ]
  },
  {
   "cell_type": "code",
   "execution_count": 11,
   "id": "b7230646",
   "metadata": {},
   "outputs": [
    {
     "data": {
      "text/plain": [
       "<Geographic 2D CRS: EPSG:4326>\n",
       "Name: WGS 84\n",
       "Axis Info [ellipsoidal]:\n",
       "- Lat[north]: Geodetic latitude (degree)\n",
       "- Lon[east]: Geodetic longitude (degree)\n",
       "Area of Use:\n",
       "- name: World.\n",
       "- bounds: (-180.0, -90.0, 180.0, 90.0)\n",
       "Datum: World Geodetic System 1984 ensemble\n",
       "- Ellipsoid: WGS 84\n",
       "- Prime Meridian: Greenwich"
      ]
     },
     "execution_count": 11,
     "metadata": {},
     "output_type": "execute_result"
    }
   ],
   "source": [
    "panel_df.crs"
   ]
  },
  {
   "cell_type": "code",
   "execution_count": 22,
   "id": "1ee7abae",
   "metadata": {},
   "outputs": [],
   "source": [
    "panel_fires = gpd.sjoin(panel_df,\n",
    "                        fires[['geometry',\n",
    "                               'estimated_property_loss',\n",
    "                               'incident_date']].rename(columns= \n",
    "                                                        {'estimated_property_loss' : 'fire_damage', \n",
    "                                                         'incident_date': 'fire_date'}), \n",
    "                        how='left',\n",
    "                        predicate='contains')"
   ]
  },
  {
   "cell_type": "code",
   "execution_count": 23,
   "id": "e6af1336",
   "metadata": {},
   "outputs": [
    {
     "data": {
      "text/plain": [
       "0.0023626587023215626"
      ]
     },
     "execution_count": 23,
     "metadata": {},
     "output_type": "execute_result"
    }
   ],
   "source": [
    "panel_fires.index_right.notna().mean()"
   ]
  },
  {
   "cell_type": "code",
   "execution_count": 27,
   "id": "e5c6340e",
   "metadata": {},
   "outputs": [],
   "source": [
    "panel_fires = panel_fires.drop(columns=['index_right'])"
   ]
  },
  {
   "cell_type": "code",
   "execution_count": 28,
   "id": "9ee3a85b",
   "metadata": {},
   "outputs": [],
   "source": [
    "panel_fires.fire_damage.fillna(0, inplace=True)"
   ]
  },
  {
   "cell_type": "code",
   "execution_count": 45,
   "id": "cde3549f",
   "metadata": {},
   "outputs": [
    {
     "data": {
      "text/plain": [
       "1142101   NaN\n",
       "1073203   NaN\n",
       "88072     NaN\n",
       "1317311   NaN\n",
       "66560     NaN\n",
       "198355    NaN\n",
       "425228    NaN\n",
       "1186688   NaN\n",
       "375785    NaN\n",
       "548385    NaN\n",
       "dtype: float64"
      ]
     },
     "execution_count": 45,
     "metadata": {},
     "output_type": "execute_result"
    }
   ],
   "source": [
    "(panel_fires.year - panel_fires.fire_date.dt.year).sample(10)"
   ]
  },
  {
   "cell_type": "code",
   "execution_count": 29,
   "id": "b1a452a8",
   "metadata": {},
   "outputs": [
    {
     "data": {
      "text/plain": [
       "0         NaT\n",
       "1         NaT\n",
       "2         NaT\n",
       "3         NaT\n",
       "4         NaT\n",
       "           ..\n",
       "1328142   NaT\n",
       "1328143   NaT\n",
       "1328144   NaT\n",
       "1328145   NaT\n",
       "1328146   NaT\n",
       "Name: fire_date, Length: 1328588, dtype: datetime64[ns]"
      ]
     },
     "execution_count": 29,
     "metadata": {},
     "output_type": "execute_result"
    }
   ],
   "source": []
  },
  {
   "cell_type": "code",
   "execution_count": 46,
   "id": "aa1af108",
   "metadata": {},
   "outputs": [],
   "source": [
    "panel_fires['years_since_fire'] = panel_fires.year - panel_fires.fire_date.dt.year"
   ]
  },
  {
   "cell_type": "code",
   "execution_count": 49,
   "id": "c87eede1",
   "metadata": {},
   "outputs": [
    {
     "data": {
      "text/plain": [
       "72         -1.0\n",
       "116        -7.0\n",
       "190       -10.0\n",
       "195       -10.0\n",
       "1007        5.0\n",
       "           ... \n",
       "1325535     4.0\n",
       "1326518    -4.0\n",
       "1327011   -11.0\n",
       "1327053     4.0\n",
       "1328110    -8.0\n",
       "Name: years_since_fire, Length: 3139, dtype: float64"
      ]
     },
     "execution_count": 49,
     "metadata": {},
     "output_type": "execute_result"
    }
   ],
   "source": [
    "panel_fires['years_since_fire'][panel_fires['years_since_fire'].notna()]"
   ]
  },
  {
   "cell_type": "code",
   "execution_count": 51,
   "id": "9f1ea685",
   "metadata": {},
   "outputs": [
    {
     "data": {
      "image/png": "[encoded data removed]",
      "text/plain": [
       "<Figure size 432x288 with 1 Axes>"
      ]
     },
     "metadata": {
      "needs_background": "light"
     },
     "output_type": "display_data"
    }
   ],
   "source": [
    "# Compute the mean for each unique value of 'years_since_fire'\n",
    "plot_data = panel_fires.groupby('years_since_fire')['Developed'].mean().reset_index()\n",
    "\n",
    "# Plot using seaborn\n",
    "sns.lineplot(x='years_since_fire', y='Developed', data=plot_data)\n",
    "plt.ylabel('Mean Number of Observations Developed')\n",
    "plt.xlabel('Years Since Fire')\n",
    "plt.show()"
   ]
  },
  {
   "cell_type": "code",
   "execution_count": 71,
   "id": "69d38a81",
   "metadata": {},
   "outputs": [
    {
     "data": {
      "text/plain": [
       "years_since_fire\n",
       "-16.0      4\n",
       "-15.0     20\n",
       "-14.0     32\n",
       "-13.0     46\n",
       "-12.0     51\n",
       "-11.0     57\n",
       "-10.0     72\n",
       "-9.0      80\n",
       "-8.0      84\n",
       "-7.0      94\n",
       "-6.0     102\n",
       "-5.0      99\n",
       "-4.0      98\n",
       "-3.0      97\n",
       "-2.0     105\n",
       "-1.0     124\n",
       " 0.0     149\n",
       " 1.0     156\n",
       " 2.0     187\n",
       " 3.0     209\n",
       " 4.0     209\n",
       " 5.0     192\n",
       " 6.0     181\n",
       " 7.0     170\n",
       " 8.0     157\n",
       " 9.0     131\n",
       " 10.0     96\n",
       " 11.0     79\n",
       " 12.0     45\n",
       " 13.0     13\n",
       "Name: Developed, dtype: int64"
      ]
     },
     "execution_count": 71,
     "metadata": {},
     "output_type": "execute_result"
    }
   ],
   "source": [
    " panel_fires.groupby('years_since_fire')['Developed'].agg('count')"
   ]
  },
  {
   "cell_type": "code",
   "execution_count": 67,
   "id": "be905b69",
   "metadata": {},
   "outputs": [
    {
     "data": {
      "image/png": "[encoded data removed]",
      "text/plain": [
       "<Figure size 432x288 with 1 Axes>"
      ]
     },
     "metadata": {
      "needs_background": "light"
     },
     "output_type": "display_data"
    }
   ],
   "source": [
    "panel_fires['fire_category'] = np.where(panel_fires['years_since_fire'].fillna(-1) < 0, 'no_fire', 'after_fire')\n",
    "\n",
    "# Compute the mean for each category\n",
    "plot_data = panel_fires.groupby('fire_category')['Developed'].mean().reset_index()\n",
    "\n",
    "# Plot using matplotlib\n",
    "plt.bar(plot_data['fire_category'], plot_data['Developed'] * 100)\n",
    "\n",
    "# Set y-axis limit to 110% of the maximum value\n",
    "plt.ylim(0, plot_data['Developed'].max() * 1.10 * 100)\n",
    "\n",
    "plt.ylabel('Percent of Parcels Developed')\n",
    "plt.xlabel('Parcel')\n",
    "plt.show()"
   ]
  },
  {
   "cell_type": "code",
   "execution_count": 52,
   "id": "39343746",
   "metadata": {},
   "outputs": [
    {
     "data": {
      "text/plain": [
       "years_since_fire\n",
       "-16.0    0.000000\n",
       "-15.0    0.000000\n",
       "-14.0    0.000000\n",
       "-13.0    0.000000\n",
       "-12.0    0.000000\n",
       "-11.0    0.000000\n",
       "-10.0    0.000000\n",
       "-9.0     0.000000\n",
       "-8.0     0.000000\n",
       "-7.0     0.010638\n",
       "-6.0     0.000000\n",
       "-5.0     0.000000\n",
       "-4.0     0.000000\n",
       "-3.0     0.000000\n",
       "-2.0     0.000000\n",
       "-1.0     0.000000\n",
       " 0.0     0.000000\n",
       " 1.0     0.000000\n",
       " 2.0     0.000000\n",
       " 3.0     0.004785\n",
       " 4.0     0.000000\n",
       " 5.0     0.000000\n",
       " 6.0     0.000000\n",
       " 7.0     0.005882\n",
       " 8.0     0.006369\n",
       " 9.0     0.000000\n",
       " 10.0    0.000000\n",
       " 11.0    0.000000\n",
       " 12.0    0.000000\n",
       " 13.0    0.000000\n",
       "Name: Developed, dtype: float64"
      ]
     },
     "execution_count": 52,
     "metadata": {},
     "output_type": "execute_result"
    }
   ],
   "source": [
    "panel_fires.groupby('years_since_fire')['Developed'].mean()"
   ]
  }
 ],
 "metadata": {
  "kernelspec": {
   "display_name": "Python 3",
   "language": "python",
   "name": "python3"
  },
  "language_info": {
   "codemirror_mode": {
    "name": "ipython",
    "version": 3
   },
   "file_extension": ".py",
   "mimetype": "text/x-python",
   "name": "python",
   "nbconvert_exporter": "python",
   "pygments_lexer": "ipython3",
   "version": "3.8.8"
  }
 },
 "nbformat": 4,
 "nbformat_minor": 5
}
