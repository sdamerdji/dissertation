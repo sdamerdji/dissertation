{
 "cells": [
  {
   "cell_type": "code",
   "execution_count": 54,
   "id": "35664c22",
   "metadata": {},
   "outputs": [],
   "source": [
    "import pandas as pd\n",
    "import geopandas as gpd\n",
    "import seaborn as sns\n",
    "import matplotlib.pyplot as plt\n",
    "import numpy as np"
   ]
  },
  {
   "cell_type": "code",
   "execution_count": 2,
   "id": "549e9b45",
   "metadata": {},
   "outputs": [],
   "source": [
    "panel_rent_per_sf_per_neighborhood = pd.read_csv('../data/panel_rent_per_sf_per_neighborhood.csv', index_col=0)\n",
    "panel = gpd.read_feather('../data/panel_data_estimated_costs.geofeather')\n",
    "panel_df = pd.merge(panel, panel_rent_per_sf_per_neighborhood)"
   ]
  },
  {
   "cell_type": "code",
   "execution_count": 6,
   "id": "c1d00011",
   "metadata": {},
   "outputs": [
    {
     "data": {
      "text/html": [
       "<div>\n",
       "<style scoped>\n",
       "    .dataframe tbody tr th:only-of-type {\n",
       "        vertical-align: middle;\n",
       "    }\n",
       "\n",
       "    .dataframe tbody tr th {\n",
       "        vertical-align: top;\n",
       "    }\n",
       "\n",
       "    .dataframe thead th {\n",
       "        text-align: right;\n",
       "    }\n",
       "</style>\n",
       "<table border=\"1\" class=\"dataframe\">\n",
       "  <thead>\n",
       "    <tr style=\"text-align: right;\">\n",
       "      <th></th>\n",
       "      <th>home_size1</th>\n",
       "      <th>year</th>\n",
       "      <th>rent/sf</th>\n",
       "      <th>assessor_neighborhood</th>\n",
       "    </tr>\n",
       "  </thead>\n",
       "  <tbody>\n",
       "    <tr>\n",
       "      <th>667304</th>\n",
       "      <td>1200.0</td>\n",
       "      <td>2013.0</td>\n",
       "      <td>587.519481</td>\n",
       "      <td>Yerba Buena</td>\n",
       "    </tr>\n",
       "    <tr>\n",
       "      <th>586877</th>\n",
       "      <td>1388.0</td>\n",
       "      <td>2013.0</td>\n",
       "      <td>290.000000</td>\n",
       "      <td>Bayview</td>\n",
       "    </tr>\n",
       "    <tr>\n",
       "      <th>252729</th>\n",
       "      <td>1378.7</td>\n",
       "      <td>2016.0</td>\n",
       "      <td>1191.000000</td>\n",
       "      <td>Russian Hill</td>\n",
       "    </tr>\n",
       "    <tr>\n",
       "      <th>379866</th>\n",
       "      <td>1717.5</td>\n",
       "      <td>2014.0</td>\n",
       "      <td>752.000000</td>\n",
       "      <td>Forest Hill Extension</td>\n",
       "    </tr>\n",
       "    <tr>\n",
       "      <th>1013171</th>\n",
       "      <td>1250.0</td>\n",
       "      <td>2007.0</td>\n",
       "      <td>559.000000</td>\n",
       "      <td>Outer Mission</td>\n",
       "    </tr>\n",
       "    <tr>\n",
       "      <th>518437</th>\n",
       "      <td>1200.0</td>\n",
       "      <td>2014.0</td>\n",
       "      <td>791.000000</td>\n",
       "      <td>Merced Heights</td>\n",
       "    </tr>\n",
       "    <tr>\n",
       "      <th>1181346</th>\n",
       "      <td>1387.0</td>\n",
       "      <td>2010.0</td>\n",
       "      <td>389.000000</td>\n",
       "      <td>South of Market</td>\n",
       "    </tr>\n",
       "    <tr>\n",
       "      <th>706342</th>\n",
       "      <td>1458.0</td>\n",
       "      <td>2008.0</td>\n",
       "      <td>629.000000</td>\n",
       "      <td>Outer Richmond</td>\n",
       "    </tr>\n",
       "    <tr>\n",
       "      <th>522024</th>\n",
       "      <td>1200.0</td>\n",
       "      <td>2014.0</td>\n",
       "      <td>532.000000</td>\n",
       "      <td>Oceanview</td>\n",
       "    </tr>\n",
       "    <tr>\n",
       "      <th>777635</th>\n",
       "      <td>1336.0</td>\n",
       "      <td>2016.0</td>\n",
       "      <td>638.000000</td>\n",
       "      <td>Portola</td>\n",
       "    </tr>\n",
       "  </tbody>\n",
       "</table>\n",
       "</div>"
      ],
      "text/plain": [
       "         home_size1    year      rent/sf  assessor_neighborhood\n",
       "667304       1200.0  2013.0   587.519481            Yerba Buena\n",
       "586877       1388.0  2013.0   290.000000                Bayview\n",
       "252729       1378.7  2016.0  1191.000000           Russian Hill\n",
       "379866       1717.5  2014.0   752.000000  Forest Hill Extension\n",
       "1013171      1250.0  2007.0   559.000000          Outer Mission\n",
       "518437       1200.0  2014.0   791.000000         Merced Heights\n",
       "1181346      1387.0  2010.0   389.000000        South of Market\n",
       "706342       1458.0  2008.0   629.000000         Outer Richmond\n",
       "522024       1200.0  2014.0   532.000000              Oceanview\n",
       "777635       1336.0  2016.0   638.000000                Portola"
      ]
     },
     "execution_count": 6,
     "metadata": {},
     "output_type": "execute_result"
    }
   ],
   "source": [
    "panel_df.sample(10)[['home_size1', 'year', 'rent/sf', 'assessor_neighborhood']]"
   ]
  },
  {
   "cell_type": "markdown",
   "id": "ff78af31",
   "metadata": {},
   "source": [
    "### Unit count data"
   ]
  },
  {
   "cell_type": "code",
   "execution_count": 75,
   "id": "69f48a03",
   "metadata": {},
   "outputs": [],
   "source": [
    "homes = pd.read_excel('../data/Housing Production 2005-2022.xlsx')"
   ]
  },
  {
   "cell_type": "code",
   "execution_count": 76,
   "id": "7793d15f",
   "metadata": {},
   "outputs": [],
   "source": [
    "dbi = gpd.read_feather('../data/dbi_permits.geofeather')"
   ]
  },
  {
   "cell_type": "code",
   "execution_count": 77,
   "id": "8e8ee09c",
   "metadata": {},
   "outputs": [],
   "source": [
    "date_cols = [c for c in dbi.columns if 'date' in c]\n",
    "dbi[date_cols] = dbi[date_cols].apply(lambda x: pd.to_datetime(x, errors='coerce'))\n",
    "cost_cols = [c for c in dbi.columns if 'cost' in c]\n",
    "dbi[cost_cols] = dbi[cost_cols].apply(lambda x: pd.to_numeric(x, errors='coerce'))\n",
    "unit_cols = [c for c in dbi.columns if 'unit' in c]\n",
    "dbi[unit_cols] = dbi[unit_cols].apply(lambda x: pd.to_numeric(x, errors='coerce'))"
   ]
  },
  {
   "cell_type": "code",
   "execution_count": 78,
   "id": "46047203",
   "metadata": {},
   "outputs": [
    {
     "data": {
      "text/plain": [
       "Index(['MapBlkLot_Master', 'year', 'Developed', 'Historic',\n",
       "       'Residential_Dummy', 'Zillow_Price_Real', 'Const_FedReserve_Real',\n",
       "       'Envelope_1000', 'Upzone_Ratio', 'zp_OfficeComm', 'zp_DensRestMulti',\n",
       "       'zp_FormBasedMulti', 'zp_PDRInd', 'zp_Public', 'zp_Redev', 'zp_RH2',\n",
       "       'zp_RH3_RM1', 'geometry', 'mapblklot', 'property_class_code_definition',\n",
       "       'lot_code', 'property_area', 'volume_number', 'percent_of_ownership',\n",
       "       'misc_exemption_value', 'zoning_code', 'year_property_built',\n",
       "       'analysis_neighborhood', 'number_of_units', 'use_definition',\n",
       "       'closed_roll_year', 'status_code', 'number_of_bedrooms',\n",
       "       'assessor_neighborhood', 'number_of_stories',\n",
       "       'assessor_neighborhood_district', 'exemption_code_definition', 'block',\n",
       "       'current_sales_date', 'lot_area', 'number_of_rooms', 'lot_depth',\n",
       "       'assessed_personal_property_value', 'supervisor_district_2012',\n",
       "       'number_of_bathrooms', 'construction_type', 'lot_frontage',\n",
       "       'homeowner_exemption_value', 'tax_rate_area_code', 'lot',\n",
       "       'property_location', 'parcel_number', 'assessed_fixtures_value',\n",
       "       'supervisor_district', 'assessed_land_value', 'basement_area',\n",
       "       'assessed_improvement_value', 'imputed_land_value', 'non_geo_match',\n",
       "       'estimated_cost', 'home_size1', 'rent', 'rent/sf'],\n",
       "      dtype='object')"
      ]
     },
     "execution_count": 78,
     "metadata": {},
     "output_type": "execute_result"
    }
   ],
   "source": [
    "panel_df.columns"
   ]
  },
  {
   "cell_type": "code",
   "execution_count": 79,
   "id": "58d3917d",
   "metadata": {},
   "outputs": [],
   "source": [
    "dbi = dbi.sort_values('permit_creation_date', ascending=False)\n",
    "dbi = dbi.drop_duplicates('permit_number')\n",
    "\n",
    "# NB: 5 rows in homes don't match-\n",
    "permits = pd.merge(dbi[['geometry', 'permit_number', 'permit_creation_date']],\n",
    "                   homes,\n",
    "                   left_on='permit_number', right_on='BPA', how='inner')\n",
    "permits = permits[['geometry', 'permit_number', 'Permit Issued Date', 'Net_Units_Completed', 'Date_Completed', 'BlockLot']]\n"
   ]
  },
  {
   "cell_type": "code",
   "execution_count": 80,
   "id": "711a1f60",
   "metadata": {},
   "outputs": [],
   "source": [
    "panel_df_pois = gpd.sjoin(panel_df, permits.to_crs(panel_df.crs), how='left', predicate='contains')"
   ]
  },
  {
   "cell_type": "code",
   "execution_count": 81,
   "id": "8ab595d8",
   "metadata": {},
   "outputs": [],
   "source": [
    "panel_df_pois.Developed = panel_df_pois.index_right.notna()"
   ]
  },
  {
   "cell_type": "code",
   "execution_count": 83,
   "id": "27cb6be9",
   "metadata": {},
   "outputs": [],
   "source": [
    "panel_df_pois.Net_Units_Completed = panel_df_pois.Net_Units_Completed.fillna(0)"
   ]
  },
  {
   "cell_type": "code",
   "execution_count": 88,
   "id": "eab31d9f",
   "metadata": {},
   "outputs": [],
   "source": [
    "panel_df_pois = panel_df_pois.drop(columns='index_right')"
   ]
  },
  {
   "cell_type": "markdown",
   "id": "caefe043",
   "metadata": {},
   "source": [
    "### Fires"
   ]
  },
  {
   "cell_type": "code",
   "execution_count": 7,
   "id": "4eb17e5f",
   "metadata": {},
   "outputs": [],
   "source": [
    "fires = gpd.read_feather('../data/clean_accidental_fires.geofeather')"
   ]
  },
  {
   "cell_type": "code",
   "execution_count": 13,
   "id": "0a548569",
   "metadata": {},
   "outputs": [
    {
     "data": {
      "text/plain": [
       "Index(['geometry', 'number_of_floors_with_significant_damage',\n",
       "       'number_of_floors_with_heavy_damage',\n",
       "       'number_of_floors_with_extreme_damage', 'address', 'property_use',\n",
       "       'estimated_contents_loss', 'estimated_property_loss', 'alarm_dttm',\n",
       "       'incident_date', 'number_of_floors_with_minimum_damage',\n",
       "       'number_of_alarms', 'civilian_injuries', 'year'],\n",
       "      dtype='object')"
      ]
     },
     "execution_count": 13,
     "metadata": {},
     "output_type": "execute_result"
    }
   ],
   "source": [
    "fires.columns"
   ]
  },
  {
   "cell_type": "code",
   "execution_count": 84,
   "id": "ecee8644",
   "metadata": {},
   "outputs": [
    {
     "data": {
      "text/plain": [
       "<Geographic 2D CRS: EPSG:4326>\n",
       "Name: WGS 84\n",
       "Axis Info [ellipsoidal]:\n",
       "- Lat[north]: Geodetic latitude (degree)\n",
       "- Lon[east]: Geodetic longitude (degree)\n",
       "Area of Use:\n",
       "- name: World.\n",
       "- bounds: (-180.0, -90.0, 180.0, 90.0)\n",
       "Datum: World Geodetic System 1984 ensemble\n",
       "- Ellipsoid: WGS 84\n",
       "- Prime Meridian: Greenwich"
      ]
     },
     "execution_count": 84,
     "metadata": {},
     "output_type": "execute_result"
    }
   ],
   "source": [
    "panel_df_pois.crs"
   ]
  },
  {
   "cell_type": "code",
   "execution_count": 89,
   "id": "1ee7abae",
   "metadata": {},
   "outputs": [],
   "source": [
    "panel_fires = gpd.sjoin(panel_df_pois,\n",
    "                        fires[['geometry',\n",
    "                               'estimated_property_loss',\n",
    "                               'incident_date']].rename(columns= \n",
    "                                                        {'estimated_property_loss' : 'fire_damage', \n",
    "                                                         'incident_date': 'fire_date'}), \n",
    "                        how='left',\n",
    "                        predicate='contains')"
   ]
  },
  {
   "cell_type": "code",
   "execution_count": 90,
   "id": "b6a5a1b0",
   "metadata": {},
   "outputs": [
    {
     "data": {
      "text/plain": [
       "4569"
      ]
     },
     "execution_count": 90,
     "metadata": {},
     "output_type": "execute_result"
    }
   ],
   "source": [
    "panel_fires.index_right.notna().sum()"
   ]
  },
  {
   "cell_type": "code",
   "execution_count": 91,
   "id": "64df50ab",
   "metadata": {},
   "outputs": [],
   "source": [
    "panel_fires = panel_fires.drop(columns=['index_right'])"
   ]
  },
  {
   "cell_type": "code",
   "execution_count": 92,
   "id": "52d4ca6d",
   "metadata": {},
   "outputs": [],
   "source": [
    "panel_fires.fire_damage.fillna(0, inplace=True)"
   ]
  },
  {
   "cell_type": "code",
   "execution_count": 93,
   "id": "ed2585dc",
   "metadata": {},
   "outputs": [
    {
     "data": {
      "text/plain": [
       "1022992   NaN\n",
       "578894    NaN\n",
       "1269491   NaN\n",
       "464355    NaN\n",
       "140759    NaN\n",
       "853232    NaN\n",
       "694302    NaN\n",
       "156266    NaN\n",
       "803950    NaN\n",
       "1200137   NaN\n",
       "dtype: float64"
      ]
     },
     "execution_count": 93,
     "metadata": {},
     "output_type": "execute_result"
    }
   ],
   "source": [
    "(panel_fires.year - panel_fires.fire_date.dt.year).sample(10)"
   ]
  },
  {
   "cell_type": "code",
   "execution_count": null,
   "id": "81f2f187",
   "metadata": {},
   "outputs": [],
   "source": []
  },
  {
   "cell_type": "code",
   "execution_count": 94,
   "id": "c13111bd",
   "metadata": {},
   "outputs": [],
   "source": [
    "panel_fires['years_since_fire'] = panel_fires.year - panel_fires.fire_date.dt.year"
   ]
  },
  {
   "cell_type": "code",
   "execution_count": 95,
   "id": "f36f41ec",
   "metadata": {},
   "outputs": [
    {
     "data": {
      "text/plain": [
       "72         -1.0\n",
       "116        -7.0\n",
       "190       -10.0\n",
       "195       -10.0\n",
       "1007        5.0\n",
       "           ... \n",
       "1325535     4.0\n",
       "1326518    -4.0\n",
       "1327011   -11.0\n",
       "1327053     4.0\n",
       "1328110    -8.0\n",
       "Name: years_since_fire, Length: 4569, dtype: float64"
      ]
     },
     "execution_count": 95,
     "metadata": {},
     "output_type": "execute_result"
    }
   ],
   "source": [
    "panel_fires['years_since_fire'][panel_fires['years_since_fire'].notna()]"
   ]
  },
  {
   "cell_type": "code",
   "execution_count": 96,
   "id": "aa5fa766",
   "metadata": {},
   "outputs": [
    {
     "data": {
      "image/png": "[encoded data removed]",
      "text/plain": [
       "<Figure size 432x288 with 1 Axes>"
      ]
     },
     "metadata": {
      "needs_background": "light"
     },
     "output_type": "display_data"
    }
   ],
   "source": [
    "# Compute the mean for each unique value of 'years_since_fire'\n",
    "plot_data = panel_fires.groupby('years_since_fire')['Developed'].mean().reset_index()\n",
    "\n",
    "# Plot using seaborn\n",
    "sns.lineplot(x='years_since_fire', y='Developed', data=plot_data)\n",
    "plt.ylabel('Mean Number of Observations Developed')\n",
    "plt.xlabel('Years Since Fire')\n",
    "plt.show()"
   ]
  },
  {
   "cell_type": "code",
   "execution_count": 97,
   "id": "8f03fb86",
   "metadata": {},
   "outputs": [
    {
     "data": {
      "text/plain": [
       "years_since_fire\n",
       "-16.0    0.000000\n",
       "-15.0    0.050000\n",
       "-14.0    0.031250\n",
       "-13.0    0.043478\n",
       "-12.0    0.058824\n",
       "-11.0    0.070175\n",
       "-10.0    0.095890\n",
       "-9.0     0.365217\n",
       "-8.0     0.352941\n",
       "-7.0     0.346154\n",
       "-6.0     0.333333\n",
       "-5.0     0.335821\n",
       "-4.0     0.353383\n",
       "-3.0     0.500000\n",
       "-2.0     0.471264\n",
       "-1.0     0.435644\n",
       " 0.0     0.418803\n",
       " 1.0     0.410788\n",
       " 2.0     0.392857\n",
       " 3.0     0.498681\n",
       " 4.0     0.430267\n",
       " 5.0     0.374126\n",
       " 6.0     0.379562\n",
       " 7.0     0.401515\n",
       " 8.0     0.298077\n",
       " 9.0     0.340659\n",
       " 10.0    0.378571\n",
       " 11.0    0.179775\n",
       " 12.0    0.127660\n",
       " 13.0    0.142857\n",
       "Name: Developed, dtype: float64"
      ]
     },
     "execution_count": 97,
     "metadata": {},
     "output_type": "execute_result"
    }
   ],
   "source": [
    " panel_fires.groupby('years_since_fire')['Developed'].mean()"
   ]
  },
  {
   "cell_type": "code",
   "execution_count": 104,
   "id": "2792fcfe",
   "metadata": {},
   "outputs": [
    {
     "data": {
      "image/png": "[encoded data removed]",
      "text/plain": [
       "<Figure size 432x288 with 1 Axes>"
      ]
     },
     "metadata": {
      "needs_background": "light"
     },
     "output_type": "display_data"
    }
   ],
   "source": [
    "panel_fires['fire_category'] = np.where(panel_fires['years_since_fire'].fillna(-1) < 0, 'no_fire', 'after_fire')\n",
    "\n",
    "# Compute the mean for each category\n",
    "plot_data = panel_fires.groupby('fire_category')['Developed'].mean().reset_index()\n",
    "\n",
    "# Plot using matplotlib\n",
    "plt.bar(plot_data['fire_category'], plot_data['Developed'])\n",
    "\n",
    "# Set y-axis limit to 110% of the maximum value\n",
    "plt.ylim(0, plot_data['Developed'].max() * 1.25)\n",
    "\n",
    "plt.ylabel('Percent of Parcels Developed')\n",
    "plt.xlabel('Parcel')\n",
    "plt.show()"
   ]
  },
  {
   "cell_type": "code",
   "execution_count": 103,
   "id": "68c3aaea",
   "metadata": {},
   "outputs": [
    {
     "data": {
      "text/plain": [
       "years_since_fire\n",
       "-16.0    0.000000\n",
       "-15.0   -0.050000\n",
       "-14.0   -0.031250\n",
       "-13.0    1.282609\n",
       "-12.0    1.137255\n",
       "-11.0    2.333333\n",
       "-10.0    5.643836\n",
       "-9.0     1.678261\n",
       "-8.0     1.621849\n",
       "-7.0     2.307692\n",
       "-6.0     2.050725\n",
       "-5.0    -0.037313\n",
       "-4.0     0.000000\n",
       "-3.0    -1.307229\n",
       "-2.0    -1.241379\n",
       "-1.0     0.222772\n",
       " 0.0    -0.196581\n",
       " 1.0    -0.178423\n",
       " 2.0    -0.467857\n",
       " 3.0    -0.891821\n",
       " 4.0    -1.486647\n",
       " 5.0    -0.968531\n",
       " 6.0    -1.021898\n",
       " 7.0    -1.075758\n",
       " 8.0    -1.932692\n",
       " 9.0    -2.208791\n",
       " 10.0   -2.207143\n",
       " 11.0   -1.067416\n",
       " 12.0   -0.106383\n",
       " 13.0   -0.142857\n",
       "Name: Net_Units_Completed, dtype: float64"
      ]
     },
     "execution_count": 103,
     "metadata": {},
     "output_type": "execute_result"
    }
   ],
   "source": [
    "panel_fires.groupby('years_since_fire')['Net_Units_Completed'].mean()"
   ]
  },
  {
   "cell_type": "markdown",
   "id": "e56777c7",
   "metadata": {},
   "source": [
    "### Revenue & Cost"
   ]
  },
  {
   "cell_type": "code",
   "execution_count": 110,
   "id": "db797117",
   "metadata": {},
   "outputs": [],
   "source": [
    "panel_fires['revenue'] = panel_fires['rent/sf'] * panel_fires['Envelope_1000'] * 1000"
   ]
  },
  {
   "cell_type": "code",
   "execution_count": 112,
   "id": "ae858e64",
   "metadata": {},
   "outputs": [],
   "source": [
    "panel_fires['costs'] = (panel_fires['estimated_cost'] - panel_fires['fire_damage']\n",
    "                        + panel_fires['imputed_land_value'] + panel_fires['assessed_improvement_value'])"
   ]
  },
  {
   "cell_type": "code",
   "execution_count": 123,
   "id": "5b8e85a6",
   "metadata": {},
   "outputs": [
    {
     "data": {
      "image/png": "[encoded data removed]",
      "text/plain": [
       "<Figure size 432x288 with 1 Axes>"
      ]
     },
     "metadata": {
      "needs_background": "light"
     },
     "output_type": "display_data"
    }
   ],
   "source": [
    "plt.scatter(np.log1p(panel_fires['revenue']), np.log1p(panel_fires['costs']), alpha=.05, s=.1)\n",
    "plt.xlabel('Revenue')\n",
    "plt.ylabel('Cost')\n",
    "plt.show()"
   ]
  },
  {
   "cell_type": "code",
   "execution_count": 130,
   "id": "cf71a5ca",
   "metadata": {},
   "outputs": [
    {
     "data": {
      "text/plain": [
       "(0.0, 100.0)"
      ]
     },
     "execution_count": 130,
     "metadata": {},
     "output_type": "execute_result"
    },
    {
     "data": {
      "image/png": "[encoded data removed]",
      "text/plain": [
       "<Figure size 432x288 with 1 Axes>"
      ]
     },
     "metadata": {
      "needs_background": "light"
     },
     "output_type": "display_data"
    }
   ],
   "source": [
    "plt.hist(np.log1p(panel_fires['revenue'] / panel_fires['costs']), bins=40)\n",
    "plt.xlim(0, 100)"
   ]
  },
  {
   "cell_type": "code",
   "execution_count": 134,
   "id": "c5e3d98e",
   "metadata": {},
   "outputs": [
    {
     "data": {
      "image/png": "[encoded data removed]",
      "text/plain": [
       "<Figure size 432x288 with 1 Axes>"
      ]
     },
     "metadata": {
      "needs_background": "light"
     },
     "output_type": "display_data"
    }
   ],
   "source": [
    "result = panel_fires.groupby('Developed').apply(lambda x: (x['revenue'] / x['costs']).mean())\n",
    "\n",
    "# Create the bar plot\n",
    "result.plot(kind='bar', ylabel='Mean Revenue / Costs', title='Mean Revenue Divided by Costs for Developed and Not Developed Groups')\n",
    "plt.xticks(ticks=[0, 1], labels=['Not Developed', 'Developed'], rotation=0)\n",
    "plt.show()"
   ]
  },
  {
   "cell_type": "code",
   "execution_count": null,
   "id": "f330b98a",
   "metadata": {},
   "outputs": [],
   "source": []
  },
  {
   "cell_type": "code",
   "execution_count": 132,
   "id": "d14cdbc0",
   "metadata": {},
   "outputs": [],
   "source": [
    "panel_fires.to_csv('./panel_fires.csv', index=False)"
   ]
  },
  {
   "cell_type": "code",
   "execution_count": null,
   "id": "8e25442f",
   "metadata": {},
   "outputs": [],
   "source": []
  }
 ],
 "metadata": {
  "kernelspec": {
   "display_name": "Python 3",
   "language": "python",
   "name": "python3"
  },
  "language_info": {
   "codemirror_mode": {
    "name": "ipython",
    "version": 3
   },
   "file_extension": ".py",
   "mimetype": "text/x-python",
   "name": "python",
   "nbconvert_exporter": "python",
   "pygments_lexer": "ipython3",
   "version": "3.8.8"
  }
 },
 "nbformat": 4,
 "nbformat_minor": 5
}
