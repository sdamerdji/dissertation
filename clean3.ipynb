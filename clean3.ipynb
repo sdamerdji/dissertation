{
 "cells": [
  {
   "cell_type": "code",
   "execution_count": 217,
   "id": "dcbacba2",
   "metadata": {},
   "outputs": [],
   "source": [
    "import pandas as pd\n",
    "import geopandas as gpd\n",
    "import numpy as np\n",
    "\n",
    "import matplotlib.pyplot as plt\n",
    "import seaborn as sns\n",
    "import contextily as ctx\n",
    "from shapely.wkt import load\n",
    "\n",
    "import clean_utils\n",
    "from importlib import reload"
   ]
  },
  {
   "cell_type": "code",
   "execution_count": 313,
   "id": "b288e18c",
   "metadata": {},
   "outputs": [
    {
     "data": {
      "text/plain": [
       "<module 'clean_utils' from 'C:\\\\Users\\\\sadamerdji\\\\Desktop\\\\dissertation\\\\clean_utils.py'>"
      ]
     },
     "execution_count": 313,
     "metadata": {},
     "output_type": "execute_result"
    }
   ],
   "source": [
    "reload(clean_utils)"
   ]
  },
  {
   "cell_type": "markdown",
   "id": "9b87288e",
   "metadata": {},
   "source": [
    "### Load Data"
   ]
  },
  {
   "cell_type": "code",
   "execution_count": 2,
   "id": "bec7cb4b",
   "metadata": {},
   "outputs": [],
   "source": [
    "plan_permits = gpd.read_file('./data/SF_Planning_Permitting_Data.geojson', low_memory=False)"
   ]
  },
  {
   "cell_type": "code",
   "execution_count": 3,
   "id": "a8bf98dc",
   "metadata": {},
   "outputs": [],
   "source": [
    "clean_utils.clean_dates(plan_permits)"
   ]
  },
  {
   "cell_type": "code",
   "execution_count": 4,
   "id": "7a8c7574",
   "metadata": {},
   "outputs": [],
   "source": [
    "parcels = pd.read_csv('./data/Blue Sky Code and Inputs/SF_Logistic_Data.csv')"
   ]
  },
  {
   "cell_type": "code",
   "execution_count": 5,
   "id": "d69dc805",
   "metadata": {},
   "outputs": [],
   "source": [
    "allParcels = gpd.read_file('./data/Parcels   Active and Retired/parcels.shp')"
   ]
  },
  {
   "cell_type": "code",
   "execution_count": 6,
   "id": "f2f6846a",
   "metadata": {},
   "outputs": [],
   "source": [
    "sites = gpd.read_file('./data/site_inventory/xn--Bay_Area_Housing_Opportunity_Sites_Inventory__20072023_-it38a.shp')"
   ]
  },
  {
   "cell_type": "code",
   "execution_count": 107,
   "id": "8eae8166",
   "metadata": {},
   "outputs": [],
   "source": [
    "tax = pd.read_excel('./data/tax_assessor/2019.8.20__SF_ASR_Secured_Roll_Data_2007-2008.xlsx')"
   ]
  },
  {
   "cell_type": "code",
   "execution_count": 269,
   "id": "fdfe1234",
   "metadata": {},
   "outputs": [],
   "source": [
    "tax15 = pd.read_excel('./data/tax_assessor/2020.7.10_SF_ASR_Secured_Roll_Data_2015-2016.xlsx')"
   ]
  },
  {
   "cell_type": "code",
   "execution_count": 285,
   "id": "68437cec",
   "metadata": {},
   "outputs": [],
   "source": [
    "# These codes are the same in both 2007-2008 and 2015-2016\n",
    "use_codes = pd.read_excel('./data/tax_assessor/2019.8.20__SF_ASR_Secured_Roll_Data_2007-2008.xlsx', \n",
    "                          sheet_name='Class & Use Code')\n",
    "neighborhood_codes = pd.read_excel('./data/tax_assessor/2019.8.20__SF_ASR_Secured_Roll_Data_2007-2008.xlsx', \n",
    "                                   sheet_name='Neigborhood Code')"
   ]
  },
  {
   "cell_type": "markdown",
   "id": "dc454513",
   "metadata": {},
   "source": [
    "### Geospatial version of bluesky data"
   ]
  },
  {
   "cell_type": "code",
   "execution_count": 208,
   "id": "d96fb2b1",
   "metadata": {},
   "outputs": [],
   "source": [
    "def get_basic_df(cycle):\n",
    "    if cycle == 4:\n",
    "        start_year = 2007\n",
    "    else:\n",
    "        start_year = 2015\n",
    "    trainParcels = parcels[(parcels.year >= start_year) & (parcels.year < (start_year + 8))]\n",
    "    trainY = trainParcels.groupby('MapBlkLot_Master')['Developed'].agg(lambda x: x.ne(0).sum())\n",
    "    trainX = trainParcels[trainParcels.year == start_year]\n",
    "    trainDf = pd.merge(trainX.drop('Developed', axis=1), trainY, left_on='MapBlkLot_Master', right_index=True)\n",
    "    df = clean_utils.transform_bluesky_to_geospatial(trainDf, cycle)\n",
    "    return df"
   ]
  },
  {
   "cell_type": "code",
   "execution_count": 297,
   "id": "f2895739",
   "metadata": {},
   "outputs": [],
   "source": [
    "df4 = get_basic_df(4)"
   ]
  },
  {
   "cell_type": "code",
   "execution_count": 298,
   "id": "b2b1f2a1",
   "metadata": {},
   "outputs": [],
   "source": [
    "df5 = get_basic_df(5)"
   ]
  },
  {
   "cell_type": "code",
   "execution_count": 301,
   "id": "c59a7c9e",
   "metadata": {},
   "outputs": [
    {
     "data": {
      "text/plain": [
       "88"
      ]
     },
     "execution_count": 301,
     "metadata": {},
     "output_type": "execute_result"
    }
   ],
   "source": [
    "df5.Developed.sum()"
   ]
  },
  {
   "cell_type": "code",
   "execution_count": 300,
   "id": "b3e6fcb8",
   "metadata": {},
   "outputs": [
    {
     "data": {
      "text/plain": [
       "253"
      ]
     },
     "execution_count": 300,
     "metadata": {},
     "output_type": "execute_result"
    }
   ],
   "source": [
    "df4.Developed.sum()"
   ]
  },
  {
   "cell_type": "markdown",
   "id": "cd3c58d5",
   "metadata": {},
   "source": [
    "#### Get dbi permits from past cycle"
   ]
  },
  {
   "cell_type": "code",
   "execution_count": 231,
   "id": "d853849d",
   "metadata": {},
   "outputs": [],
   "source": [
    "pipeline3 = clean_utils.get_pipeline_permits(cycle=3, dbi=dbi)"
   ]
  },
  {
   "cell_type": "code",
   "execution_count": 233,
   "id": "56af68e5",
   "metadata": {},
   "outputs": [],
   "source": [
    "pipeline4 = clean_utils.get_pipeline_permits(cycle=4, dbi=dbi)"
   ]
  },
  {
   "cell_type": "markdown",
   "id": "52d01841",
   "metadata": {},
   "source": [
    "### Merge into bluesky data"
   ]
  },
  {
   "cell_type": "code",
   "execution_count": 237,
   "id": "99aebec2",
   "metadata": {},
   "outputs": [],
   "source": [
    "def merge_pipeline(df, pipeline):\n",
    "    df = pd.merge(df, pipeline, left_on='blklot', right_index=True, how='left')\n",
    "    df[pipeline.columns] = df[pipeline.columns].fillna(0)\n",
    "    return df"
   ]
  },
  {
   "cell_type": "code",
   "execution_count": 302,
   "id": "c728d0f4",
   "metadata": {},
   "outputs": [],
   "source": [
    "df4 = merge_pipeline(df4, pipeline3)"
   ]
  },
  {
   "cell_type": "code",
   "execution_count": 303,
   "id": "47e7f468",
   "metadata": {},
   "outputs": [],
   "source": [
    "df5 = merge_pipeline(df5, pipeline4)"
   ]
  },
  {
   "cell_type": "markdown",
   "id": "7c708532",
   "metadata": {},
   "source": [
    "### Merge Tax Data"
   ]
  },
  {
   "cell_type": "code",
   "execution_count": 304,
   "id": "18cb5c84",
   "metadata": {},
   "outputs": [],
   "source": [
    "full_df4 = clean_utils.merge_tax(df4, tax, cycle=4, parcels=allParcels)"
   ]
  },
  {
   "cell_type": "code",
   "execution_count": 314,
   "id": "988266c2",
   "metadata": {},
   "outputs": [],
   "source": [
    "full_df5 = clean_utils.merge_tax(df5, tax15, cycle=5, parcels=allParcels)"
   ]
  },
  {
   "cell_type": "markdown",
   "id": "4ca898d5",
   "metadata": {},
   "source": [
    "### Feature Engineering"
   ]
  },
  {
   "cell_type": "markdown",
   "id": "154c7bf5",
   "metadata": {},
   "source": [
    "#### Use Codes"
   ]
  },
  {
   "cell_type": "code",
   "execution_count": 166,
   "id": "bf05e522",
   "metadata": {},
   "outputs": [],
   "source": [
    "use_codes = use_codes[~use_codes.isna().all(axis=1)]"
   ]
  },
  {
   "cell_type": "code",
   "execution_count": 167,
   "id": "250fdafd",
   "metadata": {},
   "outputs": [
    {
     "data": {
      "text/html": [
       "<div>\n",
       "<style scoped>\n",
       "    .dataframe tbody tr th:only-of-type {\n",
       "        vertical-align: middle;\n",
       "    }\n",
       "\n",
       "    .dataframe tbody tr th {\n",
       "        vertical-align: top;\n",
       "    }\n",
       "\n",
       "    .dataframe thead th {\n",
       "        text-align: right;\n",
       "    }\n",
       "</style>\n",
       "<table border=\"1\" class=\"dataframe\">\n",
       "  <thead>\n",
       "    <tr style=\"text-align: right;\">\n",
       "      <th></th>\n",
       "      <th>USE</th>\n",
       "      <th>DESC</th>\n",
       "      <th>CLASS</th>\n",
       "      <th>DESC.1</th>\n",
       "    </tr>\n",
       "  </thead>\n",
       "  <tbody>\n",
       "    <tr>\n",
       "      <th>0</th>\n",
       "      <td>SRES</td>\n",
       "      <td>Single Family Residential</td>\n",
       "      <td>CO</td>\n",
       "      <td>Coop Units Unsegregated</td>\n",
       "    </tr>\n",
       "    <tr>\n",
       "      <th>1</th>\n",
       "      <td>SRES</td>\n",
       "      <td>Single Family Residential</td>\n",
       "      <td>COS</td>\n",
       "      <td>Coop Units Segregated</td>\n",
       "    </tr>\n",
       "    <tr>\n",
       "      <th>2</th>\n",
       "      <td>SRES</td>\n",
       "      <td>Single Family Residential</td>\n",
       "      <td>D</td>\n",
       "      <td>Dwelling</td>\n",
       "    </tr>\n",
       "    <tr>\n",
       "      <th>3</th>\n",
       "      <td>SRES</td>\n",
       "      <td>Single Family Residential</td>\n",
       "      <td>DBM</td>\n",
       "      <td>Dwelling BMR</td>\n",
       "    </tr>\n",
       "    <tr>\n",
       "      <th>4</th>\n",
       "      <td>SRES</td>\n",
       "      <td>Single Family Residential</td>\n",
       "      <td>LZ</td>\n",
       "      <td>Live/Work Condominium</td>\n",
       "    </tr>\n",
       "  </tbody>\n",
       "</table>\n",
       "</div>"
      ],
      "text/plain": [
       "    USE                       DESC CLASS                   DESC.1\n",
       "0  SRES  Single Family Residential    CO  Coop Units Unsegregated\n",
       "1  SRES  Single Family Residential   COS    Coop Units Segregated\n",
       "2  SRES  Single Family Residential     D                 Dwelling\n",
       "3  SRES  Single Family Residential   DBM             Dwelling BMR\n",
       "4  SRES  Single Family Residential    LZ    Live/Work Condominium"
      ]
     },
     "execution_count": 167,
     "metadata": {},
     "output_type": "execute_result"
    }
   ],
   "source": [
    "use_codes.head()"
   ]
  },
  {
   "cell_type": "code",
   "execution_count": 173,
   "id": "d9233421",
   "metadata": {},
   "outputs": [],
   "source": [
    "use_codes = use_codes[use_codes['CLASS'] != 'CLASS']\n",
    "use_lookup = use_codes.groupby('CLASS')['USE'].agg(list).to_dict()\n",
    "use_lookup = {k: v[-1] for k, v in use_lookup.items()}"
   ]
  },
  {
   "cell_type": "code",
   "execution_count": 318,
   "id": "8890f6cc",
   "metadata": {},
   "outputs": [],
   "source": [
    "full_df4['general_use_code'] = full_df4.RP1CLACDE.map(use_lookup)\n",
    "full_df5['general_use_code'] = full_df5.RP1CLACDE.map(use_lookup)"
   ]
  },
  {
   "cell_type": "markdown",
   "id": "6e191043",
   "metadata": {},
   "source": [
    "#### New features"
   ]
  },
  {
   "cell_type": "code",
   "execution_count": 319,
   "id": "c42a07c9",
   "metadata": {},
   "outputs": [],
   "source": [
    "full_df4['hasBMR'] = full_df4.RP1CLACDE.str.endswith('BM')\n",
    "full_df5['hasBMR'] = full_df5.RP1CLACDE.str.endswith('BM')"
   ]
  },
  {
   "cell_type": "markdown",
   "id": "163a1f6d",
   "metadata": {},
   "source": [
    "#### Neighborhood Code"
   ]
  },
  {
   "cell_type": "code",
   "execution_count": 320,
   "id": "897b9fcb",
   "metadata": {},
   "outputs": [],
   "source": [
    "neighborhood_codes.NEIGHBORHOOD = neighborhood_codes.NEIGHBORHOOD.str.strip().str.lower().str.split(' ').str.join('_')"
   ]
  },
  {
   "cell_type": "code",
   "execution_count": 321,
   "id": "9bf2ff43",
   "metadata": {},
   "outputs": [
    {
     "data": {
      "text/html": [
       "<div>\n",
       "<style scoped>\n",
       "    .dataframe tbody tr th:only-of-type {\n",
       "        vertical-align: middle;\n",
       "    }\n",
       "\n",
       "    .dataframe tbody tr th {\n",
       "        vertical-align: top;\n",
       "    }\n",
       "\n",
       "    .dataframe thead th {\n",
       "        text-align: right;\n",
       "    }\n",
       "</style>\n",
       "<table border=\"1\" class=\"dataframe\">\n",
       "  <thead>\n",
       "    <tr style=\"text-align: right;\">\n",
       "      <th></th>\n",
       "      <th>DISTRICT</th>\n",
       "      <th>CODE</th>\n",
       "      <th>NEIGHBORHOOD</th>\n",
       "      <th>BOUNDRIES</th>\n",
       "    </tr>\n",
       "  </thead>\n",
       "  <tbody>\n",
       "    <tr>\n",
       "      <th>0</th>\n",
       "      <td>1</td>\n",
       "      <td>1A</td>\n",
       "      <td>central_richmond</td>\n",
       "      <td>South of California, Park Presidio, south of F...</td>\n",
       "    </tr>\n",
       "    <tr>\n",
       "      <th>1</th>\n",
       "      <td>1</td>\n",
       "      <td>1B</td>\n",
       "      <td>inner_richmond</td>\n",
       "      <td>South of California, Arguello, south of Fulton...</td>\n",
       "    </tr>\n",
       "    <tr>\n",
       "      <th>2</th>\n",
       "      <td>1</td>\n",
       "      <td>1C</td>\n",
       "      <td>jordan_park/laurel_heights</td>\n",
       "      <td>California, west of Presidio, Geary, Arguello</td>\n",
       "    </tr>\n",
       "    <tr>\n",
       "      <th>3</th>\n",
       "      <td>1</td>\n",
       "      <td>1D</td>\n",
       "      <td>lake_--the_presidio</td>\n",
       "      <td>West and south of Presidio Terrace, Arguello, ...</td>\n",
       "    </tr>\n",
       "    <tr>\n",
       "      <th>4</th>\n",
       "      <td>1</td>\n",
       "      <td>1E</td>\n",
       "      <td>outer_richmond</td>\n",
       "      <td>The Ocean, west of 32nd Avenue, south of Fulton</td>\n",
       "    </tr>\n",
       "  </tbody>\n",
       "</table>\n",
       "</div>"
      ],
      "text/plain": [
       "   DISTRICT CODE                NEIGHBORHOOD  \\\n",
       "0         1   1A            central_richmond   \n",
       "1         1   1B              inner_richmond   \n",
       "2         1   1C  jordan_park/laurel_heights   \n",
       "3         1   1D         lake_--the_presidio   \n",
       "4         1   1E              outer_richmond   \n",
       "\n",
       "                                           BOUNDRIES  \n",
       "0  South of California, Park Presidio, south of F...  \n",
       "1  South of California, Arguello, south of Fulton...  \n",
       "2      California, west of Presidio, Geary, Arguello  \n",
       "3  West and south of Presidio Terrace, Arguello, ...  \n",
       "4    The Ocean, west of 32nd Avenue, south of Fulton  "
      ]
     },
     "execution_count": 321,
     "metadata": {},
     "output_type": "execute_result"
    }
   ],
   "source": [
    "neighborhood_codes.head()"
   ]
  },
  {
   "cell_type": "code",
   "execution_count": 322,
   "id": "c6e66e92",
   "metadata": {},
   "outputs": [],
   "source": [
    "neighborhoods = {k: v[0] for k, v in neighborhood_codes.groupby('CODE')['NEIGHBORHOOD'].agg(list).to_dict().items()}\n",
    "neighborhoods = {(k if len(k) == 3 else '0'+k): v for k, v in neighborhoods.items()} "
   ]
  },
  {
   "cell_type": "code",
   "execution_count": 323,
   "id": "b86ddd40",
   "metadata": {},
   "outputs": [],
   "source": [
    "def lookup_neighborhood(x):\n",
    "    return neighborhoods.get(x, x)"
   ]
  },
  {
   "cell_type": "code",
   "execution_count": 324,
   "id": "22bc5a0d",
   "metadata": {},
   "outputs": [],
   "source": [
    "full_df4['neighborhood'] = full_df4.RP1NBRCDE.apply(lookup_neighborhood)\n",
    "full_df5['neighborhood'] = full_df5.RP1NBRCDE.apply(lookup_neighborhood)"
   ]
  },
  {
   "cell_type": "code",
   "execution_count": 325,
   "id": "70c86306",
   "metadata": {},
   "outputs": [],
   "source": [
    "districts = {k: v[0] for k, v in neighborhood_codes.groupby('CODE')['DISTRICT'].agg(list).to_dict().items()}\n",
    "districts = {(k if len(k) == 3 else '0'+k): v for k, v in districts.items()} "
   ]
  },
  {
   "cell_type": "code",
   "execution_count": 326,
   "id": "d7e7e846",
   "metadata": {},
   "outputs": [],
   "source": [
    "def lookup_district(x):\n",
    "    return 'district' + str(districts.get(x, x))"
   ]
  },
  {
   "cell_type": "code",
   "execution_count": 327,
   "id": "f931807f",
   "metadata": {},
   "outputs": [],
   "source": [
    "full_df4['district'] = full_df4['RP1NBRCDE'].apply(lookup_district)\n",
    "full_df5['district'] = full_df5['RP1NBRCDE'].apply(lookup_district)"
   ]
  },
  {
   "cell_type": "code",
   "execution_count": 328,
   "id": "2606d103",
   "metadata": {},
   "outputs": [],
   "source": [
    "full_df4 = full_df4.drop('RP1NBRCDE', axis=1)\n",
    "full_df5 = full_df5.drop('RP1NBRCDE', axis=1)"
   ]
  },
  {
   "cell_type": "markdown",
   "id": "53fb999b",
   "metadata": {},
   "source": [
    "### Treat inclusion in site inventory as a feature"
   ]
  },
  {
   "cell_type": "code",
   "execution_count": 329,
   "id": "7f7f1f3a",
   "metadata": {},
   "outputs": [],
   "source": [
    "full_df4 = clean_utils.get_site_inventory_feature(full_df4, sites, cycle=4)\n",
    "full_df5 = clean_utils.get_site_inventory_feature(full_df5, sites, cycle=4)"
   ]
  },
  {
   "cell_type": "markdown",
   "id": "5bdc141e",
   "metadata": {},
   "source": [
    "### Drop constant columns"
   ]
  },
  {
   "cell_type": "code",
   "execution_count": 332,
   "id": "5228c6a0",
   "metadata": {},
   "outputs": [],
   "source": [
    "full_df4 = full_df4.drop([c for c in full_df4.columns if 'CANTID' in c], axis=1)\n",
    "full_df5 = full_df5.drop([c for c in full_df5.columns if 'CANTID' in c], axis=1)"
   ]
  },
  {
   "cell_type": "code",
   "execution_count": 333,
   "id": "cfbacb3b",
   "metadata": {},
   "outputs": [],
   "source": [
    "full_df4 = full_df4.drop(full_df4.columns[full_df4.nunique() <= 1], axis=1)\n",
    "full_df5 = full_df5.drop(full_df5.columns[full_df5.nunique() <= 1], axis=1)"
   ]
  },
  {
   "cell_type": "code",
   "execution_count": 335,
   "id": "d5cb927e",
   "metadata": {},
   "outputs": [],
   "source": [
    "full_df4.to_csv('cleaned_rhna4_data.csv')\n",
    "full_df5.to_csv('cleaned_rhna5_data.csv')"
   ]
  },
  {
   "cell_type": "code",
   "execution_count": 342,
   "id": "07c1176b",
   "metadata": {},
   "outputs": [
    {
     "data": {
      "text/html": [
       "<div>\n",
       "<style scoped>\n",
       "    .dataframe tbody tr th:only-of-type {\n",
       "        vertical-align: middle;\n",
       "    }\n",
       "\n",
       "    .dataframe tbody tr th {\n",
       "        vertical-align: top;\n",
       "    }\n",
       "\n",
       "    .dataframe thead th {\n",
       "        text-align: right;\n",
       "    }\n",
       "</style>\n",
       "<table border=\"1\" class=\"dataframe\">\n",
       "  <thead>\n",
       "    <tr style=\"text-align: right;\">\n",
       "      <th></th>\n",
       "      <th>pipeline2</th>\n",
       "      <th>pipeline3</th>\n",
       "      <th>pipeline4</th>\n",
       "      <th>pipeline5</th>\n",
       "      <th>pipeline6</th>\n",
       "      <th>pipeline7</th>\n",
       "      <th>pipeline8</th>\n",
       "      <th>PROPLOC</th>\n",
       "      <th>RP1PRCLID</th>\n",
       "      <th>RP1VOLUME</th>\n",
       "      <th>...</th>\n",
       "      <th>RP1FXTVAL</th>\n",
       "      <th>RP1IMPVAL</th>\n",
       "      <th>RP1LNDVAL</th>\n",
       "      <th>RP1PPTVAL</th>\n",
       "      <th>area</th>\n",
       "      <th>general_use_code</th>\n",
       "      <th>hasBMR</th>\n",
       "      <th>neighborhood</th>\n",
       "      <th>district</th>\n",
       "      <th>inInventory</th>\n",
       "    </tr>\n",
       "  </thead>\n",
       "  <tbody>\n",
       "    <tr>\n",
       "      <th>5071</th>\n",
       "      <td>0.0</td>\n",
       "      <td>33.0</td>\n",
       "      <td>0.0</td>\n",
       "      <td>0.0</td>\n",
       "      <td>0.0</td>\n",
       "      <td>0.0</td>\n",
       "      <td>17.0</td>\n",
       "      <td>0000 0555 CALIFORNIA          ST0000</td>\n",
       "      <td>0259 026</td>\n",
       "      <td>3</td>\n",
       "      <td>...</td>\n",
       "      <td>0</td>\n",
       "      <td>612000000</td>\n",
       "      <td>256020000</td>\n",
       "      <td>1052350</td>\n",
       "      <td>10640.232701</td>\n",
       "      <td>COMO</td>\n",
       "      <td>False</td>\n",
       "      <td>financial_district_north</td>\n",
       "      <td>district8</td>\n",
       "      <td>False</td>\n",
       "    </tr>\n",
       "  </tbody>\n",
       "</table>\n",
       "<p>1 rows × 42 columns</p>\n",
       "</div>"
      ],
      "text/plain": [
       "      pipeline2  pipeline3  pipeline4  pipeline5  pipeline6  pipeline7  \\\n",
       "5071        0.0       33.0        0.0        0.0        0.0        0.0   \n",
       "\n",
       "      pipeline8                               PROPLOC RP1PRCLID  RP1VOLUME  \\\n",
       "5071       17.0  0000 0555 CALIFORNIA          ST0000  0259 026          3   \n",
       "\n",
       "      ... RP1FXTVAL  RP1IMPVAL  RP1LNDVAL  RP1PPTVAL          area  \\\n",
       "5071  ...         0  612000000  256020000    1052350  10640.232701   \n",
       "\n",
       "      general_use_code  hasBMR              neighborhood   district  \\\n",
       "5071              COMO   False  financial_district_north  district8   \n",
       "\n",
       "      inInventory  \n",
       "5071        False  \n",
       "\n",
       "[1 rows x 42 columns]"
      ]
     },
     "execution_count": 342,
     "metadata": {},
     "output_type": "execute_result"
    }
   ],
   "source": [
    "full_df4[full_df4.RP1LNDVAL == max(full_df4.RP1LNDVAL)].iloc[:, 20:]"
   ]
  },
  {
   "cell_type": "code",
   "execution_count": null,
   "id": "1f610565",
   "metadata": {},
   "outputs": [],
   "source": []
  }
 ],
 "metadata": {
  "kernelspec": {
   "display_name": "Python 3",
   "language": "python",
   "name": "python3"
  },
  "language_info": {
   "codemirror_mode": {
    "name": "ipython",
    "version": 3
   },
   "file_extension": ".py",
   "mimetype": "text/x-python",
   "name": "python",
   "nbconvert_exporter": "python",
   "pygments_lexer": "ipython3",
   "version": "3.8.8"
  }
 },
 "nbformat": 4,
 "nbformat_minor": 5
}
