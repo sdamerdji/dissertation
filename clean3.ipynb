{
 "cells": [
  {
   "cell_type": "code",
   "execution_count": 2,
   "id": "dcbacba2",
   "metadata": {},
   "outputs": [],
   "source": [
    "import pandas as pd\n",
    "import geopandas as gpd\n",
    "import numpy as np\n",
    "\n",
    "import matplotlib.pyplot as plt\n",
    "import seaborn as sns\n",
    "import contextily as ctx\n",
    "from shapely.wkt import load\n",
    "\n",
    "import clean_utils\n",
    "from importlib import reload\n"
   ]
  },
  {
   "cell_type": "code",
   "execution_count": 14,
   "id": "b288e18c",
   "metadata": {},
   "outputs": [
    {
     "data": {
      "text/plain": [
       "<module 'clean_utils' from 'C:\\\\Users\\\\sadamerdji\\\\Desktop\\\\dissertation\\\\clean_utils.py'>"
      ]
     },
     "execution_count": 14,
     "metadata": {},
     "output_type": "execute_result"
    }
   ],
   "source": [
    "reload(clean_utils)"
   ]
  },
  {
   "cell_type": "markdown",
   "id": "9b87288e",
   "metadata": {},
   "source": [
    "### Load Data"
   ]
  },
  {
   "cell_type": "code",
   "execution_count": 6,
   "id": "7a8c7574",
   "metadata": {},
   "outputs": [],
   "source": [
    "parcels = pd.read_csv('./data/Blue Sky Code and Inputs/SF_Logistic_Data.csv')"
   ]
  },
  {
   "cell_type": "code",
   "execution_count": 7,
   "id": "d69dc805",
   "metadata": {},
   "outputs": [],
   "source": [
    "allParcels = gpd.read_file('./data/Parcels   Active and Retired/parcels.shp')"
   ]
  },
  {
   "cell_type": "code",
   "execution_count": 8,
   "id": "f2f6846a",
   "metadata": {},
   "outputs": [],
   "source": [
    "sites = gpd.read_file('./data/site_inventory/xn--Bay_Area_Housing_Opportunity_Sites_Inventory__20072023_-it38a.shp')"
   ]
  },
  {
   "cell_type": "code",
   "execution_count": 9,
   "id": "8eae8166",
   "metadata": {},
   "outputs": [],
   "source": [
    "tax = pd.read_excel('./data/tax_assessor/2019.8.20__SF_ASR_Secured_Roll_Data_2007-2008.xlsx')"
   ]
  },
  {
   "cell_type": "code",
   "execution_count": 10,
   "id": "d4542c67",
   "metadata": {},
   "outputs": [],
   "source": [
    "tax15 = pd.read_excel('./data/tax_assessor/2020.7.10_SF_ASR_Secured_Roll_Data_2015-2016.xlsx')"
   ]
  },
  {
   "cell_type": "code",
   "execution_count": 11,
   "id": "68437cec",
   "metadata": {},
   "outputs": [],
   "source": [
    "# These codes are the same in both 2007-2008 and 2015-2016\n",
    "use_codes = pd.read_excel('./data/tax_assessor/2019.8.20__SF_ASR_Secured_Roll_Data_2007-2008.xlsx', \n",
    "                          sheet_name='Class & Use Code')\n",
    "neighborhood_codes = pd.read_excel('./data/tax_assessor/2019.8.20__SF_ASR_Secured_Roll_Data_2007-2008.xlsx', \n",
    "                                   sheet_name='Neigborhood Code')"
   ]
  },
  {
   "cell_type": "markdown",
   "id": "dc454513",
   "metadata": {},
   "source": [
    "### Geospatial version of bluesky data"
   ]
  },
  {
   "cell_type": "code",
   "execution_count": 12,
   "id": "d96fb2b1",
   "metadata": {},
   "outputs": [],
   "source": [
    "def get_basic_df(cycle):\n",
    "    if cycle == 4:\n",
    "        start_year = 2007\n",
    "    else:\n",
    "        start_year = 2015\n",
    "    trainParcels = parcels[(parcels.year >= start_year) & (parcels.year < (start_year + 8))]\n",
    "    trainY = trainParcels.groupby('MapBlkLot_Master')['Developed'].agg(lambda x: x.ne(0).sum())\n",
    "    trainX = trainParcels[trainParcels.year == start_year]\n",
    "    trainDf = pd.merge(trainX.drop('Developed', axis=1), trainY, left_on='MapBlkLot_Master', right_index=True)\n",
    "    df = clean_utils.transform_bluesky_to_geospatial(trainDf, cycle)\n",
    "    return df"
   ]
  },
  {
   "cell_type": "code",
   "execution_count": 15,
   "id": "f2895739",
   "metadata": {},
   "outputs": [],
   "source": [
    "df4 = get_basic_df(4)"
   ]
  },
  {
   "cell_type": "code",
   "execution_count": 16,
   "id": "b2b1f2a1",
   "metadata": {},
   "outputs": [],
   "source": [
    "df5 = get_basic_df(5)"
   ]
  },
  {
   "cell_type": "code",
   "execution_count": 17,
   "id": "bebc8f6b",
   "metadata": {},
   "outputs": [
    {
     "data": {
      "text/plain": [
       "88"
      ]
     },
     "execution_count": 17,
     "metadata": {},
     "output_type": "execute_result"
    }
   ],
   "source": [
    "df5.Developed.sum()"
   ]
  },
  {
   "cell_type": "code",
   "execution_count": 18,
   "id": "c4f49a42",
   "metadata": {},
   "outputs": [
    {
     "data": {
      "text/plain": [
       "253"
      ]
     },
     "execution_count": 18,
     "metadata": {},
     "output_type": "execute_result"
    }
   ],
   "source": [
    "df4.Developed.sum()"
   ]
  },
  {
   "cell_type": "markdown",
   "id": "cd3c58d5",
   "metadata": {},
   "source": [
    "#### Get dbi permits from past cycle"
   ]
  },
  {
   "cell_type": "code",
   "execution_count": 24,
   "id": "d853849d",
   "metadata": {},
   "outputs": [],
   "source": [
    "pipeline3 = clean_utils.get_pipeline_permits(cycle=3)"
   ]
  },
  {
   "cell_type": "code",
   "execution_count": 25,
   "id": "56af68e5",
   "metadata": {},
   "outputs": [],
   "source": [
    "pipeline4 = clean_utils.get_pipeline_permits(cycle=4)"
   ]
  },
  {
   "cell_type": "markdown",
   "id": "52d01841",
   "metadata": {},
   "source": [
    "### Merge into bluesky data"
   ]
  },
  {
   "cell_type": "code",
   "execution_count": 26,
   "id": "99aebec2",
   "metadata": {},
   "outputs": [],
   "source": [
    "def merge_pipeline(df, pipeline):\n",
    "    df = pd.merge(df, pipeline, left_on='blklot', right_index=True, how='left')\n",
    "    df[pipeline.columns] = df[pipeline.columns].fillna(0)\n",
    "    return df"
   ]
  },
  {
   "cell_type": "code",
   "execution_count": 27,
   "id": "c728d0f4",
   "metadata": {},
   "outputs": [],
   "source": [
    "df4 = merge_pipeline(df4, pipeline3)"
   ]
  },
  {
   "cell_type": "code",
   "execution_count": 28,
   "id": "47e7f468",
   "metadata": {},
   "outputs": [],
   "source": [
    "df5 = merge_pipeline(df5, pipeline4)"
   ]
  },
  {
   "cell_type": "markdown",
   "id": "7c708532",
   "metadata": {},
   "source": [
    "### Merge Tax Data"
   ]
  },
  {
   "cell_type": "code",
   "execution_count": 29,
   "id": "d7211e09",
   "metadata": {},
   "outputs": [],
   "source": [
    "full_df4 = clean_utils.merge_tax(df4, tax, cycle=4, parcels=allParcels)"
   ]
  },
  {
   "cell_type": "code",
   "execution_count": 30,
   "id": "824a4398",
   "metadata": {},
   "outputs": [],
   "source": [
    "full_df5 = clean_utils.merge_tax(df5, tax15, cycle=5, parcels=allParcels)"
   ]
  },
  {
   "cell_type": "code",
   "execution_count": 34,
   "id": "513fa706",
   "metadata": {},
   "outputs": [
    {
     "data": {
      "text/plain": [
       "ROOMS       object\n",
       "STOREYNO    object\n",
       "FBA         object\n",
       "dtype: object"
      ]
     },
     "execution_count": 34,
     "metadata": {},
     "output_type": "execute_result"
    }
   ],
   "source": [
    "full_df5.dtypes[~(full_df4.dtypes == full_df5.dtypes)]"
   ]
  },
  {
   "cell_type": "code",
   "execution_count": 65,
   "id": "ef0dbc3b",
   "metadata": {},
   "outputs": [],
   "source": [
    "full_df5.ROOMS = pd.to_numeric(full_df5.ROOMS, \n",
    "                               errors='coerce',\n",
    "                               downcast='integer')\n",
    "full_df5.STOREYNO = pd.to_numeric(full_df5.STOREYNO,\n",
    "                                  errors='coerce',\n",
    "                                  downcast='integer')\n",
    "full_df5.FBA = pd.to_numeric(full_df5.FBA, \n",
    "                             errors='coerce',\n",
    "                             downcast='integer')"
   ]
  },
  {
   "cell_type": "code",
   "execution_count": 66,
   "id": "8604a150",
   "metadata": {},
   "outputs": [],
   "source": [
    "full_df5 = full_df5[full_df5.FBA.notna() &\n",
    "                    full_df5.STOREYNO.notna() &\n",
    "                    full_df5.ROOMS.notna()]"
   ]
  },
  {
   "cell_type": "markdown",
   "id": "4ca898d5",
   "metadata": {},
   "source": [
    "### Feature Engineering"
   ]
  },
  {
   "cell_type": "markdown",
   "id": "154c7bf5",
   "metadata": {},
   "source": [
    "#### Use Codes"
   ]
  },
  {
   "cell_type": "code",
   "execution_count": 68,
   "id": "bf05e522",
   "metadata": {},
   "outputs": [],
   "source": [
    "use_codes = use_codes[~use_codes.isna().all(axis=1)]"
   ]
  },
  {
   "cell_type": "code",
   "execution_count": 69,
   "id": "250fdafd",
   "metadata": {},
   "outputs": [
    {
     "data": {
      "text/html": [
       "<div>\n",
       "<style scoped>\n",
       "    .dataframe tbody tr th:only-of-type {\n",
       "        vertical-align: middle;\n",
       "    }\n",
       "\n",
       "    .dataframe tbody tr th {\n",
       "        vertical-align: top;\n",
       "    }\n",
       "\n",
       "    .dataframe thead th {\n",
       "        text-align: right;\n",
       "    }\n",
       "</style>\n",
       "<table border=\"1\" class=\"dataframe\">\n",
       "  <thead>\n",
       "    <tr style=\"text-align: right;\">\n",
       "      <th></th>\n",
       "      <th>USE</th>\n",
       "      <th>DESC</th>\n",
       "      <th>CLASS</th>\n",
       "      <th>DESC.1</th>\n",
       "    </tr>\n",
       "  </thead>\n",
       "  <tbody>\n",
       "    <tr>\n",
       "      <th>0</th>\n",
       "      <td>SRES</td>\n",
       "      <td>Single Family Residential</td>\n",
       "      <td>CO</td>\n",
       "      <td>Coop Units Unsegregated</td>\n",
       "    </tr>\n",
       "    <tr>\n",
       "      <th>1</th>\n",
       "      <td>SRES</td>\n",
       "      <td>Single Family Residential</td>\n",
       "      <td>COS</td>\n",
       "      <td>Coop Units Segregated</td>\n",
       "    </tr>\n",
       "    <tr>\n",
       "      <th>2</th>\n",
       "      <td>SRES</td>\n",
       "      <td>Single Family Residential</td>\n",
       "      <td>D</td>\n",
       "      <td>Dwelling</td>\n",
       "    </tr>\n",
       "    <tr>\n",
       "      <th>3</th>\n",
       "      <td>SRES</td>\n",
       "      <td>Single Family Residential</td>\n",
       "      <td>DBM</td>\n",
       "      <td>Dwelling BMR</td>\n",
       "    </tr>\n",
       "    <tr>\n",
       "      <th>4</th>\n",
       "      <td>SRES</td>\n",
       "      <td>Single Family Residential</td>\n",
       "      <td>LZ</td>\n",
       "      <td>Live/Work Condominium</td>\n",
       "    </tr>\n",
       "  </tbody>\n",
       "</table>\n",
       "</div>"
      ],
      "text/plain": [
       "    USE                       DESC CLASS                   DESC.1\n",
       "0  SRES  Single Family Residential    CO  Coop Units Unsegregated\n",
       "1  SRES  Single Family Residential   COS    Coop Units Segregated\n",
       "2  SRES  Single Family Residential     D                 Dwelling\n",
       "3  SRES  Single Family Residential   DBM             Dwelling BMR\n",
       "4  SRES  Single Family Residential    LZ    Live/Work Condominium"
      ]
     },
     "execution_count": 69,
     "metadata": {},
     "output_type": "execute_result"
    }
   ],
   "source": [
    "use_codes.head()"
   ]
  },
  {
   "cell_type": "code",
   "execution_count": 70,
   "id": "d9233421",
   "metadata": {},
   "outputs": [],
   "source": [
    "use_codes = use_codes[use_codes['CLASS'] != 'CLASS']\n",
    "use_lookup = use_codes.groupby('CLASS')['USE'].agg(list).to_dict()\n",
    "use_lookup = {k: v[-1] for k, v in use_lookup.items()}"
   ]
  },
  {
   "cell_type": "code",
   "execution_count": 71,
   "id": "8890f6cc",
   "metadata": {},
   "outputs": [],
   "source": [
    "full_df4['general_use_code'] = full_df4.RP1CLACDE.map(use_lookup)\n",
    "full_df5['general_use_code'] = full_df5.RP1CLACDE.map(use_lookup)"
   ]
  },
  {
   "cell_type": "markdown",
   "id": "6e191043",
   "metadata": {},
   "source": [
    "#### New features"
   ]
  },
  {
   "cell_type": "code",
   "execution_count": 72,
   "id": "c42a07c9",
   "metadata": {},
   "outputs": [],
   "source": [
    "full_df4['hasBMR'] = full_df4.RP1CLACDE.str.endswith('BM')\n",
    "full_df5['hasBMR'] = full_df5.RP1CLACDE.str.endswith('BM')"
   ]
  },
  {
   "cell_type": "markdown",
   "id": "163a1f6d",
   "metadata": {},
   "source": [
    "#### Neighborhood Code"
   ]
  },
  {
   "cell_type": "code",
   "execution_count": 73,
   "id": "897b9fcb",
   "metadata": {},
   "outputs": [],
   "source": [
    "neighborhood_codes.NEIGHBORHOOD = neighborhood_codes.NEIGHBORHOOD.str.strip().str.lower().str.split(' ').str.join('_')"
   ]
  },
  {
   "cell_type": "code",
   "execution_count": 74,
   "id": "9bf2ff43",
   "metadata": {},
   "outputs": [
    {
     "data": {
      "text/html": [
       "<div>\n",
       "<style scoped>\n",
       "    .dataframe tbody tr th:only-of-type {\n",
       "        vertical-align: middle;\n",
       "    }\n",
       "\n",
       "    .dataframe tbody tr th {\n",
       "        vertical-align: top;\n",
       "    }\n",
       "\n",
       "    .dataframe thead th {\n",
       "        text-align: right;\n",
       "    }\n",
       "</style>\n",
       "<table border=\"1\" class=\"dataframe\">\n",
       "  <thead>\n",
       "    <tr style=\"text-align: right;\">\n",
       "      <th></th>\n",
       "      <th>DISTRICT</th>\n",
       "      <th>CODE</th>\n",
       "      <th>NEIGHBORHOOD</th>\n",
       "      <th>BOUNDRIES</th>\n",
       "    </tr>\n",
       "  </thead>\n",
       "  <tbody>\n",
       "    <tr>\n",
       "      <th>0</th>\n",
       "      <td>1</td>\n",
       "      <td>1A</td>\n",
       "      <td>central_richmond</td>\n",
       "      <td>South of California, Park Presidio, south of F...</td>\n",
       "    </tr>\n",
       "    <tr>\n",
       "      <th>1</th>\n",
       "      <td>1</td>\n",
       "      <td>1B</td>\n",
       "      <td>inner_richmond</td>\n",
       "      <td>South of California, Arguello, south of Fulton...</td>\n",
       "    </tr>\n",
       "    <tr>\n",
       "      <th>2</th>\n",
       "      <td>1</td>\n",
       "      <td>1C</td>\n",
       "      <td>jordan_park/laurel_heights</td>\n",
       "      <td>California, west of Presidio, Geary, Arguello</td>\n",
       "    </tr>\n",
       "    <tr>\n",
       "      <th>3</th>\n",
       "      <td>1</td>\n",
       "      <td>1D</td>\n",
       "      <td>lake_--the_presidio</td>\n",
       "      <td>West and south of Presidio Terrace, Arguello, ...</td>\n",
       "    </tr>\n",
       "    <tr>\n",
       "      <th>4</th>\n",
       "      <td>1</td>\n",
       "      <td>1E</td>\n",
       "      <td>outer_richmond</td>\n",
       "      <td>The Ocean, west of 32nd Avenue, south of Fulton</td>\n",
       "    </tr>\n",
       "  </tbody>\n",
       "</table>\n",
       "</div>"
      ],
      "text/plain": [
       "   DISTRICT CODE                NEIGHBORHOOD  \\\n",
       "0         1   1A            central_richmond   \n",
       "1         1   1B              inner_richmond   \n",
       "2         1   1C  jordan_park/laurel_heights   \n",
       "3         1   1D         lake_--the_presidio   \n",
       "4         1   1E              outer_richmond   \n",
       "\n",
       "                                           BOUNDRIES  \n",
       "0  South of California, Park Presidio, south of F...  \n",
       "1  South of California, Arguello, south of Fulton...  \n",
       "2      California, west of Presidio, Geary, Arguello  \n",
       "3  West and south of Presidio Terrace, Arguello, ...  \n",
       "4    The Ocean, west of 32nd Avenue, south of Fulton  "
      ]
     },
     "execution_count": 74,
     "metadata": {},
     "output_type": "execute_result"
    }
   ],
   "source": [
    "neighborhood_codes.head()"
   ]
  },
  {
   "cell_type": "code",
   "execution_count": 75,
   "id": "c6e66e92",
   "metadata": {},
   "outputs": [],
   "source": [
    "neighborhoods = {k: v[0] for k, v in neighborhood_codes.groupby('CODE')['NEIGHBORHOOD'].agg(list).to_dict().items()}\n",
    "neighborhoods = {(k if len(k) == 3 else '0'+k): v for k, v in neighborhoods.items()} "
   ]
  },
  {
   "cell_type": "code",
   "execution_count": 76,
   "id": "b86ddd40",
   "metadata": {},
   "outputs": [],
   "source": [
    "def lookup_neighborhood(x):\n",
    "    return neighborhoods.get(x, x)"
   ]
  },
  {
   "cell_type": "code",
   "execution_count": 77,
   "id": "22bc5a0d",
   "metadata": {},
   "outputs": [],
   "source": [
    "full_df4['neighborhood'] = full_df4.RP1NBRCDE.apply(lookup_neighborhood)\n",
    "full_df5['neighborhood'] = full_df5.RP1NBRCDE.apply(lookup_neighborhood)"
   ]
  },
  {
   "cell_type": "code",
   "execution_count": 78,
   "id": "70c86306",
   "metadata": {},
   "outputs": [],
   "source": [
    "districts = {k: v[0] for k, v in neighborhood_codes.groupby('CODE')['DISTRICT'].agg(list).to_dict().items()}\n",
    "districts = {(k if len(k) == 3 else '0'+k): v for k, v in districts.items()} "
   ]
  },
  {
   "cell_type": "code",
   "execution_count": 79,
   "id": "d7e7e846",
   "metadata": {},
   "outputs": [],
   "source": [
    "def lookup_district(x):\n",
    "    return 'district' + str(districts.get(x, x))"
   ]
  },
  {
   "cell_type": "code",
   "execution_count": 80,
   "id": "f931807f",
   "metadata": {},
   "outputs": [],
   "source": [
    "full_df4['district'] = full_df4['RP1NBRCDE'].apply(lookup_district)\n",
    "full_df5['district'] = full_df5['RP1NBRCDE'].apply(lookup_district)"
   ]
  },
  {
   "cell_type": "code",
   "execution_count": 81,
   "id": "2606d103",
   "metadata": {},
   "outputs": [],
   "source": [
    "full_df4 = full_df4.drop('RP1NBRCDE', axis=1)\n",
    "full_df5 = full_df5.drop('RP1NBRCDE', axis=1)"
   ]
  },
  {
   "cell_type": "markdown",
   "id": "53fb999b",
   "metadata": {},
   "source": [
    "### Treat inclusion in site inventory as a feature"
   ]
  },
  {
   "cell_type": "code",
   "execution_count": 82,
   "id": "7f7f1f3a",
   "metadata": {},
   "outputs": [],
   "source": [
    "full_df4 = clean_utils.get_site_inventory_feature(full_df4, sites, cycle=4)\n",
    "full_df5 = clean_utils.get_site_inventory_feature(full_df5, sites, cycle=4)"
   ]
  },
  {
   "cell_type": "markdown",
   "id": "5bdc141e",
   "metadata": {},
   "source": [
    "### Drop constant columns"
   ]
  },
  {
   "cell_type": "code",
   "execution_count": 83,
   "id": "c34c9055",
   "metadata": {},
   "outputs": [],
   "source": [
    "full_df4 = full_df4.drop([c for c in full_df4.columns if 'CANTID' in c], axis=1)\n",
    "full_df5 = full_df5.drop([c for c in full_df5.columns if 'CANTID' in c], axis=1)"
   ]
  },
  {
   "cell_type": "code",
   "execution_count": 84,
   "id": "cfbacb3b",
   "metadata": {},
   "outputs": [],
   "source": [
    "full_df4 = full_df4.drop(full_df4.columns[full_df4.nunique() <= 1], axis=1)\n",
    "full_df5 = full_df5.drop(full_df5.columns[full_df5.nunique() <= 1], axis=1)"
   ]
  },
  {
   "cell_type": "code",
   "execution_count": 85,
   "id": "d5cb927e",
   "metadata": {},
   "outputs": [],
   "source": [
    "full_df4.to_csv('cleaned_rhna4_data.csv')\n",
    "full_df5.to_csv('cleaned_rhna5_data.csv')"
   ]
  },
  {
   "cell_type": "code",
   "execution_count": 88,
   "id": "88635c98",
   "metadata": {},
   "outputs": [
    {
     "data": {
      "text/html": [
       "<div>\n",
       "<style scoped>\n",
       "    .dataframe tbody tr th:only-of-type {\n",
       "        vertical-align: middle;\n",
       "    }\n",
       "\n",
       "    .dataframe tbody tr th {\n",
       "        vertical-align: top;\n",
       "    }\n",
       "\n",
       "    .dataframe thead th {\n",
       "        text-align: right;\n",
       "    }\n",
       "</style>\n",
       "<table border=\"1\" class=\"dataframe\">\n",
       "  <thead>\n",
       "    <tr style=\"text-align: right;\">\n",
       "      <th></th>\n",
       "      <th>MapBlkLot_Master</th>\n",
       "      <th>year</th>\n",
       "      <th>Developed</th>\n",
       "      <th>Historic</th>\n",
       "      <th>Residential_Dummy</th>\n",
       "      <th>Zillow_Price_Real</th>\n",
       "      <th>Const_FedReserve_Real</th>\n",
       "      <th>Envelope_1000</th>\n",
       "      <th>Upzone_Ratio</th>\n",
       "      <th>zp_OfficeComm</th>\n",
       "      <th>zp_DensRestMulti</th>\n",
       "      <th>zp_FormBasedMulti</th>\n",
       "      <th>zp_PDRInd</th>\n",
       "      <th>zp_Public</th>\n",
       "      <th>zp_Redev</th>\n",
       "      <th>zp_RH2</th>\n",
       "      <th>zp_RH3_RM1</th>\n",
       "    </tr>\n",
       "  </thead>\n",
       "  <tbody>\n",
       "    <tr>\n",
       "      <th>0</th>\n",
       "      <td>0001001</td>\n",
       "      <td>2001</td>\n",
       "      <td>0</td>\n",
       "      <td>0</td>\n",
       "      <td>0</td>\n",
       "      <td>66.843479</td>\n",
       "      <td>74.025851</td>\n",
       "      <td>42.497730</td>\n",
       "      <td>2.000000</td>\n",
       "      <td>0</td>\n",
       "      <td>0</td>\n",
       "      <td>0</td>\n",
       "      <td>0</td>\n",
       "      <td>1</td>\n",
       "      <td>0</td>\n",
       "      <td>0</td>\n",
       "      <td>0</td>\n",
       "    </tr>\n",
       "    <tr>\n",
       "      <th>1</th>\n",
       "      <td>0005001</td>\n",
       "      <td>2001</td>\n",
       "      <td>0</td>\n",
       "      <td>1</td>\n",
       "      <td>0</td>\n",
       "      <td>66.843479</td>\n",
       "      <td>74.025851</td>\n",
       "      <td>86.389615</td>\n",
       "      <td>1.666667</td>\n",
       "      <td>1</td>\n",
       "      <td>0</td>\n",
       "      <td>0</td>\n",
       "      <td>0</td>\n",
       "      <td>0</td>\n",
       "      <td>0</td>\n",
       "      <td>0</td>\n",
       "      <td>0</td>\n",
       "    </tr>\n",
       "    <tr>\n",
       "      <th>2</th>\n",
       "      <td>0011008</td>\n",
       "      <td>2001</td>\n",
       "      <td>0</td>\n",
       "      <td>0</td>\n",
       "      <td>0</td>\n",
       "      <td>66.843479</td>\n",
       "      <td>74.025851</td>\n",
       "      <td>72.496845</td>\n",
       "      <td>0.365177</td>\n",
       "      <td>1</td>\n",
       "      <td>0</td>\n",
       "      <td>0</td>\n",
       "      <td>0</td>\n",
       "      <td>0</td>\n",
       "      <td>0</td>\n",
       "      <td>0</td>\n",
       "      <td>0</td>\n",
       "    </tr>\n",
       "    <tr>\n",
       "      <th>3</th>\n",
       "      <td>0004002</td>\n",
       "      <td>2001</td>\n",
       "      <td>0</td>\n",
       "      <td>0</td>\n",
       "      <td>0</td>\n",
       "      <td>66.843479</td>\n",
       "      <td>74.025851</td>\n",
       "      <td>39.108627</td>\n",
       "      <td>1.666667</td>\n",
       "      <td>1</td>\n",
       "      <td>0</td>\n",
       "      <td>0</td>\n",
       "      <td>0</td>\n",
       "      <td>0</td>\n",
       "      <td>0</td>\n",
       "      <td>0</td>\n",
       "      <td>0</td>\n",
       "    </tr>\n",
       "    <tr>\n",
       "      <th>4</th>\n",
       "      <td>0012003A</td>\n",
       "      <td>2001</td>\n",
       "      <td>0</td>\n",
       "      <td>0</td>\n",
       "      <td>0</td>\n",
       "      <td>66.843479</td>\n",
       "      <td>74.025851</td>\n",
       "      <td>53.853557</td>\n",
       "      <td>1.666667</td>\n",
       "      <td>1</td>\n",
       "      <td>0</td>\n",
       "      <td>0</td>\n",
       "      <td>0</td>\n",
       "      <td>0</td>\n",
       "      <td>0</td>\n",
       "      <td>0</td>\n",
       "      <td>0</td>\n",
       "    </tr>\n",
       "    <tr>\n",
       "      <th>...</th>\n",
       "      <td>...</td>\n",
       "      <td>...</td>\n",
       "      <td>...</td>\n",
       "      <td>...</td>\n",
       "      <td>...</td>\n",
       "      <td>...</td>\n",
       "      <td>...</td>\n",
       "      <td>...</td>\n",
       "      <td>...</td>\n",
       "      <td>...</td>\n",
       "      <td>...</td>\n",
       "      <td>...</td>\n",
       "      <td>...</td>\n",
       "      <td>...</td>\n",
       "      <td>...</td>\n",
       "      <td>...</td>\n",
       "      <td>...</td>\n",
       "    </tr>\n",
       "    <tr>\n",
       "      <th>2450913</th>\n",
       "      <td>VACSTWIL</td>\n",
       "      <td>2016</td>\n",
       "      <td>0</td>\n",
       "      <td>0</td>\n",
       "      <td>0</td>\n",
       "      <td>100.000000</td>\n",
       "      <td>100.000000</td>\n",
       "      <td>56.306155</td>\n",
       "      <td>5.200000</td>\n",
       "      <td>0</td>\n",
       "      <td>1</td>\n",
       "      <td>0</td>\n",
       "      <td>0</td>\n",
       "      <td>0</td>\n",
       "      <td>0</td>\n",
       "      <td>0</td>\n",
       "      <td>0</td>\n",
       "    </tr>\n",
       "    <tr>\n",
       "      <th>2450914</th>\n",
       "      <td>VACSTMIN</td>\n",
       "      <td>2016</td>\n",
       "      <td>0</td>\n",
       "      <td>0</td>\n",
       "      <td>0</td>\n",
       "      <td>100.000000</td>\n",
       "      <td>100.000000</td>\n",
       "      <td>3.405669</td>\n",
       "      <td>1.920000</td>\n",
       "      <td>1</td>\n",
       "      <td>0</td>\n",
       "      <td>0</td>\n",
       "      <td>0</td>\n",
       "      <td>0</td>\n",
       "      <td>0</td>\n",
       "      <td>0</td>\n",
       "      <td>0</td>\n",
       "    </tr>\n",
       "    <tr>\n",
       "      <th>2450915</th>\n",
       "      <td>VACST22S</td>\n",
       "      <td>2016</td>\n",
       "      <td>0</td>\n",
       "      <td>0</td>\n",
       "      <td>0</td>\n",
       "      <td>100.000000</td>\n",
       "      <td>100.000000</td>\n",
       "      <td>2.000000</td>\n",
       "      <td>0.315050</td>\n",
       "      <td>0</td>\n",
       "      <td>0</td>\n",
       "      <td>0</td>\n",
       "      <td>0</td>\n",
       "      <td>1</td>\n",
       "      <td>0</td>\n",
       "      <td>1</td>\n",
       "      <td>0</td>\n",
       "    </tr>\n",
       "    <tr>\n",
       "      <th>2450916</th>\n",
       "      <td>9900502</td>\n",
       "      <td>2016</td>\n",
       "      <td>0</td>\n",
       "      <td>1</td>\n",
       "      <td>0</td>\n",
       "      <td>100.000000</td>\n",
       "      <td>100.000000</td>\n",
       "      <td>763.745552</td>\n",
       "      <td>1.666667</td>\n",
       "      <td>1</td>\n",
       "      <td>0</td>\n",
       "      <td>0</td>\n",
       "      <td>0</td>\n",
       "      <td>1</td>\n",
       "      <td>0</td>\n",
       "      <td>0</td>\n",
       "      <td>0</td>\n",
       "    </tr>\n",
       "    <tr>\n",
       "      <th>2450917</th>\n",
       "      <td>VACSTJES1</td>\n",
       "      <td>2016</td>\n",
       "      <td>0</td>\n",
       "      <td>0</td>\n",
       "      <td>0</td>\n",
       "      <td>100.000000</td>\n",
       "      <td>100.000000</td>\n",
       "      <td>16.901971</td>\n",
       "      <td>1.920000</td>\n",
       "      <td>1</td>\n",
       "      <td>0</td>\n",
       "      <td>0</td>\n",
       "      <td>0</td>\n",
       "      <td>0</td>\n",
       "      <td>0</td>\n",
       "      <td>0</td>\n",
       "      <td>0</td>\n",
       "    </tr>\n",
       "  </tbody>\n",
       "</table>\n",
       "<p>2450918 rows × 17 columns</p>\n",
       "</div>"
      ],
      "text/plain": [
       "        MapBlkLot_Master  year  Developed  Historic  Residential_Dummy  \\\n",
       "0                0001001  2001          0         0                  0   \n",
       "1                0005001  2001          0         1                  0   \n",
       "2                0011008  2001          0         0                  0   \n",
       "3                0004002  2001          0         0                  0   \n",
       "4               0012003A  2001          0         0                  0   \n",
       "...                  ...   ...        ...       ...                ...   \n",
       "2450913         VACSTWIL  2016          0         0                  0   \n",
       "2450914         VACSTMIN  2016          0         0                  0   \n",
       "2450915         VACST22S  2016          0         0                  0   \n",
       "2450916          9900502  2016          0         1                  0   \n",
       "2450917        VACSTJES1  2016          0         0                  0   \n",
       "\n",
       "         Zillow_Price_Real  Const_FedReserve_Real  Envelope_1000  \\\n",
       "0                66.843479              74.025851      42.497730   \n",
       "1                66.843479              74.025851      86.389615   \n",
       "2                66.843479              74.025851      72.496845   \n",
       "3                66.843479              74.025851      39.108627   \n",
       "4                66.843479              74.025851      53.853557   \n",
       "...                    ...                    ...            ...   \n",
       "2450913         100.000000             100.000000      56.306155   \n",
       "2450914         100.000000             100.000000       3.405669   \n",
       "2450915         100.000000             100.000000       2.000000   \n",
       "2450916         100.000000             100.000000     763.745552   \n",
       "2450917         100.000000             100.000000      16.901971   \n",
       "\n",
       "         Upzone_Ratio  zp_OfficeComm  zp_DensRestMulti  zp_FormBasedMulti  \\\n",
       "0            2.000000              0                 0                  0   \n",
       "1            1.666667              1                 0                  0   \n",
       "2            0.365177              1                 0                  0   \n",
       "3            1.666667              1                 0                  0   \n",
       "4            1.666667              1                 0                  0   \n",
       "...               ...            ...               ...                ...   \n",
       "2450913      5.200000              0                 1                  0   \n",
       "2450914      1.920000              1                 0                  0   \n",
       "2450915      0.315050              0                 0                  0   \n",
       "2450916      1.666667              1                 0                  0   \n",
       "2450917      1.920000              1                 0                  0   \n",
       "\n",
       "         zp_PDRInd  zp_Public  zp_Redev  zp_RH2  zp_RH3_RM1  \n",
       "0                0          1         0       0           0  \n",
       "1                0          0         0       0           0  \n",
       "2                0          0         0       0           0  \n",
       "3                0          0         0       0           0  \n",
       "4                0          0         0       0           0  \n",
       "...            ...        ...       ...     ...         ...  \n",
       "2450913          0          0         0       0           0  \n",
       "2450914          0          0         0       0           0  \n",
       "2450915          0          1         0       1           0  \n",
       "2450916          0          1         0       0           0  \n",
       "2450917          0          0         0       0           0  \n",
       "\n",
       "[2450918 rows x 17 columns]"
      ]
     },
     "execution_count": 88,
     "metadata": {},
     "output_type": "execute_result"
    }
   ],
   "source": [
    "parcels"
   ]
  },
  {
   "cell_type": "code",
   "execution_count": 89,
   "id": "1e6fa6a2",
   "metadata": {},
   "outputs": [
    {
     "data": {
      "text/html": [
       "<div>\n",
       "<style scoped>\n",
       "    .dataframe tbody tr th:only-of-type {\n",
       "        vertical-align: middle;\n",
       "    }\n",
       "\n",
       "    .dataframe tbody tr th {\n",
       "        vertical-align: top;\n",
       "    }\n",
       "\n",
       "    .dataframe thead th {\n",
       "        text-align: right;\n",
       "    }\n",
       "</style>\n",
       "<table border=\"1\" class=\"dataframe\">\n",
       "  <thead>\n",
       "    <tr style=\"text-align: right;\">\n",
       "      <th></th>\n",
       "      <th>PROPLOC</th>\n",
       "      <th>RP1NBRCDE</th>\n",
       "      <th>RP1PRCLID</th>\n",
       "      <th>RP1VOLUME</th>\n",
       "      <th>RP1CLACDE</th>\n",
       "      <th>YRBLT</th>\n",
       "      <th>BATHS</th>\n",
       "      <th>BEDS</th>\n",
       "      <th>ROOMS</th>\n",
       "      <th>STOREYNO</th>\n",
       "      <th>...</th>\n",
       "      <th>RP1STACDE</th>\n",
       "      <th>RP1EXMVL2</th>\n",
       "      <th>RP1EXMVL1</th>\n",
       "      <th>ROLLYEAR</th>\n",
       "      <th>RECURRSALD</th>\n",
       "      <th>RP1FXTVAL</th>\n",
       "      <th>RP1IMPVAL</th>\n",
       "      <th>RP1LNDVAL</th>\n",
       "      <th>RP1PPTVAL</th>\n",
       "      <th>MapBlkLot_Master</th>\n",
       "    </tr>\n",
       "  </thead>\n",
       "  <tbody>\n",
       "    <tr>\n",
       "      <th>0</th>\n",
       "      <td>0000 0000                       0000</td>\n",
       "      <td>08H</td>\n",
       "      <td>0001 001</td>\n",
       "      <td>1</td>\n",
       "      <td>G</td>\n",
       "      <td>1900</td>\n",
       "      <td>0</td>\n",
       "      <td>0</td>\n",
       "      <td>0</td>\n",
       "      <td>0</td>\n",
       "      <td>...</td>\n",
       "      <td>N</td>\n",
       "      <td>0</td>\n",
       "      <td>0</td>\n",
       "      <td>7</td>\n",
       "      <td>0</td>\n",
       "      <td>0</td>\n",
       "      <td>0</td>\n",
       "      <td>0</td>\n",
       "      <td>0</td>\n",
       "      <td>0001001</td>\n",
       "    </tr>\n",
       "    <tr>\n",
       "      <th>1</th>\n",
       "      <td>0000 0000                       0000</td>\n",
       "      <td>08H</td>\n",
       "      <td>0002 001</td>\n",
       "      <td>1</td>\n",
       "      <td>G</td>\n",
       "      <td>1900</td>\n",
       "      <td>0</td>\n",
       "      <td>0</td>\n",
       "      <td>0</td>\n",
       "      <td>0</td>\n",
       "      <td>...</td>\n",
       "      <td>N</td>\n",
       "      <td>0</td>\n",
       "      <td>0</td>\n",
       "      <td>7</td>\n",
       "      <td>0</td>\n",
       "      <td>0</td>\n",
       "      <td>0</td>\n",
       "      <td>0</td>\n",
       "      <td>0</td>\n",
       "      <td>0002001</td>\n",
       "    </tr>\n",
       "    <tr>\n",
       "      <th>2</th>\n",
       "      <td>0000 0000                       0000</td>\n",
       "      <td>08H</td>\n",
       "      <td>0004 002</td>\n",
       "      <td>1</td>\n",
       "      <td>V</td>\n",
       "      <td>0</td>\n",
       "      <td>0</td>\n",
       "      <td>0</td>\n",
       "      <td>0</td>\n",
       "      <td>0</td>\n",
       "      <td>...</td>\n",
       "      <td>N</td>\n",
       "      <td>0</td>\n",
       "      <td>0</td>\n",
       "      <td>7</td>\n",
       "      <td>0</td>\n",
       "      <td>0</td>\n",
       "      <td>0</td>\n",
       "      <td>0</td>\n",
       "      <td>0</td>\n",
       "      <td>0004002</td>\n",
       "    </tr>\n",
       "    <tr>\n",
       "      <th>3</th>\n",
       "      <td>0000 0000                       0000</td>\n",
       "      <td>08H</td>\n",
       "      <td>0005 001</td>\n",
       "      <td>1</td>\n",
       "      <td>G</td>\n",
       "      <td>1900</td>\n",
       "      <td>0</td>\n",
       "      <td>0</td>\n",
       "      <td>0</td>\n",
       "      <td>0</td>\n",
       "      <td>...</td>\n",
       "      <td>N</td>\n",
       "      <td>0</td>\n",
       "      <td>0</td>\n",
       "      <td>7</td>\n",
       "      <td>0</td>\n",
       "      <td>0</td>\n",
       "      <td>0</td>\n",
       "      <td>0</td>\n",
       "      <td>0</td>\n",
       "      <td>0005001</td>\n",
       "    </tr>\n",
       "    <tr>\n",
       "      <th>4</th>\n",
       "      <td>0000 0000                       0000</td>\n",
       "      <td>08H</td>\n",
       "      <td>0006 001</td>\n",
       "      <td>1</td>\n",
       "      <td>G</td>\n",
       "      <td>1900</td>\n",
       "      <td>0</td>\n",
       "      <td>0</td>\n",
       "      <td>0</td>\n",
       "      <td>0</td>\n",
       "      <td>...</td>\n",
       "      <td>N</td>\n",
       "      <td>0</td>\n",
       "      <td>0</td>\n",
       "      <td>7</td>\n",
       "      <td>0</td>\n",
       "      <td>0</td>\n",
       "      <td>0</td>\n",
       "      <td>0</td>\n",
       "      <td>0</td>\n",
       "      <td>0006001</td>\n",
       "    </tr>\n",
       "    <tr>\n",
       "      <th>...</th>\n",
       "      <td>...</td>\n",
       "      <td>...</td>\n",
       "      <td>...</td>\n",
       "      <td>...</td>\n",
       "      <td>...</td>\n",
       "      <td>...</td>\n",
       "      <td>...</td>\n",
       "      <td>...</td>\n",
       "      <td>...</td>\n",
       "      <td>...</td>\n",
       "      <td>...</td>\n",
       "      <td>...</td>\n",
       "      <td>...</td>\n",
       "      <td>...</td>\n",
       "      <td>...</td>\n",
       "      <td>...</td>\n",
       "      <td>...</td>\n",
       "      <td>...</td>\n",
       "      <td>...</td>\n",
       "      <td>...</td>\n",
       "      <td>...</td>\n",
       "    </tr>\n",
       "    <tr>\n",
       "      <th>197773</th>\n",
       "      <td>0000 0000                       0000</td>\n",
       "      <td>NaN</td>\n",
       "      <td>9999 163</td>\n",
       "      <td>45</td>\n",
       "      <td>NaN</td>\n",
       "      <td>0</td>\n",
       "      <td>0</td>\n",
       "      <td>0</td>\n",
       "      <td>0</td>\n",
       "      <td>0</td>\n",
       "      <td>...</td>\n",
       "      <td>NaN</td>\n",
       "      <td>0</td>\n",
       "      <td>0</td>\n",
       "      <td>7</td>\n",
       "      <td>80101</td>\n",
       "      <td>0</td>\n",
       "      <td>0</td>\n",
       "      <td>0</td>\n",
       "      <td>0</td>\n",
       "      <td>9999163</td>\n",
       "    </tr>\n",
       "    <tr>\n",
       "      <th>197774</th>\n",
       "      <td>0000 0000                       0000</td>\n",
       "      <td>NaN</td>\n",
       "      <td>9999 164</td>\n",
       "      <td>45</td>\n",
       "      <td>NaN</td>\n",
       "      <td>0</td>\n",
       "      <td>0</td>\n",
       "      <td>0</td>\n",
       "      <td>0</td>\n",
       "      <td>0</td>\n",
       "      <td>...</td>\n",
       "      <td>NaN</td>\n",
       "      <td>0</td>\n",
       "      <td>0</td>\n",
       "      <td>7</td>\n",
       "      <td>80101</td>\n",
       "      <td>0</td>\n",
       "      <td>0</td>\n",
       "      <td>0</td>\n",
       "      <td>0</td>\n",
       "      <td>9999164</td>\n",
       "    </tr>\n",
       "    <tr>\n",
       "      <th>197775</th>\n",
       "      <td>0000 0000                       0000</td>\n",
       "      <td>NaN</td>\n",
       "      <td>9999 165</td>\n",
       "      <td>45</td>\n",
       "      <td>NaN</td>\n",
       "      <td>0</td>\n",
       "      <td>0</td>\n",
       "      <td>0</td>\n",
       "      <td>0</td>\n",
       "      <td>0</td>\n",
       "      <td>...</td>\n",
       "      <td>NaN</td>\n",
       "      <td>0</td>\n",
       "      <td>0</td>\n",
       "      <td>7</td>\n",
       "      <td>80101</td>\n",
       "      <td>0</td>\n",
       "      <td>0</td>\n",
       "      <td>0</td>\n",
       "      <td>0</td>\n",
       "      <td>9999165</td>\n",
       "    </tr>\n",
       "    <tr>\n",
       "      <th>197776</th>\n",
       "      <td>0000 0000                       0000</td>\n",
       "      <td>NaN</td>\n",
       "      <td>9999 166</td>\n",
       "      <td>45</td>\n",
       "      <td>NaN</td>\n",
       "      <td>0</td>\n",
       "      <td>0</td>\n",
       "      <td>0</td>\n",
       "      <td>0</td>\n",
       "      <td>0</td>\n",
       "      <td>...</td>\n",
       "      <td>NaN</td>\n",
       "      <td>0</td>\n",
       "      <td>0</td>\n",
       "      <td>7</td>\n",
       "      <td>80101</td>\n",
       "      <td>0</td>\n",
       "      <td>0</td>\n",
       "      <td>0</td>\n",
       "      <td>0</td>\n",
       "      <td>9999166</td>\n",
       "    </tr>\n",
       "    <tr>\n",
       "      <th>197777</th>\n",
       "      <td>0000 0000                       0000</td>\n",
       "      <td>NaN</td>\n",
       "      <td>9999 167</td>\n",
       "      <td>45</td>\n",
       "      <td>NaN</td>\n",
       "      <td>0</td>\n",
       "      <td>0</td>\n",
       "      <td>0</td>\n",
       "      <td>0</td>\n",
       "      <td>0</td>\n",
       "      <td>...</td>\n",
       "      <td>NaN</td>\n",
       "      <td>0</td>\n",
       "      <td>0</td>\n",
       "      <td>7</td>\n",
       "      <td>80101</td>\n",
       "      <td>0</td>\n",
       "      <td>0</td>\n",
       "      <td>0</td>\n",
       "      <td>0</td>\n",
       "      <td>9999167</td>\n",
       "    </tr>\n",
       "  </tbody>\n",
       "</table>\n",
       "<p>197778 rows × 33 columns</p>\n",
       "</div>"
      ],
      "text/plain": [
       "                                     PROPLOC RP1NBRCDE RP1PRCLID  RP1VOLUME  \\\n",
       "0       0000 0000                       0000       08H  0001 001          1   \n",
       "1       0000 0000                       0000       08H  0002 001          1   \n",
       "2       0000 0000                       0000       08H  0004 002          1   \n",
       "3       0000 0000                       0000       08H  0005 001          1   \n",
       "4       0000 0000                       0000       08H  0006 001          1   \n",
       "...                                      ...       ...       ...        ...   \n",
       "197773  0000 0000                       0000       NaN  9999 163         45   \n",
       "197774  0000 0000                       0000       NaN  9999 164         45   \n",
       "197775  0000 0000                       0000       NaN  9999 165         45   \n",
       "197776  0000 0000                       0000       NaN  9999 166         45   \n",
       "197777  0000 0000                       0000       NaN  9999 167         45   \n",
       "\n",
       "       RP1CLACDE  YRBLT  BATHS  BEDS  ROOMS  STOREYNO  ...  RP1STACDE  \\\n",
       "0              G   1900      0     0      0         0  ...          N   \n",
       "1              G   1900      0     0      0         0  ...          N   \n",
       "2              V      0      0     0      0         0  ...          N   \n",
       "3              G   1900      0     0      0         0  ...          N   \n",
       "4              G   1900      0     0      0         0  ...          N   \n",
       "...          ...    ...    ...   ...    ...       ...  ...        ...   \n",
       "197773       NaN      0      0     0      0         0  ...        NaN   \n",
       "197774       NaN      0      0     0      0         0  ...        NaN   \n",
       "197775       NaN      0      0     0      0         0  ...        NaN   \n",
       "197776       NaN      0      0     0      0         0  ...        NaN   \n",
       "197777       NaN      0      0     0      0         0  ...        NaN   \n",
       "\n",
       "       RP1EXMVL2 RP1EXMVL1  ROLLYEAR  RECURRSALD  RP1FXTVAL  RP1IMPVAL  \\\n",
       "0              0         0         7           0          0          0   \n",
       "1              0         0         7           0          0          0   \n",
       "2              0         0         7           0          0          0   \n",
       "3              0         0         7           0          0          0   \n",
       "4              0         0         7           0          0          0   \n",
       "...          ...       ...       ...         ...        ...        ...   \n",
       "197773         0         0         7       80101          0          0   \n",
       "197774         0         0         7       80101          0          0   \n",
       "197775         0         0         7       80101          0          0   \n",
       "197776         0         0         7       80101          0          0   \n",
       "197777         0         0         7       80101          0          0   \n",
       "\n",
       "        RP1LNDVAL RP1PPTVAL  MapBlkLot_Master  \n",
       "0               0         0           0001001  \n",
       "1               0         0           0002001  \n",
       "2               0         0           0004002  \n",
       "3               0         0           0005001  \n",
       "4               0         0           0006001  \n",
       "...           ...       ...               ...  \n",
       "197773          0         0           9999163  \n",
       "197774          0         0           9999164  \n",
       "197775          0         0           9999165  \n",
       "197776          0         0           9999166  \n",
       "197777          0         0           9999167  \n",
       "\n",
       "[197778 rows x 33 columns]"
      ]
     },
     "execution_count": 89,
     "metadata": {},
     "output_type": "execute_result"
    }
   ],
   "source": [
    "tax"
   ]
  },
  {
   "cell_type": "code",
   "execution_count": 91,
   "id": "eb9fd43d",
   "metadata": {},
   "outputs": [],
   "source": [
    "dbi = clean_utils.get_dbi_data()"
   ]
  },
  {
   "cell_type": "code",
   "execution_count": 94,
   "id": "221e43fd",
   "metadata": {},
   "outputs": [
    {
     "data": {
      "text/plain": [
       "otc alterations permit                 891927\n",
       "additions alterations or repairs       266538\n",
       "sign - erect                            19410\n",
       "new construction wood frame             12928\n",
       "demolitions                              7129\n",
       "wall or painted sign                     3956\n",
       "new construction                         2420\n",
       "grade or quarry or fill or excavate       819\n",
       "Name: permit_type_definition, dtype: int64"
      ]
     },
     "execution_count": 94,
     "metadata": {},
     "output_type": "execute_result"
    }
   ],
   "source": [
    "dbi.permit_type_definition.value_counts()"
   ]
  },
  {
   "cell_type": "code",
   "execution_count": null,
   "id": "d6fd4f59",
   "metadata": {},
   "outputs": [],
   "source": []
  }
 ],
 "metadata": {
  "kernelspec": {
   "display_name": "Python 3",
   "language": "python",
   "name": "python3"
  },
  "language_info": {
   "codemirror_mode": {
    "name": "ipython",
    "version": 3
   },
   "file_extension": ".py",
   "mimetype": "text/x-python",
   "name": "python",
   "nbconvert_exporter": "python",
   "pygments_lexer": "ipython3",
   "version": "3.8.8"
  }
 },
 "nbformat": 4,
 "nbformat_minor": 5
}
