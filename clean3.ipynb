{
 "cells": [
  {
   "cell_type": "code",
   "execution_count": 217,
   "id": "360f1f1a",
   "metadata": {},
   "outputs": [],
   "source": [
    "import pandas as pd\n",
    "import geopandas as gpd\n",
    "import numpy as np\n",
    "\n",
    "import matplotlib.pyplot as plt\n",
    "import seaborn as sns\n",
    "import contextily as ctx\n",
    "from shapely.wkt import load\n",
    "\n",
    "import clean_utils\n",
    "from importlib import reload"
   ]
  },
  {
   "cell_type": "code",
   "execution_count": 224,
   "id": "f4e5e634",
   "metadata": {},
   "outputs": [
    {
     "data": {
      "text/plain": [
       "<module 'clean_utils' from 'C:\\\\Users\\\\sadamerdji\\\\Desktop\\\\dissertation\\\\clean_utils.py'>"
      ]
     },
     "execution_count": 224,
     "metadata": {},
     "output_type": "execute_result"
    }
   ],
   "source": [
    "reload(clean_utils)"
   ]
  },
  {
   "cell_type": "markdown",
   "id": "6c5615db",
   "metadata": {},
   "source": [
    "### Load Data"
   ]
  },
  {
   "cell_type": "code",
   "execution_count": 2,
   "id": "bec7cb4b",
   "metadata": {},
   "outputs": [],
   "source": [
    "plan_permits = gpd.read_file('./data/SF_Planning_Permitting_Data.geojson', low_memory=False)"
   ]
  },
  {
   "cell_type": "code",
   "execution_count": 3,
   "id": "a8bf98dc",
   "metadata": {},
   "outputs": [],
   "source": [
    "clean_utils.clean_dates(plan_permits)"
   ]
  },
  {
   "cell_type": "code",
   "execution_count": 4,
   "id": "7a8c7574",
   "metadata": {},
   "outputs": [],
   "source": [
    "parcels = pd.read_csv('./data/Blue Sky Code and Inputs/SF_Logistic_Data.csv')"
   ]
  },
  {
   "cell_type": "code",
   "execution_count": 5,
   "id": "d69dc805",
   "metadata": {},
   "outputs": [],
   "source": [
    "allParcels = gpd.read_file('./data/Parcels   Active and Retired/parcels.shp')"
   ]
  },
  {
   "cell_type": "code",
   "execution_count": 6,
   "id": "f2f6846a",
   "metadata": {},
   "outputs": [],
   "source": [
    "sites = gpd.read_file('./data/site_inventory/xn--Bay_Area_Housing_Opportunity_Sites_Inventory__20072023_-it38a.shp')"
   ]
  },
  {
   "cell_type": "code",
   "execution_count": 107,
   "id": "02a19747",
   "metadata": {},
   "outputs": [],
   "source": [
    "tax = pd.read_excel('./data/tax_assessor/2019.8.20__SF_ASR_Secured_Roll_Data_2007-2008.xlsx')"
   ]
  },
  {
   "cell_type": "code",
   "execution_count": 165,
   "id": "d7d6c864",
   "metadata": {},
   "outputs": [],
   "source": [
    "use_codes = pd.read_excel('./data/tax_assessor/2019.8.20__SF_ASR_Secured_Roll_Data_2007-2008.xlsx', \n",
    "                          sheet_name='Class & Use Code')\n",
    "neighborhood_codes = pd.read_excel('./data/tax_assessor/2019.8.20__SF_ASR_Secured_Roll_Data_2007-2008.xlsx', \n",
    "                                   sheet_name='Neigborhood Code')"
   ]
  },
  {
   "cell_type": "markdown",
   "id": "780ce680",
   "metadata": {},
   "source": [
    "### Geospatial version of bluesky data"
   ]
  },
  {
   "cell_type": "code",
   "execution_count": 208,
   "id": "b2ee87a1",
   "metadata": {},
   "outputs": [],
   "source": [
    "def get_basic_df(cycle):\n",
    "    if cycle == 4:\n",
    "        start_year = 2007\n",
    "    else:\n",
    "        start_year = 2015\n",
    "    trainParcels = parcels[(parcels.year >= start_year) & (parcels.year < (start_year + 8))]\n",
    "    trainY = trainParcels.groupby('MapBlkLot_Master')['Developed'].agg(lambda x: x.ne(0).sum())\n",
    "    trainX = trainParcels[trainParcels.year == start_year]\n",
    "    trainDf = pd.merge(trainX.drop('Developed', axis=1), trainY, left_on='MapBlkLot_Master', right_index=True)\n",
    "    df = clean_utils.transform_bluesky_to_geospatial(trainDf, cycle)\n",
    "    return df"
   ]
  },
  {
   "cell_type": "code",
   "execution_count": 235,
   "id": "f2895739",
   "metadata": {},
   "outputs": [],
   "source": [
    "df4 = get_basic_df(4)"
   ]
  },
  {
   "cell_type": "code",
   "execution_count": 236,
   "id": "c139572b",
   "metadata": {},
   "outputs": [],
   "source": [
    "df5 = get_basic_df(5)"
   ]
  },
  {
   "cell_type": "markdown",
   "id": "92db50e1",
   "metadata": {},
   "source": [
    "#### Get dbi permits from past cycle"
   ]
  },
  {
   "cell_type": "code",
   "execution_count": 231,
   "id": "d2f998a7",
   "metadata": {},
   "outputs": [],
   "source": [
    "pipeline3 = clean_utils.get_pipeline_permits(cycle=3, dbi=dbi)"
   ]
  },
  {
   "cell_type": "code",
   "execution_count": 233,
   "id": "c8bf9475",
   "metadata": {},
   "outputs": [],
   "source": [
    "pipeline4 = clean_utils.get_pipeline_permits(cycle=4, dbi=dbi)"
   ]
  },
  {
   "cell_type": "markdown",
   "id": "43bbfe87",
   "metadata": {},
   "source": [
    "### Merge into bluesky data"
   ]
  },
  {
   "cell_type": "code",
   "execution_count": 237,
   "id": "17d26adf",
   "metadata": {},
   "outputs": [],
   "source": [
    "def merge_pipeline(df, pipeline):\n",
    "    df = pd.merge(df, pipeline, left_on='blklot', right_index=True, how='left')\n",
    "    df[pipeline.columns] = df[pipeline.columns].fillna(0)\n",
    "    return df"
   ]
  },
  {
   "cell_type": "code",
   "execution_count": null,
   "id": "5d4c1910",
   "metadata": {},
   "outputs": [],
   "source": [
    "merge_pipeline(df4, pipeline3)"
   ]
  },
  {
   "cell_type": "code",
   "execution_count": null,
   "id": "2a1290fc",
   "metadata": {},
   "outputs": [],
   "source": [
    "merge_pipeline(df5, pipeline4)"
   ]
  },
  {
   "cell_type": "code",
   "execution_count": 93,
   "id": "b88e9de0",
   "metadata": {},
   "outputs": [],
   "source": [
    "df['area'] = df.to_crs(5070).geometry.area"
   ]
  },
  {
   "cell_type": "markdown",
   "id": "141db81a",
   "metadata": {},
   "source": [
    "### Merge Tax Data"
   ]
  },
  {
   "cell_type": "markdown",
   "id": "e0c0e6dc",
   "metadata": {},
   "source": [
    "98% of this dataset is easy to identify."
   ]
  },
  {
   "cell_type": "code",
   "execution_count": 109,
   "id": "80c8e9c5",
   "metadata": {},
   "outputs": [],
   "source": [
    "def clean_apn(apn):\n",
    "    apn = ''.join(apn.split(' '))\n",
    "    if len(apn) < 9:\n",
    "        return apn\n",
    "    block_length = 4\n",
    "    #if apn[block_length].isalpha():\n",
    "    #    return apn[:block_length] + apn[block_length+1:]\n",
    "    return apn\n",
    " \n",
    "    \n",
    "tax['MapBlkLot_Master'] = tax.RP1PRCLID.apply(clean_apn)\n",
    "\n",
    "df.MapBlkLot_Master.isin(tax.MapBlkLot_Master).mean().round(2)"
   ]
  },
  {
   "cell_type": "code",
   "execution_count": 110,
   "id": "42adb9d0",
   "metadata": {},
   "outputs": [],
   "source": [
    "cantID = df[~df.MapBlkLot_Master.isin(tax.MapBlkLot_Master)]"
   ]
  },
  {
   "cell_type": "code",
   "execution_count": 128,
   "id": "7d218c2e",
   "metadata": {},
   "outputs": [
    {
     "data": {
      "text/plain": [
       "(3514, 33)"
      ]
     },
     "execution_count": 128,
     "metadata": {},
     "output_type": "execute_result"
    }
   ],
   "source": [
    "cantID.shape"
   ]
  },
  {
   "cell_type": "code",
   "execution_count": 131,
   "id": "62318b35",
   "metadata": {},
   "outputs": [
    {
     "data": {
      "text/plain": [
       "150"
      ]
     },
     "execution_count": 131,
     "metadata": {},
     "output_type": "execute_result"
    }
   ],
   "source": [
    "cantID.Developed.sum()"
   ]
  },
  {
   "cell_type": "markdown",
   "id": "e78b54f2",
   "metadata": {},
   "source": [
    "The remaining 2% is harder."
   ]
  },
  {
   "cell_type": "code",
   "execution_count": 125,
   "id": "22b981c2",
   "metadata": {},
   "outputs": [],
   "source": [
    "# Make sure I filter out irrel parcels before doing this.\n",
    "allParcels2 = allParcels.dissolve(by='mapblklot')\n",
    "allParcels2 = allParcels2[['geometry']]\n",
    "taxGeo = allParcels2.merge(tax,\n",
    "                           how='inner',\n",
    "                           right_on='MapBlkLot_Master',\n",
    "                           left_on='mapblklot',\n",
    "                           validate='one_to_one')"
   ]
  },
  {
   "cell_type": "code",
   "execution_count": 141,
   "id": "31283427",
   "metadata": {},
   "outputs": [],
   "source": [
    "canID = gpd.sjoin(cantID, taxGeo, how=\"inner\", predicate='intersects')"
   ]
  },
  {
   "cell_type": "code",
   "execution_count": 142,
   "id": "170f4058",
   "metadata": {},
   "outputs": [],
   "source": [
    "canID = canID.drop_duplicates('MapBlkLot_Master_left')"
   ]
  },
  {
   "cell_type": "code",
   "execution_count": 148,
   "id": "5fe4a428",
   "metadata": {},
   "outputs": [],
   "source": [
    "canID['MapBlkLot_Master'] = canID['MapBlkLot_Master_left']"
   ]
  },
  {
   "cell_type": "code",
   "execution_count": 150,
   "id": "48a32fad",
   "metadata": {},
   "outputs": [],
   "source": [
    "canID = canID.drop(['MapBlkLot_Master_left', 'MapBlkLot_Master_right', 'index_right'], axis=1)"
   ]
  },
  {
   "cell_type": "markdown",
   "id": "64095513",
   "metadata": {},
   "source": [
    "### Merge with Tax"
   ]
  },
  {
   "cell_type": "code",
   "execution_count": 155,
   "id": "f29accf2",
   "metadata": {},
   "outputs": [],
   "source": [
    "full_df = df.merge(tax, how='inner', on='MapBlkLot_Master')"
   ]
  },
  {
   "cell_type": "code",
   "execution_count": 156,
   "id": "439c721d",
   "metadata": {},
   "outputs": [],
   "source": [
    "full_df = pd.concat((full_df, canID), axis=0)"
   ]
  },
  {
   "cell_type": "code",
   "execution_count": 160,
   "id": "732b010f",
   "metadata": {},
   "outputs": [
    {
     "data": {
      "text/plain": [
       "253"
      ]
     },
     "execution_count": 160,
     "metadata": {},
     "output_type": "execute_result"
    }
   ],
   "source": [
    "full_df.Developed.sum()"
   ]
  },
  {
   "cell_type": "code",
   "execution_count": 164,
   "id": "4e93ef77",
   "metadata": {},
   "outputs": [
    {
     "data": {
      "text/plain": [
       "253"
      ]
     },
     "execution_count": 164,
     "metadata": {},
     "output_type": "execute_result"
    }
   ],
   "source": [
    "trainDf.Developed.sum()"
   ]
  },
  {
   "cell_type": "markdown",
   "id": "4ca898d5",
   "metadata": {},
   "source": [
    "### Feature Engineering"
   ]
  },
  {
   "cell_type": "markdown",
   "id": "154c7bf5",
   "metadata": {},
   "source": [
    "#### Use Codes"
   ]
  },
  {
   "cell_type": "code",
   "execution_count": 166,
   "id": "bf05e522",
   "metadata": {},
   "outputs": [],
   "source": [
    "use_codes = use_codes[~use_codes.isna().all(axis=1)]"
   ]
  },
  {
   "cell_type": "code",
   "execution_count": 167,
   "id": "250fdafd",
   "metadata": {},
   "outputs": [
    {
     "data": {
      "text/html": [
       "<div>\n",
       "<style scoped>\n",
       "    .dataframe tbody tr th:only-of-type {\n",
       "        vertical-align: middle;\n",
       "    }\n",
       "\n",
       "    .dataframe tbody tr th {\n",
       "        vertical-align: top;\n",
       "    }\n",
       "\n",
       "    .dataframe thead th {\n",
       "        text-align: right;\n",
       "    }\n",
       "</style>\n",
       "<table border=\"1\" class=\"dataframe\">\n",
       "  <thead>\n",
       "    <tr style=\"text-align: right;\">\n",
       "      <th></th>\n",
       "      <th>USE</th>\n",
       "      <th>DESC</th>\n",
       "      <th>CLASS</th>\n",
       "      <th>DESC.1</th>\n",
       "    </tr>\n",
       "  </thead>\n",
       "  <tbody>\n",
       "    <tr>\n",
       "      <th>0</th>\n",
       "      <td>SRES</td>\n",
       "      <td>Single Family Residential</td>\n",
       "      <td>CO</td>\n",
       "      <td>Coop Units Unsegregated</td>\n",
       "    </tr>\n",
       "    <tr>\n",
       "      <th>1</th>\n",
       "      <td>SRES</td>\n",
       "      <td>Single Family Residential</td>\n",
       "      <td>COS</td>\n",
       "      <td>Coop Units Segregated</td>\n",
       "    </tr>\n",
       "    <tr>\n",
       "      <th>2</th>\n",
       "      <td>SRES</td>\n",
       "      <td>Single Family Residential</td>\n",
       "      <td>D</td>\n",
       "      <td>Dwelling</td>\n",
       "    </tr>\n",
       "    <tr>\n",
       "      <th>3</th>\n",
       "      <td>SRES</td>\n",
       "      <td>Single Family Residential</td>\n",
       "      <td>DBM</td>\n",
       "      <td>Dwelling BMR</td>\n",
       "    </tr>\n",
       "    <tr>\n",
       "      <th>4</th>\n",
       "      <td>SRES</td>\n",
       "      <td>Single Family Residential</td>\n",
       "      <td>LZ</td>\n",
       "      <td>Live/Work Condominium</td>\n",
       "    </tr>\n",
       "  </tbody>\n",
       "</table>\n",
       "</div>"
      ],
      "text/plain": [
       "    USE                       DESC CLASS                   DESC.1\n",
       "0  SRES  Single Family Residential    CO  Coop Units Unsegregated\n",
       "1  SRES  Single Family Residential   COS    Coop Units Segregated\n",
       "2  SRES  Single Family Residential     D                 Dwelling\n",
       "3  SRES  Single Family Residential   DBM             Dwelling BMR\n",
       "4  SRES  Single Family Residential    LZ    Live/Work Condominium"
      ]
     },
     "execution_count": 167,
     "metadata": {},
     "output_type": "execute_result"
    }
   ],
   "source": [
    "use_codes.head()"
   ]
  },
  {
   "cell_type": "code",
   "execution_count": 173,
   "id": "d9233421",
   "metadata": {},
   "outputs": [],
   "source": [
    "use_codes = use_codes[use_codes['CLASS'] != 'CLASS']\n",
    "use_lookup = use_codes.groupby('CLASS')['USE'].agg(list).to_dict()\n",
    "use_lookup = {k: v[-1] for k, v in use_lookup.items()}"
   ]
  },
  {
   "cell_type": "code",
   "execution_count": 175,
   "id": "8890f6cc",
   "metadata": {},
   "outputs": [],
   "source": [
    "full_df['general_use_code'] = full_df.RP1CLACDE.map(use_lookup)"
   ]
  },
  {
   "cell_type": "markdown",
   "id": "6e191043",
   "metadata": {},
   "source": [
    "#### New features"
   ]
  },
  {
   "cell_type": "code",
   "execution_count": 176,
   "id": "c42a07c9",
   "metadata": {},
   "outputs": [],
   "source": [
    "full_df['hasBMR'] = full_df.RP1CLACDE.str.endswith('BM')"
   ]
  },
  {
   "cell_type": "markdown",
   "id": "163a1f6d",
   "metadata": {},
   "source": [
    "#### Neighborhood Code"
   ]
  },
  {
   "cell_type": "code",
   "execution_count": 177,
   "id": "897b9fcb",
   "metadata": {},
   "outputs": [],
   "source": [
    "neighborhood_codes.NEIGHBORHOOD = neighborhood_codes.NEIGHBORHOOD.str.strip().str.lower().str.split(' ').str.join('_')"
   ]
  },
  {
   "cell_type": "code",
   "execution_count": 178,
   "id": "9bf2ff43",
   "metadata": {},
   "outputs": [
    {
     "data": {
      "text/html": [
       "<div>\n",
       "<style scoped>\n",
       "    .dataframe tbody tr th:only-of-type {\n",
       "        vertical-align: middle;\n",
       "    }\n",
       "\n",
       "    .dataframe tbody tr th {\n",
       "        vertical-align: top;\n",
       "    }\n",
       "\n",
       "    .dataframe thead th {\n",
       "        text-align: right;\n",
       "    }\n",
       "</style>\n",
       "<table border=\"1\" class=\"dataframe\">\n",
       "  <thead>\n",
       "    <tr style=\"text-align: right;\">\n",
       "      <th></th>\n",
       "      <th>DISTRICT</th>\n",
       "      <th>CODE</th>\n",
       "      <th>NEIGHBORHOOD</th>\n",
       "      <th>BOUNDRIES</th>\n",
       "    </tr>\n",
       "  </thead>\n",
       "  <tbody>\n",
       "    <tr>\n",
       "      <th>0</th>\n",
       "      <td>1</td>\n",
       "      <td>1A</td>\n",
       "      <td>central_richmond</td>\n",
       "      <td>South of California, Park Presidio, south of F...</td>\n",
       "    </tr>\n",
       "    <tr>\n",
       "      <th>1</th>\n",
       "      <td>1</td>\n",
       "      <td>1B</td>\n",
       "      <td>inner_richmond</td>\n",
       "      <td>South of California, Arguello, south of Fulton...</td>\n",
       "    </tr>\n",
       "    <tr>\n",
       "      <th>2</th>\n",
       "      <td>1</td>\n",
       "      <td>1C</td>\n",
       "      <td>jordan_park/laurel_heights</td>\n",
       "      <td>California, west of Presidio, Geary, Arguello</td>\n",
       "    </tr>\n",
       "    <tr>\n",
       "      <th>3</th>\n",
       "      <td>1</td>\n",
       "      <td>1D</td>\n",
       "      <td>lake_--the_presidio</td>\n",
       "      <td>West and south of Presidio Terrace, Arguello, ...</td>\n",
       "    </tr>\n",
       "    <tr>\n",
       "      <th>4</th>\n",
       "      <td>1</td>\n",
       "      <td>1E</td>\n",
       "      <td>outer_richmond</td>\n",
       "      <td>The Ocean, west of 32nd Avenue, south of Fulton</td>\n",
       "    </tr>\n",
       "  </tbody>\n",
       "</table>\n",
       "</div>"
      ],
      "text/plain": [
       "   DISTRICT CODE                NEIGHBORHOOD  \\\n",
       "0         1   1A            central_richmond   \n",
       "1         1   1B              inner_richmond   \n",
       "2         1   1C  jordan_park/laurel_heights   \n",
       "3         1   1D         lake_--the_presidio   \n",
       "4         1   1E              outer_richmond   \n",
       "\n",
       "                                           BOUNDRIES  \n",
       "0  South of California, Park Presidio, south of F...  \n",
       "1  South of California, Arguello, south of Fulton...  \n",
       "2      California, west of Presidio, Geary, Arguello  \n",
       "3  West and south of Presidio Terrace, Arguello, ...  \n",
       "4    The Ocean, west of 32nd Avenue, south of Fulton  "
      ]
     },
     "execution_count": 178,
     "metadata": {},
     "output_type": "execute_result"
    }
   ],
   "source": [
    "neighborhood_codes.head()"
   ]
  },
  {
   "cell_type": "code",
   "execution_count": 179,
   "id": "c6e66e92",
   "metadata": {},
   "outputs": [],
   "source": [
    "neighborhoods = {k: v[0] for k, v in neighborhood_codes.groupby('CODE')['NEIGHBORHOOD'].agg(list).to_dict().items()}\n",
    "neighborhoods = {(k if len(k) == 3 else '0'+k): v for k, v in neighborhoods.items()} "
   ]
  },
  {
   "cell_type": "code",
   "execution_count": 180,
   "id": "b86ddd40",
   "metadata": {},
   "outputs": [],
   "source": [
    "def lookup_neighborhood(x):\n",
    "    return neighborhoods.get(x, x)"
   ]
  },
  {
   "cell_type": "code",
   "execution_count": 181,
   "id": "22bc5a0d",
   "metadata": {},
   "outputs": [],
   "source": [
    "full_df['neighborhood'] = full_df.RP1NBRCDE.apply(lookup_neighborhood)"
   ]
  },
  {
   "cell_type": "code",
   "execution_count": 182,
   "id": "70c86306",
   "metadata": {},
   "outputs": [],
   "source": [
    "districts = {k: v[0] for k, v in neighborhood_codes.groupby('CODE')['DISTRICT'].agg(list).to_dict().items()}\n",
    "districts = {(k if len(k) == 3 else '0'+k): v for k, v in districts.items()} "
   ]
  },
  {
   "cell_type": "code",
   "execution_count": 183,
   "id": "d7e7e846",
   "metadata": {},
   "outputs": [],
   "source": [
    "def lookup_district(x):\n",
    "    return 'district' + str(districts.get(x, x))"
   ]
  },
  {
   "cell_type": "code",
   "execution_count": 184,
   "id": "f931807f",
   "metadata": {},
   "outputs": [],
   "source": [
    "full_df['district'] = full_df['RP1NBRCDE'].apply(lookup_district)"
   ]
  },
  {
   "cell_type": "code",
   "execution_count": 185,
   "id": "2606d103",
   "metadata": {},
   "outputs": [],
   "source": [
    "full_df = full_df.drop('RP1NBRCDE', axis=1)"
   ]
  },
  {
   "cell_type": "markdown",
   "id": "5bdc141e",
   "metadata": {},
   "source": [
    "### Drop constant columns"
   ]
  },
  {
   "cell_type": "code",
   "execution_count": 186,
   "id": "a97adb78",
   "metadata": {},
   "outputs": [
    {
     "data": {
      "text/plain": [
       "153204"
      ]
     },
     "execution_count": 186,
     "metadata": {},
     "output_type": "execute_result"
    }
   ],
   "source": [
    "full_df.shape[0] "
   ]
  },
  {
   "cell_type": "code",
   "execution_count": 187,
   "id": "cfbacb3b",
   "metadata": {},
   "outputs": [],
   "source": [
    "full_df = full_df.drop(trainX.columns[trainX.nunique() <= 1], axis=1)"
   ]
  },
  {
   "cell_type": "code",
   "execution_count": 199,
   "id": "cf2d6bc1",
   "metadata": {},
   "outputs": [],
   "source": [
    "backups = [c for c in full_df.columns if 'CANTID' in c]"
   ]
  },
  {
   "cell_type": "code",
   "execution_count": 207,
   "id": "1774db00",
   "metadata": {},
   "outputs": [],
   "source": [
    "full_df.drop(backups, axis=1).to_csv('cleaned_rhna4_data.csv')"
   ]
  },
  {
   "cell_type": "code",
   "execution_count": null,
   "id": "32d346ce",
   "metadata": {},
   "outputs": [],
   "source": []
  }
 ],
 "metadata": {
  "kernelspec": {
   "display_name": "Python 3",
   "language": "python",
   "name": "python3"
  },
  "language_info": {
   "codemirror_mode": {
    "name": "ipython",
    "version": 3
   },
   "file_extension": ".py",
   "mimetype": "text/x-python",
   "name": "python",
   "nbconvert_exporter": "python",
   "pygments_lexer": "ipython3",
   "version": "3.8.8"
  }
 },
 "nbformat": 4,
 "nbformat_minor": 5
}
