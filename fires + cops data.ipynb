{
 "cells": [
  {
   "cell_type": "code",
   "execution_count": 171,
   "id": "14b969d5",
   "metadata": {},
   "outputs": [],
   "source": [
    "import geopandas as gpd\n",
    "import matplotlib.pyplot as plt\n",
    "import numpy as np"
   ]
  },
  {
   "cell_type": "code",
   "execution_count": 2,
   "id": "e46e2916",
   "metadata": {},
   "outputs": [],
   "source": [
    "fires = gpd.read_file('./data/fires.geojson')"
   ]
  },
  {
   "cell_type": "code",
   "execution_count": 3,
   "id": "a7d782d7",
   "metadata": {},
   "outputs": [],
   "source": [
    "fires.to_feather('./data/fires.geofeather')"
   ]
  },
  {
   "cell_type": "code",
   "execution_count": 15,
   "id": "32935728",
   "metadata": {},
   "outputs": [],
   "source": [
    "fire_incidents = gpd.read_file('./data/Fire Incidents.geojson')"
   ]
  },
  {
   "cell_type": "code",
   "execution_count": 16,
   "id": "8d5709fd",
   "metadata": {},
   "outputs": [],
   "source": [
    "fire_incidents.to_feather('./data/fire_incidents.geofeather')"
   ]
  },
  {
   "cell_type": "markdown",
   "id": "b6b99dd0",
   "metadata": {},
   "source": [
    "# Get accidental fires"
   ]
  },
  {
   "cell_type": "code",
   "execution_count": 153,
   "id": "0edee344",
   "metadata": {},
   "outputs": [],
   "source": [
    "building_fires = fire_incidents[fire_incidents.primary_situation.str.contains('Building fire').astype(bool)]"
   ]
  },
  {
   "cell_type": "code",
   "execution_count": 159,
   "id": "012ed75b",
   "metadata": {},
   "outputs": [
    {
     "data": {
      "text/plain": [
       "(7865, 64)"
      ]
     },
     "execution_count": 159,
     "metadata": {},
     "output_type": "execute_result"
    }
   ],
   "source": [
    "building_fires.shape"
   ]
  },
  {
   "cell_type": "code",
   "execution_count": 160,
   "id": "f333d0a2",
   "metadata": {},
   "outputs": [],
   "source": [
    "accidents = building_fires.loc[building_fires.ignition_cause.str.contains('Intentional') | \n",
    "                               building_fires.ignition_cause.isna(),:]"
   ]
  },
  {
   "cell_type": "code",
   "execution_count": 126,
   "id": "c8f78953",
   "metadata": {},
   "outputs": [],
   "source": [
    "#Property loss = Estimated monetary loss of property due to damage from incident (structure)\n"
   ]
  },
  {
   "cell_type": "code",
   "execution_count": 192,
   "id": "16b31b76",
   "metadata": {},
   "outputs": [],
   "source": [
    "accidents = accidents[['geometry', 'number_of_floors_with_significant_damage', \n",
    "                       'number_of_floors_with_heavy_damage', 'number_of_floors_with_extreme_damage',\n",
    "                       'address', 'property_use', 'estimated_contents_loss',\n",
    "                       'estimated_property_loss', 'alarm_dttm', 'incident_date',\n",
    "                       'number_of_floors_with_minimum_damage', 'number_of_alarms',\n",
    "                       'civilian_injuries']]"
   ]
  },
  {
   "cell_type": "code",
   "execution_count": 179,
   "id": "bff46775",
   "metadata": {},
   "outputs": [],
   "source": [
    "numeric_cols = ['number_of_floors_with_minimum_damage', 'number_of_alarms',\n",
    "                'civilian_injuries', 'estimated_contents_loss',\n",
    "                'estimated_property_loss', 'number_of_floors_with_significant_damage', \n",
    "                'number_of_floors_with_heavy_damage', 'number_of_floors_with_extreme_damage',]"
   ]
  },
  {
   "cell_type": "code",
   "execution_count": 181,
   "id": "4c079c63",
   "metadata": {},
   "outputs": [],
   "source": [
    "accidents[numeric_cols] = accidents[numeric_cols].astype(float)"
   ]
  },
  {
   "cell_type": "code",
   "execution_count": 188,
   "id": "fe7bb0b4",
   "metadata": {},
   "outputs": [],
   "source": [
    "accidents = accidents[(accidents.estimated_property_loss > 0)].copy()"
   ]
  },
  {
   "cell_type": "code",
   "execution_count": 189,
   "id": "2f24d8c9",
   "metadata": {},
   "outputs": [],
   "source": [
    "accidents['year'] = accidents.incident_date.dt.year"
   ]
  },
  {
   "cell_type": "code",
   "execution_count": 190,
   "id": "29b02337",
   "metadata": {},
   "outputs": [],
   "source": [
    "accidents.to_feather('./data/clean_accidental_fires.geofeather')"
   ]
  },
  {
   "cell_type": "code",
   "execution_count": 191,
   "id": "c4c001f2",
   "metadata": {},
   "outputs": [
    {
     "data": {
      "text/plain": [
       "(array([ 13.,   6., 115., 277., 211., 118., 106.,  54.,  20.,   5.]),\n",
       " array([0.30103   , 0.98298439, 1.66493879, 2.34689319, 3.02884758,\n",
       "        3.71080198, 4.39275638, 5.07471077, 5.75666517, 6.43861957,\n",
       "        7.12057396]),\n",
       " <BarContainer object of 10 artists>)"
      ]
     },
     "execution_count": 191,
     "metadata": {},
     "output_type": "execute_result"
    },
    {
     "data": {
      "image/png": "[encoded data removed]",
      "text/plain": [
       "<Figure size 432x288 with 1 Axes>"
      ]
     },
     "metadata": {
      "needs_background": "light"
     },
     "output_type": "display_data"
    }
   ],
   "source": [
    "plt.hist(np.log10(1 + accidents.estimated_property_loss.astype(float)))"
   ]
  },
  {
   "cell_type": "markdown",
   "id": "6bbfd37d",
   "metadata": {},
   "source": [
    "### Clean police data"
   ]
  },
  {
   "cell_type": "code",
   "execution_count": 4,
   "id": "abc636d9",
   "metadata": {},
   "outputs": [],
   "source": [
    "police = gpd.read_file('./data/police.geojson')"
   ]
  },
  {
   "cell_type": "code",
   "execution_count": 5,
   "id": "ebba0e49",
   "metadata": {},
   "outputs": [],
   "source": [
    "police.to_feather('./data/police.geofeather')"
   ]
  },
  {
   "cell_type": "code",
   "execution_count": null,
   "id": "7f98d10d",
   "metadata": {},
   "outputs": [],
   "source": [
    "police['SUICIDE']"
   ]
  },
  {
   "cell_type": "code",
   "execution_count": 200,
   "id": "c05b3422",
   "metadata": {},
   "outputs": [],
   "source": [
    "suicide_attempts = police[police.descript.str.contains('ATTEMPTED SUICIDE')].copy()"
   ]
  },
  {
   "cell_type": "code",
   "execution_count": 204,
   "id": "82504770",
   "metadata": {},
   "outputs": [],
   "source": [
    "murder_attempts = police[police.descript.str.contains('ATTEMPTED HOMICIDE')].copy()"
   ]
  },
  {
   "cell_type": "code",
   "execution_count": 217,
   "id": "d32ee275",
   "metadata": {},
   "outputs": [],
   "source": [
    "death_reports = police[police.descript.str.contains('DEATH REPORT')].copy()"
   ]
  },
  {
   "cell_type": "code",
   "execution_count": 221,
   "id": "2292bd19",
   "metadata": {},
   "outputs": [],
   "source": [
    "suicides = police[police.descript.str.contains('SUICIDE') \n",
    "                  & ~police.descript.str.contains('ATTEMPTED SUICIDE')].copy()"
   ]
  },
  {
   "cell_type": "code",
   "execution_count": 229,
   "id": "94074886",
   "metadata": {},
   "outputs": [
    {
     "data": {
      "text/plain": [
       "Index(['descript', 'x', 'y', 'pdid', 'date', 'resolution', 'dayofweek',\n",
       "       'incidntnum', 'address', 'category', 'time', 'pddistrict',\n",
       "       'incident_code', 'geometry'],\n",
       "      dtype='object')"
      ]
     },
     "execution_count": 229,
     "metadata": {},
     "output_type": "execute_result"
    }
   ],
   "source": [
    "suicides.columns"
   ]
  },
  {
   "cell_type": "code",
   "execution_count": 232,
   "id": "3e32296f",
   "metadata": {},
   "outputs": [],
   "source": [
    "death_reports = death_reports.drop(columns=['x', 'y', 'pdid', 'resolution', 'dayofweek', \n",
    "                                            'incidntnum', 'category', 'time', 'pddistrict', 'incident_code'])"
   ]
  },
  {
   "cell_type": "code",
   "execution_count": 233,
   "id": "6efb0321",
   "metadata": {},
   "outputs": [],
   "source": [
    "suicides = suicides.drop(columns=['x', 'y', 'pdid', 'resolution', 'dayofweek', \n",
    "                                  'incidntnum', 'category', 'time', 'pddistrict', 'incident_code'])"
   ]
  },
  {
   "cell_type": "code",
   "execution_count": 238,
   "id": "1b3beecd",
   "metadata": {},
   "outputs": [],
   "source": [
    "suicides['year'] = suicides['date'].dt.year"
   ]
  },
  {
   "cell_type": "code",
   "execution_count": 239,
   "id": "ba7bcf52",
   "metadata": {},
   "outputs": [],
   "source": [
    "death_reports['year'] = death_reports['date'].dt.year"
   ]
  },
  {
   "cell_type": "code",
   "execution_count": 240,
   "id": "a9287226",
   "metadata": {},
   "outputs": [],
   "source": [
    "death_reports.to_feather('./data/death_reports.geofeather')"
   ]
  },
  {
   "cell_type": "code",
   "execution_count": 241,
   "id": "b94ace3f",
   "metadata": {},
   "outputs": [],
   "source": [
    "suicides.to_feather('./data/suicides.geofeather')"
   ]
  },
  {
   "cell_type": "code",
   "execution_count": 242,
   "id": "33849d40",
   "metadata": {},
   "outputs": [
    {
     "data": {
      "text/plain": [
       "Index(['descript', 'date', 'address', 'geometry', 'year'], dtype='object')"
      ]
     },
     "execution_count": 242,
     "metadata": {},
     "output_type": "execute_result"
    }
   ],
   "source": [
    "suicides.columns"
   ]
  }
 ],
 "metadata": {
  "kernelspec": {
   "display_name": "Python 3",
   "language": "python",
   "name": "python3"
  },
  "language_info": {
   "codemirror_mode": {
    "name": "ipython",
    "version": 3
   },
   "file_extension": ".py",
   "mimetype": "text/x-python",
   "name": "python",
   "nbconvert_exporter": "python",
   "pygments_lexer": "ipython3",
   "version": "3.8.8"
  }
 },
 "nbformat": 4,
 "nbformat_minor": 5
}
