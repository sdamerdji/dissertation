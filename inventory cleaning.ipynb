{
 "cells": [
  {
   "cell_type": "code",
   "execution_count": 1,
   "id": "d8080d8e",
   "metadata": {},
   "outputs": [],
   "source": [
    "import pandas as pd\n",
    "import geopandas as gpd\n",
    "import numpy as np\n",
    "\n",
    "import matplotlib.pyplot as plt\n",
    "import seaborn as sns\n",
    "import contextily as ctx\n",
    "from shapely.wkt import loads\n"
   ]
  },
  {
   "cell_type": "code",
   "execution_count": 2,
   "id": "a1e0b2be",
   "metadata": {},
   "outputs": [],
   "source": [
    "dbi = gpd.read_file('./data/Building Permits.geojson')"
   ]
  },
  {
   "cell_type": "code",
   "execution_count": 3,
   "id": "7a8c7574",
   "metadata": {},
   "outputs": [],
   "source": [
    "parcels = pd.read_csv('./data/Blue Sky Code and Inputs/SF_Logistic_Data.csv')"
   ]
  },
  {
   "cell_type": "code",
   "execution_count": 4,
   "id": "d69dc805",
   "metadata": {},
   "outputs": [],
   "source": [
    "allParcels = gpd.read_file('./data/Parcels   Active and Retired/parcels.shp')"
   ]
  },
  {
   "cell_type": "code",
   "execution_count": 5,
   "id": "f2f6846a",
   "metadata": {},
   "outputs": [],
   "source": [
    "sites = gpd.read_file('./data/site_inventory/xn--Bay_Area_Housing_Opportunity_Sites_Inventory__20072023_-it38a.shp')"
   ]
  },
  {
   "cell_type": "code",
   "execution_count": 6,
   "id": "4b76f984",
   "metadata": {},
   "outputs": [],
   "source": [
    "tax = pd.read_excel('./data/tax_assessor/2019.8.20__SF_ASR_Secured_Roll_Data_2007-2008.xlsx')"
   ]
  },
  {
   "cell_type": "code",
   "execution_count": 7,
   "id": "6d348232",
   "metadata": {},
   "outputs": [],
   "source": [
    "tax8 = pd.read_excel('./data/tax_assessor/2019.8.20__SF_ASR_Secured_Roll_Data_2008-2009.xlsx')"
   ]
  },
  {
   "cell_type": "code",
   "execution_count": 8,
   "id": "025ce700",
   "metadata": {},
   "outputs": [],
   "source": [
    "use_codes = pd.read_excel('./data/tax_assessor/2019.8.20__SF_ASR_Secured_Roll_Data_2007-2008.xlsx', \n",
    "                          sheet_name='Class & Use Code')"
   ]
  },
  {
   "cell_type": "code",
   "execution_count": 9,
   "id": "f4b167c8",
   "metadata": {},
   "outputs": [],
   "source": [
    "neighborhood_codes = pd.read_excel('./data/tax_assessor/2019.8.20__SF_ASR_Secured_Roll_Data_2007-2008.xlsx', \n",
    "                                   sheet_name='Neigborhood Code')"
   ]
  },
  {
   "cell_type": "markdown",
   "id": "d9c09954",
   "metadata": {},
   "source": [
    "### Training Set is RHNA 4"
   ]
  },
  {
   "cell_type": "code",
   "execution_count": 10,
   "id": "8d7e1f78",
   "metadata": {},
   "outputs": [],
   "source": [
    "trainParcels = parcels[np.logical_and(parcels.year >= 2007, parcels.year <= 2015)]"
   ]
  },
  {
   "cell_type": "code",
   "execution_count": 11,
   "id": "302e6edd",
   "metadata": {},
   "outputs": [],
   "source": [
    "trainY = trainParcels.groupby('MapBlkLot_Master')['Developed'].agg(lambda x: x.ne(0).sum())"
   ]
  },
  {
   "cell_type": "code",
   "execution_count": 12,
   "id": "73cb8516",
   "metadata": {},
   "outputs": [
    {
     "data": {
      "text/plain": [
       "308"
      ]
     },
     "execution_count": 12,
     "metadata": {},
     "output_type": "execute_result"
    }
   ],
   "source": [
    "trainY.sum()"
   ]
  },
  {
   "cell_type": "code",
   "execution_count": 13,
   "id": "f80bcb39",
   "metadata": {},
   "outputs": [
    {
     "data": {
      "text/plain": [
       "0.2"
      ]
     },
     "execution_count": 13,
     "metadata": {},
     "output_type": "execute_result"
    }
   ],
   "source": [
    "round(trainY.mean(), 3) * 100"
   ]
  },
  {
   "cell_type": "code",
   "execution_count": 14,
   "id": "9ed683c5",
   "metadata": {},
   "outputs": [],
   "source": [
    "trainX = trainParcels[trainParcels.year == 2007]"
   ]
  },
  {
   "cell_type": "markdown",
   "id": "917cc4fb",
   "metadata": {},
   "source": [
    "No duplicative index."
   ]
  },
  {
   "cell_type": "code",
   "execution_count": 15,
   "id": "fc96fbc0",
   "metadata": {},
   "outputs": [],
   "source": [
    "nunique_lots = trainParcels[trainParcels.year == 2007].MapBlkLot_Master.nunique()\n",
    "n_lots = trainParcels[trainParcels.year == 2007].shape[0]\n",
    "assert nunique_lots == n_lots"
   ]
  },
  {
   "cell_type": "code",
   "execution_count": 16,
   "id": "2c2190fe",
   "metadata": {},
   "outputs": [
    {
     "data": {
      "text/plain": [
       "1.0"
      ]
     },
     "execution_count": 16,
     "metadata": {},
     "output_type": "execute_result"
    }
   ],
   "source": [
    "trainX.MapBlkLot_Master.isin(trainY.index).mean()"
   ]
  },
  {
   "cell_type": "code",
   "execution_count": 17,
   "id": "c61133ac",
   "metadata": {},
   "outputs": [],
   "source": [
    "trainDf = pd.merge(trainX.drop('Developed', axis=1), trainY, left_on='MapBlkLot_Master', right_index=True)"
   ]
  },
  {
   "cell_type": "code",
   "execution_count": 18,
   "id": "c533170f",
   "metadata": {},
   "outputs": [
    {
     "data": {
      "text/plain": [
       "0    152910\n",
       "1       306\n",
       "2         1\n",
       "Name: Developed, dtype: int64"
      ]
     },
     "execution_count": 18,
     "metadata": {},
     "output_type": "execute_result"
    }
   ],
   "source": [
    "trainDf.Developed.value_counts()"
   ]
  },
  {
   "cell_type": "code",
   "execution_count": 19,
   "id": "ed09bde2",
   "metadata": {},
   "outputs": [],
   "source": [
    "def clean_apn(apn):\n",
    "    apn = ''.join(apn.split(' '))\n",
    "    if len(apn) < 9:\n",
    "        return apn\n",
    "    block_length = 4\n",
    "    #if apn[block_length].isalpha():\n",
    "    #    return apn[:block_length] + apn[block_length+1:]\n",
    "    return apn\n",
    " \n",
    "    \n",
    "tax['MapBlkLot_Master'] = tax.RP1PRCLID.apply(clean_apn)"
   ]
  },
  {
   "cell_type": "markdown",
   "id": "86a5d5c1",
   "metadata": {},
   "source": [
    "### Developed parcels"
   ]
  },
  {
   "cell_type": "code",
   "execution_count": 20,
   "id": "174e74fb",
   "metadata": {},
   "outputs": [],
   "source": [
    "built = trainDf.loc[trainDf.Developed > 0,]"
   ]
  },
  {
   "cell_type": "code",
   "execution_count": 21,
   "id": "9c14ba8a",
   "metadata": {},
   "outputs": [
    {
     "data": {
      "text/plain": [
       "0.45"
      ]
     },
     "execution_count": 21,
     "metadata": {},
     "output_type": "execute_result"
    }
   ],
   "source": [
    "built.MapBlkLot_Master.isin(tax.MapBlkLot_Master).mean().round(2)"
   ]
  },
  {
   "cell_type": "code",
   "execution_count": 22,
   "id": "f819705d",
   "metadata": {},
   "outputs": [
    {
     "data": {
      "text/plain": [
       "7    286\n",
       "8     21\n",
       "Name: MapBlkLot_Master, dtype: int64"
      ]
     },
     "execution_count": 22,
     "metadata": {},
     "output_type": "execute_result"
    }
   ],
   "source": [
    "built.MapBlkLot_Master.str.len().value_counts()"
   ]
  },
  {
   "cell_type": "code",
   "execution_count": 23,
   "id": "1692cb11",
   "metadata": {},
   "outputs": [
    {
     "data": {
      "text/plain": [
       "920413      0041103\n",
       "922617     0129013A\n",
       "923873      0184042\n",
       "924274      0196030\n",
       "925507      0279057\n",
       "             ...   \n",
       "1073065     8711025\n",
       "1073066     8711019\n",
       "1073070     8711033\n",
       "1073150     8720117\n",
       "1073152     8720018\n",
       "Name: MapBlkLot_Master, Length: 307, dtype: object"
      ]
     },
     "execution_count": 23,
     "metadata": {},
     "output_type": "execute_result"
    }
   ],
   "source": [
    "built.MapBlkLot_Master"
   ]
  },
  {
   "cell_type": "code",
   "execution_count": 24,
   "id": "5ff27638",
   "metadata": {},
   "outputs": [
    {
     "data": {
      "text/plain": [
       "Index(['record_id', 'proposed_construction_type_description', 'issued_date',\n",
       "       'existing_construction_type_description', 'zipcode',\n",
       "       'neighborhoods_analysis_boundaries', 'fire_only_permit', 'proposed_use',\n",
       "       'existing_use', 'description', 'tidf_compliance', 'revised_cost',\n",
       "       'existing_construction_type', 'site_permit', 'plansets',\n",
       "       'permit_creation_date', 'status_date',\n",
       "       'first_construction_document_date', 'existing_units', 'filed_date',\n",
       "       'street_name', 'block', 'estimated_cost', 'permit_expiration_date',\n",
       "       'unit_suffix', 'proposed_construction_type', 'permit_type_definition',\n",
       "       'status', 'completed_date', 'permit_number', 'street_number_suffix',\n",
       "       'lot', 'number_of_existing_stories', 'street_suffix', 'proposed_units',\n",
       "       'unit', 'permit_type', 'number_of_proposed_stories',\n",
       "       'voluntary_soft_story_retrofit', 'supervisor_district', 'street_number',\n",
       "       'structural_notification', 'geometry'],\n",
       "      dtype='object')"
      ]
     },
     "execution_count": 24,
     "metadata": {},
     "output_type": "execute_result"
    }
   ],
   "source": [
    "dbi.columns"
   ]
  },
  {
   "cell_type": "code",
   "execution_count": 26,
   "id": "510036c6",
   "metadata": {},
   "outputs": [],
   "source": [
    "dbi['units'] = dbi.proposed_units.fillna(0).astype(float) - dbi.existing_units.fillna(0).astype(float)"
   ]
  },
  {
   "cell_type": "code",
   "execution_count": 27,
   "id": "8419cb5d",
   "metadata": {},
   "outputs": [
    {
     "data": {
      "text/plain": [
       "complete       670325\n",
       "issued         240489\n",
       "expired        227734\n",
       "cancelled       28515\n",
       "filed           23701\n",
       "withdrawn        9268\n",
       "reinstated       1419\n",
       "filing           1194\n",
       "approved         1054\n",
       "disapproved       580\n",
       "suspend           454\n",
       "revoked           251\n",
       "plancheck          55\n",
       "appeal             29\n",
       "issuing            24\n",
       "denied             10\n",
       "inspection          5\n",
       "upheld              2\n",
       "incomplete          2\n",
       "unknown             2\n",
       "granted             1\n",
       "overruled           1\n",
       "Name: status, dtype: int64"
      ]
     },
     "execution_count": 27,
     "metadata": {},
     "output_type": "execute_result"
    }
   ],
   "source": [
    "dbi.status.value_counts()"
   ]
  },
  {
   "cell_type": "code",
   "execution_count": 28,
   "id": "2f91aa9f",
   "metadata": {},
   "outputs": [
    {
     "data": {
      "text/plain": [
       "Index(['record_id', 'proposed_construction_type_description', 'issued_date',\n",
       "       'existing_construction_type_description', 'zipcode',\n",
       "       'neighborhoods_analysis_boundaries', 'fire_only_permit', 'proposed_use',\n",
       "       'existing_use', 'description', 'tidf_compliance', 'revised_cost',\n",
       "       'existing_construction_type', 'site_permit', 'plansets',\n",
       "       'permit_creation_date', 'status_date',\n",
       "       'first_construction_document_date', 'existing_units', 'filed_date',\n",
       "       'street_name', 'block', 'estimated_cost', 'permit_expiration_date',\n",
       "       'unit_suffix', 'proposed_construction_type', 'permit_type_definition',\n",
       "       'status', 'completed_date', 'permit_number', 'street_number_suffix',\n",
       "       'lot', 'number_of_existing_stories', 'street_suffix', 'proposed_units',\n",
       "       'unit', 'permit_type', 'number_of_proposed_stories',\n",
       "       'voluntary_soft_story_retrofit', 'supervisor_district', 'street_number',\n",
       "       'structural_notification', 'geometry', 'units'],\n",
       "      dtype='object')"
      ]
     },
     "execution_count": 28,
     "metadata": {},
     "output_type": "execute_result"
    }
   ],
   "source": [
    "dbi.columns"
   ]
  },
  {
   "cell_type": "code",
   "execution_count": 29,
   "id": "f8b6c809",
   "metadata": {},
   "outputs": [],
   "source": [
    "date_cols = [c for c in dbi.columns if 'Date' in c]\n",
    "dbi[date_cols] = dbi[date_cols].apply(pd.to_datetime)\n",
    "dbi['apn'] = dbi['block'].astype(str) + dbi['lot'].astype(str)"
   ]
  },
  {
   "cell_type": "code",
   "execution_count": 30,
   "id": "28611f91",
   "metadata": {},
   "outputs": [],
   "source": [
    "dbi['na_existing_units'] = dbi['existing_units'].isna()\n",
    "relevant_uses = [\n",
    "    'apartments', '1 family dwelling', '2 family dwelling',\n",
    "    'residential hotel', 'misc group residns.', 'artist live/work',\n",
    "    'convalescent home', 'accessory cottage', 'nursing home non amb',\n",
    "    'orphanage', 'r-3(dwg) nursing', 'nursing home gt 6'\n",
    "]\n",
    "rhna_permits = dbi[\n",
    "    dbi['units'] > 0\n",
    "    & dbi['proposed_use'].isin(relevant_uses)\n",
    "    & dbi['permit_type'].isin([1, 2, 3, 8])\n",
    "].copy()\n",
    "\n",
    "rhna_permits.query('not (`permit_type` == 8 and na_existing_units)', inplace=True)\n",
    "rhna_permits.query('not (`permit_type` == 3 and na_existing_units)', inplace=True)\n",
    "\n",
    "\n",
    "# Add / rename columns to fit ABAG format\n",
    "rhna_permits['permyear'] = rhna_permits['issued_date'].dt.year\n",
    "\n",
    "# Address is split up into multiple columns. Must re-combine.\n",
    "id_on_street = rhna_permits['street_number'].astype(str) + \" \" + rhna_permits['street_number_suffix'].fillna(\"\")\n",
    "street = rhna_permits['street_name'] + ' ' + rhna_permits['street_suffix']\n",
    "rhna_permits['address'] = id_on_street + ' ' + street\n",
    "\n",
    "rhna_permits = rhna_permits.rename(columns={'Location': 'geometry'})"
   ]
  },
  {
   "cell_type": "code",
   "execution_count": 31,
   "id": "f86ee88e",
   "metadata": {},
   "outputs": [],
   "source": [
    "rhna_permits = rhna_permits.loc[np.logical_and(rhna_permits.status_date.dt.year >= 2007,\n",
    "                                               rhna_permits.status_date.dt.year <= 2015),]"
   ]
  },
  {
   "cell_type": "code",
   "execution_count": 32,
   "id": "82c99ce1",
   "metadata": {},
   "outputs": [
    {
     "data": {
      "text/plain": [
       "213        4591D131\n",
       "214        4591D131\n",
       "384         5513012\n",
       "385         5513011\n",
       "556         1547004\n",
       "             ...   \n",
       "1205027     2614087\n",
       "1205030     3518017\n",
       "1205032     6551003\n",
       "1205054     3632040\n",
       "1205124     3546002\n",
       "Name: apn, Length: 4761, dtype: object"
      ]
     },
     "execution_count": 32,
     "metadata": {},
     "output_type": "execute_result"
    }
   ],
   "source": [
    "rhna_permits.apn"
   ]
  },
  {
   "cell_type": "code",
   "execution_count": 33,
   "id": "f6d00bac",
   "metadata": {},
   "outputs": [
    {
     "data": {
      "text/plain": [
       "0.6086956521739131"
      ]
     },
     "execution_count": 33,
     "metadata": {},
     "output_type": "execute_result"
    }
   ],
   "source": [
    "rhna_permits.apn.isin(parcels.MapBlkLot_Master).mean()"
   ]
  },
  {
   "cell_type": "code",
   "execution_count": 34,
   "id": "39a53350",
   "metadata": {},
   "outputs": [
    {
     "data": {
      "text/plain": [
       "213         18.0\n",
       "214          8.0\n",
       "384          2.0\n",
       "385          1.0\n",
       "556          1.0\n",
       "           ...  \n",
       "1205027      2.0\n",
       "1205030    135.0\n",
       "1205032      3.0\n",
       "1205054      2.0\n",
       "1205124     15.0\n",
       "Name: units, Length: 4761, dtype: float64"
      ]
     },
     "execution_count": 34,
     "metadata": {},
     "output_type": "execute_result"
    }
   ],
   "source": [
    "rhna_permits.units"
   ]
  },
  {
   "cell_type": "code",
   "execution_count": 36,
   "id": "fc712f6c",
   "metadata": {},
   "outputs": [
    {
     "data": {
      "text/plain": [
       "0.0831758034026465"
      ]
     },
     "execution_count": 36,
     "metadata": {},
     "output_type": "execute_result"
    }
   ],
   "source": [
    "rhna_permits.apn.isin(built.MapBlkLot_Master).mean()"
   ]
  },
  {
   "cell_type": "code",
   "execution_count": 37,
   "id": "164c4fc7",
   "metadata": {},
   "outputs": [
    {
     "data": {
      "text/plain": [
       "0.4234527687296417"
      ]
     },
     "execution_count": 37,
     "metadata": {},
     "output_type": "execute_result"
    }
   ],
   "source": [
    "built.MapBlkLot_Master.isin(rhna_permits.apn).mean()"
   ]
  },
  {
   "cell_type": "code",
   "execution_count": 44,
   "id": "142bff3d",
   "metadata": {},
   "outputs": [
    {
     "data": {
      "text/plain": [
       "2462"
      ]
     },
     "execution_count": 44,
     "metadata": {},
     "output_type": "execute_result"
    }
   ],
   "source": [
    "sum(rhna_permits.apn.duplicated())"
   ]
  },
  {
   "cell_type": "code",
   "execution_count": 64,
   "id": "bb3ac384",
   "metadata": {},
   "outputs": [],
   "source": [
    "completed_projects = rhna_permits[rhna_permits['status'] == 'complete']"
   ]
  },
  {
   "cell_type": "code",
   "execution_count": 85,
   "id": "23fb1f67",
   "metadata": {},
   "outputs": [],
   "source": [
    "dbi_units = completed_projects.groupby(['apn'], sort=False)['units'].median()"
   ]
  },
  {
   "cell_type": "code",
   "execution_count": 86,
   "id": "cee3919b",
   "metadata": {},
   "outputs": [],
   "source": [
    "built_poisson = built.merge(dbi_units, how='left', left_on='MapBlkLot_Master', right_on='apn')"
   ]
  },
  {
   "cell_type": "code",
   "execution_count": 89,
   "id": "dc49f48f",
   "metadata": {},
   "outputs": [
    {
     "data": {
      "text/plain": [
       "(array([69.,  4.,  2.,  2.,  5.,  0.,  2.,  1.,  1.,  1.]),\n",
       " array([  1. ,  40.8,  80.6, 120.4, 160.2, 200. , 239.8, 279.6, 319.4,\n",
       "        359.2, 399. ]),\n",
       " <BarContainer object of 10 artists>)"
      ]
     },
     "execution_count": 89,
     "metadata": {},
     "output_type": "execute_result"
    },
    {
     "data": {
      "image/png": "[encoded data removed]",
      "text/plain": [
       "<Figure size 432x288 with 1 Axes>"
      ]
     },
     "metadata": {
      "needs_background": "light"
     },
     "output_type": "display_data"
    }
   ],
   "source": [
    "plt.hist(built_poisson.units)"
   ]
  },
  {
   "cell_type": "code",
   "execution_count": 95,
   "id": "840e03f9",
   "metadata": {},
   "outputs": [
    {
     "data": {
      "text/plain": [
       "0.72"
      ]
     },
     "execution_count": 95,
     "metadata": {},
     "output_type": "execute_result"
    }
   ],
   "source": [
    "built_poisson.units.isna().mean().round(2)"
   ]
  },
  {
   "cell_type": "markdown",
   "id": "62238b7e",
   "metadata": {},
   "source": [
    "I still have 72% of the developed parcels to identify."
   ]
  },
  {
   "cell_type": "code",
   "execution_count": null,
   "id": "80e5d74c",
   "metadata": {},
   "outputs": [],
   "source": []
  }
 ],
 "metadata": {
  "kernelspec": {
   "display_name": "Python 3",
   "language": "python",
   "name": "python3"
  },
  "language_info": {
   "codemirror_mode": {
    "name": "ipython",
    "version": 3
   },
   "file_extension": ".py",
   "mimetype": "text/x-python",
   "name": "python",
   "nbconvert_exporter": "python",
   "pygments_lexer": "ipython3",
   "version": "3.8.8"
  }
 },
 "nbformat": 4,
 "nbformat_minor": 5
}
