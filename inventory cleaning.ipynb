{
 "cells": [
  {
   "cell_type": "code",
   "execution_count": 2,
   "id": "d8080d8e",
   "metadata": {},
   "outputs": [],
   "source": [
    "import pandas as pd\n",
    "import geopandas as gpd\n",
    "import numpy as np\n",
    "\n",
    "import matplotlib.pyplot as plt\n",
    "import seaborn as sns\n",
    "import contextily as ctx\n",
    "from shapely.wkt import loads\n"
   ]
  },
  {
   "cell_type": "code",
   "execution_count": null,
   "id": "a1e0b2be",
   "metadata": {},
   "outputs": [],
   "source": [
    "dbi = gpd.read_file('./data/Building Permits.geojson')"
   ]
  },
  {
   "cell_type": "code",
   "execution_count": null,
   "id": "52daa628",
   "metadata": {},
   "outputs": [],
   "source": [
    "permits = pd.read_csv('./data/SF_Planning_Permitting_Data.csv', low_memory=False)\n",
    "permits['OPEN_DATE'] = pd.to_datetime(permits['OPEN_DATE'], errors='coerce')\n",
    "permits['CLOSE_DATE'] = pd.to_datetime(permits['CLOSE_DATE'], errors='coerce')"
   ]
  },
  {
   "cell_type": "code",
   "execution_count": null,
   "id": "7a8c7574",
   "metadata": {},
   "outputs": [],
   "source": [
    "parcels = pd.read_csv('./data/Blue Sky Code and Inputs/SF_Logistic_Data.csv')"
   ]
  },
  {
   "cell_type": "code",
   "execution_count": null,
   "id": "d69dc805",
   "metadata": {},
   "outputs": [],
   "source": [
    "allParcels = gpd.read_file('./data/Parcels   Active and Retired/parcels.shp')"
   ]
  },
  {
   "cell_type": "code",
   "execution_count": null,
   "id": "f2f6846a",
   "metadata": {},
   "outputs": [],
   "source": [
    "sites = gpd.read_file('./data/site_inventory/xn--Bay_Area_Housing_Opportunity_Sites_Inventory__20072023_-it38a.shp')"
   ]
  },
  {
   "cell_type": "code",
   "execution_count": null,
   "id": "4b76f984",
   "metadata": {},
   "outputs": [],
   "source": [
    "tax = pd.read_excel('./data/tax_assessor/2019.8.20__SF_ASR_Secured_Roll_Data_2007-2008.xlsx')"
   ]
  },
  {
   "cell_type": "code",
   "execution_count": null,
   "id": "6d348232",
   "metadata": {},
   "outputs": [],
   "source": [
    "tax8 = pd.read_excel('./data/tax_assessor/2019.8.20__SF_ASR_Secured_Roll_Data_2008-2009.xlsx')"
   ]
  },
  {
   "cell_type": "code",
   "execution_count": null,
   "id": "025ce700",
   "metadata": {},
   "outputs": [],
   "source": [
    "use_codes = pd.read_excel('./data/tax_assessor/2019.8.20__SF_ASR_Secured_Roll_Data_2007-2008.xlsx', \n",
    "                          sheet_name='Class & Use Code')"
   ]
  },
  {
   "cell_type": "code",
   "execution_count": null,
   "id": "f4b167c8",
   "metadata": {},
   "outputs": [],
   "source": [
    "neighborhood_codes = pd.read_excel('./data/tax_assessor/2019.8.20__SF_ASR_Secured_Roll_Data_2007-2008.xlsx', \n",
    "                                   sheet_name='Neigborhood Code')"
   ]
  },
  {
   "cell_type": "markdown",
   "id": "d9c09954",
   "metadata": {},
   "source": [
    "### Training Set is RHNA 4"
   ]
  },
  {
   "cell_type": "code",
   "execution_count": null,
   "id": "8d7e1f78",
   "metadata": {},
   "outputs": [],
   "source": [
    "trainParcels = parcels[np.logical_and(parcels.year >= 2007, parcels.year <= 2015)]"
   ]
  },
  {
   "cell_type": "code",
   "execution_count": null,
   "id": "302e6edd",
   "metadata": {},
   "outputs": [],
   "source": [
    "trainY = trainParcels.groupby('MapBlkLot_Master')['Developed'].agg(lambda x: x.ne(0).sum())"
   ]
  },
  {
   "cell_type": "code",
   "execution_count": null,
   "id": "73cb8516",
   "metadata": {},
   "outputs": [],
   "source": [
    "trainY.sum()"
   ]
  },
  {
   "cell_type": "code",
   "execution_count": null,
   "id": "f80bcb39",
   "metadata": {},
   "outputs": [],
   "source": [
    "round(trainY.mean(), 3) * 100"
   ]
  },
  {
   "cell_type": "code",
   "execution_count": null,
   "id": "9ed683c5",
   "metadata": {},
   "outputs": [],
   "source": [
    "trainX = trainParcels[trainParcels.year == 2007]"
   ]
  },
  {
   "cell_type": "markdown",
   "id": "917cc4fb",
   "metadata": {},
   "source": [
    "No duplicative index."
   ]
  },
  {
   "cell_type": "code",
   "execution_count": null,
   "id": "fc96fbc0",
   "metadata": {},
   "outputs": [],
   "source": [
    "nunique_lots = trainParcels[trainParcels.year == 2007].MapBlkLot_Master.nunique()\n",
    "n_lots = trainParcels[trainParcels.year == 2007].shape[0]\n",
    "assert nunique_lots == n_lots"
   ]
  },
  {
   "cell_type": "code",
   "execution_count": null,
   "id": "2c2190fe",
   "metadata": {},
   "outputs": [],
   "source": [
    "trainX.MapBlkLot_Master.isin(trainY.index).mean()"
   ]
  },
  {
   "cell_type": "code",
   "execution_count": null,
   "id": "c61133ac",
   "metadata": {},
   "outputs": [],
   "source": [
    "trainDf = pd.merge(trainX.drop('Developed', axis=1), trainY, left_on='MapBlkLot_Master', right_index=True)"
   ]
  },
  {
   "cell_type": "code",
   "execution_count": null,
   "id": "c533170f",
   "metadata": {},
   "outputs": [],
   "source": [
    "trainDf.Developed.value_counts()"
   ]
  },
  {
   "cell_type": "code",
   "execution_count": null,
   "id": "ed09bde2",
   "metadata": {},
   "outputs": [],
   "source": [
    "def clean_apn(apn):\n",
    "    apn = ''.join(apn.split(' '))\n",
    "    if len(apn) < 9:\n",
    "        return apn\n",
    "    block_length = 4\n",
    "    #if apn[block_length].isalpha():\n",
    "    #    return apn[:block_length] + apn[block_length+1:]\n",
    "    return apn\n",
    " \n",
    "    \n",
    "tax['MapBlkLot_Master'] = tax.RP1PRCLID.apply(clean_apn)"
   ]
  },
  {
   "cell_type": "markdown",
   "id": "517cbb68",
   "metadata": {},
   "source": [
    "Make BlueSky geospatial."
   ]
  },
  {
   "cell_type": "code",
   "execution_count": null,
   "id": "36e40351",
   "metadata": {},
   "outputs": [],
   "source": [
    "trainDf.MapBlkLot_Master.isin(allParcels.blklot).mean()"
   ]
  },
  {
   "cell_type": "code",
   "execution_count": null,
   "id": "19642e17",
   "metadata": {},
   "outputs": [],
   "source": [
    "allParcels[allParcels.mapblklot == '0306026']"
   ]
  },
  {
   "cell_type": "code",
   "execution_count": null,
   "id": "43470d0f",
   "metadata": {},
   "outputs": [],
   "source": [
    "date_cols = [c for c in allParcels.columns if 'date' in c]"
   ]
  },
  {
   "cell_type": "code",
   "execution_count": null,
   "id": "8f98b6a9",
   "metadata": {},
   "outputs": [],
   "source": [
    "for date in date_cols:\n",
    "    allParcels[date] = pd.to_datetime(allParcels[date], errors='coerce')"
   ]
  },
  {
   "cell_type": "markdown",
   "id": "4f699df3",
   "metadata": {},
   "source": [
    "### Remove parcels deleted before 2007 and added after 2015"
   ]
  },
  {
   "cell_type": "code",
   "execution_count": null,
   "id": "4e87b3d3",
   "metadata": {},
   "outputs": [],
   "source": [
    "allParcels.shape"
   ]
  },
  {
   "cell_type": "code",
   "execution_count": null,
   "id": "bf5ef80e",
   "metadata": {},
   "outputs": [],
   "source": [
    "allParcels = allParcels[~(allParcels.date_map_d.dt.year <= 2007)]"
   ]
  },
  {
   "cell_type": "code",
   "execution_count": null,
   "id": "c5a339a1",
   "metadata": {},
   "outputs": [],
   "source": [
    "allParcels.shape"
   ]
  },
  {
   "cell_type": "code",
   "execution_count": null,
   "id": "413d32dd",
   "metadata": {},
   "outputs": [],
   "source": [
    "allParcels = allParcels[~(allParcels.date_rec_d.dt.year <= 2007)]"
   ]
  },
  {
   "cell_type": "code",
   "execution_count": null,
   "id": "ed229b1c",
   "metadata": {},
   "outputs": [],
   "source": [
    "allParcels.shape"
   ]
  },
  {
   "cell_type": "code",
   "execution_count": null,
   "id": "f9acf2ae",
   "metadata": {},
   "outputs": [],
   "source": [
    "allParcels = allParcels[~(allParcels.date_rec_a.dt.year >= 2015)]"
   ]
  },
  {
   "cell_type": "code",
   "execution_count": null,
   "id": "492d187b",
   "metadata": {},
   "outputs": [],
   "source": [
    "allParcels.shape"
   ]
  },
  {
   "cell_type": "code",
   "execution_count": null,
   "id": "3ea28b40",
   "metadata": {},
   "outputs": [],
   "source": [
    "allParcels = allParcels[~(allParcels.date_map_a.dt.year >= 2015)]"
   ]
  },
  {
   "cell_type": "code",
   "execution_count": null,
   "id": "f95983eb",
   "metadata": {},
   "outputs": [],
   "source": [
    "allParcels.shape"
   ]
  },
  {
   "cell_type": "code",
   "execution_count": null,
   "id": "b3bb7268",
   "metadata": {},
   "outputs": [],
   "source": [
    "round((231457 - 215526)/231457, 2)"
   ]
  },
  {
   "cell_type": "code",
   "execution_count": null,
   "id": "72b17471",
   "metadata": {},
   "outputs": [],
   "source": [
    "round(allParcels.mapblklot.duplicated().mean(), 2)"
   ]
  },
  {
   "cell_type": "code",
   "execution_count": null,
   "id": "c1da2b20",
   "metadata": {},
   "outputs": [],
   "source": [
    "geoDf = trainDf.merge(allParcels, left_on='MapBlkLot_Master', right_on='mapblklot')"
   ]
  },
  {
   "cell_type": "code",
   "execution_count": null,
   "id": "dd0b12a3",
   "metadata": {},
   "outputs": [],
   "source": [
    "geoDf.MapBlkLot_Master.duplicated().mean()"
   ]
  },
  {
   "cell_type": "code",
   "execution_count": null,
   "id": "6d642d56",
   "metadata": {},
   "outputs": [],
   "source": [
    "geoDf.MapBlkLot_Master.value_counts()"
   ]
  },
  {
   "cell_type": "code",
   "execution_count": null,
   "id": "52e14aa3",
   "metadata": {},
   "outputs": [],
   "source": [
    "geoDf[geoDf.MapBlkLot_Master == '0306026'].date_map_a.value_counts()"
   ]
  },
  {
   "cell_type": "code",
   "execution_count": null,
   "id": "15d05bee",
   "metadata": {},
   "outputs": [],
   "source": [
    "geoDf = geoDf.sort_values('date_map_a').groupby('MapBlkLot_Master').nth(0)"
   ]
  },
  {
   "cell_type": "code",
   "execution_count": null,
   "id": "8df6878a",
   "metadata": {
    "scrolled": true
   },
   "outputs": [],
   "source": [
    "geoDf.active.value_counts()"
   ]
  },
  {
   "cell_type": "code",
   "execution_count": null,
   "id": "afc8a875",
   "metadata": {},
   "outputs": [],
   "source": [
    "allParcels.columns"
   ]
  },
  {
   "cell_type": "code",
   "execution_count": null,
   "id": "c4ef64b7",
   "metadata": {},
   "outputs": [],
   "source": [
    "(geoDf.blklot == geoDf.mapblklot).mean()"
   ]
  },
  {
   "cell_type": "markdown",
   "id": "51fde540",
   "metadata": {},
   "source": [
    "Drop everything from AllParcels except mapblklot, blklot, and geometry."
   ]
  },
  {
   "cell_type": "code",
   "execution_count": null,
   "id": "b89418ef",
   "metadata": {},
   "outputs": [],
   "source": [
    "geoDf = geoDf.drop(allParcels.columns[2:-2], axis=1)"
   ]
  },
  {
   "cell_type": "code",
   "execution_count": null,
   "id": "64a6a0c4",
   "metadata": {},
   "outputs": [],
   "source": [
    "trainDf = geoDf"
   ]
  },
  {
   "cell_type": "markdown",
   "id": "86a5d5c1",
   "metadata": {},
   "source": [
    "### Developed parcels"
   ]
  },
  {
   "cell_type": "code",
   "execution_count": null,
   "id": "174e74fb",
   "metadata": {},
   "outputs": [],
   "source": [
    "built = trainDf.loc[trainDf.Developed > 0,]"
   ]
  },
  {
   "cell_type": "code",
   "execution_count": null,
   "id": "9c14ba8a",
   "metadata": {},
   "outputs": [],
   "source": [
    "built.MapBlkLot_Master.isin(tax.MapBlkLot_Master).mean().round(2)"
   ]
  },
  {
   "cell_type": "code",
   "execution_count": null,
   "id": "f819705d",
   "metadata": {},
   "outputs": [],
   "source": [
    "built.MapBlkLot_Master.str.len().value_counts()"
   ]
  },
  {
   "cell_type": "code",
   "execution_count": null,
   "id": "1692cb11",
   "metadata": {},
   "outputs": [],
   "source": [
    "built.MapBlkLot_Master"
   ]
  },
  {
   "cell_type": "code",
   "execution_count": null,
   "id": "5ff27638",
   "metadata": {},
   "outputs": [],
   "source": [
    "dbi.columns"
   ]
  },
  {
   "cell_type": "code",
   "execution_count": null,
   "id": "510036c6",
   "metadata": {},
   "outputs": [],
   "source": [
    "dbi['units'] = dbi.proposed_units.fillna(0).astype(float) - dbi.existing_units.fillna(0).astype(float)"
   ]
  },
  {
   "cell_type": "code",
   "execution_count": null,
   "id": "8419cb5d",
   "metadata": {},
   "outputs": [],
   "source": [
    "dbi.status.value_counts()"
   ]
  },
  {
   "cell_type": "code",
   "execution_count": null,
   "id": "2f91aa9f",
   "metadata": {},
   "outputs": [],
   "source": [
    "dbi.columns"
   ]
  },
  {
   "cell_type": "code",
   "execution_count": null,
   "id": "f8b6c809",
   "metadata": {},
   "outputs": [],
   "source": [
    "date_cols = [c for c in dbi.columns if 'Date' in c]\n",
    "dbi[date_cols] = dbi[date_cols].apply(pd.to_datetime)\n",
    "dbi['apn'] = dbi['block'].astype(str) + dbi['lot'].astype(str)"
   ]
  },
  {
   "cell_type": "code",
   "execution_count": null,
   "id": "28611f91",
   "metadata": {},
   "outputs": [],
   "source": [
    "dbi['na_existing_units'] = dbi['existing_units'].isna()\n",
    "relevant_uses = [\n",
    "    'apartments', '1 family dwelling', '2 family dwelling',\n",
    "    'residential hotel', 'misc group residns.', 'artist live/work',\n",
    "    'convalescent home', 'accessory cottage', 'nursing home non amb',\n",
    "    'orphanage', 'r-3(dwg) nursing', 'nursing home gt 6'\n",
    "]\n",
    "rhna_permits = dbi[\n",
    "    (dbi['units'] > 0)\n",
    "    & dbi['proposed_use'].isin(relevant_uses)\n",
    "    & dbi['permit_type'].isin([1, 2, 3, 8])\n",
    "].copy()\n",
    "\n",
    "rhna_permits.query('not (`permit_type` == 8 and na_existing_units)', inplace=True)\n",
    "rhna_permits.query('not (`permit_type` == 3 and na_existing_units)', inplace=True)\n",
    "\n",
    "\n",
    "# Add / rename columns to fit ABAG format\n",
    "rhna_permits['permyear'] = rhna_permits['issued_date'].dt.year\n",
    "\n",
    "# Address is split up into multiple columns. Must re-combine.\n",
    "id_on_street = rhna_permits['street_number'].astype(str) + \" \" + rhna_permits['street_number_suffix'].fillna(\"\")\n",
    "street = rhna_permits['street_name'] + ' ' + rhna_permits['street_suffix']\n",
    "rhna_permits['address'] = id_on_street + ' ' + street\n",
    "\n",
    "rhna_permits = rhna_permits.rename(columns={'Location': 'geometry'})"
   ]
  },
  {
   "cell_type": "code",
   "execution_count": null,
   "id": "f86ee88e",
   "metadata": {},
   "outputs": [],
   "source": [
    "rhna_permits = rhna_permits.loc[np.logical_and(rhna_permits.status_date.dt.year >= 2007,\n",
    "                                               rhna_permits.status_date.dt.year <= 2015),]"
   ]
  },
  {
   "cell_type": "code",
   "execution_count": null,
   "id": "82c99ce1",
   "metadata": {},
   "outputs": [],
   "source": [
    "rhna_permits.apn"
   ]
  },
  {
   "cell_type": "code",
   "execution_count": null,
   "id": "f6d00bac",
   "metadata": {},
   "outputs": [],
   "source": [
    "rhna_permits.apn.isin(parcels.MapBlkLot_Master).mean()"
   ]
  },
  {
   "cell_type": "code",
   "execution_count": null,
   "id": "39a53350",
   "metadata": {},
   "outputs": [],
   "source": [
    "rhna_permits.units"
   ]
  },
  {
   "cell_type": "code",
   "execution_count": null,
   "id": "fc712f6c",
   "metadata": {},
   "outputs": [],
   "source": [
    "rhna_permits.apn.isin(built.MapBlkLot_Master).mean()"
   ]
  },
  {
   "cell_type": "code",
   "execution_count": null,
   "id": "a23c46b5",
   "metadata": {},
   "outputs": [],
   "source": [
    "built.MapBlkLot_Master.isin(rhna_permits.apn).mean()"
   ]
  },
  {
   "cell_type": "code",
   "execution_count": null,
   "id": "8cd6b03e",
   "metadata": {},
   "outputs": [],
   "source": [
    "sum(rhna_permits.apn.duplicated())"
   ]
  },
  {
   "cell_type": "code",
   "execution_count": null,
   "id": "4e944fd2",
   "metadata": {},
   "outputs": [],
   "source": [
    "completed_projects = rhna_permits[rhna_permits['status'] == 'complete']"
   ]
  },
  {
   "cell_type": "code",
   "execution_count": null,
   "id": "e444f2bd",
   "metadata": {},
   "outputs": [],
   "source": [
    "dbi_units = completed_projects.groupby(['apn'], sort=False)['units'].median()"
   ]
  },
  {
   "cell_type": "code",
   "execution_count": null,
   "id": "511303e6",
   "metadata": {},
   "outputs": [],
   "source": [
    "built_poisson = built.merge(dbi_units, how='left', left_on='MapBlkLot_Master', right_on='apn')"
   ]
  },
  {
   "cell_type": "code",
   "execution_count": null,
   "id": "1ea523f8",
   "metadata": {},
   "outputs": [],
   "source": [
    "plt.hist(built_poisson.units)"
   ]
  },
  {
   "cell_type": "code",
   "execution_count": null,
   "id": "95a95787",
   "metadata": {},
   "outputs": [],
   "source": [
    "built_poisson.units.isna().mean().round(2)"
   ]
  },
  {
   "cell_type": "code",
   "execution_count": null,
   "id": "ba72cf8b",
   "metadata": {},
   "outputs": [],
   "source": [
    "built_poisson"
   ]
  },
  {
   "cell_type": "markdown",
   "id": "c7a99fb4",
   "metadata": {},
   "source": [
    "I still have 72% of the developed parcels to identify."
   ]
  },
  {
   "cell_type": "markdown",
   "id": "60053595",
   "metadata": {},
   "source": [
    "### Try using geometry"
   ]
  },
  {
   "cell_type": "code",
   "execution_count": null,
   "id": "1114074c",
   "metadata": {},
   "outputs": [],
   "source": [
    "dbi_units2 = completed_projects.groupby(['geometry'], sort=False)['units'].median()"
   ]
  },
  {
   "cell_type": "code",
   "execution_count": null,
   "id": "07766e7f",
   "metadata": {},
   "outputs": [],
   "source": [
    "completed_projects.columns"
   ]
  },
  {
   "cell_type": "code",
   "execution_count": null,
   "id": "f3c5b18c",
   "metadata": {},
   "outputs": [],
   "source": [
    "type(parcels)"
   ]
  },
  {
   "cell_type": "markdown",
   "id": "ac011203",
   "metadata": {},
   "source": [
    "#### How many matches do I get if I use SF Planning Permits"
   ]
  },
  {
   "cell_type": "markdown",
   "id": "6f133530",
   "metadata": {},
   "source": [
    "In the SF Planning Permits dataset, almost all mapblock lots are block + lot. Fewer are lot + block. And 29 have some non digit character I need to strip out.\n",
    "\n",
    "Also, 7% blocklots are nans."
   ]
  },
  {
   "cell_type": "code",
   "execution_count": null,
   "id": "6617fcf2",
   "metadata": {},
   "outputs": [],
   "source": [
    "permits[\n",
    "    ~(np.logical_or(np.logical_or(permits.MAPBLOCKLOT == (permits.BLOCK + permits.LOT), \n",
    "                        permits.BLOCK.isna()), \n",
    "                   permits.MAPBLOCKLOT == (permits.LOT + permits.BLOCK)))\n",
    "].shape"
   ]
  },
  {
   "cell_type": "code",
   "execution_count": null,
   "id": "255f0f91",
   "metadata": {},
   "outputs": [],
   "source": [
    "ppermits = permits"
   ]
  },
  {
   "cell_type": "code",
   "execution_count": null,
   "id": "61759227",
   "metadata": {},
   "outputs": [],
   "source": [
    "permits.MAPBLOCKLOT.isna().mean()"
   ]
  },
  {
   "cell_type": "code",
   "execution_count": null,
   "id": "b28f21cd",
   "metadata": {},
   "outputs": [],
   "source": [
    "permits.iloc[500:505, :]"
   ]
  },
  {
   "cell_type": "code",
   "execution_count": null,
   "id": "9952297f",
   "metadata": {
    "scrolled": true
   },
   "outputs": [],
   "source": [
    "permits.RECORD_STATUS.value_counts()[:15]"
   ]
  },
  {
   "cell_type": "code",
   "execution_count": null,
   "id": "51bf89b8",
   "metadata": {},
   "outputs": [],
   "source": [
    "permits.RELATED_BUILDING_PERMIT"
   ]
  },
  {
   "cell_type": "code",
   "execution_count": null,
   "id": "85c637e8",
   "metadata": {},
   "outputs": [],
   "source": [
    "permits.NEW_CONSTRUCTION.value_counts()"
   ]
  },
  {
   "cell_type": "code",
   "execution_count": null,
   "id": "8bd7c1de",
   "metadata": {},
   "outputs": [],
   "source": [
    "permits.iloc[10:15, 20:]"
   ]
  },
  {
   "cell_type": "code",
   "execution_count": null,
   "id": "018dc97b",
   "metadata": {},
   "outputs": [],
   "source": [
    "permits[permits.NUMBER_OF_UNITS > 0].NUMBER_OF_UNITS.sum()"
   ]
  },
  {
   "cell_type": "code",
   "execution_count": null,
   "id": "b8decb04",
   "metadata": {},
   "outputs": [],
   "source": [
    "ppermits['NA_NUMBER_OF_UNITS_EXIST'] = ppermits['NUMBER_OF_UNITS_EXIST'].isna()\n",
    "ppermits['units'] = ppermits['NUMBER_OF_UNITS'].fillna(0) - ppermits['NUMBER_OF_UNITS_EXIST'].fillna(0)"
   ]
  },
  {
   "cell_type": "code",
   "execution_count": null,
   "id": "261712f7",
   "metadata": {},
   "outputs": [],
   "source": [
    "ppermits.RESIDENTIAL_EXIST.value_counts()"
   ]
  },
  {
   "cell_type": "code",
   "execution_count": null,
   "id": "3ce7cb08",
   "metadata": {},
   "outputs": [],
   "source": [
    "[c for c in ppermits.columns if 'ADD' in c]"
   ]
  },
  {
   "cell_type": "code",
   "execution_count": null,
   "id": "0f7a8a42",
   "metadata": {},
   "outputs": [],
   "source": [
    "ppermits['NEW_CONSTRUCTION'] == 'CHECKED'"
   ]
  },
  {
   "cell_type": "code",
   "execution_count": null,
   "id": "75fc15da",
   "metadata": {},
   "outputs": [],
   "source": [
    "statuses = ['Closed - Approved', 'Closed']\n",
    "# Add / rename columns to fit ABAG format\n",
    "ppermits['permyear'] =  ppermits['CLOSE_DATE'].dt.year\n",
    "rhna_ppermits = ppermits[\n",
    "    (ppermits['units'] > 0)\n",
    "    & (ppermits['RECORD_STATUS'].isin(statuses)) \n",
    "    & (ppermits['permyear'] >= 2006)\n",
    "].copy()\n",
    "\n"
   ]
  },
  {
   "cell_type": "code",
   "execution_count": null,
   "id": "11191868",
   "metadata": {},
   "outputs": [],
   "source": [
    "rhna_ppermits.CLOSE_DATE"
   ]
  },
  {
   "cell_type": "code",
   "execution_count": null,
   "id": "95ede753",
   "metadata": {},
   "outputs": [],
   "source": [
    "built_poisson.MapBlkLot_Master.isin(permits.MAPBLOCKLOT).mean()"
   ]
  },
  {
   "cell_type": "code",
   "execution_count": null,
   "id": "8f4fba48",
   "metadata": {},
   "outputs": [],
   "source": [
    "built_poisson[\n",
    "    built_poisson.MapBlkLot_Master.isin(rhna_ppermits.MAPBLOCKLOT) \n",
    "    & built_poisson.units.isna()\n",
    "].shape[0]"
   ]
  },
  {
   "cell_type": "code",
   "execution_count": null,
   "id": "55e3f2bb",
   "metadata": {},
   "outputs": [],
   "source": [
    "built_poisson.units.isna().sum()"
   ]
  },
  {
   "cell_type": "code",
   "execution_count": null,
   "id": "f854b6c5",
   "metadata": {},
   "outputs": [],
   "source": []
  },
  {
   "cell_type": "code",
   "execution_count": null,
   "id": "12b284a1",
   "metadata": {},
   "outputs": [],
   "source": [
    "built_poisson.merge()"
   ]
  }
 ],
 "metadata": {
  "kernelspec": {
   "display_name": "Python 3",
   "language": "python",
   "name": "python3"
  },
  "language_info": {
   "codemirror_mode": {
    "name": "ipython",
    "version": 3
   },
   "file_extension": ".py",
   "mimetype": "text/x-python",
   "name": "python",
   "nbconvert_exporter": "python",
   "pygments_lexer": "ipython3",
   "version": "3.8.8"
  }
 },
 "nbformat": 4,
 "nbformat_minor": 5
}
