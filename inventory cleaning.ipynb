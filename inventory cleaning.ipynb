{
 "cells": [
  {
   "cell_type": "code",
   "execution_count": 96,
   "id": "d8080d8e",
   "metadata": {},
   "outputs": [],
   "source": [
    "import pandas as pd\n",
    "import geopandas as gpd\n",
    "import numpy as np\n",
    "\n",
    "import matplotlib.pyplot as plt\n",
    "import seaborn as sns\n",
    "import contextily as ctx\n",
    "from shapely.wkt import loads\n"
   ]
  },
  {
   "cell_type": "code",
   "execution_count": 118,
   "id": "a1e0b2be",
   "metadata": {},
   "outputs": [],
   "source": [
    "dbi = gpd.read_file('./data/Building Permits.geojson', rows=10000)"
   ]
  },
  {
   "cell_type": "code",
   "execution_count": 4,
   "id": "7a8c7574",
   "metadata": {},
   "outputs": [],
   "source": [
    "parcels = pd.read_csv('./data/Blue Sky Code and Inputs/SF_Logistic_Data.csv')"
   ]
  },
  {
   "cell_type": "code",
   "execution_count": 5,
   "id": "d69dc805",
   "metadata": {},
   "outputs": [],
   "source": [
    "allParcels = gpd.read_file('./data/Parcels   Active and Retired/parcels.shp')"
   ]
  },
  {
   "cell_type": "code",
   "execution_count": 6,
   "id": "f2f6846a",
   "metadata": {},
   "outputs": [],
   "source": [
    "sites = gpd.read_file('./data/site_inventory/xn--Bay_Area_Housing_Opportunity_Sites_Inventory__20072023_-it38a.shp')"
   ]
  },
  {
   "cell_type": "code",
   "execution_count": 7,
   "id": "4b76f984",
   "metadata": {},
   "outputs": [],
   "source": [
    "tax = pd.read_excel('./data/tax_assessor/2019.8.20__SF_ASR_Secured_Roll_Data_2007-2008.xlsx')"
   ]
  },
  {
   "cell_type": "code",
   "execution_count": 51,
   "id": "6d348232",
   "metadata": {},
   "outputs": [],
   "source": [
    "tax8 = pd.read_excel('./data/tax_assessor/2019.8.20__SF_ASR_Secured_Roll_Data_2008-2009.xlsx')"
   ]
  },
  {
   "cell_type": "code",
   "execution_count": 8,
   "id": "025ce700",
   "metadata": {},
   "outputs": [],
   "source": [
    "use_codes = pd.read_excel('./data/tax_assessor/2019.8.20__SF_ASR_Secured_Roll_Data_2007-2008.xlsx', \n",
    "                          sheet_name='Class & Use Code')"
   ]
  },
  {
   "cell_type": "code",
   "execution_count": 9,
   "id": "f4b167c8",
   "metadata": {},
   "outputs": [],
   "source": [
    "neighborhood_codes = pd.read_excel('./data/tax_assessor/2019.8.20__SF_ASR_Secured_Roll_Data_2007-2008.xlsx', \n",
    "                                   sheet_name='Neigborhood Code')"
   ]
  },
  {
   "cell_type": "markdown",
   "id": "d9c09954",
   "metadata": {},
   "source": [
    "### Training Set is RHNA 4"
   ]
  },
  {
   "cell_type": "code",
   "execution_count": 30,
   "id": "8d7e1f78",
   "metadata": {},
   "outputs": [],
   "source": [
    "trainParcels = parcels[np.logical_and(parcels.year >= 2007, parcels.year <= 2015)]"
   ]
  },
  {
   "cell_type": "code",
   "execution_count": 31,
   "id": "302e6edd",
   "metadata": {},
   "outputs": [],
   "source": [
    "trainY = trainParcels.groupby('MapBlkLot_Master')['Developed'].agg(lambda x: x.ne(0).sum())"
   ]
  },
  {
   "cell_type": "code",
   "execution_count": 32,
   "id": "73cb8516",
   "metadata": {},
   "outputs": [
    {
     "data": {
      "text/plain": [
       "308"
      ]
     },
     "execution_count": 32,
     "metadata": {},
     "output_type": "execute_result"
    }
   ],
   "source": [
    "trainY.sum()"
   ]
  },
  {
   "cell_type": "code",
   "execution_count": 33,
   "id": "f80bcb39",
   "metadata": {},
   "outputs": [
    {
     "data": {
      "text/plain": [
       "0.2"
      ]
     },
     "execution_count": 33,
     "metadata": {},
     "output_type": "execute_result"
    }
   ],
   "source": [
    "round(trainY.mean(), 3) * 100"
   ]
  },
  {
   "cell_type": "code",
   "execution_count": 34,
   "id": "9ed683c5",
   "metadata": {},
   "outputs": [],
   "source": [
    "trainX = trainParcels[trainParcels.year == 2007]"
   ]
  },
  {
   "cell_type": "markdown",
   "id": "917cc4fb",
   "metadata": {},
   "source": [
    "No duplicative index."
   ]
  },
  {
   "cell_type": "code",
   "execution_count": 35,
   "id": "fc96fbc0",
   "metadata": {},
   "outputs": [],
   "source": [
    "nunique_lots = trainParcels[trainParcels.year == 2007].MapBlkLot_Master.nunique()\n",
    "n_lots = trainParcels[trainParcels.year == 2007].shape[0]\n",
    "assert nunique_lots == n_lots"
   ]
  },
  {
   "cell_type": "code",
   "execution_count": 36,
   "id": "2c2190fe",
   "metadata": {},
   "outputs": [
    {
     "data": {
      "text/plain": [
       "1.0"
      ]
     },
     "execution_count": 36,
     "metadata": {},
     "output_type": "execute_result"
    }
   ],
   "source": [
    "trainX.MapBlkLot_Master.isin(trainY.index).mean()"
   ]
  },
  {
   "cell_type": "code",
   "execution_count": 37,
   "id": "c61133ac",
   "metadata": {},
   "outputs": [],
   "source": [
    "trainDf = pd.merge(trainX.drop('Developed', axis=1), trainY, left_on='MapBlkLot_Master', right_index=True)"
   ]
  },
  {
   "cell_type": "code",
   "execution_count": 38,
   "id": "c533170f",
   "metadata": {},
   "outputs": [
    {
     "data": {
      "text/plain": [
       "0    152910\n",
       "1       306\n",
       "2         1\n",
       "Name: Developed, dtype: int64"
      ]
     },
     "execution_count": 38,
     "metadata": {},
     "output_type": "execute_result"
    }
   ],
   "source": [
    "trainDf.Developed.value_counts()"
   ]
  },
  {
   "cell_type": "code",
   "execution_count": 39,
   "id": "ed09bde2",
   "metadata": {},
   "outputs": [],
   "source": [
    "def clean_apn(apn):\n",
    "    apn = ''.join(apn.split(' '))\n",
    "    if len(apn) < 9:\n",
    "        return apn\n",
    "    block_length = 4\n",
    "    #if apn[block_length].isalpha():\n",
    "    #    return apn[:block_length] + apn[block_length+1:]\n",
    "    return apn\n",
    " \n",
    "    \n",
    "tax['MapBlkLot_Master'] = tax.RP1PRCLID.apply(clean_apn)"
   ]
  },
  {
   "cell_type": "markdown",
   "id": "86a5d5c1",
   "metadata": {},
   "source": [
    "### Developed parcels"
   ]
  },
  {
   "cell_type": "code",
   "execution_count": 41,
   "id": "174e74fb",
   "metadata": {},
   "outputs": [],
   "source": [
    "built = trainDf.loc[trainDf.Developed > 0,]"
   ]
  },
  {
   "cell_type": "code",
   "execution_count": 43,
   "id": "9c14ba8a",
   "metadata": {},
   "outputs": [
    {
     "data": {
      "text/plain": [
       "0.45"
      ]
     },
     "execution_count": 43,
     "metadata": {},
     "output_type": "execute_result"
    }
   ],
   "source": [
    "built.MapBlkLot_Master.isin(tax.MapBlkLot_Master).mean().round(2)"
   ]
  },
  {
   "cell_type": "code",
   "execution_count": 46,
   "id": "f819705d",
   "metadata": {},
   "outputs": [
    {
     "data": {
      "text/plain": [
       "7    286\n",
       "8     21\n",
       "Name: MapBlkLot_Master, dtype: int64"
      ]
     },
     "execution_count": 46,
     "metadata": {},
     "output_type": "execute_result"
    }
   ],
   "source": [
    "built.MapBlkLot_Master.str.len().value_counts()"
   ]
  },
  {
   "cell_type": "code",
   "execution_count": 47,
   "id": "1692cb11",
   "metadata": {},
   "outputs": [
    {
     "data": {
      "text/plain": [
       "920413      0041103\n",
       "922617     0129013A\n",
       "923873      0184042\n",
       "924274      0196030\n",
       "925507      0279057\n",
       "             ...   \n",
       "1073065     8711025\n",
       "1073066     8711019\n",
       "1073070     8711033\n",
       "1073150     8720117\n",
       "1073152     8720018\n",
       "Name: MapBlkLot_Master, Length: 307, dtype: object"
      ]
     },
     "execution_count": 47,
     "metadata": {},
     "output_type": "execute_result"
    }
   ],
   "source": [
    "built.MapBlkLot_Master"
   ]
  },
  {
   "cell_type": "code",
   "execution_count": 153,
   "id": "5ff27638",
   "metadata": {},
   "outputs": [
    {
     "data": {
      "text/plain": [
       "Index(['record_id', 'proposed_construction_type_description', 'issued_date',\n",
       "       'existing_construction_type_description', 'zipcode',\n",
       "       'neighborhoods_analysis_boundaries', 'fire_only_permit', 'proposed_use',\n",
       "       'existing_use', 'description', 'tidf_compliance', 'revised_cost',\n",
       "       'existing_construction_type', 'site_permit', 'plansets',\n",
       "       'permit_creation_date', 'status_date',\n",
       "       'first_construction_document_date', 'existing_units', 'filed_date',\n",
       "       'street_name', 'block', 'estimated_cost', 'permit_expiration_date',\n",
       "       'unit_suffix', 'proposed_construction_type', 'permit_type_definition',\n",
       "       'status', 'completed_date', 'permit_number', 'street_number_suffix',\n",
       "       'lot', 'number_of_existing_stories', 'street_suffix', 'proposed_units',\n",
       "       'unit', 'permit_type', 'number_of_proposed_stories',\n",
       "       'voluntary_soft_story_retrofit', 'supervisor_district', 'street_number',\n",
       "       'structural_notification', 'geometry', 'units', 'apn',\n",
       "       'na_existing_units', 'new_units'],\n",
       "      dtype='object')"
      ]
     },
     "execution_count": 153,
     "metadata": {},
     "output_type": "execute_result"
    }
   ],
   "source": [
    "dbi.columns"
   ]
  },
  {
   "cell_type": "code",
   "execution_count": 154,
   "id": "510036c6",
   "metadata": {},
   "outputs": [],
   "source": [
    "dbi['units'] = dbi.proposed_units.fillna(0).astype(int) - dbi.existing_units.fillna(0).astype(int)"
   ]
  },
  {
   "cell_type": "code",
   "execution_count": 155,
   "id": "8419cb5d",
   "metadata": {},
   "outputs": [
    {
     "data": {
      "text/plain": [
       "complete       5448\n",
       "expired        1356\n",
       "cancelled      1155\n",
       "issued         1142\n",
       "filed           623\n",
       "filing          103\n",
       "withdrawn        76\n",
       "approved         66\n",
       "disapproved      23\n",
       "reinstated        6\n",
       "Name: status, dtype: int64"
      ]
     },
     "execution_count": 155,
     "metadata": {},
     "output_type": "execute_result"
    }
   ],
   "source": [
    "dbi.status.value_counts()"
   ]
  },
  {
   "cell_type": "code",
   "execution_count": 156,
   "id": "2f91aa9f",
   "metadata": {},
   "outputs": [
    {
     "data": {
      "text/plain": [
       "Index(['record_id', 'proposed_construction_type_description', 'issued_date',\n",
       "       'existing_construction_type_description', 'zipcode',\n",
       "       'neighborhoods_analysis_boundaries', 'fire_only_permit', 'proposed_use',\n",
       "       'existing_use', 'description', 'tidf_compliance', 'revised_cost',\n",
       "       'existing_construction_type', 'site_permit', 'plansets',\n",
       "       'permit_creation_date', 'status_date',\n",
       "       'first_construction_document_date', 'existing_units', 'filed_date',\n",
       "       'street_name', 'block', 'estimated_cost', 'permit_expiration_date',\n",
       "       'unit_suffix', 'proposed_construction_type', 'permit_type_definition',\n",
       "       'status', 'completed_date', 'permit_number', 'street_number_suffix',\n",
       "       'lot', 'number_of_existing_stories', 'street_suffix', 'proposed_units',\n",
       "       'unit', 'permit_type', 'number_of_proposed_stories',\n",
       "       'voluntary_soft_story_retrofit', 'supervisor_district', 'street_number',\n",
       "       'structural_notification', 'geometry', 'units', 'apn',\n",
       "       'na_existing_units', 'new_units'],\n",
       "      dtype='object')"
      ]
     },
     "execution_count": 156,
     "metadata": {},
     "output_type": "execute_result"
    }
   ],
   "source": [
    "dbi.columns"
   ]
  },
  {
   "cell_type": "code",
   "execution_count": 157,
   "id": "f8b6c809",
   "metadata": {},
   "outputs": [],
   "source": [
    "date_cols = [c for c in dbi.columns if 'Date' in c]\n",
    "dbi[date_cols] = dbi[date_cols].apply(pd.to_datetime)\n",
    "dbi['apn'] = dbi['block'].astype(str) + dbi['lot'].astype(str)"
   ]
  },
  {
   "cell_type": "code",
   "execution_count": 158,
   "id": "28611f91",
   "metadata": {},
   "outputs": [],
   "source": [
    "dbi['na_existing_units'] = dbi['existing_units'].isna()\n",
    "relevant_uses = [\n",
    "    'apartments', '1 family dwelling', '2 family dwelling',\n",
    "    'residential hotel', 'misc group residns.', 'artist live/work',\n",
    "    'convalescent home', 'accessory cottage', 'nursing home non amb',\n",
    "    'orphanage', 'r-3(dwg) nursing', 'nursing home gt 6'\n",
    "]\n",
    "rhna_permits = dbi[\n",
    "    dbi['units'] > 0\n",
    "    & dbi['proposed_use'].isin(relevant_uses)\n",
    "    & dbi['permit_type'].isin([1, 2, 3, 8])\n",
    "].copy()\n",
    "\n",
    "rhna_permits.query('not (`permit_type` == 8 and na_existing_units)', inplace=True)\n",
    "rhna_permits.query('not (`permit_type` == 3 and na_existing_units)', inplace=True)\n",
    "\n",
    "\n",
    "# Add / rename columns to fit ABAG format\n",
    "rhna_permits['permyear'] = rhna_permits['issued_date'].dt.year\n",
    "\n",
    "# Address is split up into multiple columns. Must re-combine.\n",
    "id_on_street = rhna_permits['street_number'].astype(str) + \" \" + rhna_permits['street_number_suffix'].fillna(\"\")\n",
    "street = rhna_permits['street_name'] + ' ' + rhna_permits['street_suffix']\n",
    "rhna_permits['address'] = id_on_street + ' ' + street\n",
    "\n",
    "rhna_permits = rhna_permits.rename(columns={'Location': 'geometry'})"
   ]
  },
  {
   "cell_type": "code",
   "execution_count": 159,
   "id": "f86ee88e",
   "metadata": {},
   "outputs": [],
   "source": [
    "rhna_permits = rhna_permits.loc[np.logical_and(rhna_permits.status_date.dt.year >= 2007,\n",
    "                                               rhna_permits.status_date.dt.year <= 2015),]"
   ]
  },
  {
   "cell_type": "code",
   "execution_count": 160,
   "id": "82c99ce1",
   "metadata": {},
   "outputs": [
    {
     "data": {
      "text/plain": [
       "213     4591D131\n",
       "214     4591D131\n",
       "384      5513012\n",
       "385      5513011\n",
       "556      1547004\n",
       "561     4591D131\n",
       "562     4591D131\n",
       "1319     3995001\n",
       "3463     7552023\n",
       "5897    1129014A\n",
       "9196    1460017A\n",
       "Name: apn, dtype: object"
      ]
     },
     "execution_count": 160,
     "metadata": {},
     "output_type": "execute_result"
    }
   ],
   "source": [
    "rhna_permits.apn"
   ]
  },
  {
   "cell_type": "code",
   "execution_count": 161,
   "id": "f6d00bac",
   "metadata": {},
   "outputs": [
    {
     "data": {
      "text/plain": [
       "0.9090909090909091"
      ]
     },
     "execution_count": 161,
     "metadata": {},
     "output_type": "execute_result"
    }
   ],
   "source": [
    "rhna_permits.apn.isin(parcels.MapBlkLot_Master).mean()"
   ]
  },
  {
   "cell_type": "code",
   "execution_count": 163,
   "id": "39a53350",
   "metadata": {},
   "outputs": [
    {
     "data": {
      "text/plain": [
       "213     18\n",
       "214      8\n",
       "384      2\n",
       "385      1\n",
       "556      1\n",
       "561     10\n",
       "562     11\n",
       "1319     8\n",
       "3463     1\n",
       "5897     2\n",
       "9196     3\n",
       "Name: units, dtype: int64"
      ]
     },
     "execution_count": 163,
     "metadata": {},
     "output_type": "execute_result"
    }
   ],
   "source": [
    "rhna_permits.units"
   ]
  },
  {
   "cell_type": "code",
   "execution_count": null,
   "id": "fc712f6c",
   "metadata": {},
   "outputs": [],
   "source": []
  }
 ],
 "metadata": {
  "kernelspec": {
   "display_name": "Python 3 (ipykernel)",
   "language": "python",
   "name": "python3"
  },
  "language_info": {
   "codemirror_mode": {
    "name": "ipython",
    "version": 3
   },
   "file_extension": ".py",
   "mimetype": "text/x-python",
   "name": "python",
   "nbconvert_exporter": "python",
   "pygments_lexer": "ipython3",
   "version": "3.9.6"
  }
 },
 "nbformat": 4,
 "nbformat_minor": 5
}
