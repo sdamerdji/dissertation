{
 "cells": [
  {
   "cell_type": "code",
   "execution_count": 319,
   "id": "d8080d8e",
   "metadata": {},
   "outputs": [],
   "source": [
    "import pandas as pd\n",
    "import geopandas as gpd\n",
    "import numpy as np\n",
    "\n",
    "import matplotlib.pyplot as plt\n",
    "import seaborn as sns\n",
    "import contextily as ctx\n",
    "from shapely.wkt import load\n",
    "\n",
    "import clean_utils"
   ]
  },
  {
   "cell_type": "code",
   "execution_count": 2,
   "id": "a1e0b2be",
   "metadata": {},
   "outputs": [],
   "source": [
    "dbi = gpd.read_file('./data/Building Permits.geojson')"
   ]
  },
  {
   "cell_type": "code",
   "execution_count": 3,
   "id": "bec7cb4b",
   "metadata": {},
   "outputs": [],
   "source": [
    "permits = gpd.read_file('./data/SF_Planning_Permitting_Data.geojson', low_memory=False)"
   ]
  },
  {
   "cell_type": "code",
   "execution_count": 312,
   "id": "a8bf98dc",
   "metadata": {},
   "outputs": [],
   "source": [
    "clean_utils.clean_dates(permits)"
   ]
  },
  {
   "cell_type": "code",
   "execution_count": 5,
   "id": "7a8c7574",
   "metadata": {},
   "outputs": [],
   "source": [
    "parcels = pd.read_csv('./data/Blue Sky Code and Inputs/SF_Logistic_Data.csv')"
   ]
  },
  {
   "cell_type": "code",
   "execution_count": 304,
   "id": "d69dc805",
   "metadata": {},
   "outputs": [],
   "source": [
    "allParcels = gpd.read_file('./data/Parcels   Active and Retired/parcels.shp')"
   ]
  },
  {
   "cell_type": "code",
   "execution_count": 7,
   "id": "f2f6846a",
   "metadata": {},
   "outputs": [],
   "source": [
    "sites = gpd.read_file('./data/site_inventory/xn--Bay_Area_Housing_Opportunity_Sites_Inventory__20072023_-it38a.shp')"
   ]
  },
  {
   "cell_type": "code",
   "execution_count": 323,
   "id": "85eada89",
   "metadata": {},
   "outputs": [
    {
     "data": {
      "text/plain": [
       "<module 'clean_utils' from 'C:\\\\Users\\\\sadamerdji\\\\Desktop\\\\dissertation\\\\clean_utils.py'>"
      ]
     },
     "execution_count": 323,
     "metadata": {},
     "output_type": "execute_result"
    }
   ],
   "source": [
    "import importlib\n",
    "importlib.reload(clean_utils)"
   ]
  },
  {
   "cell_type": "markdown",
   "id": "d9c09954",
   "metadata": {},
   "source": [
    "### Training Set is RHNA 4"
   ]
  },
  {
   "cell_type": "code",
   "execution_count": 422,
   "id": "8d7e1f78",
   "metadata": {},
   "outputs": [
    {
     "data": {
      "text/plain": [
       "253"
      ]
     },
     "execution_count": 422,
     "metadata": {},
     "output_type": "execute_result"
    }
   ],
   "source": [
    "trainParcels = parcels[(parcels.year >= 2007) & (parcels.year < 2015)]\n",
    "trainY = trainParcels.groupby('MapBlkLot_Master')['Developed'].agg(lambda x: x.ne(0).sum())\n",
    "trainX = trainParcels[trainParcels.year == 2007]\n",
    "trainY.sum()"
   ]
  },
  {
   "cell_type": "markdown",
   "id": "917cc4fb",
   "metadata": {},
   "source": [
    "No duplicative index."
   ]
  },
  {
   "cell_type": "code",
   "execution_count": 424,
   "id": "fc96fbc0",
   "metadata": {},
   "outputs": [
    {
     "data": {
      "text/plain": [
       "0    152965\n",
       "1       251\n",
       "2         1\n",
       "Name: Developed, dtype: int64"
      ]
     },
     "execution_count": 424,
     "metadata": {},
     "output_type": "execute_result"
    }
   ],
   "source": [
    "nunique_lots = trainParcels[trainParcels.year == 2007].MapBlkLot_Master.nunique()\n",
    "n_lots = trainParcels[trainParcels.year == 2007].shape[0]\n",
    "assert nunique_lots == n_lots\n",
    "\n",
    "trainDf = pd.merge(trainX.drop('Developed', axis=1), trainY, left_on='MapBlkLot_Master', right_index=True)\n",
    "trainDf.Developed.value_counts()"
   ]
  },
  {
   "cell_type": "markdown",
   "id": "d0fb4a7d",
   "metadata": {},
   "source": [
    "### Make BlueSky data geospatial"
   ]
  },
  {
   "cell_type": "code",
   "execution_count": 428,
   "id": "eed18f08",
   "metadata": {},
   "outputs": [],
   "source": [
    "df = clean_utils.transform_bluesky_to_geospatial(trainDf)"
   ]
  },
  {
   "cell_type": "code",
   "execution_count": 429,
   "id": "c8534a78",
   "metadata": {},
   "outputs": [
    {
     "data": {
      "text/plain": [
       "7756"
      ]
     },
     "execution_count": 429,
     "metadata": {},
     "output_type": "execute_result"
    }
   ],
   "source": [
    "df.CANTID_blklot_backup.notna().sum()"
   ]
  },
  {
   "cell_type": "markdown",
   "id": "86a5d5c1",
   "metadata": {},
   "source": [
    "### Developed parcels"
   ]
  },
  {
   "cell_type": "code",
   "execution_count": 364,
   "id": "174e74fb",
   "metadata": {},
   "outputs": [],
   "source": [
    "built = df.loc[df.Developed > 0,]"
   ]
  },
  {
   "cell_type": "code",
   "execution_count": 365,
   "id": "e3e61d83",
   "metadata": {},
   "outputs": [
    {
     "data": {
      "text/plain": [
       "geopandas.geodataframe.GeoDataFrame"
      ]
     },
     "execution_count": 365,
     "metadata": {},
     "output_type": "execute_result"
    }
   ],
   "source": [
    "type(built)"
   ]
  },
  {
   "cell_type": "code",
   "execution_count": null,
   "id": "76cc33df",
   "metadata": {},
   "outputs": [],
   "source": [
    "permits = clean_utils.get_rhna_permits()"
   ]
  },
  {
   "cell_type": "code",
   "execution_count": null,
   "id": "64848c1d",
   "metadata": {},
   "outputs": [],
   "source": [
    "round(built.MapBlkLot_Master.isin(permits.blocklot).mean(), 2)"
   ]
  },
  {
   "cell_type": "code",
   "execution_count": 386,
   "id": "09983e23",
   "metadata": {},
   "outputs": [],
   "source": [
    "success = ['complete', 'issued', 'approved', 'granted', 'issuing']\n",
    "completed_projects = permits[permits['status'].isin(success)].copy()"
   ]
  },
  {
   "cell_type": "markdown",
   "id": "d958d32a",
   "metadata": {},
   "source": [
    "## Use blklot and apn. Compare"
   ]
  },
  {
   "cell_type": "code",
   "execution_count": 387,
   "id": "b7901f19",
   "metadata": {},
   "outputs": [
    {
     "data": {
      "text/plain": [
       "Index(['MapBlkLot_Master', 'mapblklot', 'blklot', 'active', 'geometry', 'year',\n",
       "       'Historic', 'Residential_Dummy', 'Zillow_Price_Real',\n",
       "       'Const_FedReserve_Real', 'Envelope_1000', 'Upzone_Ratio',\n",
       "       'zp_OfficeComm', 'zp_DensRestMulti', 'zp_FormBasedMulti', 'zp_PDRInd',\n",
       "       'zp_Public', 'zp_Redev', 'zp_RH2', 'zp_RH3_RM1', 'Developed',\n",
       "       'CANTID_blklot_backup', 'CANTID_geometry_backup'],\n",
       "      dtype='object')"
      ]
     },
     "execution_count": 387,
     "metadata": {},
     "output_type": "execute_result"
    }
   ],
   "source": [
    "built.columns"
   ]
  },
  {
   "cell_type": "code",
   "execution_count": 388,
   "id": "3911a126",
   "metadata": {},
   "outputs": [
    {
     "data": {
      "text/plain": [
       "2564"
      ]
     },
     "execution_count": 388,
     "metadata": {},
     "output_type": "execute_result"
    }
   ],
   "source": [
    "completed_projects['blocklot'].nunique()"
   ]
  },
  {
   "cell_type": "code",
   "execution_count": 411,
   "id": "dcc3c5d0",
   "metadata": {},
   "outputs": [],
   "source": [
    "dbi_units = completed_projects.groupby(['blocklot'], sort=False)['units'].median()"
   ]
  },
  {
   "cell_type": "code",
   "execution_count": 413,
   "id": "e3ded61f",
   "metadata": {},
   "outputs": [
    {
     "data": {
      "text/plain": [
       "9417.0"
      ]
     },
     "execution_count": 413,
     "metadata": {},
     "output_type": "execute_result"
    }
   ],
   "source": [
    "built_poisson_blklot = built.merge(dbi_units, how='inner', left_on='blklot', right_on='blocklot')\n",
    "built_poisson_blklot.units.sum()"
   ]
  },
  {
   "cell_type": "code",
   "execution_count": 414,
   "id": "e1156c47",
   "metadata": {},
   "outputs": [
    {
     "data": {
      "text/plain": [
       "9590.0"
      ]
     },
     "execution_count": 414,
     "metadata": {},
     "output_type": "execute_result"
    }
   ],
   "source": [
    "built_poisson_mapblklot = built.merge(dbi_units, how='inner', left_on='mapblklot', right_on='blocklot')\n",
    "built_poisson_mapblklot.units.sum()"
   ]
  },
  {
   "cell_type": "code",
   "execution_count": 415,
   "id": "c50f37d8",
   "metadata": {},
   "outputs": [
    {
     "data": {
      "text/plain": [
       "9590.0"
      ]
     },
     "execution_count": 415,
     "metadata": {},
     "output_type": "execute_result"
    }
   ],
   "source": [
    "built_poisson_mapblklotm = built.merge(dbi_units, how='inner', left_on='MapBlkLot_Master', right_on='blocklot')\n",
    "built_poisson_mapblklotm.units.sum()"
   ]
  },
  {
   "cell_type": "code",
   "execution_count": 416,
   "id": "9f0e0d2c",
   "metadata": {},
   "outputs": [
    {
     "data": {
      "text/plain": [
       "9417.0"
      ]
     },
     "execution_count": 416,
     "metadata": {},
     "output_type": "execute_result"
    }
   ],
   "source": [
    "dbi_units = completed_projects.groupby(['blocklot'], sort=False)['units'].median()\n",
    "\n",
    "built_poisson_apn = built.merge(dbi_units, how='inner', left_on='blklot', right_on='blocklot')\n",
    "built_poisson_apn.units.sum()"
   ]
  },
  {
   "cell_type": "code",
   "execution_count": 396,
   "id": "7c3d91dc",
   "metadata": {},
   "outputs": [],
   "source": [
    "all_match1 = pd.concat((built_poisson_apn, \n",
    "                        built_poisson_mapblklotm, \n",
    "                        built_poisson_mapblklot,\n",
    "                        built_poisson_blklot), axis=0)"
   ]
  },
  {
   "cell_type": "code",
   "execution_count": 397,
   "id": "628726cc",
   "metadata": {},
   "outputs": [
    {
     "data": {
      "text/plain": [
       "197"
      ]
     },
     "execution_count": 397,
     "metadata": {},
     "output_type": "execute_result"
    }
   ],
   "source": [
    "all_match1.MapBlkLot_Master.nunique()"
   ]
  },
  {
   "cell_type": "code",
   "execution_count": 398,
   "id": "d16429b8",
   "metadata": {},
   "outputs": [
    {
     "data": {
      "text/plain": [
       "197"
      ]
     },
     "execution_count": 398,
     "metadata": {},
     "output_type": "execute_result"
    }
   ],
   "source": [
    "built_poisson_mapblklot.MapBlkLot_Master.nunique()"
   ]
  },
  {
   "cell_type": "code",
   "execution_count": 399,
   "id": "f1c6bc18",
   "metadata": {},
   "outputs": [
    {
     "data": {
      "text/plain": [
       "<Geographic 2D CRS: EPSG:4326>\n",
       "Name: WGS 84\n",
       "Axis Info [ellipsoidal]:\n",
       "- Lat[north]: Geodetic latitude (degree)\n",
       "- Lon[east]: Geodetic longitude (degree)\n",
       "Area of Use:\n",
       "- name: World.\n",
       "- bounds: (-180.0, -90.0, 180.0, 90.0)\n",
       "Datum: World Geodetic System 1984 ensemble\n",
       "- Ellipsoid: WGS 84\n",
       "- Prime Meridian: Greenwich"
      ]
     },
     "execution_count": 399,
     "metadata": {},
     "output_type": "execute_result"
    }
   ],
   "source": [
    "completed_projects.crs"
   ]
  },
  {
   "cell_type": "code",
   "execution_count": 400,
   "id": "01d6c9a6",
   "metadata": {},
   "outputs": [],
   "source": [
    "dbi_units = dbi_units.reset_index()"
   ]
  },
  {
   "cell_type": "code",
   "execution_count": 401,
   "id": "b2904ae0",
   "metadata": {},
   "outputs": [],
   "source": [
    "built = built.to_crs('EPSG:4326')"
   ]
  },
  {
   "cell_type": "code",
   "execution_count": 402,
   "id": "489c48c2",
   "metadata": {},
   "outputs": [],
   "source": [
    "built_poisson_geo = gpd.sjoin(built, completed_projects, how=\"inner\", predicate='contains')"
   ]
  },
  {
   "cell_type": "code",
   "execution_count": 403,
   "id": "4980cb14",
   "metadata": {},
   "outputs": [],
   "source": [
    "all_match1 = all_match1.to_crs('EPSG:4326')"
   ]
  },
  {
   "cell_type": "code",
   "execution_count": 404,
   "id": "482ee6c6",
   "metadata": {},
   "outputs": [
    {
     "data": {
      "text/plain": [
       "197"
      ]
     },
     "execution_count": 404,
     "metadata": {},
     "output_type": "execute_result"
    }
   ],
   "source": [
    "all_match1.MapBlkLot_Master.nunique()"
   ]
  },
  {
   "cell_type": "code",
   "execution_count": 405,
   "id": "204b990f",
   "metadata": {},
   "outputs": [
    {
     "data": {
      "text/plain": [
       "276"
      ]
     },
     "execution_count": 405,
     "metadata": {},
     "output_type": "execute_result"
    }
   ],
   "source": [
    "built_poisson_geo.MapBlkLot_Master.nunique()"
   ]
  },
  {
   "cell_type": "code",
   "execution_count": 406,
   "id": "206fd6be",
   "metadata": {},
   "outputs": [
    {
     "data": {
      "text/html": [
       "<div>\n",
       "<style scoped>\n",
       "    .dataframe tbody tr th:only-of-type {\n",
       "        vertical-align: middle;\n",
       "    }\n",
       "\n",
       "    .dataframe tbody tr th {\n",
       "        vertical-align: top;\n",
       "    }\n",
       "\n",
       "    .dataframe thead th {\n",
       "        text-align: right;\n",
       "    }\n",
       "</style>\n",
       "<table border=\"1\" class=\"dataframe\">\n",
       "  <thead>\n",
       "    <tr style=\"text-align: right;\">\n",
       "      <th></th>\n",
       "      <th>MapBlkLot_Master</th>\n",
       "      <th>year</th>\n",
       "      <th>Historic</th>\n",
       "      <th>Residential_Dummy</th>\n",
       "      <th>Zillow_Price_Real</th>\n",
       "      <th>Const_FedReserve_Real</th>\n",
       "      <th>Envelope_1000</th>\n",
       "      <th>Upzone_Ratio</th>\n",
       "      <th>zp_OfficeComm</th>\n",
       "      <th>zp_DensRestMulti</th>\n",
       "      <th>zp_FormBasedMulti</th>\n",
       "      <th>zp_PDRInd</th>\n",
       "      <th>zp_Public</th>\n",
       "      <th>zp_Redev</th>\n",
       "      <th>zp_RH2</th>\n",
       "      <th>zp_RH3_RM1</th>\n",
       "      <th>Developed</th>\n",
       "      <th>units</th>\n",
       "    </tr>\n",
       "  </thead>\n",
       "  <tbody>\n",
       "    <tr>\n",
       "      <th>280</th>\n",
       "      <td>0041103</td>\n",
       "      <td>2007</td>\n",
       "      <td>1</td>\n",
       "      <td>1</td>\n",
       "      <td>93.227099</td>\n",
       "      <td>92.120253</td>\n",
       "      <td>7.727339</td>\n",
       "      <td>2.000000</td>\n",
       "      <td>0</td>\n",
       "      <td>1</td>\n",
       "      <td>0</td>\n",
       "      <td>0</td>\n",
       "      <td>0</td>\n",
       "      <td>0</td>\n",
       "      <td>0</td>\n",
       "      <td>0</td>\n",
       "      <td>1</td>\n",
       "      <td>9.0</td>\n",
       "    </tr>\n",
       "    <tr>\n",
       "      <th>2522</th>\n",
       "      <td>0129013A</td>\n",
       "      <td>2007</td>\n",
       "      <td>0</td>\n",
       "      <td>1</td>\n",
       "      <td>93.227099</td>\n",
       "      <td>92.120253</td>\n",
       "      <td>3.466252</td>\n",
       "      <td>2.000000</td>\n",
       "      <td>0</td>\n",
       "      <td>1</td>\n",
       "      <td>0</td>\n",
       "      <td>0</td>\n",
       "      <td>0</td>\n",
       "      <td>0</td>\n",
       "      <td>0</td>\n",
       "      <td>0</td>\n",
       "      <td>1</td>\n",
       "      <td>2.0</td>\n",
       "    </tr>\n",
       "    <tr>\n",
       "      <th>3904</th>\n",
       "      <td>0184042</td>\n",
       "      <td>2007</td>\n",
       "      <td>0</td>\n",
       "      <td>1</td>\n",
       "      <td>93.227099</td>\n",
       "      <td>92.120253</td>\n",
       "      <td>11.762343</td>\n",
       "      <td>0.172653</td>\n",
       "      <td>0</td>\n",
       "      <td>1</td>\n",
       "      <td>0</td>\n",
       "      <td>0</td>\n",
       "      <td>0</td>\n",
       "      <td>0</td>\n",
       "      <td>0</td>\n",
       "      <td>0</td>\n",
       "      <td>1</td>\n",
       "      <td>23.0</td>\n",
       "    </tr>\n",
       "    <tr>\n",
       "      <th>4230</th>\n",
       "      <td>0196030</td>\n",
       "      <td>2007</td>\n",
       "      <td>0</td>\n",
       "      <td>0</td>\n",
       "      <td>93.227099</td>\n",
       "      <td>92.120253</td>\n",
       "      <td>9.604406</td>\n",
       "      <td>1.115106</td>\n",
       "      <td>1</td>\n",
       "      <td>0</td>\n",
       "      <td>0</td>\n",
       "      <td>0</td>\n",
       "      <td>0</td>\n",
       "      <td>0</td>\n",
       "      <td>0</td>\n",
       "      <td>0</td>\n",
       "      <td>1</td>\n",
       "      <td>12.0</td>\n",
       "    </tr>\n",
       "    <tr>\n",
       "      <th>4230</th>\n",
       "      <td>0196030</td>\n",
       "      <td>2007</td>\n",
       "      <td>0</td>\n",
       "      <td>0</td>\n",
       "      <td>93.227099</td>\n",
       "      <td>92.120253</td>\n",
       "      <td>9.604406</td>\n",
       "      <td>1.115106</td>\n",
       "      <td>1</td>\n",
       "      <td>0</td>\n",
       "      <td>0</td>\n",
       "      <td>0</td>\n",
       "      <td>0</td>\n",
       "      <td>0</td>\n",
       "      <td>0</td>\n",
       "      <td>0</td>\n",
       "      <td>1</td>\n",
       "      <td>12.0</td>\n",
       "    </tr>\n",
       "    <tr>\n",
       "      <th>...</th>\n",
       "      <td>...</td>\n",
       "      <td>...</td>\n",
       "      <td>...</td>\n",
       "      <td>...</td>\n",
       "      <td>...</td>\n",
       "      <td>...</td>\n",
       "      <td>...</td>\n",
       "      <td>...</td>\n",
       "      <td>...</td>\n",
       "      <td>...</td>\n",
       "      <td>...</td>\n",
       "      <td>...</td>\n",
       "      <td>...</td>\n",
       "      <td>...</td>\n",
       "      <td>...</td>\n",
       "      <td>...</td>\n",
       "      <td>...</td>\n",
       "      <td>...</td>\n",
       "    </tr>\n",
       "    <tr>\n",
       "      <th>153076</th>\n",
       "      <td>8720117</td>\n",
       "      <td>2007</td>\n",
       "      <td>0</td>\n",
       "      <td>0</td>\n",
       "      <td>93.227099</td>\n",
       "      <td>92.120253</td>\n",
       "      <td>176.964381</td>\n",
       "      <td>1.920000</td>\n",
       "      <td>0</td>\n",
       "      <td>0</td>\n",
       "      <td>0</td>\n",
       "      <td>0</td>\n",
       "      <td>0</td>\n",
       "      <td>1</td>\n",
       "      <td>0</td>\n",
       "      <td>0</td>\n",
       "      <td>1</td>\n",
       "      <td>319.0</td>\n",
       "    </tr>\n",
       "    <tr>\n",
       "      <th>153076</th>\n",
       "      <td>8720117</td>\n",
       "      <td>2007</td>\n",
       "      <td>0</td>\n",
       "      <td>0</td>\n",
       "      <td>93.227099</td>\n",
       "      <td>92.120253</td>\n",
       "      <td>176.964381</td>\n",
       "      <td>1.920000</td>\n",
       "      <td>0</td>\n",
       "      <td>0</td>\n",
       "      <td>0</td>\n",
       "      <td>0</td>\n",
       "      <td>0</td>\n",
       "      <td>1</td>\n",
       "      <td>0</td>\n",
       "      <td>0</td>\n",
       "      <td>1</td>\n",
       "      <td>10.0</td>\n",
       "    </tr>\n",
       "    <tr>\n",
       "      <th>153076</th>\n",
       "      <td>8720117</td>\n",
       "      <td>2007</td>\n",
       "      <td>0</td>\n",
       "      <td>0</td>\n",
       "      <td>93.227099</td>\n",
       "      <td>92.120253</td>\n",
       "      <td>176.964381</td>\n",
       "      <td>1.920000</td>\n",
       "      <td>0</td>\n",
       "      <td>0</td>\n",
       "      <td>0</td>\n",
       "      <td>0</td>\n",
       "      <td>0</td>\n",
       "      <td>1</td>\n",
       "      <td>0</td>\n",
       "      <td>0</td>\n",
       "      <td>1</td>\n",
       "      <td>98.0</td>\n",
       "    </tr>\n",
       "    <tr>\n",
       "      <th>153076</th>\n",
       "      <td>8720117</td>\n",
       "      <td>2007</td>\n",
       "      <td>0</td>\n",
       "      <td>0</td>\n",
       "      <td>93.227099</td>\n",
       "      <td>92.120253</td>\n",
       "      <td>176.964381</td>\n",
       "      <td>1.920000</td>\n",
       "      <td>0</td>\n",
       "      <td>0</td>\n",
       "      <td>0</td>\n",
       "      <td>0</td>\n",
       "      <td>0</td>\n",
       "      <td>1</td>\n",
       "      <td>0</td>\n",
       "      <td>0</td>\n",
       "      <td>1</td>\n",
       "      <td>319.0</td>\n",
       "    </tr>\n",
       "    <tr>\n",
       "      <th>153076</th>\n",
       "      <td>8720117</td>\n",
       "      <td>2007</td>\n",
       "      <td>0</td>\n",
       "      <td>0</td>\n",
       "      <td>93.227099</td>\n",
       "      <td>92.120253</td>\n",
       "      <td>176.964381</td>\n",
       "      <td>1.920000</td>\n",
       "      <td>0</td>\n",
       "      <td>0</td>\n",
       "      <td>0</td>\n",
       "      <td>0</td>\n",
       "      <td>0</td>\n",
       "      <td>1</td>\n",
       "      <td>0</td>\n",
       "      <td>0</td>\n",
       "      <td>1</td>\n",
       "      <td>329.0</td>\n",
       "    </tr>\n",
       "  </tbody>\n",
       "</table>\n",
       "<p>1104 rows × 18 columns</p>\n",
       "</div>"
      ],
      "text/plain": [
       "       MapBlkLot_Master  year  Historic  Residential_Dummy  Zillow_Price_Real  \\\n",
       "280             0041103  2007         1                  1          93.227099   \n",
       "2522           0129013A  2007         0                  1          93.227099   \n",
       "3904            0184042  2007         0                  1          93.227099   \n",
       "4230            0196030  2007         0                  0          93.227099   \n",
       "4230            0196030  2007         0                  0          93.227099   \n",
       "...                 ...   ...       ...                ...                ...   \n",
       "153076          8720117  2007         0                  0          93.227099   \n",
       "153076          8720117  2007         0                  0          93.227099   \n",
       "153076          8720117  2007         0                  0          93.227099   \n",
       "153076          8720117  2007         0                  0          93.227099   \n",
       "153076          8720117  2007         0                  0          93.227099   \n",
       "\n",
       "        Const_FedReserve_Real  Envelope_1000  Upzone_Ratio  zp_OfficeComm  \\\n",
       "280                 92.120253       7.727339      2.000000              0   \n",
       "2522                92.120253       3.466252      2.000000              0   \n",
       "3904                92.120253      11.762343      0.172653              0   \n",
       "4230                92.120253       9.604406      1.115106              1   \n",
       "4230                92.120253       9.604406      1.115106              1   \n",
       "...                       ...            ...           ...            ...   \n",
       "153076              92.120253     176.964381      1.920000              0   \n",
       "153076              92.120253     176.964381      1.920000              0   \n",
       "153076              92.120253     176.964381      1.920000              0   \n",
       "153076              92.120253     176.964381      1.920000              0   \n",
       "153076              92.120253     176.964381      1.920000              0   \n",
       "\n",
       "        zp_DensRestMulti  zp_FormBasedMulti  zp_PDRInd  zp_Public  zp_Redev  \\\n",
       "280                    1                  0          0          0         0   \n",
       "2522                   1                  0          0          0         0   \n",
       "3904                   1                  0          0          0         0   \n",
       "4230                   0                  0          0          0         0   \n",
       "4230                   0                  0          0          0         0   \n",
       "...                  ...                ...        ...        ...       ...   \n",
       "153076                 0                  0          0          0         1   \n",
       "153076                 0                  0          0          0         1   \n",
       "153076                 0                  0          0          0         1   \n",
       "153076                 0                  0          0          0         1   \n",
       "153076                 0                  0          0          0         1   \n",
       "\n",
       "        zp_RH2  zp_RH3_RM1  Developed  units  \n",
       "280          0           0          1    9.0  \n",
       "2522         0           0          1    2.0  \n",
       "3904         0           0          1   23.0  \n",
       "4230         0           0          1   12.0  \n",
       "4230         0           0          1   12.0  \n",
       "...        ...         ...        ...    ...  \n",
       "153076       0           0          1  319.0  \n",
       "153076       0           0          1   10.0  \n",
       "153076       0           0          1   98.0  \n",
       "153076       0           0          1  319.0  \n",
       "153076       0           0          1  329.0  \n",
       "\n",
       "[1104 rows x 18 columns]"
      ]
     },
     "execution_count": 406,
     "metadata": {},
     "output_type": "execute_result"
    }
   ],
   "source": [
    "built_poisson_geo[list(trainDf.columns.values) + ['units']]"
   ]
  },
  {
   "cell_type": "code",
   "execution_count": 407,
   "id": "a72ba272",
   "metadata": {},
   "outputs": [],
   "source": [
    "all_match = pd.concat((all_match1, built_poisson_geo), axis=0)"
   ]
  },
  {
   "cell_type": "code",
   "execution_count": 408,
   "id": "5c800655",
   "metadata": {},
   "outputs": [
    {
     "data": {
      "text/plain": [
       "276"
      ]
     },
     "execution_count": 408,
     "metadata": {},
     "output_type": "execute_result"
    }
   ],
   "source": [
    "all_match.MapBlkLot_Master.nunique()"
   ]
  },
  {
   "cell_type": "code",
   "execution_count": 409,
   "id": "4f44a62c",
   "metadata": {},
   "outputs": [],
   "source": [
    "all_match_dbi = all_match[~all_match.MapBlkLot_Master.duplicated()]"
   ]
  },
  {
   "cell_type": "code",
   "execution_count": 410,
   "id": "cf406683",
   "metadata": {},
   "outputs": [
    {
     "data": {
      "text/plain": [
       "276"
      ]
     },
     "execution_count": 410,
     "metadata": {},
     "output_type": "execute_result"
    }
   ],
   "source": [
    "all_match_dbi.MapBlkLot_Master.nunique()"
   ]
  },
  {
   "cell_type": "markdown",
   "id": "58bae536",
   "metadata": {},
   "source": [
    "I can capture all but 35 permits using DBI dataset."
   ]
  },
  {
   "cell_type": "markdown",
   "id": "cbb6f8df",
   "metadata": {},
   "source": [
    "#### How many matches do I get if I use SF Planning Permits"
   ]
  },
  {
   "cell_type": "markdown",
   "id": "af53d52c",
   "metadata": {},
   "source": [
    "In the SF Planning Permits dataset, almost all mapblock lots are block + lot. Fewer are lot + block. And 29 have some non digit character I need to strip out.\n",
    "\n",
    "Also, 7% blocklots are nans."
   ]
  },
  {
   "cell_type": "code",
   "execution_count": 133,
   "id": "323078be",
   "metadata": {},
   "outputs": [
    {
     "data": {
      "text/plain": [
       "(29, 139)"
      ]
     },
     "execution_count": 133,
     "metadata": {},
     "output_type": "execute_result"
    }
   ],
   "source": [
    "permits[\n",
    "    ~((permits.mapblocklot == (permits.block + permits.lot))\n",
    "       | permits.block.isna()\n",
    "       | (permits.mapblocklot == (permits.lot + permits.block)))\n",
    "].shape"
   ]
  },
  {
   "cell_type": "code",
   "execution_count": 134,
   "id": "ebf44445",
   "metadata": {},
   "outputs": [],
   "source": [
    "ppermits = permits"
   ]
  },
  {
   "cell_type": "code",
   "execution_count": 135,
   "id": "5e4aec3d",
   "metadata": {},
   "outputs": [
    {
     "data": {
      "text/plain": [
       "0.07083529838209902"
      ]
     },
     "execution_count": 135,
     "metadata": {},
     "output_type": "execute_result"
    }
   ],
   "source": [
    "permits.mapblocklot.isna().mean()"
   ]
  },
  {
   "cell_type": "code",
   "execution_count": 136,
   "id": "97bdb22e",
   "metadata": {},
   "outputs": [
    {
     "data": {
      "text/plain": [
       "0         NaN\n",
       "1         NaN\n",
       "2         NaN\n",
       "3         NaN\n",
       "4         NaN\n",
       "         ... \n",
       "256562    NaN\n",
       "256563    NaN\n",
       "256564    NaN\n",
       "256565    NaN\n",
       "256566    NaN\n",
       "Name: related_building_permit, Length: 256567, dtype: object"
      ]
     },
     "execution_count": 136,
     "metadata": {},
     "output_type": "execute_result"
    }
   ],
   "source": [
    "permits.related_building_permit"
   ]
  },
  {
   "cell_type": "code",
   "execution_count": 137,
   "id": "f8bda3f3",
   "metadata": {},
   "outputs": [
    {
     "data": {
      "text/plain": [
       "CHECKED      2250\n",
       "UNCHECKED     365\n",
       "Name: new_construction, dtype: int64"
      ]
     },
     "execution_count": 137,
     "metadata": {},
     "output_type": "execute_result"
    }
   ],
   "source": [
    "permits.new_construction.value_counts()"
   ]
  },
  {
   "cell_type": "code",
   "execution_count": 146,
   "id": "b019477f",
   "metadata": {},
   "outputs": [
    {
     "data": {
      "text/plain": [
       "Closed                            106899\n",
       "Closed - Approved                  67776\n",
       "Closed - Informational             15156\n",
       "Closed - CEQA Clearance Issued     14751\n",
       "Closed - Abated                    13450\n",
       "Closed - Issued                     6574\n",
       "Closed - Withdrawn                  5562\n",
       "Under Review                        5157\n",
       "Open                                2905\n",
       "Closed - Disapproved                2429\n",
       "Closed - No Violation               2355\n",
       "Closed - Cancelled                  2206\n",
       "Closed - DR taken-Approved          1516\n",
       "Withdrawn                           1342\n",
       "Closed - Appeal Upheld              1266\n",
       "Closed - DR not taken-Approved      1064\n",
       "Closed - Appeal Denied               988\n",
       "On Hold                              811\n",
       "Submitted                            710\n",
       "Approved                             664\n",
       "Accepted                             512\n",
       "Pending Review                       438\n",
       "Permitted                            421\n",
       "Complete                             222\n",
       "Closed - Removed                     177\n",
       "Pending Closure                      172\n",
       "Cancelled - Duplicate                138\n",
       "Closed - No DR action-Approved       125\n",
       "Monitoring Compliance                120\n",
       "Consultation                          95\n",
       "Closed - DR taken-Disapproved         88\n",
       "Application Accepted                  87\n",
       "Public Review Period                  45\n",
       "Closed - Referred                     44\n",
       "Letter Issued                         32\n",
       "Name: record_status, dtype: int64"
      ]
     },
     "execution_count": 146,
     "metadata": {},
     "output_type": "execute_result"
    }
   ],
   "source": [
    "ppermits.record_status.value_counts()[:35]"
   ]
  },
  {
   "cell_type": "code",
   "execution_count": 138,
   "id": "4acb72dd",
   "metadata": {},
   "outputs": [],
   "source": [
    "for numerical in [c for c in ppermits.columns if 'num' in c]:\n",
    "    ppermits[numerical] = pd.to_numeric(ppermits[numerical])"
   ]
  },
  {
   "cell_type": "code",
   "execution_count": 139,
   "id": "40fcf96d",
   "metadata": {},
   "outputs": [],
   "source": [
    "ppermits['NA_NUMBER_OF_UNITS_EXIST'] = ppermits['number_of_units_exist'].isna()\n",
    "ppermits['units'] = ppermits['number_of_units'].fillna(0) - ppermits['number_of_units_exist'].fillna(0)"
   ]
  },
  {
   "cell_type": "code",
   "execution_count": 140,
   "id": "ee66942d",
   "metadata": {},
   "outputs": [],
   "source": [
    "date_cols = [c for c in ppermits.columns if 'date' in c]\n",
    "for date in date_cols:\n",
    "    ppermits[date] = pd.to_datetime(ppermits[date], errors='coerce')"
   ]
  },
  {
   "cell_type": "code",
   "execution_count": 147,
   "id": "85fb5311",
   "metadata": {},
   "outputs": [],
   "source": [
    "statuses = ['Closed - Approved', 'Closed',\n",
    "            'Closed - Issued', 'Closed - DR taken-Approved', \n",
    "            'Closed - Appeal Upheld', 'Closed - DR not taken-Approved',\n",
    "            'Approved', 'Permitted', 'Complete',\n",
    "            'Accepted', 'Application Accepted', 'Closed - No DR action-Approved']\n",
    "# Add / rename columns to fit ABAG format\n",
    "ppermits['permyear'] =  ppermits['close_date'].dt.year\n",
    "rhna_ppermits = ppermits[\n",
    "    (ppermits['units'] > 0)\n",
    "    & (ppermits['record_status'].isin(statuses)) \n",
    "    & ((ppermits['permyear'] >= 2007) & (ppermits['permyear'] <= 2015)\n",
    "       | (ppermits['open_date'].dt.year >= 2007) & (ppermits['open_date'].dt.year <= 2015)\n",
    "       | (ppermits['date_application_accepted'].dt.year >= 2007) & (ppermits['date_application_accepted'].dt.year <= 2015)\n",
    "       | (ppermits['date_application_submitted'].dt.year >= 2007) & (ppermits['date_application_submitted'].dt.year <= 2015))\n",
    "].copy()\n",
    "\n"
   ]
  },
  {
   "cell_type": "code",
   "execution_count": 148,
   "id": "8c10b963",
   "metadata": {},
   "outputs": [],
   "source": [
    "built_poisson_geo2 = gpd.sjoin(built, rhna_ppermits, how=\"inner\", predicate='contains')"
   ]
  },
  {
   "cell_type": "code",
   "execution_count": 149,
   "id": "28bf7d19",
   "metadata": {},
   "outputs": [],
   "source": [
    "built_poisson_blk2 = gpd.sjoin(built, rhna_ppermits, how=\"inner\", predicate='contains')"
   ]
  },
  {
   "cell_type": "code",
   "execution_count": 150,
   "id": "a7a70ca9",
   "metadata": {},
   "outputs": [
    {
     "data": {
      "text/plain": [
       "(123, 165)"
      ]
     },
     "execution_count": 150,
     "metadata": {},
     "output_type": "execute_result"
    }
   ],
   "source": [
    "built_poisson_geo2.shape"
   ]
  },
  {
   "cell_type": "code",
   "execution_count": 151,
   "id": "11c9faf3",
   "metadata": {},
   "outputs": [
    {
     "data": {
      "text/plain": [
       "4944.5"
      ]
     },
     "execution_count": 151,
     "metadata": {},
     "output_type": "execute_result"
    }
   ],
   "source": [
    "plan_units = rhna_ppermits.groupby(['mapblocklot'], sort=False)['units'].median()\n",
    "built_poisson_mapblklot2 = built.merge(plan_units, how='inner', left_on='mapblklot', right_on='mapblocklot')\n",
    "built_poisson_mapblklot2.units.sum()"
   ]
  },
  {
   "cell_type": "code",
   "execution_count": 152,
   "id": "bad6cb9f",
   "metadata": {},
   "outputs": [
    {
     "data": {
      "text/plain": [
       "65"
      ]
     },
     "execution_count": 152,
     "metadata": {},
     "output_type": "execute_result"
    }
   ],
   "source": [
    "built_poisson_mapblklot2.MapBlkLot_Master.nunique()"
   ]
  },
  {
   "cell_type": "code",
   "execution_count": 153,
   "id": "66a19552",
   "metadata": {},
   "outputs": [
    {
     "data": {
      "text/plain": [
       "104"
      ]
     },
     "execution_count": 153,
     "metadata": {},
     "output_type": "execute_result"
    }
   ],
   "source": [
    "len(set(built_poisson_mapblklot2.MapBlkLot_Master) | set(built_poisson_geo2.MapBlkLot_Master))"
   ]
  },
  {
   "cell_type": "code",
   "execution_count": 154,
   "id": "b65cbeb8",
   "metadata": {},
   "outputs": [],
   "source": [
    "all_match3 = pd.concat((all_match, built_poisson_mapblklot2, built_poisson_geo2), axis=0)"
   ]
  },
  {
   "cell_type": "code",
   "execution_count": 155,
   "id": "8629c475",
   "metadata": {},
   "outputs": [
    {
     "data": {
      "text/plain": [
       "276"
      ]
     },
     "execution_count": 155,
     "metadata": {},
     "output_type": "execute_result"
    }
   ],
   "source": [
    "all_match3.MapBlkLot_Master.nunique()"
   ]
  },
  {
   "cell_type": "code",
   "execution_count": 156,
   "id": "a13a359f",
   "metadata": {},
   "outputs": [],
   "source": [
    "all_match3 = all_match3[~all_match3.MapBlkLot_Master.duplicated()]"
   ]
  },
  {
   "cell_type": "code",
   "execution_count": 158,
   "id": "d71a2066",
   "metadata": {},
   "outputs": [],
   "source": [
    "finalDf = all_match3[list(trainDf.columns.values) + ['units']]"
   ]
  },
  {
   "cell_type": "code",
   "execution_count": 160,
   "id": "fbe560e3",
   "metadata": {},
   "outputs": [],
   "source": [
    "cantID = built[~built.MapBlkLot_Master.isin(finalDf.MapBlkLot_Master)]"
   ]
  },
  {
   "cell_type": "code",
   "execution_count": 161,
   "id": "5fb994ec",
   "metadata": {},
   "outputs": [
    {
     "data": {
      "text/plain": [
       "(31, 23)"
      ]
     },
     "execution_count": 161,
     "metadata": {},
     "output_type": "execute_result"
    }
   ],
   "source": [
    "cantID.shape"
   ]
  },
  {
   "cell_type": "code",
   "execution_count": 171,
   "id": "0f8b1f2e",
   "metadata": {},
   "outputs": [
    {
     "data": {
      "text/html": [
       "<div>\n",
       "<style scoped>\n",
       "    .dataframe tbody tr th:only-of-type {\n",
       "        vertical-align: middle;\n",
       "    }\n",
       "\n",
       "    .dataframe tbody tr th {\n",
       "        vertical-align: top;\n",
       "    }\n",
       "\n",
       "    .dataframe thead th {\n",
       "        text-align: right;\n",
       "    }\n",
       "</style>\n",
       "<table border=\"1\" class=\"dataframe\">\n",
       "  <thead>\n",
       "    <tr style=\"text-align: right;\">\n",
       "      <th></th>\n",
       "      <th>MapBlkLot_Master</th>\n",
       "      <th>mapblklot</th>\n",
       "      <th>blklot</th>\n",
       "      <th>active</th>\n",
       "      <th>geometry</th>\n",
       "      <th>year</th>\n",
       "      <th>Historic</th>\n",
       "      <th>Residential_Dummy</th>\n",
       "      <th>Zillow_Price_Real</th>\n",
       "      <th>Const_FedReserve_Real</th>\n",
       "      <th>...</th>\n",
       "      <th>zp_DensRestMulti</th>\n",
       "      <th>zp_FormBasedMulti</th>\n",
       "      <th>zp_PDRInd</th>\n",
       "      <th>zp_Public</th>\n",
       "      <th>zp_Redev</th>\n",
       "      <th>zp_RH2</th>\n",
       "      <th>zp_RH3_RM1</th>\n",
       "      <th>Developed</th>\n",
       "      <th>CANTID_blklot_backup</th>\n",
       "      <th>CANTID_geometry_backup</th>\n",
       "    </tr>\n",
       "  </thead>\n",
       "  <tbody>\n",
       "    <tr>\n",
       "      <th>13110</th>\n",
       "      <td>0776044</td>\n",
       "      <td>0776044</td>\n",
       "      <td>0776044</td>\n",
       "      <td>F</td>\n",
       "      <td>POLYGON ((-122.43625 37.77816, -122.43636 37.7...</td>\n",
       "      <td>2007.0</td>\n",
       "      <td>0.0</td>\n",
       "      <td>1.0</td>\n",
       "      <td>93.227099</td>\n",
       "      <td>92.120253</td>\n",
       "      <td>...</td>\n",
       "      <td>0.0</td>\n",
       "      <td>0.0</td>\n",
       "      <td>0.0</td>\n",
       "      <td>0.0</td>\n",
       "      <td>0.0</td>\n",
       "      <td>0.0</td>\n",
       "      <td>1.0</td>\n",
       "      <td>1.0</td>\n",
       "      <td>NaN</td>\n",
       "      <td>NaN</td>\n",
       "    </tr>\n",
       "    <tr>\n",
       "      <th>13204</th>\n",
       "      <td>0785051</td>\n",
       "      <td>0785051</td>\n",
       "      <td>0785051</td>\n",
       "      <td>F</td>\n",
       "      <td>POLYGON ((-122.42297 37.77923, -122.42290 37.7...</td>\n",
       "      <td>2007.0</td>\n",
       "      <td>0.0</td>\n",
       "      <td>0.0</td>\n",
       "      <td>93.227099</td>\n",
       "      <td>92.120253</td>\n",
       "      <td>...</td>\n",
       "      <td>1.0</td>\n",
       "      <td>0.0</td>\n",
       "      <td>0.0</td>\n",
       "      <td>0.0</td>\n",
       "      <td>0.0</td>\n",
       "      <td>0.0</td>\n",
       "      <td>0.0</td>\n",
       "      <td>1.0</td>\n",
       "      <td>NaN</td>\n",
       "      <td>NaN</td>\n",
       "    </tr>\n",
       "    <tr>\n",
       "      <th>13206</th>\n",
       "      <td>0785053</td>\n",
       "      <td>0785053</td>\n",
       "      <td>0785053</td>\n",
       "      <td>T</td>\n",
       "      <td>POLYGON ((-122.42244 37.77929, -122.42250 37.7...</td>\n",
       "      <td>2007.0</td>\n",
       "      <td>0.0</td>\n",
       "      <td>0.0</td>\n",
       "      <td>93.227099</td>\n",
       "      <td>92.120253</td>\n",
       "      <td>...</td>\n",
       "      <td>1.0</td>\n",
       "      <td>0.0</td>\n",
       "      <td>0.0</td>\n",
       "      <td>0.0</td>\n",
       "      <td>0.0</td>\n",
       "      <td>0.0</td>\n",
       "      <td>0.0</td>\n",
       "      <td>1.0</td>\n",
       "      <td>NaN</td>\n",
       "      <td>NaN</td>\n",
       "    </tr>\n",
       "    <tr>\n",
       "      <th>14562</th>\n",
       "      <td>0855053</td>\n",
       "      <td>0855053</td>\n",
       "      <td>0855091</td>\n",
       "      <td>T</td>\n",
       "      <td>POLYGON ((-122.42321 37.77227, -122.42336 37.7...</td>\n",
       "      <td>2007.0</td>\n",
       "      <td>0.0</td>\n",
       "      <td>0.0</td>\n",
       "      <td>93.227099</td>\n",
       "      <td>92.120253</td>\n",
       "      <td>...</td>\n",
       "      <td>1.0</td>\n",
       "      <td>0.0</td>\n",
       "      <td>0.0</td>\n",
       "      <td>0.0</td>\n",
       "      <td>0.0</td>\n",
       "      <td>0.0</td>\n",
       "      <td>0.0</td>\n",
       "      <td>1.0</td>\n",
       "      <td>NaN</td>\n",
       "      <td>NaN</td>\n",
       "    </tr>\n",
       "    <tr>\n",
       "      <th>19879</th>\n",
       "      <td>1100129</td>\n",
       "      <td>1100129</td>\n",
       "      <td>1100129</td>\n",
       "      <td>T</td>\n",
       "      <td>POLYGON ((-122.43900 37.78169, -122.43901 37.7...</td>\n",
       "      <td>2007.0</td>\n",
       "      <td>0.0</td>\n",
       "      <td>0.0</td>\n",
       "      <td>93.227099</td>\n",
       "      <td>92.120253</td>\n",
       "      <td>...</td>\n",
       "      <td>1.0</td>\n",
       "      <td>0.0</td>\n",
       "      <td>0.0</td>\n",
       "      <td>0.0</td>\n",
       "      <td>0.0</td>\n",
       "      <td>0.0</td>\n",
       "      <td>0.0</td>\n",
       "      <td>1.0</td>\n",
       "      <td>NaN</td>\n",
       "      <td>NaN</td>\n",
       "    </tr>\n",
       "    <tr>\n",
       "      <th>84351</th>\n",
       "      <td>3508040</td>\n",
       "      <td>3508040</td>\n",
       "      <td>3508050</td>\n",
       "      <td>T</td>\n",
       "      <td>POLYGON ((-122.41525 37.77595, -122.41555 37.7...</td>\n",
       "      <td>2007.0</td>\n",
       "      <td>0.0</td>\n",
       "      <td>1.0</td>\n",
       "      <td>93.227099</td>\n",
       "      <td>92.120253</td>\n",
       "      <td>...</td>\n",
       "      <td>0.0</td>\n",
       "      <td>0.0</td>\n",
       "      <td>0.0</td>\n",
       "      <td>0.0</td>\n",
       "      <td>0.0</td>\n",
       "      <td>0.0</td>\n",
       "      <td>0.0</td>\n",
       "      <td>1.0</td>\n",
       "      <td>NaN</td>\n",
       "      <td>NaN</td>\n",
       "    </tr>\n",
       "    <tr>\n",
       "      <th>85543</th>\n",
       "      <td>3542062</td>\n",
       "      <td>3542062</td>\n",
       "      <td>3542062</td>\n",
       "      <td>T</td>\n",
       "      <td>POLYGON ((-122.43033 37.76664, -122.43045 37.7...</td>\n",
       "      <td>2007.0</td>\n",
       "      <td>1.0</td>\n",
       "      <td>0.0</td>\n",
       "      <td>93.227099</td>\n",
       "      <td>92.120253</td>\n",
       "      <td>...</td>\n",
       "      <td>1.0</td>\n",
       "      <td>0.0</td>\n",
       "      <td>0.0</td>\n",
       "      <td>0.0</td>\n",
       "      <td>0.0</td>\n",
       "      <td>0.0</td>\n",
       "      <td>0.0</td>\n",
       "      <td>1.0</td>\n",
       "      <td>NaN</td>\n",
       "      <td>NaN</td>\n",
       "    </tr>\n",
       "    <tr>\n",
       "      <th>86779</th>\n",
       "      <td>3568092</td>\n",
       "      <td>3568092</td>\n",
       "      <td>3568092</td>\n",
       "      <td>F</td>\n",
       "      <td>POLYGON ((-122.42267 37.76404, -122.42268 37.7...</td>\n",
       "      <td>2007.0</td>\n",
       "      <td>0.0</td>\n",
       "      <td>1.0</td>\n",
       "      <td>93.227099</td>\n",
       "      <td>92.120253</td>\n",
       "      <td>...</td>\n",
       "      <td>1.0</td>\n",
       "      <td>0.0</td>\n",
       "      <td>0.0</td>\n",
       "      <td>0.0</td>\n",
       "      <td>0.0</td>\n",
       "      <td>0.0</td>\n",
       "      <td>0.0</td>\n",
       "      <td>1.0</td>\n",
       "      <td>NaN</td>\n",
       "      <td>NaN</td>\n",
       "    </tr>\n",
       "    <tr>\n",
       "      <th>88073</th>\n",
       "      <td>3589120</td>\n",
       "      <td>3589120</td>\n",
       "      <td>3589133</td>\n",
       "      <td>T</td>\n",
       "      <td>POLYGON ((-122.42003 37.76147, -122.42005 37.7...</td>\n",
       "      <td>2007.0</td>\n",
       "      <td>0.0</td>\n",
       "      <td>0.0</td>\n",
       "      <td>93.227099</td>\n",
       "      <td>92.120253</td>\n",
       "      <td>...</td>\n",
       "      <td>1.0</td>\n",
       "      <td>0.0</td>\n",
       "      <td>0.0</td>\n",
       "      <td>0.0</td>\n",
       "      <td>0.0</td>\n",
       "      <td>0.0</td>\n",
       "      <td>0.0</td>\n",
       "      <td>1.0</td>\n",
       "      <td>NaN</td>\n",
       "      <td>NaN</td>\n",
       "    </tr>\n",
       "    <tr>\n",
       "      <th>89798</th>\n",
       "      <td>3616083</td>\n",
       "      <td>3616083</td>\n",
       "      <td>3616083</td>\n",
       "      <td>T</td>\n",
       "      <td>POLYGON ((-122.41897 37.75627, -122.41896 37.7...</td>\n",
       "      <td>2007.0</td>\n",
       "      <td>1.0</td>\n",
       "      <td>0.0</td>\n",
       "      <td>93.227099</td>\n",
       "      <td>92.120253</td>\n",
       "      <td>...</td>\n",
       "      <td>1.0</td>\n",
       "      <td>0.0</td>\n",
       "      <td>0.0</td>\n",
       "      <td>0.0</td>\n",
       "      <td>0.0</td>\n",
       "      <td>0.0</td>\n",
       "      <td>0.0</td>\n",
       "      <td>1.0</td>\n",
       "      <td>NaN</td>\n",
       "      <td>NaN</td>\n",
       "    </tr>\n",
       "    <tr>\n",
       "      <th>91761</th>\n",
       "      <td>3702392</td>\n",
       "      <td>3702392</td>\n",
       "      <td>3702513</td>\n",
       "      <td>T</td>\n",
       "      <td>POLYGON ((-122.41262 37.77804, -122.41316 37.7...</td>\n",
       "      <td>2007.0</td>\n",
       "      <td>0.0</td>\n",
       "      <td>0.0</td>\n",
       "      <td>93.227099</td>\n",
       "      <td>92.120253</td>\n",
       "      <td>...</td>\n",
       "      <td>0.0</td>\n",
       "      <td>0.0</td>\n",
       "      <td>0.0</td>\n",
       "      <td>0.0</td>\n",
       "      <td>0.0</td>\n",
       "      <td>0.0</td>\n",
       "      <td>0.0</td>\n",
       "      <td>1.0</td>\n",
       "      <td>NaN</td>\n",
       "      <td>NaN</td>\n",
       "    </tr>\n",
       "    <tr>\n",
       "      <th>91803</th>\n",
       "      <td>3703086</td>\n",
       "      <td>3703086</td>\n",
       "      <td>3703086</td>\n",
       "      <td>T</td>\n",
       "      <td>POLYGON ((-122.41025 37.78068, -122.41031 37.7...</td>\n",
       "      <td>2007.0</td>\n",
       "      <td>0.0</td>\n",
       "      <td>0.0</td>\n",
       "      <td>93.227099</td>\n",
       "      <td>92.120253</td>\n",
       "      <td>...</td>\n",
       "      <td>0.0</td>\n",
       "      <td>0.0</td>\n",
       "      <td>0.0</td>\n",
       "      <td>0.0</td>\n",
       "      <td>0.0</td>\n",
       "      <td>0.0</td>\n",
       "      <td>0.0</td>\n",
       "      <td>1.0</td>\n",
       "      <td>NaN</td>\n",
       "      <td>NaN</td>\n",
       "    </tr>\n",
       "    <tr>\n",
       "      <th>92717</th>\n",
       "      <td>3732233</td>\n",
       "      <td>3732233</td>\n",
       "      <td>3732233</td>\n",
       "      <td>T</td>\n",
       "      <td>POLYGON ((-122.40566 37.77969, -122.40561 37.7...</td>\n",
       "      <td>2007.0</td>\n",
       "      <td>0.0</td>\n",
       "      <td>0.0</td>\n",
       "      <td>93.227099</td>\n",
       "      <td>92.120253</td>\n",
       "      <td>...</td>\n",
       "      <td>1.0</td>\n",
       "      <td>0.0</td>\n",
       "      <td>0.0</td>\n",
       "      <td>0.0</td>\n",
       "      <td>0.0</td>\n",
       "      <td>0.0</td>\n",
       "      <td>0.0</td>\n",
       "      <td>1.0</td>\n",
       "      <td>NaN</td>\n",
       "      <td>NaN</td>\n",
       "    </tr>\n",
       "    <tr>\n",
       "      <th>92831</th>\n",
       "      <td>3738013</td>\n",
       "      <td>3738013</td>\n",
       "      <td>3738013</td>\n",
       "      <td>F</td>\n",
       "      <td>POLYGON ((-122.39344 37.78909, -122.39411 37.7...</td>\n",
       "      <td>2007.0</td>\n",
       "      <td>0.0</td>\n",
       "      <td>0.0</td>\n",
       "      <td>93.227099</td>\n",
       "      <td>92.120253</td>\n",
       "      <td>...</td>\n",
       "      <td>0.0</td>\n",
       "      <td>0.0</td>\n",
       "      <td>0.0</td>\n",
       "      <td>1.0</td>\n",
       "      <td>0.0</td>\n",
       "      <td>0.0</td>\n",
       "      <td>0.0</td>\n",
       "      <td>1.0</td>\n",
       "      <td>NaN</td>\n",
       "      <td>NaN</td>\n",
       "    </tr>\n",
       "    <tr>\n",
       "      <th>92832</th>\n",
       "      <td>3738014</td>\n",
       "      <td>3738014</td>\n",
       "      <td>3738014</td>\n",
       "      <td>F</td>\n",
       "      <td>POLYGON ((-122.39404 37.78851, -122.39411 37.7...</td>\n",
       "      <td>2007.0</td>\n",
       "      <td>0.0</td>\n",
       "      <td>0.0</td>\n",
       "      <td>93.227099</td>\n",
       "      <td>92.120253</td>\n",
       "      <td>...</td>\n",
       "      <td>0.0</td>\n",
       "      <td>0.0</td>\n",
       "      <td>0.0</td>\n",
       "      <td>1.0</td>\n",
       "      <td>0.0</td>\n",
       "      <td>0.0</td>\n",
       "      <td>0.0</td>\n",
       "      <td>1.0</td>\n",
       "      <td>NaN</td>\n",
       "      <td>NaN</td>\n",
       "    </tr>\n",
       "    <tr>\n",
       "      <th>92879</th>\n",
       "      <td>3748007</td>\n",
       "      <td>3748007</td>\n",
       "      <td>3748007</td>\n",
       "      <td>F</td>\n",
       "      <td>POLYGON ((-122.39310 37.78690, -122.39321 37.7...</td>\n",
       "      <td>2007.0</td>\n",
       "      <td>0.0</td>\n",
       "      <td>0.0</td>\n",
       "      <td>93.227099</td>\n",
       "      <td>92.120253</td>\n",
       "      <td>...</td>\n",
       "      <td>0.0</td>\n",
       "      <td>1.0</td>\n",
       "      <td>0.0</td>\n",
       "      <td>0.0</td>\n",
       "      <td>0.0</td>\n",
       "      <td>0.0</td>\n",
       "      <td>0.0</td>\n",
       "      <td>1.0</td>\n",
       "      <td>NaN</td>\n",
       "      <td>NaN</td>\n",
       "    </tr>\n",
       "    <tr>\n",
       "      <th>94249</th>\n",
       "      <td>3965051</td>\n",
       "      <td>3965051</td>\n",
       "      <td>3965051</td>\n",
       "      <td>T</td>\n",
       "      <td>POLYGON ((-122.41059 37.76522, -122.41067 37.7...</td>\n",
       "      <td>2007.0</td>\n",
       "      <td>1.0</td>\n",
       "      <td>1.0</td>\n",
       "      <td>93.227099</td>\n",
       "      <td>92.120253</td>\n",
       "      <td>...</td>\n",
       "      <td>0.0</td>\n",
       "      <td>0.0</td>\n",
       "      <td>1.0</td>\n",
       "      <td>0.0</td>\n",
       "      <td>0.0</td>\n",
       "      <td>0.0</td>\n",
       "      <td>0.0</td>\n",
       "      <td>1.0</td>\n",
       "      <td>NaN</td>\n",
       "      <td>NaN</td>\n",
       "    </tr>\n",
       "    <tr>\n",
       "      <th>94369</th>\n",
       "      <td>3980057</td>\n",
       "      <td>3980057</td>\n",
       "      <td>3980065</td>\n",
       "      <td>T</td>\n",
       "      <td>POLYGON ((-122.40108 37.76443, -122.40142 37.7...</td>\n",
       "      <td>2007.0</td>\n",
       "      <td>0.0</td>\n",
       "      <td>0.0</td>\n",
       "      <td>93.227099</td>\n",
       "      <td>92.120253</td>\n",
       "      <td>...</td>\n",
       "      <td>0.0</td>\n",
       "      <td>0.0</td>\n",
       "      <td>1.0</td>\n",
       "      <td>0.0</td>\n",
       "      <td>0.0</td>\n",
       "      <td>0.0</td>\n",
       "      <td>0.0</td>\n",
       "      <td>1.0</td>\n",
       "      <td>NaN</td>\n",
       "      <td>NaN</td>\n",
       "    </tr>\n",
       "    <tr>\n",
       "      <th>94451</th>\n",
       "      <td>3987010</td>\n",
       "      <td>3987010</td>\n",
       "      <td>3987010</td>\n",
       "      <td>F</td>\n",
       "      <td>POLYGON ((-122.39425 37.76470, -122.39427 37.7...</td>\n",
       "      <td>2007.0</td>\n",
       "      <td>0.0</td>\n",
       "      <td>0.0</td>\n",
       "      <td>93.227099</td>\n",
       "      <td>92.120253</td>\n",
       "      <td>...</td>\n",
       "      <td>0.0</td>\n",
       "      <td>0.0</td>\n",
       "      <td>1.0</td>\n",
       "      <td>0.0</td>\n",
       "      <td>0.0</td>\n",
       "      <td>0.0</td>\n",
       "      <td>0.0</td>\n",
       "      <td>1.0</td>\n",
       "      <td>NaN</td>\n",
       "      <td>NaN</td>\n",
       "    </tr>\n",
       "    <tr>\n",
       "      <th>94462</th>\n",
       "      <td>3994006</td>\n",
       "      <td>3994006</td>\n",
       "      <td>3994006</td>\n",
       "      <td>F</td>\n",
       "      <td>POLYGON ((-122.38811 37.76360, -122.38812 37.7...</td>\n",
       "      <td>2007.0</td>\n",
       "      <td>0.0</td>\n",
       "      <td>0.0</td>\n",
       "      <td>93.227099</td>\n",
       "      <td>92.120253</td>\n",
       "      <td>...</td>\n",
       "      <td>0.0</td>\n",
       "      <td>0.0</td>\n",
       "      <td>1.0</td>\n",
       "      <td>0.0</td>\n",
       "      <td>0.0</td>\n",
       "      <td>0.0</td>\n",
       "      <td>0.0</td>\n",
       "      <td>1.0</td>\n",
       "      <td>NaN</td>\n",
       "      <td>NaN</td>\n",
       "    </tr>\n",
       "    <tr>\n",
       "      <th>95240</th>\n",
       "      <td>4044031</td>\n",
       "      <td>4044031</td>\n",
       "      <td>4044048</td>\n",
       "      <td>T</td>\n",
       "      <td>POLYGON ((-122.38918 37.76231, -122.38887 37.7...</td>\n",
       "      <td>2007.0</td>\n",
       "      <td>0.0</td>\n",
       "      <td>1.0</td>\n",
       "      <td>93.227099</td>\n",
       "      <td>92.120253</td>\n",
       "      <td>...</td>\n",
       "      <td>0.0</td>\n",
       "      <td>0.0</td>\n",
       "      <td>1.0</td>\n",
       "      <td>0.0</td>\n",
       "      <td>0.0</td>\n",
       "      <td>0.0</td>\n",
       "      <td>0.0</td>\n",
       "      <td>1.0</td>\n",
       "      <td>NaN</td>\n",
       "      <td>NaN</td>\n",
       "    </tr>\n",
       "    <tr>\n",
       "      <th>96706</th>\n",
       "      <td>4107026</td>\n",
       "      <td>4107026</td>\n",
       "      <td>4107047</td>\n",
       "      <td>T</td>\n",
       "      <td>POLYGON ((-122.39028 37.76004, -122.39030 37.7...</td>\n",
       "      <td>2007.0</td>\n",
       "      <td>1.0</td>\n",
       "      <td>1.0</td>\n",
       "      <td>93.227099</td>\n",
       "      <td>92.120253</td>\n",
       "      <td>...</td>\n",
       "      <td>0.0</td>\n",
       "      <td>0.0</td>\n",
       "      <td>1.0</td>\n",
       "      <td>0.0</td>\n",
       "      <td>0.0</td>\n",
       "      <td>0.0</td>\n",
       "      <td>0.0</td>\n",
       "      <td>1.0</td>\n",
       "      <td>NaN</td>\n",
       "      <td>NaN</td>\n",
       "    </tr>\n",
       "    <tr>\n",
       "      <th>98126</th>\n",
       "      <td>4228202</td>\n",
       "      <td>4228202</td>\n",
       "      <td>4228220</td>\n",
       "      <td>T</td>\n",
       "      <td>POLYGON ((-122.39066 37.75386, -122.39069 37.7...</td>\n",
       "      <td>2007.0</td>\n",
       "      <td>0.0</td>\n",
       "      <td>1.0</td>\n",
       "      <td>93.227099</td>\n",
       "      <td>92.120253</td>\n",
       "      <td>...</td>\n",
       "      <td>0.0</td>\n",
       "      <td>0.0</td>\n",
       "      <td>1.0</td>\n",
       "      <td>0.0</td>\n",
       "      <td>0.0</td>\n",
       "      <td>0.0</td>\n",
       "      <td>0.0</td>\n",
       "      <td>1.0</td>\n",
       "      <td>NaN</td>\n",
       "      <td>NaN</td>\n",
       "    </tr>\n",
       "    <tr>\n",
       "      <th>102320</th>\n",
       "      <td>4991601</td>\n",
       "      <td>4991601</td>\n",
       "      <td>4991601</td>\n",
       "      <td>T</td>\n",
       "      <td>POLYGON ((-122.39499 37.71129, -122.39510 37.7...</td>\n",
       "      <td>2007.0</td>\n",
       "      <td>0.0</td>\n",
       "      <td>1.0</td>\n",
       "      <td>93.227099</td>\n",
       "      <td>92.120253</td>\n",
       "      <td>...</td>\n",
       "      <td>0.0</td>\n",
       "      <td>0.0</td>\n",
       "      <td>0.0</td>\n",
       "      <td>0.0</td>\n",
       "      <td>0.0</td>\n",
       "      <td>0.0</td>\n",
       "      <td>0.0</td>\n",
       "      <td>1.0</td>\n",
       "      <td>NaN</td>\n",
       "      <td>NaN</td>\n",
       "    </tr>\n",
       "    <tr>\n",
       "      <th>102323</th>\n",
       "      <td>4991624</td>\n",
       "      <td>4991624</td>\n",
       "      <td>4991624</td>\n",
       "      <td>T</td>\n",
       "      <td>POLYGON ((-122.39310 37.71196, -122.39309 37.7...</td>\n",
       "      <td>2007.0</td>\n",
       "      <td>0.0</td>\n",
       "      <td>0.0</td>\n",
       "      <td>93.227099</td>\n",
       "      <td>92.120253</td>\n",
       "      <td>...</td>\n",
       "      <td>1.0</td>\n",
       "      <td>0.0</td>\n",
       "      <td>0.0</td>\n",
       "      <td>0.0</td>\n",
       "      <td>0.0</td>\n",
       "      <td>0.0</td>\n",
       "      <td>0.0</td>\n",
       "      <td>1.0</td>\n",
       "      <td>NaN</td>\n",
       "      <td>NaN</td>\n",
       "    </tr>\n",
       "    <tr>\n",
       "      <th>115033</th>\n",
       "      <td>5867051</td>\n",
       "      <td>5867051</td>\n",
       "      <td>5867051</td>\n",
       "      <td>T</td>\n",
       "      <td>POLYGON ((-122.42834 37.73123, -122.42834 37.7...</td>\n",
       "      <td>2007.0</td>\n",
       "      <td>0.0</td>\n",
       "      <td>0.0</td>\n",
       "      <td>93.227099</td>\n",
       "      <td>92.120253</td>\n",
       "      <td>...</td>\n",
       "      <td>1.0</td>\n",
       "      <td>0.0</td>\n",
       "      <td>0.0</td>\n",
       "      <td>0.0</td>\n",
       "      <td>0.0</td>\n",
       "      <td>0.0</td>\n",
       "      <td>0.0</td>\n",
       "      <td>1.0</td>\n",
       "      <td>NaN</td>\n",
       "      <td>NaN</td>\n",
       "    </tr>\n",
       "    <tr>\n",
       "      <th>115034</th>\n",
       "      <td>5868005</td>\n",
       "      <td>5868005</td>\n",
       "      <td>5868005</td>\n",
       "      <td>T</td>\n",
       "      <td>POLYGON ((-122.42873 37.73114, -122.42873 37.7...</td>\n",
       "      <td>2007.0</td>\n",
       "      <td>0.0</td>\n",
       "      <td>0.0</td>\n",
       "      <td>93.227099</td>\n",
       "      <td>92.120253</td>\n",
       "      <td>...</td>\n",
       "      <td>0.0</td>\n",
       "      <td>0.0</td>\n",
       "      <td>0.0</td>\n",
       "      <td>1.0</td>\n",
       "      <td>0.0</td>\n",
       "      <td>0.0</td>\n",
       "      <td>0.0</td>\n",
       "      <td>1.0</td>\n",
       "      <td>NaN</td>\n",
       "      <td>NaN</td>\n",
       "    </tr>\n",
       "    <tr>\n",
       "      <th>115036</th>\n",
       "      <td>5868009</td>\n",
       "      <td>5868009</td>\n",
       "      <td>5868009</td>\n",
       "      <td>T</td>\n",
       "      <td>POLYGON ((-122.42832 37.73089, -122.42832 37.7...</td>\n",
       "      <td>2007.0</td>\n",
       "      <td>0.0</td>\n",
       "      <td>0.0</td>\n",
       "      <td>93.227099</td>\n",
       "      <td>92.120253</td>\n",
       "      <td>...</td>\n",
       "      <td>1.0</td>\n",
       "      <td>0.0</td>\n",
       "      <td>0.0</td>\n",
       "      <td>0.0</td>\n",
       "      <td>0.0</td>\n",
       "      <td>0.0</td>\n",
       "      <td>0.0</td>\n",
       "      <td>1.0</td>\n",
       "      <td>NaN</td>\n",
       "      <td>NaN</td>\n",
       "    </tr>\n",
       "    <tr>\n",
       "      <th>151425</th>\n",
       "      <td>7331090</td>\n",
       "      <td>7331090</td>\n",
       "      <td>7331090</td>\n",
       "      <td>T</td>\n",
       "      <td>POLYGON ((-122.47494 37.71482, -122.47507 37.7...</td>\n",
       "      <td>2007.0</td>\n",
       "      <td>1.0</td>\n",
       "      <td>1.0</td>\n",
       "      <td>93.227099</td>\n",
       "      <td>92.120253</td>\n",
       "      <td>...</td>\n",
       "      <td>1.0</td>\n",
       "      <td>0.0</td>\n",
       "      <td>0.0</td>\n",
       "      <td>0.0</td>\n",
       "      <td>0.0</td>\n",
       "      <td>0.0</td>\n",
       "      <td>0.0</td>\n",
       "      <td>1.0</td>\n",
       "      <td>NaN</td>\n",
       "      <td>NaN</td>\n",
       "    </tr>\n",
       "    <tr>\n",
       "      <th>151444</th>\n",
       "      <td>7331131</td>\n",
       "      <td>7331131</td>\n",
       "      <td>7331131</td>\n",
       "      <td>T</td>\n",
       "      <td>POLYGON ((-122.47429 37.71512, -122.47422 37.7...</td>\n",
       "      <td>2007.0</td>\n",
       "      <td>1.0</td>\n",
       "      <td>1.0</td>\n",
       "      <td>93.227099</td>\n",
       "      <td>92.120253</td>\n",
       "      <td>...</td>\n",
       "      <td>1.0</td>\n",
       "      <td>0.0</td>\n",
       "      <td>0.0</td>\n",
       "      <td>0.0</td>\n",
       "      <td>0.0</td>\n",
       "      <td>0.0</td>\n",
       "      <td>0.0</td>\n",
       "      <td>1.0</td>\n",
       "      <td>NaN</td>\n",
       "      <td>NaN</td>\n",
       "    </tr>\n",
       "    <tr>\n",
       "      <th>153075</th>\n",
       "      <td>8720018</td>\n",
       "      <td>8720018</td>\n",
       "      <td>8720029</td>\n",
       "      <td>T</td>\n",
       "      <td>POLYGON ((-122.38749 37.77128, -122.38778 37.7...</td>\n",
       "      <td>2007.0</td>\n",
       "      <td>0.0</td>\n",
       "      <td>1.0</td>\n",
       "      <td>93.227099</td>\n",
       "      <td>92.120253</td>\n",
       "      <td>...</td>\n",
       "      <td>0.0</td>\n",
       "      <td>0.0</td>\n",
       "      <td>0.0</td>\n",
       "      <td>0.0</td>\n",
       "      <td>1.0</td>\n",
       "      <td>0.0</td>\n",
       "      <td>0.0</td>\n",
       "      <td>1.0</td>\n",
       "      <td>NaN</td>\n",
       "      <td>NaN</td>\n",
       "    </tr>\n",
       "  </tbody>\n",
       "</table>\n",
       "<p>31 rows × 23 columns</p>\n",
       "</div>"
      ],
      "text/plain": [
       "       MapBlkLot_Master mapblklot   blklot active  \\\n",
       "13110           0776044   0776044  0776044      F   \n",
       "13204           0785051   0785051  0785051      F   \n",
       "13206           0785053   0785053  0785053      T   \n",
       "14562           0855053   0855053  0855091      T   \n",
       "19879           1100129   1100129  1100129      T   \n",
       "84351           3508040   3508040  3508050      T   \n",
       "85543           3542062   3542062  3542062      T   \n",
       "86779           3568092   3568092  3568092      F   \n",
       "88073           3589120   3589120  3589133      T   \n",
       "89798           3616083   3616083  3616083      T   \n",
       "91761           3702392   3702392  3702513      T   \n",
       "91803           3703086   3703086  3703086      T   \n",
       "92717           3732233   3732233  3732233      T   \n",
       "92831           3738013   3738013  3738013      F   \n",
       "92832           3738014   3738014  3738014      F   \n",
       "92879           3748007   3748007  3748007      F   \n",
       "94249           3965051   3965051  3965051      T   \n",
       "94369           3980057   3980057  3980065      T   \n",
       "94451           3987010   3987010  3987010      F   \n",
       "94462           3994006   3994006  3994006      F   \n",
       "95240           4044031   4044031  4044048      T   \n",
       "96706           4107026   4107026  4107047      T   \n",
       "98126           4228202   4228202  4228220      T   \n",
       "102320          4991601   4991601  4991601      T   \n",
       "102323          4991624   4991624  4991624      T   \n",
       "115033          5867051   5867051  5867051      T   \n",
       "115034          5868005   5868005  5868005      T   \n",
       "115036          5868009   5868009  5868009      T   \n",
       "151425          7331090   7331090  7331090      T   \n",
       "151444          7331131   7331131  7331131      T   \n",
       "153075          8720018   8720018  8720029      T   \n",
       "\n",
       "                                                 geometry    year  Historic  \\\n",
       "13110   POLYGON ((-122.43625 37.77816, -122.43636 37.7...  2007.0       0.0   \n",
       "13204   POLYGON ((-122.42297 37.77923, -122.42290 37.7...  2007.0       0.0   \n",
       "13206   POLYGON ((-122.42244 37.77929, -122.42250 37.7...  2007.0       0.0   \n",
       "14562   POLYGON ((-122.42321 37.77227, -122.42336 37.7...  2007.0       0.0   \n",
       "19879   POLYGON ((-122.43900 37.78169, -122.43901 37.7...  2007.0       0.0   \n",
       "84351   POLYGON ((-122.41525 37.77595, -122.41555 37.7...  2007.0       0.0   \n",
       "85543   POLYGON ((-122.43033 37.76664, -122.43045 37.7...  2007.0       1.0   \n",
       "86779   POLYGON ((-122.42267 37.76404, -122.42268 37.7...  2007.0       0.0   \n",
       "88073   POLYGON ((-122.42003 37.76147, -122.42005 37.7...  2007.0       0.0   \n",
       "89798   POLYGON ((-122.41897 37.75627, -122.41896 37.7...  2007.0       1.0   \n",
       "91761   POLYGON ((-122.41262 37.77804, -122.41316 37.7...  2007.0       0.0   \n",
       "91803   POLYGON ((-122.41025 37.78068, -122.41031 37.7...  2007.0       0.0   \n",
       "92717   POLYGON ((-122.40566 37.77969, -122.40561 37.7...  2007.0       0.0   \n",
       "92831   POLYGON ((-122.39344 37.78909, -122.39411 37.7...  2007.0       0.0   \n",
       "92832   POLYGON ((-122.39404 37.78851, -122.39411 37.7...  2007.0       0.0   \n",
       "92879   POLYGON ((-122.39310 37.78690, -122.39321 37.7...  2007.0       0.0   \n",
       "94249   POLYGON ((-122.41059 37.76522, -122.41067 37.7...  2007.0       1.0   \n",
       "94369   POLYGON ((-122.40108 37.76443, -122.40142 37.7...  2007.0       0.0   \n",
       "94451   POLYGON ((-122.39425 37.76470, -122.39427 37.7...  2007.0       0.0   \n",
       "94462   POLYGON ((-122.38811 37.76360, -122.38812 37.7...  2007.0       0.0   \n",
       "95240   POLYGON ((-122.38918 37.76231, -122.38887 37.7...  2007.0       0.0   \n",
       "96706   POLYGON ((-122.39028 37.76004, -122.39030 37.7...  2007.0       1.0   \n",
       "98126   POLYGON ((-122.39066 37.75386, -122.39069 37.7...  2007.0       0.0   \n",
       "102320  POLYGON ((-122.39499 37.71129, -122.39510 37.7...  2007.0       0.0   \n",
       "102323  POLYGON ((-122.39310 37.71196, -122.39309 37.7...  2007.0       0.0   \n",
       "115033  POLYGON ((-122.42834 37.73123, -122.42834 37.7...  2007.0       0.0   \n",
       "115034  POLYGON ((-122.42873 37.73114, -122.42873 37.7...  2007.0       0.0   \n",
       "115036  POLYGON ((-122.42832 37.73089, -122.42832 37.7...  2007.0       0.0   \n",
       "151425  POLYGON ((-122.47494 37.71482, -122.47507 37.7...  2007.0       1.0   \n",
       "151444  POLYGON ((-122.47429 37.71512, -122.47422 37.7...  2007.0       1.0   \n",
       "153075  POLYGON ((-122.38749 37.77128, -122.38778 37.7...  2007.0       0.0   \n",
       "\n",
       "        Residential_Dummy  Zillow_Price_Real  Const_FedReserve_Real  ...  \\\n",
       "13110                 1.0          93.227099              92.120253  ...   \n",
       "13204                 0.0          93.227099              92.120253  ...   \n",
       "13206                 0.0          93.227099              92.120253  ...   \n",
       "14562                 0.0          93.227099              92.120253  ...   \n",
       "19879                 0.0          93.227099              92.120253  ...   \n",
       "84351                 1.0          93.227099              92.120253  ...   \n",
       "85543                 0.0          93.227099              92.120253  ...   \n",
       "86779                 1.0          93.227099              92.120253  ...   \n",
       "88073                 0.0          93.227099              92.120253  ...   \n",
       "89798                 0.0          93.227099              92.120253  ...   \n",
       "91761                 0.0          93.227099              92.120253  ...   \n",
       "91803                 0.0          93.227099              92.120253  ...   \n",
       "92717                 0.0          93.227099              92.120253  ...   \n",
       "92831                 0.0          93.227099              92.120253  ...   \n",
       "92832                 0.0          93.227099              92.120253  ...   \n",
       "92879                 0.0          93.227099              92.120253  ...   \n",
       "94249                 1.0          93.227099              92.120253  ...   \n",
       "94369                 0.0          93.227099              92.120253  ...   \n",
       "94451                 0.0          93.227099              92.120253  ...   \n",
       "94462                 0.0          93.227099              92.120253  ...   \n",
       "95240                 1.0          93.227099              92.120253  ...   \n",
       "96706                 1.0          93.227099              92.120253  ...   \n",
       "98126                 1.0          93.227099              92.120253  ...   \n",
       "102320                1.0          93.227099              92.120253  ...   \n",
       "102323                0.0          93.227099              92.120253  ...   \n",
       "115033                0.0          93.227099              92.120253  ...   \n",
       "115034                0.0          93.227099              92.120253  ...   \n",
       "115036                0.0          93.227099              92.120253  ...   \n",
       "151425                1.0          93.227099              92.120253  ...   \n",
       "151444                1.0          93.227099              92.120253  ...   \n",
       "153075                1.0          93.227099              92.120253  ...   \n",
       "\n",
       "        zp_DensRestMulti  zp_FormBasedMulti  zp_PDRInd  zp_Public  zp_Redev  \\\n",
       "13110                0.0                0.0        0.0        0.0       0.0   \n",
       "13204                1.0                0.0        0.0        0.0       0.0   \n",
       "13206                1.0                0.0        0.0        0.0       0.0   \n",
       "14562                1.0                0.0        0.0        0.0       0.0   \n",
       "19879                1.0                0.0        0.0        0.0       0.0   \n",
       "84351                0.0                0.0        0.0        0.0       0.0   \n",
       "85543                1.0                0.0        0.0        0.0       0.0   \n",
       "86779                1.0                0.0        0.0        0.0       0.0   \n",
       "88073                1.0                0.0        0.0        0.0       0.0   \n",
       "89798                1.0                0.0        0.0        0.0       0.0   \n",
       "91761                0.0                0.0        0.0        0.0       0.0   \n",
       "91803                0.0                0.0        0.0        0.0       0.0   \n",
       "92717                1.0                0.0        0.0        0.0       0.0   \n",
       "92831                0.0                0.0        0.0        1.0       0.0   \n",
       "92832                0.0                0.0        0.0        1.0       0.0   \n",
       "92879                0.0                1.0        0.0        0.0       0.0   \n",
       "94249                0.0                0.0        1.0        0.0       0.0   \n",
       "94369                0.0                0.0        1.0        0.0       0.0   \n",
       "94451                0.0                0.0        1.0        0.0       0.0   \n",
       "94462                0.0                0.0        1.0        0.0       0.0   \n",
       "95240                0.0                0.0        1.0        0.0       0.0   \n",
       "96706                0.0                0.0        1.0        0.0       0.0   \n",
       "98126                0.0                0.0        1.0        0.0       0.0   \n",
       "102320               0.0                0.0        0.0        0.0       0.0   \n",
       "102323               1.0                0.0        0.0        0.0       0.0   \n",
       "115033               1.0                0.0        0.0        0.0       0.0   \n",
       "115034               0.0                0.0        0.0        1.0       0.0   \n",
       "115036               1.0                0.0        0.0        0.0       0.0   \n",
       "151425               1.0                0.0        0.0        0.0       0.0   \n",
       "151444               1.0                0.0        0.0        0.0       0.0   \n",
       "153075               0.0                0.0        0.0        0.0       1.0   \n",
       "\n",
       "        zp_RH2  zp_RH3_RM1  Developed  CANTID_blklot_backup  \\\n",
       "13110      0.0         1.0        1.0                   NaN   \n",
       "13204      0.0         0.0        1.0                   NaN   \n",
       "13206      0.0         0.0        1.0                   NaN   \n",
       "14562      0.0         0.0        1.0                   NaN   \n",
       "19879      0.0         0.0        1.0                   NaN   \n",
       "84351      0.0         0.0        1.0                   NaN   \n",
       "85543      0.0         0.0        1.0                   NaN   \n",
       "86779      0.0         0.0        1.0                   NaN   \n",
       "88073      0.0         0.0        1.0                   NaN   \n",
       "89798      0.0         0.0        1.0                   NaN   \n",
       "91761      0.0         0.0        1.0                   NaN   \n",
       "91803      0.0         0.0        1.0                   NaN   \n",
       "92717      0.0         0.0        1.0                   NaN   \n",
       "92831      0.0         0.0        1.0                   NaN   \n",
       "92832      0.0         0.0        1.0                   NaN   \n",
       "92879      0.0         0.0        1.0                   NaN   \n",
       "94249      0.0         0.0        1.0                   NaN   \n",
       "94369      0.0         0.0        1.0                   NaN   \n",
       "94451      0.0         0.0        1.0                   NaN   \n",
       "94462      0.0         0.0        1.0                   NaN   \n",
       "95240      0.0         0.0        1.0                   NaN   \n",
       "96706      0.0         0.0        1.0                   NaN   \n",
       "98126      0.0         0.0        1.0                   NaN   \n",
       "102320     0.0         0.0        1.0                   NaN   \n",
       "102323     0.0         0.0        1.0                   NaN   \n",
       "115033     0.0         0.0        1.0                   NaN   \n",
       "115034     0.0         0.0        1.0                   NaN   \n",
       "115036     0.0         0.0        1.0                   NaN   \n",
       "151425     0.0         0.0        1.0                   NaN   \n",
       "151444     0.0         0.0        1.0                   NaN   \n",
       "153075     0.0         0.0        1.0                   NaN   \n",
       "\n",
       "        CANTID_geometry_backup  \n",
       "13110                      NaN  \n",
       "13204                      NaN  \n",
       "13206                      NaN  \n",
       "14562                      NaN  \n",
       "19879                      NaN  \n",
       "84351                      NaN  \n",
       "85543                      NaN  \n",
       "86779                      NaN  \n",
       "88073                      NaN  \n",
       "89798                      NaN  \n",
       "91761                      NaN  \n",
       "91803                      NaN  \n",
       "92717                      NaN  \n",
       "92831                      NaN  \n",
       "92832                      NaN  \n",
       "92879                      NaN  \n",
       "94249                      NaN  \n",
       "94369                      NaN  \n",
       "94451                      NaN  \n",
       "94462                      NaN  \n",
       "95240                      NaN  \n",
       "96706                      NaN  \n",
       "98126                      NaN  \n",
       "102320                     NaN  \n",
       "102323                     NaN  \n",
       "115033                     NaN  \n",
       "115034                     NaN  \n",
       "115036                     NaN  \n",
       "151425                     NaN  \n",
       "151444                     NaN  \n",
       "153075                     NaN  \n",
       "\n",
       "[31 rows x 23 columns]"
      ]
     },
     "execution_count": 171,
     "metadata": {},
     "output_type": "execute_result"
    }
   ],
   "source": [
    "cantID"
   ]
  },
  {
   "cell_type": "code",
   "execution_count": 163,
   "id": "fedd130f",
   "metadata": {},
   "outputs": [
    {
     "data": {
      "text/plain": [
       "(0, 23)"
      ]
     },
     "execution_count": 163,
     "metadata": {},
     "output_type": "execute_result"
    }
   ],
   "source": [
    "cantID[cantID.blklot.isin(rhna_permits[rhna_permits.units > 0].blocklot)].shape"
   ]
  },
  {
   "cell_type": "code",
   "execution_count": 172,
   "id": "024af2b1",
   "metadata": {},
   "outputs": [
    {
     "data": {
      "text/plain": [
       "0"
      ]
     },
     "execution_count": 172,
     "metadata": {},
     "output_type": "execute_result"
    }
   ],
   "source": [
    "cantID.CANTID_blklot_backup.notna().sum()"
   ]
  },
  {
   "cell_type": "code",
   "execution_count": 174,
   "id": "43fa0e8e",
   "metadata": {},
   "outputs": [
    {
     "data": {
      "text/plain": [
       "0"
      ]
     },
     "execution_count": 174,
     "metadata": {},
     "output_type": "execute_result"
    }
   ],
   "source": [
    "built.CANTID_geometry_backup.notna().sum()\n"
   ]
  },
  {
   "cell_type": "markdown",
   "id": "60b82b4c",
   "metadata": {},
   "source": [
    "#### Can I identify missing permits by geo? Only one more."
   ]
  },
  {
   "cell_type": "code",
   "execution_count": 166,
   "id": "0771285c",
   "metadata": {},
   "outputs": [
    {
     "data": {
      "text/plain": [
       "True"
      ]
     },
     "execution_count": 166,
     "metadata": {},
     "output_type": "execute_result"
    }
   ],
   "source": [
    "cantID.crs == rhna_permits.crs"
   ]
  },
  {
   "cell_type": "code",
   "execution_count": 167,
   "id": "c7214093",
   "metadata": {},
   "outputs": [
    {
     "data": {
      "text/plain": [
       "array(['4044031'], dtype=object)"
      ]
     },
     "execution_count": 167,
     "metadata": {},
     "output_type": "execute_result"
    }
   ],
   "source": [
    "gpd.sjoin(cantID, rhna_permits).MapBlkLot_Master.unique()"
   ]
  },
  {
   "cell_type": "markdown",
   "id": "e28fa162",
   "metadata": {},
   "source": [
    "#### Do these unidentified parcels have diff geometries I can try in Parcels?"
   ]
  },
  {
   "cell_type": "markdown",
   "id": "e30cb873",
   "metadata": {},
   "source": [
    "No. I tried looking at parcels where mapblocklot matched multiple rows in AllParcels, and none of those are the parcels that were developed 2007-2015."
   ]
  },
  {
   "cell_type": "code",
   "execution_count": 190,
   "id": "f86737ee",
   "metadata": {},
   "outputs": [],
   "source": [
    "remaining = dbi[\n",
    "    (dbi['units'] > 0)\n",
    "    & (dbi['permit_type'].isin([1, 2, 3, 8]))\n",
    "    & (dbi.blocklot.isin(cantID.MapBlkLot_Master))]"
   ]
  },
  {
   "cell_type": "code",
   "execution_count": 213,
   "id": "e7017092",
   "metadata": {},
   "outputs": [
    {
     "data": {
      "text/plain": [
       "9"
      ]
     },
     "execution_count": 213,
     "metadata": {},
     "output_type": "execute_result"
    }
   ],
   "source": [
    "remaining.blocklot.nunique()"
   ]
  },
  {
   "cell_type": "code",
   "execution_count": 248,
   "id": "24237de0",
   "metadata": {},
   "outputs": [
    {
     "data": {
      "text/plain": [
       "9"
      ]
     },
     "execution_count": 248,
     "metadata": {},
     "output_type": "execute_result"
    }
   ],
   "source": [
    "dbi_units_remain = remaining.groupby(['blocklot'], sort=False)['units'].median()\n",
    "\n",
    "built_poisson_remainder = cantID.merge(dbi_units_remain, how='inner', left_on='MapBlkLot_Master', right_on='blocklot')\n",
    "built_poisson_remainder.MapBlkLot_Master.nunique()"
   ]
  },
  {
   "cell_type": "code",
   "execution_count": 249,
   "id": "4e54370c",
   "metadata": {},
   "outputs": [],
   "source": [
    "built_poisson_remainder = built_poisson_remainder[list(trainDf.columns.values) + ['units']]"
   ]
  },
  {
   "cell_type": "code",
   "execution_count": 256,
   "id": "4942d0ca",
   "metadata": {},
   "outputs": [],
   "source": [
    "all_match_last = pd.concat((finalDf, built_poisson_remainder), axis=0)"
   ]
  },
  {
   "cell_type": "code",
   "execution_count": 257,
   "id": "356641a7",
   "metadata": {},
   "outputs": [
    {
     "data": {
      "text/plain": [
       "(285, 24)"
      ]
     },
     "execution_count": 257,
     "metadata": {},
     "output_type": "execute_result"
    }
   ],
   "source": [
    "all_match_last.shape"
   ]
  },
  {
   "cell_type": "code",
   "execution_count": 258,
   "id": "07316c41",
   "metadata": {},
   "outputs": [],
   "source": [
    "remaining2 = dbi[\n",
    "    (dbi['units'] > 0)\n",
    "    & (dbi['permit_type'].isin([1, 2, 3, 8]))]"
   ]
  },
  {
   "cell_type": "code",
   "execution_count": 259,
   "id": "5a02cc6e",
   "metadata": {},
   "outputs": [],
   "source": [
    "cantID2 = cantID[~cantID.MapBlkLot_Master.isin(built_poisson_remainder.MapBlkLot_Master)].copy()"
   ]
  },
  {
   "cell_type": "code",
   "execution_count": 260,
   "id": "405a999f",
   "metadata": {},
   "outputs": [],
   "source": [
    "lastgeo =  gpd.sjoin(cantID2, remaining2, how=\"inner\", predicate='contains')"
   ]
  },
  {
   "cell_type": "code",
   "execution_count": 261,
   "id": "f233fd30",
   "metadata": {},
   "outputs": [],
   "source": [
    "lastgeoUq = lastgeo[~lastgeo.MapBlkLot_Master.duplicated()]"
   ]
  },
  {
   "cell_type": "code",
   "execution_count": 262,
   "id": "8836558d",
   "metadata": {},
   "outputs": [],
   "source": [
    "lastgeoUq = lastgeoUq[list(trainDf.columns.values) + ['units']]"
   ]
  },
  {
   "cell_type": "code",
   "execution_count": 264,
   "id": "a494d26a",
   "metadata": {},
   "outputs": [],
   "source": [
    "fdf = pd.concat((all_match_last, lastgeoUq), axis=0)"
   ]
  },
  {
   "cell_type": "code",
   "execution_count": 265,
   "id": "2164b079",
   "metadata": {},
   "outputs": [
    {
     "data": {
      "text/plain": [
       "(290, 24)"
      ]
     },
     "execution_count": 265,
     "metadata": {},
     "output_type": "execute_result"
    }
   ],
   "source": [
    "fdf.shape"
   ]
  },
  {
   "cell_type": "code",
   "execution_count": 275,
   "id": "4e21d6b0",
   "metadata": {},
   "outputs": [],
   "source": [
    "fdf['area'] = fdf.to_crs(5070).geometry.area"
   ]
  },
  {
   "cell_type": "code",
   "execution_count": 279,
   "id": "3862736b",
   "metadata": {},
   "outputs": [],
   "source": [
    "fdf.to_file('clean_built_data.geojson')"
   ]
  },
  {
   "cell_type": "code",
   "execution_count": 282,
   "id": "78b45ac7",
   "metadata": {},
   "outputs": [
    {
     "data": {
      "text/plain": [
       "580"
      ]
     },
     "execution_count": 282,
     "metadata": {},
     "output_type": "execute_result"
    }
   ],
   "source": [
    "trainDf.MapBlkLot_Master.isin(fdf.MapBlkLot_Master).sum()"
   ]
  },
  {
   "cell_type": "code",
   "execution_count": null,
   "id": "cfa9bdc8",
   "metadata": {},
   "outputs": [],
   "source": []
  }
 ],
 "metadata": {
  "kernelspec": {
   "display_name": "Python 3",
   "language": "python",
   "name": "python3"
  },
  "language_info": {
   "codemirror_mode": {
    "name": "ipython",
    "version": 3
   },
   "file_extension": ".py",
   "mimetype": "text/x-python",
   "name": "python",
   "nbconvert_exporter": "python",
   "pygments_lexer": "ipython3",
   "version": "3.8.8"
  }
 },
 "nbformat": 4,
 "nbformat_minor": 5
}
