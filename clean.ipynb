{
 "cells": [
  {
   "cell_type": "code",
   "execution_count": 3,
   "id": "fcca4d24",
   "metadata": {},
   "outputs": [],
   "source": [
    "import pandas as pd\n",
    "import geopandas as gpd\n",
    "import dask_geopandas as dgpd"
   ]
  },
  {
   "cell_type": "markdown",
   "id": "b456e3a1-2a60-419c-a299-23444320bb14",
   "metadata": {},
   "source": [
    "# Save tax data as feather"
   ]
  },
  {
   "cell_type": "code",
   "execution_count": 26,
   "id": "6cb325b2-4105-4f37-90a3-4b705fa242d6",
   "metadata": {},
   "outputs": [],
   "source": [
    "tax = gpd.read_file('./data/tax.geojson')\n",
    "tax.to_feather('./data/tax_untouched.geofeather')"
   ]
  },
  {
   "cell_type": "code",
   "execution_count": 31,
   "id": "ea561fbc-c162-4526-84c6-96e0cb368d8c",
   "metadata": {},
   "outputs": [],
   "source": [
    "tax = gpd.read_feather('./data/tax.geofeather')"
   ]
  },
  {
   "cell_type": "code",
   "execution_count": 19,
   "id": "596efa26-107b-4a20-9407-95a6f81c386e",
   "metadata": {},
   "outputs": [],
   "source": [
    "# Reduce file size by casting to numeric\n",
    "to_numeric = ['percent_of_ownership', 'year_property_built',\n",
    "              'number_of_rooms', 'number_of_stories', 'misc_exemption_value',\n",
    "              'number_of_units', 'property_area', 'basement_area',\n",
    "              'assessed_improvement_value', 'assessed_land_value', 'assessed_personal_property_value',\n",
    "              'assessed_fixtures_value', 'homeowner_exemption_value',\n",
    "              'lot_frontage', 'number_of_bathrooms', 'lot_depth',  'lot_area',\n",
    "              'number_of_bedrooms', 'closed_roll_year', 'volume_number']\n",
    "\n",
    "tax[to_numeric] = tax[to_numeric].apply(lambda x: pd.to_numeric(x, errors='coerce'))\n",
    "\n",
    "# Remove redundant columns (These columns use codes described in plain english by other columns)\n",
    "tax = tax.drop(['assessor_neighborhood_code', 'property_class_code', 'exemption_code', 'use_code'], axis=1)\n",
    "\n",
    "# Remove other irrelevant columns\n",
    "tax = tax.drop(['row_id', 'data_as_of', 'data_loaded_at'], axis=1)"
   ]
  },
  {
   "cell_type": "code",
   "execution_count": 32,
   "id": "dc1e9820-2bd0-4bc2-ba6d-8fda6459c4ff",
   "metadata": {},
   "outputs": [],
   "source": [
    "tax[['supervisor_district_2012', 'supervisor_district']] = tax[['supervisor_district_2012', 'supervisor_district']].astype(str)\n",
    "to_category = tax.columns[(tax.dtypes == 'object') | (tax.dtypes == 'category')].tolist()\n",
    "tax[to_category] = tax[to_category].astype(str)"
   ]
  },
  {
   "cell_type": "code",
   "execution_count": 33,
   "id": "2c079c51-3295-4842-8c37-c76e57451fc1",
   "metadata": {},
   "outputs": [],
   "source": [
    "current_date = pd.to_datetime('2023-01-01')\n",
    "time_difference = current_date - tax['current_sales_date']\n",
    "tax['years_since_last_sale'] = (time_difference / pd.Timedelta(days=365.25))"
   ]
  },
  {
   "cell_type": "code",
   "execution_count": 35,
   "id": "6f91c12b-2f93-43ad-bd12-a0fb690fddbc",
   "metadata": {},
   "outputs": [],
   "source": [
    "for c in tax.columns:\n",
    "    if c != 'geometry':\n",
    "        tax[c].replace({'None': 'NaN', None: 'NaN'}, inplace=True)"
   ]
  },
  {
   "cell_type": "code",
   "execution_count": 36,
   "id": "68904cce-82aa-4b86-859d-071df6d3f110",
   "metadata": {},
   "outputs": [],
   "source": [
    "tax.to_feather('./data/tax.geofeather')"
   ]
  },
  {
   "cell_type": "markdown",
   "id": "e22769f6",
   "metadata": {},
   "source": [
    "### Geospatial merge between tax data and zillow neighborhoods"
   ]
  },
  {
   "cell_type": "code",
   "execution_count": 22,
   "id": "7553c664-808d-4711-83b8-3bfb9529a2dd",
   "metadata": {},
   "outputs": [],
   "source": [
    "neigh = gpd.read_file('./data/ZillowNeighborhoods-CA/ZillowNeighborhoods-CA.shp')\n",
    "\n",
    "sf = neigh[neigh.CITY.str.contains('San Francisco')]\n",
    "sf_neighborhoods = sf[['NAME', 'geometry']]\n",
    "sf_neighborhoods = sf_neighborhoods.rename(columns={'NAME': 'zillow_neighborhood_name'})"
   ]
  },
  {
   "cell_type": "code",
   "execution_count": 23,
   "id": "94e4e592-f863-46b0-98f2-f28e2095137c",
   "metadata": {},
   "outputs": [],
   "source": [
    "ddf = dgpd.from_geopandas(tax, npartitions=10)"
   ]
  },
  {
   "cell_type": "code",
   "execution_count": 24,
   "id": "2f01adbd-398d-454b-b45f-057e7b614822",
   "metadata": {},
   "outputs": [],
   "source": [
    "ddf = ddf.to_crs(epsg=3310)"
   ]
  },
  {
   "cell_type": "code",
   "execution_count": 25,
   "id": "50cb76f3-ff72-4e83-95fa-dc259adf9d9c",
   "metadata": {},
   "outputs": [],
   "source": [
    "tax = ddf.compute()"
   ]
  },
  {
   "cell_type": "code",
   "execution_count": 26,
   "id": "115403fe-d1ec-4f96-be90-8607d33dfa60",
   "metadata": {},
   "outputs": [],
   "source": [
    "sf_neighborhoods.to_crs(epsg=3310, inplace=True)"
   ]
  },
  {
   "cell_type": "code",
   "execution_count": 27,
   "id": "15123188-3514-4b3e-b084-9fe496469eb9",
   "metadata": {},
   "outputs": [],
   "source": [
    "tax = tax.sjoin_nearest(sf_neighborhoods, how='left')"
   ]
  },
  {
   "cell_type": "code",
   "execution_count": 28,
   "id": "1d856533-18ad-4ca2-a463-df097ebb67ae",
   "metadata": {},
   "outputs": [],
   "source": [
    "tax.drop(columns='index_right', inplace=True)"
   ]
  },
  {
   "cell_type": "code",
   "execution_count": 29,
   "id": "a1bef0a5-5cdd-47e7-ac74-f46ef33a3c14",
   "metadata": {},
   "outputs": [
    {
     "data": {
      "text/plain": [
       "Index(['property_class_code_definition', 'lot_code', 'property_area',\n",
       "       'volume_number', 'percent_of_ownership', 'misc_exemption_value',\n",
       "       'zoning_code', 'year_property_built', 'analysis_neighborhood',\n",
       "       'number_of_units', 'use_definition', 'closed_roll_year', 'status_code',\n",
       "       'number_of_bedrooms', 'assessor_neighborhood', 'number_of_stories',\n",
       "       'assessor_neighborhood_district', 'exemption_code_definition', 'block',\n",
       "       'current_sales_date', 'lot_area', 'number_of_rooms', 'lot_depth',\n",
       "       'assessed_personal_property_value', 'supervisor_district_2012',\n",
       "       'number_of_bathrooms', 'construction_type', 'lot_frontage',\n",
       "       'homeowner_exemption_value', 'tax_rate_area_code', 'lot',\n",
       "       'property_location', 'parcel_number', 'assessed_fixtures_value',\n",
       "       'supervisor_district', 'assessed_land_value', 'basement_area',\n",
       "       'assessed_improvement_value', 'geometry', 'zillow_neighborhood_name'],\n",
       "      dtype='object')"
      ]
     },
     "execution_count": 29,
     "metadata": {},
     "output_type": "execute_result"
    }
   ],
   "source": [
    "tax.columns"
   ]
  },
  {
   "cell_type": "code",
   "execution_count": 30,
   "id": "89c2a602-c42f-43b5-a6ff-bf4e0be89406",
   "metadata": {},
   "outputs": [],
   "source": [
    "# Save in efficient format\n",
    "tax.to_feather('./data/tax.geofeather')"
   ]
  },
  {
   "cell_type": "markdown",
   "id": "627522d7",
   "metadata": {},
   "source": [
    "### Save dbi permits as feather "
   ]
  },
  {
   "cell_type": "markdown",
   "id": "8e59ad6e",
   "metadata": {},
   "source": [
    "And convert some columns to reduce space."
   ]
  },
  {
   "cell_type": "code",
   "execution_count": 3,
   "id": "ff37f7a7",
   "metadata": {},
   "outputs": [],
   "source": [
    "dbi = gpd.read_feather('./data/dbi_permits.geofeather')"
   ]
  },
  {
   "cell_type": "code",
   "execution_count": 4,
   "id": "617c1868",
   "metadata": {},
   "outputs": [],
   "source": [
    "date_cols = [c for c in dbi.columns if 'date' in c]\n",
    "dbi[date_cols] = dbi[date_cols].apply(lambda x: pd.to_datetime(x, errors='coerce'))\n",
    "cost_cols = [c for c in dbi.columns if 'cost' in c]\n",
    "dbi[cost_cols] = dbi[cost_cols].apply(lambda x: pd.to_numeric(x, errors='coerce'))\n",
    "unit_cols = [c for c in dbi.columns if 'unit' in c]\n",
    "dbi[unit_cols] = dbi[unit_cols].apply(lambda x: pd.to_numeric(x, errors='coerce'))"
   ]
  },
  {
   "cell_type": "code",
   "execution_count": 5,
   "id": "f7a916cf",
   "metadata": {},
   "outputs": [],
   "source": [
    "dbi.to_feather('./data/dbi_permits.geofeather')"
   ]
  },
  {
   "cell_type": "markdown",
   "id": "d4cd52cd",
   "metadata": {},
   "source": [
    "### Geospatial Blue Sky"
   ]
  },
  {
   "cell_type": "code",
   "execution_count": 17,
   "id": "fad119de",
   "metadata": {},
   "outputs": [],
   "source": [
    "bluesky = pd.read_csv('./data/Blue Sky Code and Inputs/SF_Logistic_Data.csv')\n",
    "\n",
    "allParcels = gpd.read_feather('./data/allParcels.geofeather')\n",
    "allParcels.date_map_a = pd.to_datetime(allParcels.date_map_a)\n",
    "allParcels.date_rec_a = pd.to_datetime(allParcels.date_rec_a)\n",
    "\n",
    "# Double check this line.\n",
    "allParcels = allParcels[allParcels.date_map_a.dt.year.notna()]\n",
    "\n",
    "allParcels = allParcels[~(pd.to_datetime(allParcels.date_map_d).dt.year < bluesky.year.min())]\n",
    "allParcels = allParcels[~(pd.to_datetime(allParcels.date_rec_d).dt.year < bluesky.year.min())]\n",
    "allParcels = allParcels[~(allParcels.date_rec_a.dt.year >= bluesky.year.max())]\n",
    "allParcels = allParcels[~(allParcels.date_map_a.dt.year >= bluesky.year.max())]"
   ]
  },
  {
   "cell_type": "code",
   "execution_count": 18,
   "id": "1cef3a7f",
   "metadata": {},
   "outputs": [],
   "source": [
    "allParcels['year'] = allParcels.date_map_a.dt.year"
   ]
  },
  {
   "cell_type": "code",
   "execution_count": 19,
   "id": "895ee68c",
   "metadata": {},
   "outputs": [],
   "source": [
    "allParcels = allParcels.sort_values('year')"
   ]
  },
  {
   "cell_type": "code",
   "execution_count": 20,
   "id": "eb9589fc",
   "metadata": {},
   "outputs": [],
   "source": [
    "bluesky['year'] = bluesky['year'].astype(float)\n",
    "allParcels['year'] = allParcels.date_map_a.dt.year.astype(float)"
   ]
  },
  {
   "cell_type": "code",
   "execution_count": 26,
   "id": "4afdf3e7",
   "metadata": {},
   "outputs": [
    {
     "data": {
      "text/plain": [
       "(2450918, 17)"
      ]
     },
     "execution_count": 26,
     "metadata": {},
     "output_type": "execute_result"
    }
   ],
   "source": [
    "bluesky.shape"
   ]
  },
  {
   "cell_type": "code",
   "execution_count": 79,
   "id": "d379fcf3",
   "metadata": {},
   "outputs": [],
   "source": [
    "df = pd.merge_asof(bluesky, allParcels[['geometry', 'year', 'mapblklot']], \n",
    "                   left_by='MapBlkLot_Master', right_by='mapblklot', on='year')"
   ]
  },
  {
   "cell_type": "code",
   "execution_count": 80,
   "id": "eaa76403",
   "metadata": {},
   "outputs": [
    {
     "data": {
      "text/plain": [
       "38940"
      ]
     },
     "execution_count": 80,
     "metadata": {},
     "output_type": "execute_result"
    }
   ],
   "source": [
    "df.geometry.isna().sum()"
   ]
  },
  {
   "cell_type": "code",
   "execution_count": 81,
   "id": "b56e2717",
   "metadata": {},
   "outputs": [],
   "source": [
    "cantID = df[df.geometry.isna()]"
   ]
  },
  {
   "cell_type": "code",
   "execution_count": 82,
   "id": "8c5b70e1",
   "metadata": {},
   "outputs": [
    {
     "data": {
      "text/plain": [
       "(38940, 19)"
      ]
     },
     "execution_count": 82,
     "metadata": {},
     "output_type": "execute_result"
    }
   ],
   "source": [
    "cantID.shape"
   ]
  },
  {
   "cell_type": "code",
   "execution_count": 83,
   "id": "bea22d4a",
   "metadata": {},
   "outputs": [],
   "source": [
    "canID = pd.merge(cantID.drop(columns=['geometry', 'mapblklot']), \n",
    "                  allParcels[['geometry', 'mapblklot', 'year']], \n",
    "                  left_on='MapBlkLot_Master', right_on='mapblklot')"
   ]
  },
  {
   "cell_type": "code",
   "execution_count": 84,
   "id": "5c3cc992",
   "metadata": {},
   "outputs": [],
   "source": [
    "canID = canID.sort_values(['MapBlkLot_Master', 'year_x', 'year_y']).drop_duplicates(['MapBlkLot_Master', 'year_x'])"
   ]
  },
  {
   "cell_type": "code",
   "execution_count": 85,
   "id": "7fdcb6c2",
   "metadata": {},
   "outputs": [],
   "source": [
    "canID.drop(columns='year_y', inplace=True)"
   ]
  },
  {
   "cell_type": "code",
   "execution_count": 86,
   "id": "2947027b",
   "metadata": {},
   "outputs": [],
   "source": [
    "canID.rename({'year_x': 'year'}, axis=1, inplace=True)"
   ]
  },
  {
   "cell_type": "code",
   "execution_count": 103,
   "id": "93aa4042",
   "metadata": {},
   "outputs": [
    {
     "data": {
      "text/plain": [
       "Index(['MapBlkLot_Master', 'year', 'Developed', 'Historic',\n",
       "       'Residential_Dummy', 'Zillow_Price_Real', 'Const_FedReserve_Real',\n",
       "       'Envelope_1000', 'Upzone_Ratio', 'zp_OfficeComm', 'zp_DensRestMulti',\n",
       "       'zp_FormBasedMulti', 'zp_PDRInd', 'zp_Public', 'zp_Redev', 'zp_RH2',\n",
       "       'zp_RH3_RM1', 'geometry', 'mapblklot'],\n",
       "      dtype='object')"
      ]
     },
     "execution_count": 103,
     "metadata": {},
     "output_type": "execute_result"
    }
   ],
   "source": [
    "canID.columns"
   ]
  },
  {
   "cell_type": "code",
   "execution_count": 90,
   "id": "0d38f0ec",
   "metadata": {},
   "outputs": [
    {
     "data": {
      "text/plain": [
       "0"
      ]
     },
     "execution_count": 90,
     "metadata": {},
     "output_type": "execute_result"
    }
   ],
   "source": [
    "canID.geometry.isna().sum()"
   ]
  },
  {
   "cell_type": "code",
   "execution_count": 107,
   "id": "833aff32",
   "metadata": {},
   "outputs": [],
   "source": [
    "df = df.merge(canID[['MapBlkLot_Master', 'year', 'mapblklot', 'geometry']],\n",
    "         on=['MapBlkLot_Master', 'year'], how='left', suffixes=('', '_df2'))"
   ]
  },
  {
   "cell_type": "code",
   "execution_count": 108,
   "id": "83b99aca",
   "metadata": {},
   "outputs": [],
   "source": [
    "# Use df2 values where available; otherwise, use df1 values\n",
    "df['geometry'] = df['geometry_df2'].combine_first(df['geometry'])\n",
    "df['mapblklot'] = df['mapblklot_df2'].combine_first(df['mapblklot'])\n",
    "\n",
    "# Drop the temporary columns\n",
    "df.drop(columns=['geometry_df2', 'mapblklot_df2'], inplace=True)"
   ]
  },
  {
   "cell_type": "code",
   "execution_count": 112,
   "id": "dd2e420f",
   "metadata": {},
   "outputs": [],
   "source": [
    "df = gpd.GeoDataFrame(df, crs=allParcels.crs)"
   ]
  },
  {
   "cell_type": "code",
   "execution_count": 118,
   "id": "43cdc174",
   "metadata": {},
   "outputs": [],
   "source": [
    "df.to_feather('geobluesky.geofeather')"
   ]
  }
 ],
 "metadata": {
  "kernelspec": {
   "display_name": "Python 3 (ipykernel)",
   "language": "python",
   "name": "python3"
  },
  "language_info": {
   "codemirror_mode": {
    "name": "ipython",
    "version": 3
   },
   "file_extension": ".py",
   "mimetype": "text/x-python",
   "name": "python",
   "nbconvert_exporter": "python",
   "pygments_lexer": "ipython3",
   "version": "3.9.6"
  }
 },
 "nbformat": 4,
 "nbformat_minor": 5
}
