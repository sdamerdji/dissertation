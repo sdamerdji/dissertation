{
 "cells": [
  {
   "cell_type": "code",
   "execution_count": 1,
   "id": "fcca4d24",
   "metadata": {},
   "outputs": [],
   "source": [
    "import pandas as pd\n",
    "import geopandas as gpd"
   ]
  },
  {
   "cell_type": "markdown",
   "id": "627522d7",
   "metadata": {},
   "source": [
    "### Save dbi permits as feather "
   ]
  },
  {
   "cell_type": "markdown",
   "id": "8e59ad6e",
   "metadata": {},
   "source": [
    "And convert some columns to reduce space."
   ]
  },
  {
   "cell_type": "code",
   "execution_count": 3,
   "id": "ff37f7a7",
   "metadata": {},
   "outputs": [],
   "source": [
    "dbi = gpd.read_feather('./data/dbi_permits.geofeather')"
   ]
  },
  {
   "cell_type": "code",
   "execution_count": 4,
   "id": "617c1868",
   "metadata": {},
   "outputs": [],
   "source": [
    "date_cols = [c for c in dbi.columns if 'date' in c]\n",
    "dbi[date_cols] = dbi[date_cols].apply(lambda x: pd.to_datetime(x, errors='coerce'))\n",
    "cost_cols = [c for c in dbi.columns if 'cost' in c]\n",
    "dbi[cost_cols] = dbi[cost_cols].apply(lambda x: pd.to_numeric(x, errors='coerce'))\n",
    "unit_cols = [c for c in dbi.columns if 'unit' in c]\n",
    "dbi[unit_cols] = dbi[unit_cols].apply(lambda x: pd.to_numeric(x, errors='coerce'))"
   ]
  },
  {
   "cell_type": "code",
   "execution_count": 5,
   "id": "f7a916cf",
   "metadata": {},
   "outputs": [],
   "source": [
    "dbi.to_feather('./data/dbi_permits.geofeather')"
   ]
  },
  {
   "cell_type": "markdown",
   "id": "d4cd52cd",
   "metadata": {},
   "source": [
    "### Geospatial Blue Sky"
   ]
  },
  {
   "cell_type": "code",
   "execution_count": 17,
   "id": "fad119de",
   "metadata": {},
   "outputs": [],
   "source": [
    "bluesky = pd.read_csv('./data/Blue Sky Code and Inputs/SF_Logistic_Data.csv')\n",
    "\n",
    "allParcels = gpd.read_feather('./data/allParcels.geofeather')\n",
    "allParcels.date_map_a = pd.to_datetime(allParcels.date_map_a)\n",
    "allParcels.date_rec_a = pd.to_datetime(allParcels.date_rec_a)\n",
    "\n",
    "# Double check this line.\n",
    "allParcels = allParcels[allParcels.date_map_a.dt.year.notna()]\n",
    "\n",
    "allParcels = allParcels[~(pd.to_datetime(allParcels.date_map_d).dt.year < bluesky.year.min())]\n",
    "allParcels = allParcels[~(pd.to_datetime(allParcels.date_rec_d).dt.year < bluesky.year.min())]\n",
    "allParcels = allParcels[~(allParcels.date_rec_a.dt.year >= bluesky.year.max())]\n",
    "allParcels = allParcels[~(allParcels.date_map_a.dt.year >= bluesky.year.max())]"
   ]
  },
  {
   "cell_type": "code",
   "execution_count": 18,
   "id": "1cef3a7f",
   "metadata": {},
   "outputs": [],
   "source": [
    "allParcels['year'] = allParcels.date_map_a.dt.year"
   ]
  },
  {
   "cell_type": "code",
   "execution_count": 19,
   "id": "895ee68c",
   "metadata": {},
   "outputs": [],
   "source": [
    "allParcels = allParcels.sort_values('year')"
   ]
  },
  {
   "cell_type": "code",
   "execution_count": 20,
   "id": "eb9589fc",
   "metadata": {},
   "outputs": [],
   "source": [
    "bluesky['year'] = bluesky['year'].astype(float)\n",
    "allParcels['year'] = allParcels.date_map_a.dt.year.astype(float)"
   ]
  },
  {
   "cell_type": "code",
   "execution_count": 26,
   "id": "4afdf3e7",
   "metadata": {},
   "outputs": [
    {
     "data": {
      "text/plain": [
       "(2450918, 17)"
      ]
     },
     "execution_count": 26,
     "metadata": {},
     "output_type": "execute_result"
    }
   ],
   "source": [
    "bluesky.shape"
   ]
  },
  {
   "cell_type": "code",
   "execution_count": 79,
   "id": "d379fcf3",
   "metadata": {},
   "outputs": [],
   "source": [
    "df = pd.merge_asof(bluesky, allParcels[['geometry', 'year', 'mapblklot']], \n",
    "                   left_by='MapBlkLot_Master', right_by='mapblklot', on='year')"
   ]
  },
  {
   "cell_type": "code",
   "execution_count": 80,
   "id": "eaa76403",
   "metadata": {},
   "outputs": [
    {
     "data": {
      "text/plain": [
       "38940"
      ]
     },
     "execution_count": 80,
     "metadata": {},
     "output_type": "execute_result"
    }
   ],
   "source": [
    "df.geometry.isna().sum()"
   ]
  },
  {
   "cell_type": "code",
   "execution_count": 81,
   "id": "b56e2717",
   "metadata": {},
   "outputs": [],
   "source": [
    "cantID = df[df.geometry.isna()]"
   ]
  },
  {
   "cell_type": "code",
   "execution_count": 82,
   "id": "8c5b70e1",
   "metadata": {},
   "outputs": [
    {
     "data": {
      "text/plain": [
       "(38940, 19)"
      ]
     },
     "execution_count": 82,
     "metadata": {},
     "output_type": "execute_result"
    }
   ],
   "source": [
    "cantID.shape"
   ]
  },
  {
   "cell_type": "code",
   "execution_count": 83,
   "id": "bea22d4a",
   "metadata": {},
   "outputs": [],
   "source": [
    "canID = pd.merge(cantID.drop(columns=['geometry', 'mapblklot']), \n",
    "                  allParcels[['geometry', 'mapblklot', 'year']], \n",
    "                  left_on='MapBlkLot_Master', right_on='mapblklot')"
   ]
  },
  {
   "cell_type": "code",
   "execution_count": 84,
   "id": "5c3cc992",
   "metadata": {},
   "outputs": [],
   "source": [
    "canID = canID.sort_values(['MapBlkLot_Master', 'year_x', 'year_y']).drop_duplicates(['MapBlkLot_Master', 'year_x'])"
   ]
  },
  {
   "cell_type": "code",
   "execution_count": 85,
   "id": "7fdcb6c2",
   "metadata": {},
   "outputs": [],
   "source": [
    "canID.drop(columns='year_y', inplace=True)"
   ]
  },
  {
   "cell_type": "code",
   "execution_count": 86,
   "id": "2947027b",
   "metadata": {},
   "outputs": [],
   "source": [
    "canID.rename({'year_x': 'year'}, axis=1, inplace=True)"
   ]
  },
  {
   "cell_type": "code",
   "execution_count": 103,
   "id": "93aa4042",
   "metadata": {},
   "outputs": [
    {
     "data": {
      "text/plain": [
       "Index(['MapBlkLot_Master', 'year', 'Developed', 'Historic',\n",
       "       'Residential_Dummy', 'Zillow_Price_Real', 'Const_FedReserve_Real',\n",
       "       'Envelope_1000', 'Upzone_Ratio', 'zp_OfficeComm', 'zp_DensRestMulti',\n",
       "       'zp_FormBasedMulti', 'zp_PDRInd', 'zp_Public', 'zp_Redev', 'zp_RH2',\n",
       "       'zp_RH3_RM1', 'geometry', 'mapblklot'],\n",
       "      dtype='object')"
      ]
     },
     "execution_count": 103,
     "metadata": {},
     "output_type": "execute_result"
    }
   ],
   "source": [
    "canID.columns"
   ]
  },
  {
   "cell_type": "code",
   "execution_count": 90,
   "id": "0d38f0ec",
   "metadata": {},
   "outputs": [
    {
     "data": {
      "text/plain": [
       "0"
      ]
     },
     "execution_count": 90,
     "metadata": {},
     "output_type": "execute_result"
    }
   ],
   "source": [
    "canID.geometry.isna().sum()"
   ]
  },
  {
   "cell_type": "code",
   "execution_count": 107,
   "id": "833aff32",
   "metadata": {},
   "outputs": [],
   "source": [
    "df = df.merge(canID[['MapBlkLot_Master', 'year', 'mapblklot', 'geometry']],\n",
    "         on=['MapBlkLot_Master', 'year'], how='left', suffixes=('', '_df2'))"
   ]
  },
  {
   "cell_type": "code",
   "execution_count": 108,
   "id": "83b99aca",
   "metadata": {},
   "outputs": [],
   "source": [
    "# Use df2 values where available; otherwise, use df1 values\n",
    "df['geometry'] = df['geometry_df2'].combine_first(df['geometry'])\n",
    "df['mapblklot'] = df['mapblklot_df2'].combine_first(df['mapblklot'])\n",
    "\n",
    "# Drop the temporary columns\n",
    "df.drop(columns=['geometry_df2', 'mapblklot_df2'], inplace=True)"
   ]
  },
  {
   "cell_type": "code",
   "execution_count": 112,
   "id": "dd2e420f",
   "metadata": {},
   "outputs": [],
   "source": [
    "df = gpd.GeoDataFrame(df, crs=allParcels.crs)"
   ]
  },
  {
   "cell_type": "code",
   "execution_count": 118,
   "id": "43cdc174",
   "metadata": {},
   "outputs": [],
   "source": [
    "df.to_feather('geobluesky.geofeather')"
   ]
  },
  {
   "cell_type": "code",
   "execution_count": null,
   "id": "1a2db626",
   "metadata": {},
   "outputs": [],
   "source": [
    "# Save to feather"
   ]
  },
  {
   "cell_type": "markdown",
   "id": "e22769f6",
   "metadata": {},
   "source": [
    "### Geospatial merge between tax data and zillow neighborhoods"
   ]
  },
  {
   "cell_type": "code",
   "execution_count": null,
   "id": "a5ccd0d1",
   "metadata": {},
   "outputs": [],
   "source": []
  }
 ],
 "metadata": {
  "kernelspec": {
   "display_name": "Python 3",
   "language": "python",
   "name": "python3"
  },
  "language_info": {
   "codemirror_mode": {
    "name": "ipython",
    "version": 3
   },
   "file_extension": ".py",
   "mimetype": "text/x-python",
   "name": "python",
   "nbconvert_exporter": "python",
   "pygments_lexer": "ipython3",
   "version": "3.8.8"
  }
 },
 "nbformat": 4,
 "nbformat_minor": 5
}
