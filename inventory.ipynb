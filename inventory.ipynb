{
 "cells": [
  {
   "cell_type": "code",
   "execution_count": 1,
   "id": "b79bc9df",
   "metadata": {},
   "outputs": [],
   "source": [
    "import pandas as pd\n",
    "import geopandas as gpd\n",
    "import numpy as np\n",
    "\n",
    "import matplotlib.pyplot as plt\n",
    "import seaborn as sns\n",
    "import contextily as ctx\n",
    "import statsmodels.api as sm\n",
    "\n",
    "from sklearn.ensemble import RandomForestClassifier\n",
    "from sklearn.model_selection import RandomizedSearchCV\n",
    "from sklearn.model_selection import cross_val_score\n",
    "from sklearn.linear_model import LogisticRegression\n",
    "from sklearn.metrics import f1_score, precision_recall_fscore_support\n",
    "from sklearn.feature_selection import RFE"
   ]
  },
  {
   "cell_type": "code",
   "execution_count": 2,
   "id": "7a8c7574",
   "metadata": {},
   "outputs": [],
   "source": [
    "parcels = pd.read_csv('./data/Blue Sky Code and Inputs/SF_Logistic_Data.csv')"
   ]
  },
  {
   "cell_type": "code",
   "execution_count": 3,
   "id": "d69dc805",
   "metadata": {},
   "outputs": [],
   "source": [
    "allParcels = gpd.read_file('./data/Parcels   Active and Retired/parcels.shp')"
   ]
  },
  {
   "cell_type": "code",
   "execution_count": 4,
   "id": "f2f6846a",
   "metadata": {},
   "outputs": [],
   "source": [
    "sites = gpd.read_file('../housing-elements/data/raw_data/housing_sites/xn--Bay_Area_Housing_Opportunity_Sites_Inventory__20072023_-it38a.shp')"
   ]
  },
  {
   "cell_type": "code",
   "execution_count": 5,
   "id": "4b76f984",
   "metadata": {},
   "outputs": [],
   "source": [
    "tax = pd.read_excel('./data/tax_assessor/2019.8.20__SF_ASR_Secured_Roll_Data_2007-2008.xlsx')"
   ]
  },
  {
   "cell_type": "code",
   "execution_count": 6,
   "id": "025ce700",
   "metadata": {},
   "outputs": [],
   "source": [
    "use_codes = pd.read_excel('./data/tax_assessor/2019.8.20__SF_ASR_Secured_Roll_Data_2007-2008.xlsx', \n",
    "                          sheet_name='Class & Use Code')"
   ]
  },
  {
   "cell_type": "code",
   "execution_count": 7,
   "id": "f4b167c8",
   "metadata": {},
   "outputs": [],
   "source": [
    "neighborhood_codes = pd.read_excel('./data/tax_assessor/2019.8.20__SF_ASR_Secured_Roll_Data_2007-2008.xlsx', \n",
    "                                   sheet_name='Neigborhood Code')"
   ]
  },
  {
   "cell_type": "markdown",
   "id": "d9c09954",
   "metadata": {},
   "source": [
    "### Training Set is RHNA 4"
   ]
  },
  {
   "cell_type": "code",
   "execution_count": 8,
   "id": "8d7e1f78",
   "metadata": {},
   "outputs": [],
   "source": [
    "trainParcels = parcels[np.logical_and(parcels.year >= 2007, parcels.year <= 2015)]"
   ]
  },
  {
   "cell_type": "code",
   "execution_count": 9,
   "id": "302e6edd",
   "metadata": {},
   "outputs": [],
   "source": [
    "trainY = trainParcels.groupby('MapBlkLot_Master')['Developed'].agg(lambda x: x.ne(0).sum())"
   ]
  },
  {
   "cell_type": "code",
   "execution_count": 10,
   "id": "73cb8516",
   "metadata": {},
   "outputs": [
    {
     "data": {
      "text/plain": [
       "308"
      ]
     },
     "execution_count": 10,
     "metadata": {},
     "output_type": "execute_result"
    }
   ],
   "source": [
    "trainY.sum()"
   ]
  },
  {
   "cell_type": "code",
   "execution_count": 11,
   "id": "f80bcb39",
   "metadata": {},
   "outputs": [
    {
     "data": {
      "text/plain": [
       "0.2"
      ]
     },
     "execution_count": 11,
     "metadata": {},
     "output_type": "execute_result"
    }
   ],
   "source": [
    "round(trainY.mean(), 3) * 100"
   ]
  },
  {
   "cell_type": "code",
   "execution_count": 12,
   "id": "9ed683c5",
   "metadata": {},
   "outputs": [],
   "source": [
    "trainX = trainParcels[trainParcels.year == 2007]"
   ]
  },
  {
   "cell_type": "markdown",
   "id": "917cc4fb",
   "metadata": {},
   "source": [
    "No duplicative index."
   ]
  },
  {
   "cell_type": "code",
   "execution_count": 13,
   "id": "fc96fbc0",
   "metadata": {},
   "outputs": [],
   "source": [
    "nunique_lots = trainParcels[trainParcels.year == 2007].MapBlkLot_Master.nunique()\n",
    "n_lots = trainParcels[trainParcels.year == 2007].shape[0]\n",
    "assert nunique_lots == n_lots"
   ]
  },
  {
   "cell_type": "code",
   "execution_count": 14,
   "id": "2c2190fe",
   "metadata": {},
   "outputs": [
    {
     "data": {
      "text/plain": [
       "1.0"
      ]
     },
     "execution_count": 14,
     "metadata": {},
     "output_type": "execute_result"
    }
   ],
   "source": [
    "trainX.MapBlkLot_Master.isin(trainY.index).mean()"
   ]
  },
  {
   "cell_type": "code",
   "execution_count": 15,
   "id": "c61133ac",
   "metadata": {},
   "outputs": [],
   "source": [
    "trainDf = pd.merge(trainX.drop('Developed', axis=1), trainY, left_on='MapBlkLot_Master', right_index=True)"
   ]
  },
  {
   "cell_type": "code",
   "execution_count": 16,
   "id": "c533170f",
   "metadata": {},
   "outputs": [
    {
     "data": {
      "text/plain": [
       "0    152910\n",
       "1       306\n",
       "2         1\n",
       "Name: Developed, dtype: int64"
      ]
     },
     "execution_count": 16,
     "metadata": {},
     "output_type": "execute_result"
    }
   ],
   "source": [
    "trainDf.Developed.value_counts()"
   ]
  },
  {
   "cell_type": "code",
   "execution_count": 17,
   "id": "ed09bde2",
   "metadata": {},
   "outputs": [],
   "source": [
    "def clean_apn(apn):\n",
    "    apn = ''.join(apn.split(' '))\n",
    "    if len(apn) < 9:\n",
    "        return apn\n",
    "    block_length = 4\n",
    "    #if apn[block_length].isalpha():\n",
    "    #    return apn[:block_length] + apn[block_length+1:]\n",
    "    return apn\n",
    " \n",
    "    \n",
    "tax['MapBlkLot_Master'] = tax.RP1PRCLID.apply(clean_apn)"
   ]
  },
  {
   "cell_type": "code",
   "execution_count": 18,
   "id": "14926a4d",
   "metadata": {},
   "outputs": [
    {
     "data": {
      "text/plain": [
       "0.98"
      ]
     },
     "execution_count": 18,
     "metadata": {},
     "output_type": "execute_result"
    }
   ],
   "source": [
    "trainDf.MapBlkLot_Master.isin(tax.MapBlkLot_Master).mean().round(2)"
   ]
  },
  {
   "cell_type": "markdown",
   "id": "ef807719",
   "metadata": {},
   "source": [
    "### Get 2% of parcels that are in BlueSky for 2008 but not in tax data"
   ]
  },
  {
   "cell_type": "markdown",
   "id": "9afc4106",
   "metadata": {},
   "source": [
    "I have 3514 parcels to identify. "
   ]
  },
  {
   "cell_type": "code",
   "execution_count": 19,
   "id": "5afbabcf",
   "metadata": {},
   "outputs": [],
   "source": [
    "cantID = trainDf[~trainDf.MapBlkLot_Master.isin(tax.MapBlkLot_Master)]"
   ]
  },
  {
   "cell_type": "code",
   "execution_count": 20,
   "id": "ca0d189c",
   "metadata": {},
   "outputs": [
    {
     "data": {
      "text/plain": [
       "(3514, 17)"
      ]
     },
     "execution_count": 20,
     "metadata": {},
     "output_type": "execute_result"
    }
   ],
   "source": [
    "cantID.shape"
   ]
  },
  {
   "cell_type": "markdown",
   "id": "053071ca",
   "metadata": {},
   "source": [
    "Only 170 of x total missing developed parcels are missing because I cannot identify them at this stage."
   ]
  },
  {
   "cell_type": "code",
   "execution_count": 21,
   "id": "356bf34d",
   "metadata": {},
   "outputs": [
    {
     "data": {
      "text/plain": [
       "170"
      ]
     },
     "execution_count": 21,
     "metadata": {},
     "output_type": "execute_result"
    }
   ],
   "source": [
    "cantID.Developed.sum()"
   ]
  },
  {
   "cell_type": "markdown",
   "id": "604095b5",
   "metadata": {},
   "source": [
    "I look at all active and retired parcels to find their geometry."
   ]
  },
  {
   "cell_type": "code",
   "execution_count": 22,
   "id": "06585c3b",
   "metadata": {},
   "outputs": [],
   "source": [
    "allParcels = allParcels.dissolve(by='mapblklot')"
   ]
  },
  {
   "cell_type": "code",
   "execution_count": 23,
   "id": "2afbd2d9",
   "metadata": {},
   "outputs": [],
   "source": [
    "allParcels = allParcels[['geometry']]"
   ]
  },
  {
   "cell_type": "code",
   "execution_count": 24,
   "id": "041d34a8",
   "metadata": {},
   "outputs": [],
   "source": [
    "cantID = allParcels.merge(cantID,\n",
    "                          how='inner',\n",
    "                          right_on='MapBlkLot_Master',\n",
    "                          left_on='mapblklot',\n",
    "                          validate='one_to_one')"
   ]
  },
  {
   "cell_type": "code",
   "execution_count": 25,
   "id": "5c642203",
   "metadata": {},
   "outputs": [
    {
     "data": {
      "text/plain": [
       "(3513, 18)"
      ]
     },
     "execution_count": 25,
     "metadata": {},
     "output_type": "execute_result"
    }
   ],
   "source": [
    "cantID.shape"
   ]
  },
  {
   "cell_type": "markdown",
   "id": "f86906c7",
   "metadata": {},
   "source": [
    "So now I have geometries for all but one 3514 parcels. Now I have to find geometries for tax data. Unfortunately, after above dissolve, only 78% have a match. It seems that the BlueSky and Tax datasets may disagree on whether a condo complex deserves an ID or a condo unit deserves an ID, I think. I assume tax assessor needs per-unit data"
   ]
  },
  {
   "cell_type": "code",
   "execution_count": 26,
   "id": "49295768",
   "metadata": {},
   "outputs": [
    {
     "data": {
      "text/plain": [
       "0.78"
      ]
     },
     "execution_count": 26,
     "metadata": {},
     "output_type": "execute_result"
    }
   ],
   "source": [
    "tax.MapBlkLot_Master.isin(allParcels.index).mean().round(2)"
   ]
  },
  {
   "cell_type": "code",
   "execution_count": 27,
   "id": "7be58d56",
   "metadata": {},
   "outputs": [
    {
     "data": {
      "text/plain": [
       "(197778, 33)"
      ]
     },
     "execution_count": 27,
     "metadata": {},
     "output_type": "execute_result"
    }
   ],
   "source": [
    "tax.shape"
   ]
  },
  {
   "cell_type": "code",
   "execution_count": 28,
   "id": "88e572db",
   "metadata": {},
   "outputs": [],
   "source": [
    "taxGeo = allParcels.merge(tax,\n",
    "                          how='inner',\n",
    "                          right_on='MapBlkLot_Master',\n",
    "                          left_on='mapblklot',\n",
    "                          validate='one_to_one')"
   ]
  },
  {
   "cell_type": "code",
   "execution_count": 29,
   "id": "512ad7bf",
   "metadata": {},
   "outputs": [
    {
     "data": {
      "text/plain": [
       "(154008, 34)"
      ]
     },
     "execution_count": 29,
     "metadata": {},
     "output_type": "execute_result"
    }
   ],
   "source": [
    "taxGeo.shape"
   ]
  },
  {
   "cell_type": "code",
   "execution_count": 30,
   "id": "d4a641b7",
   "metadata": {},
   "outputs": [
    {
     "data": {
      "text/plain": [
       "True"
      ]
     },
     "execution_count": 30,
     "metadata": {},
     "output_type": "execute_result"
    }
   ],
   "source": [
    "taxGeo.crs == cantID.crs"
   ]
  },
  {
   "cell_type": "code",
   "execution_count": 31,
   "id": "e3f4c5b3",
   "metadata": {},
   "outputs": [],
   "source": [
    "canID = gpd.sjoin(cantID, taxGeo, how=\"inner\", predicate='within')"
   ]
  },
  {
   "cell_type": "code",
   "execution_count": 32,
   "id": "49722fd3",
   "metadata": {},
   "outputs": [
    {
     "data": {
      "text/plain": [
       "(2632, 52)"
      ]
     },
     "execution_count": 32,
     "metadata": {},
     "output_type": "execute_result"
    }
   ],
   "source": [
    "canID.shape"
   ]
  },
  {
   "cell_type": "markdown",
   "id": "e8197d5d",
   "metadata": {},
   "source": [
    "I should check the above result is the same if I just do a merge on the geometry since that requires an exact match, which is what I'm assuming the above code does, but I'm not certain.\n",
    "\n",
    "Okay, so there were 170 developed parcels I could not identify in the tax data. And 92 of them are recoverable with the above geospatial join approach. That leaves 78 still missing. I'm getting a bit more than half\n",
    "\n",
    "I can probably find the other five by using Reza's permit id approach as a Plan A, Reza's mapblklot approach as Plan B, and geospatial as a Plan C. "
   ]
  },
  {
   "cell_type": "code",
   "execution_count": 33,
   "id": "789c9bae",
   "metadata": {},
   "outputs": [
    {
     "data": {
      "text/plain": [
       "92"
      ]
     },
     "execution_count": 33,
     "metadata": {},
     "output_type": "execute_result"
    }
   ],
   "source": [
    "canID.Developed.sum()"
   ]
  },
  {
   "cell_type": "code",
   "execution_count": 34,
   "id": "b92ad22f",
   "metadata": {},
   "outputs": [
    {
     "data": {
      "text/plain": [
       "78"
      ]
     },
     "execution_count": 34,
     "metadata": {},
     "output_type": "execute_result"
    }
   ],
   "source": [
    "170 - 92"
   ]
  },
  {
   "cell_type": "code",
   "execution_count": 35,
   "id": "e380da80",
   "metadata": {},
   "outputs": [
    {
     "data": {
      "text/plain": [
       "0.75"
      ]
     },
     "execution_count": 35,
     "metadata": {},
     "output_type": "execute_result"
    }
   ],
   "source": [
    "round((canID.shape[0] / cantID.shape[0]), 2)"
   ]
  },
  {
   "cell_type": "code",
   "execution_count": 36,
   "id": "026688ab",
   "metadata": {},
   "outputs": [
    {
     "data": {
      "text/plain": [
       "0.54"
      ]
     },
     "execution_count": 36,
     "metadata": {},
     "output_type": "execute_result"
    }
   ],
   "source": [
    "round((canID.Developed.sum() / cantID.Developed.sum()), 2)"
   ]
  },
  {
   "cell_type": "markdown",
   "id": "a6dab20c",
   "metadata": {},
   "source": [
    "So I get 75% of the missing parcels recovered. This is not much worse than the percentage of tax parcels not in the allParcels dataframe so I suspect using the geospatial version of tax will solve this nearly entirely.\n",
    "\n",
    "Only recover 54% of the developed parcels. "
   ]
  },
  {
   "cell_type": "code",
   "execution_count": 37,
   "id": "b39d19b2",
   "metadata": {},
   "outputs": [
    {
     "data": {
      "text/plain": [
       "Index(['geometry', 'MapBlkLot_Master_left', 'year', 'Historic',\n",
       "       'Residential_Dummy', 'Zillow_Price_Real', 'Const_FedReserve_Real',\n",
       "       'Envelope_1000', 'Upzone_Ratio', 'zp_OfficeComm', 'zp_DensRestMulti',\n",
       "       'zp_FormBasedMulti', 'zp_PDRInd', 'zp_Public', 'zp_Redev', 'zp_RH2',\n",
       "       'zp_RH3_RM1', 'Developed', 'index_right', 'PROPLOC', 'RP1NBRCDE',\n",
       "       'RP1PRCLID', 'RP1VOLUME', 'RP1CLACDE', 'YRBLT', 'BATHS', 'BEDS',\n",
       "       'ROOMS', 'STOREYNO', 'UNITS', 'ZONE', 'CONSTTYPE', 'DEPTH', 'FRONT',\n",
       "       'SQFT', 'FBA', 'LAREA', 'LOTCODE', 'REPRISDATE', 'RP1TRACDE',\n",
       "       'OWNRPRCNT', 'EXEMPTYPE', 'RP1STACDE', 'RP1EXMVL2', 'RP1EXMVL1',\n",
       "       'ROLLYEAR', 'RECURRSALD', 'RP1FXTVAL', 'RP1IMPVAL', 'RP1LNDVAL',\n",
       "       'RP1PPTVAL', 'MapBlkLot_Master_right'],\n",
       "      dtype='object')"
      ]
     },
     "execution_count": 37,
     "metadata": {},
     "output_type": "execute_result"
    }
   ],
   "source": [
    "canID.columns"
   ]
  },
  {
   "cell_type": "markdown",
   "id": "09e251d0",
   "metadata": {},
   "source": [
    "The following demonstrates how the mapblklot's are different even though the geometries are the same. If I cared more, I would dig into the Active and Retired Parcels dataset to figure out the story here."
   ]
  },
  {
   "cell_type": "code",
   "execution_count": 38,
   "id": "fcee7f36",
   "metadata": {},
   "outputs": [
    {
     "data": {
      "text/html": [
       "<div>\n",
       "<style scoped>\n",
       "    .dataframe tbody tr th:only-of-type {\n",
       "        vertical-align: middle;\n",
       "    }\n",
       "\n",
       "    .dataframe tbody tr th {\n",
       "        vertical-align: top;\n",
       "    }\n",
       "\n",
       "    .dataframe thead th {\n",
       "        text-align: right;\n",
       "    }\n",
       "</style>\n",
       "<table border=\"1\" class=\"dataframe\">\n",
       "  <thead>\n",
       "    <tr style=\"text-align: right;\">\n",
       "      <th></th>\n",
       "      <th>MapBlkLot_Master_left</th>\n",
       "      <th>MapBlkLot_Master_right</th>\n",
       "    </tr>\n",
       "  </thead>\n",
       "  <tbody>\n",
       "    <tr>\n",
       "      <th>138</th>\n",
       "      <td>0196032</td>\n",
       "      <td>0196029</td>\n",
       "    </tr>\n",
       "    <tr>\n",
       "      <th>613</th>\n",
       "      <td>0922044</td>\n",
       "      <td>0922023</td>\n",
       "    </tr>\n",
       "    <tr>\n",
       "      <th>1712</th>\n",
       "      <td>3549094</td>\n",
       "      <td>3549018C</td>\n",
       "    </tr>\n",
       "    <tr>\n",
       "      <th>748</th>\n",
       "      <td>1080051</td>\n",
       "      <td>1080024</td>\n",
       "    </tr>\n",
       "    <tr>\n",
       "      <th>1343</th>\n",
       "      <td>1933061</td>\n",
       "      <td>1933024</td>\n",
       "    </tr>\n",
       "    <tr>\n",
       "      <th>2370</th>\n",
       "      <td>4591C151</td>\n",
       "      <td>4591A076</td>\n",
       "    </tr>\n",
       "    <tr>\n",
       "      <th>2264</th>\n",
       "      <td>4273034</td>\n",
       "      <td>4273005</td>\n",
       "    </tr>\n",
       "    <tr>\n",
       "      <th>2046</th>\n",
       "      <td>3773010</td>\n",
       "      <td>3773300A</td>\n",
       "    </tr>\n",
       "    <tr>\n",
       "      <th>3075</th>\n",
       "      <td>6597071</td>\n",
       "      <td>6597031</td>\n",
       "    </tr>\n",
       "    <tr>\n",
       "      <th>3081</th>\n",
       "      <td>6600054</td>\n",
       "      <td>6600012A</td>\n",
       "    </tr>\n",
       "  </tbody>\n",
       "</table>\n",
       "</div>"
      ],
      "text/plain": [
       "     MapBlkLot_Master_left MapBlkLot_Master_right\n",
       "138                0196032                0196029\n",
       "613                0922044                0922023\n",
       "1712               3549094               3549018C\n",
       "748                1080051                1080024\n",
       "1343               1933061                1933024\n",
       "2370              4591C151               4591A076\n",
       "2264               4273034                4273005\n",
       "2046               3773010               3773300A\n",
       "3075               6597071                6597031\n",
       "3081               6600054               6600012A"
      ]
     },
     "execution_count": 38,
     "metadata": {},
     "output_type": "execute_result"
    }
   ],
   "source": [
    "canID[['MapBlkLot_Master_left', 'MapBlkLot_Master_right']].sample(10, random_state=0)"
   ]
  },
  {
   "cell_type": "code",
   "execution_count": 39,
   "id": "e47f2cb8",
   "metadata": {},
   "outputs": [],
   "source": [
    "canID['MapBlkLot_Master'] = canID['MapBlkLot_Master_left']"
   ]
  },
  {
   "cell_type": "code",
   "execution_count": 40,
   "id": "4966cb7d",
   "metadata": {},
   "outputs": [],
   "source": [
    "canID = canID.drop(['MapBlkLot_Master_left', 'MapBlkLot_Master_right', 'geometry', 'index_right'], axis=1)"
   ]
  },
  {
   "cell_type": "markdown",
   "id": "c8d84456",
   "metadata": {},
   "source": [
    "### Merge tax data and parcel data"
   ]
  },
  {
   "cell_type": "code",
   "execution_count": 41,
   "id": "9edec105",
   "metadata": {},
   "outputs": [
    {
     "data": {
      "text/plain": [
       "(153217, 17)"
      ]
     },
     "execution_count": 41,
     "metadata": {},
     "output_type": "execute_result"
    }
   ],
   "source": [
    "trainDf.shape"
   ]
  },
  {
   "cell_type": "code",
   "execution_count": 42,
   "id": "fa471182",
   "metadata": {},
   "outputs": [
    {
     "data": {
      "text/plain": [
       "308"
      ]
     },
     "execution_count": 42,
     "metadata": {},
     "output_type": "execute_result"
    }
   ],
   "source": [
    "trainDf.Developed.sum()"
   ]
  },
  {
   "cell_type": "code",
   "execution_count": 43,
   "id": "8bcc5972",
   "metadata": {},
   "outputs": [],
   "source": [
    "trainDf = trainDf.merge(tax, how='inner', on='MapBlkLot_Master')"
   ]
  },
  {
   "cell_type": "markdown",
   "id": "4fa8fdb0",
   "metadata": {},
   "source": [
    "Merging with tax data loses most of the developed parcels because I'm using inner. I already knew the nrows of cantid was 170 parcels, so this is what I expect."
   ]
  },
  {
   "cell_type": "code",
   "execution_count": 44,
   "id": "e2a5706c",
   "metadata": {},
   "outputs": [
    {
     "data": {
      "text/plain": [
       "138"
      ]
     },
     "execution_count": 44,
     "metadata": {},
     "output_type": "execute_result"
    }
   ],
   "source": [
    "trainDf.Developed.sum()"
   ]
  },
  {
   "cell_type": "markdown",
   "id": "0c087b17",
   "metadata": {},
   "source": [
    "Concatenate the geomatched parcels back in."
   ]
  },
  {
   "cell_type": "code",
   "execution_count": 45,
   "id": "a7ab9380",
   "metadata": {},
   "outputs": [
    {
     "data": {
      "text/plain": [
       "True"
      ]
     },
     "execution_count": 45,
     "metadata": {},
     "output_type": "execute_result"
    }
   ],
   "source": [
    "trainDf.MapBlkLot_Master.nunique() == trainDf.shape[0]"
   ]
  },
  {
   "cell_type": "code",
   "execution_count": 46,
   "id": "832632e9",
   "metadata": {},
   "outputs": [
    {
     "data": {
      "text/plain": [
       "0"
      ]
     },
     "execution_count": 46,
     "metadata": {},
     "output_type": "execute_result"
    }
   ],
   "source": [
    "trainDf.MapBlkLot_Master.isin(canID.MapBlkLot_Master).sum()"
   ]
  },
  {
   "cell_type": "markdown",
   "id": "0d0939c0",
   "metadata": {},
   "source": [
    "#### TODO: This concatenation introduces two non-unique mapblklot identifiers because canID is returning multiple rows per parcel."
   ]
  },
  {
   "cell_type": "code",
   "execution_count": 47,
   "id": "b7feb9b4",
   "metadata": {},
   "outputs": [],
   "source": [
    "trainDf = pd.concat((trainDf, canID), axis=0)"
   ]
  },
  {
   "cell_type": "code",
   "execution_count": 48,
   "id": "9d115c73",
   "metadata": {},
   "outputs": [
    {
     "data": {
      "text/plain": [
       "230"
      ]
     },
     "execution_count": 48,
     "metadata": {},
     "output_type": "execute_result"
    }
   ],
   "source": [
    "trainDf.Developed.sum()"
   ]
  },
  {
   "cell_type": "code",
   "execution_count": 58,
   "id": "a67d7311",
   "metadata": {
    "scrolled": true
   },
   "outputs": [
    {
     "data": {
      "text/plain": [
       "Index(['3533175', '6551060'], dtype='object', name='MapBlkLot_Master')"
      ]
     },
     "execution_count": 58,
     "metadata": {},
     "output_type": "execute_result"
    }
   ],
   "source": [
    "trainDf.index[trainDf.index.duplicated()]"
   ]
  },
  {
   "cell_type": "markdown",
   "id": "2e90bda9",
   "metadata": {},
   "source": [
    "#### Fix the two observations below. Some funny business is happening with spatial join to get two observations for these bad boys."
   ]
  },
  {
   "cell_type": "code",
   "execution_count": 64,
   "id": "b859b328",
   "metadata": {
    "scrolled": true
   },
   "outputs": [
    {
     "data": {
      "text/html": [
       "<div>\n",
       "<style scoped>\n",
       "    .dataframe tbody tr th:only-of-type {\n",
       "        vertical-align: middle;\n",
       "    }\n",
       "\n",
       "    .dataframe tbody tr th {\n",
       "        vertical-align: top;\n",
       "    }\n",
       "\n",
       "    .dataframe thead th {\n",
       "        text-align: right;\n",
       "    }\n",
       "</style>\n",
       "<table border=\"1\" class=\"dataframe\">\n",
       "  <thead>\n",
       "    <tr style=\"text-align: right;\">\n",
       "      <th></th>\n",
       "      <th>year</th>\n",
       "      <th>Historic</th>\n",
       "      <th>Residential_Dummy</th>\n",
       "      <th>Zillow_Price_Real</th>\n",
       "      <th>Const_FedReserve_Real</th>\n",
       "      <th>Envelope_1000</th>\n",
       "      <th>Upzone_Ratio</th>\n",
       "      <th>zp_OfficeComm</th>\n",
       "      <th>zp_DensRestMulti</th>\n",
       "      <th>zp_FormBasedMulti</th>\n",
       "      <th>...</th>\n",
       "      <th>RP1STACDE</th>\n",
       "      <th>RP1EXMVL2</th>\n",
       "      <th>RP1EXMVL1</th>\n",
       "      <th>ROLLYEAR</th>\n",
       "      <th>RECURRSALD</th>\n",
       "      <th>RP1FXTVAL</th>\n",
       "      <th>RP1IMPVAL</th>\n",
       "      <th>RP1LNDVAL</th>\n",
       "      <th>RP1PPTVAL</th>\n",
       "      <th>MapBlkLot_Master</th>\n",
       "    </tr>\n",
       "  </thead>\n",
       "  <tbody>\n",
       "    <tr>\n",
       "      <th>3032</th>\n",
       "      <td>2007</td>\n",
       "      <td>0</td>\n",
       "      <td>1</td>\n",
       "      <td>93.227099</td>\n",
       "      <td>92.120253</td>\n",
       "      <td>2.720602</td>\n",
       "      <td>2.0</td>\n",
       "      <td>0</td>\n",
       "      <td>0</td>\n",
       "      <td>0</td>\n",
       "      <td>...</td>\n",
       "      <td>NaN</td>\n",
       "      <td>0</td>\n",
       "      <td>0</td>\n",
       "      <td>7</td>\n",
       "      <td>50715</td>\n",
       "      <td>0</td>\n",
       "      <td>646680</td>\n",
       "      <td>970020</td>\n",
       "      <td>0</td>\n",
       "      <td>6551060</td>\n",
       "    </tr>\n",
       "    <tr>\n",
       "      <th>3032</th>\n",
       "      <td>2007</td>\n",
       "      <td>0</td>\n",
       "      <td>1</td>\n",
       "      <td>93.227099</td>\n",
       "      <td>92.120253</td>\n",
       "      <td>2.720602</td>\n",
       "      <td>2.0</td>\n",
       "      <td>0</td>\n",
       "      <td>0</td>\n",
       "      <td>0</td>\n",
       "      <td>...</td>\n",
       "      <td>NaN</td>\n",
       "      <td>0</td>\n",
       "      <td>0</td>\n",
       "      <td>7</td>\n",
       "      <td>0</td>\n",
       "      <td>0</td>\n",
       "      <td>0</td>\n",
       "      <td>0</td>\n",
       "      <td>0</td>\n",
       "      <td>6551060</td>\n",
       "    </tr>\n",
       "  </tbody>\n",
       "</table>\n",
       "<p>2 rows × 49 columns</p>\n",
       "</div>"
      ],
      "text/plain": [
       "      year  Historic  Residential_Dummy  Zillow_Price_Real  \\\n",
       "3032  2007         0                  1          93.227099   \n",
       "3032  2007         0                  1          93.227099   \n",
       "\n",
       "      Const_FedReserve_Real  Envelope_1000  Upzone_Ratio  zp_OfficeComm  \\\n",
       "3032              92.120253       2.720602           2.0              0   \n",
       "3032              92.120253       2.720602           2.0              0   \n",
       "\n",
       "      zp_DensRestMulti  zp_FormBasedMulti  ...  RP1STACDE  RP1EXMVL2  \\\n",
       "3032                 0                  0  ...        NaN          0   \n",
       "3032                 0                  0  ...        NaN          0   \n",
       "\n",
       "      RP1EXMVL1  ROLLYEAR  RECURRSALD  RP1FXTVAL RP1IMPVAL RP1LNDVAL  \\\n",
       "3032          0         7       50715          0    646680    970020   \n",
       "3032          0         7           0          0         0         0   \n",
       "\n",
       "     RP1PPTVAL  MapBlkLot_Master  \n",
       "3032         0           6551060  \n",
       "3032         0           6551060  \n",
       "\n",
       "[2 rows x 49 columns]"
      ]
     },
     "execution_count": 64,
     "metadata": {},
     "output_type": "execute_result"
    }
   ],
   "source": [
    "canID[canID.MapBlkLot_Master == '6551060']"
   ]
  },
  {
   "cell_type": "code",
   "execution_count": 68,
   "id": "6864713f",
   "metadata": {
    "scrolled": true
   },
   "outputs": [
    {
     "data": {
      "text/html": [
       "<div>\n",
       "<style scoped>\n",
       "    .dataframe tbody tr th:only-of-type {\n",
       "        vertical-align: middle;\n",
       "    }\n",
       "\n",
       "    .dataframe tbody tr th {\n",
       "        vertical-align: top;\n",
       "    }\n",
       "\n",
       "    .dataframe thead th {\n",
       "        text-align: right;\n",
       "    }\n",
       "</style>\n",
       "<table border=\"1\" class=\"dataframe\">\n",
       "  <thead>\n",
       "    <tr style=\"text-align: right;\">\n",
       "      <th></th>\n",
       "      <th>year</th>\n",
       "      <th>Historic</th>\n",
       "      <th>Residential_Dummy</th>\n",
       "      <th>Zillow_Price_Real</th>\n",
       "      <th>Const_FedReserve_Real</th>\n",
       "      <th>Envelope_1000</th>\n",
       "      <th>Upzone_Ratio</th>\n",
       "      <th>zp_OfficeComm</th>\n",
       "      <th>zp_DensRestMulti</th>\n",
       "      <th>zp_FormBasedMulti</th>\n",
       "      <th>...</th>\n",
       "      <th>RP1STACDE</th>\n",
       "      <th>RP1EXMVL2</th>\n",
       "      <th>RP1EXMVL1</th>\n",
       "      <th>ROLLYEAR</th>\n",
       "      <th>RECURRSALD</th>\n",
       "      <th>RP1FXTVAL</th>\n",
       "      <th>RP1IMPVAL</th>\n",
       "      <th>RP1LNDVAL</th>\n",
       "      <th>RP1PPTVAL</th>\n",
       "      <th>MapBlkLot_Master</th>\n",
       "    </tr>\n",
       "  </thead>\n",
       "  <tbody>\n",
       "    <tr>\n",
       "      <th>1656</th>\n",
       "      <td>2007</td>\n",
       "      <td>0</td>\n",
       "      <td>1</td>\n",
       "      <td>93.227099</td>\n",
       "      <td>92.120253</td>\n",
       "      <td>8.012521</td>\n",
       "      <td>2.0</td>\n",
       "      <td>0</td>\n",
       "      <td>1</td>\n",
       "      <td>0</td>\n",
       "      <td>...</td>\n",
       "      <td>NaN</td>\n",
       "      <td>0</td>\n",
       "      <td>0</td>\n",
       "      <td>7</td>\n",
       "      <td>40430</td>\n",
       "      <td>0</td>\n",
       "      <td>0</td>\n",
       "      <td>1750993</td>\n",
       "      <td>0</td>\n",
       "      <td>3533175</td>\n",
       "    </tr>\n",
       "    <tr>\n",
       "      <th>1656</th>\n",
       "      <td>2007</td>\n",
       "      <td>0</td>\n",
       "      <td>1</td>\n",
       "      <td>93.227099</td>\n",
       "      <td>92.120253</td>\n",
       "      <td>8.012521</td>\n",
       "      <td>2.0</td>\n",
       "      <td>0</td>\n",
       "      <td>1</td>\n",
       "      <td>0</td>\n",
       "      <td>...</td>\n",
       "      <td>NaN</td>\n",
       "      <td>0</td>\n",
       "      <td>0</td>\n",
       "      <td>7</td>\n",
       "      <td>0</td>\n",
       "      <td>0</td>\n",
       "      <td>0</td>\n",
       "      <td>0</td>\n",
       "      <td>0</td>\n",
       "      <td>3533175</td>\n",
       "    </tr>\n",
       "  </tbody>\n",
       "</table>\n",
       "<p>2 rows × 49 columns</p>\n",
       "</div>"
      ],
      "text/plain": [
       "      year  Historic  Residential_Dummy  Zillow_Price_Real  \\\n",
       "1656  2007         0                  1          93.227099   \n",
       "1656  2007         0                  1          93.227099   \n",
       "\n",
       "      Const_FedReserve_Real  Envelope_1000  Upzone_Ratio  zp_OfficeComm  \\\n",
       "1656              92.120253       8.012521           2.0              0   \n",
       "1656              92.120253       8.012521           2.0              0   \n",
       "\n",
       "      zp_DensRestMulti  zp_FormBasedMulti  ...  RP1STACDE  RP1EXMVL2  \\\n",
       "1656                 1                  0  ...        NaN          0   \n",
       "1656                 1                  0  ...        NaN          0   \n",
       "\n",
       "      RP1EXMVL1  ROLLYEAR  RECURRSALD  RP1FXTVAL RP1IMPVAL RP1LNDVAL  \\\n",
       "1656          0         7       40430          0         0   1750993   \n",
       "1656          0         7           0          0         0         0   \n",
       "\n",
       "     RP1PPTVAL  MapBlkLot_Master  \n",
       "1656         0           3533175  \n",
       "1656         0           3533175  \n",
       "\n",
       "[2 rows x 49 columns]"
      ]
     },
     "execution_count": 68,
     "metadata": {},
     "output_type": "execute_result"
    }
   ],
   "source": [
    "canID[canID.MapBlkLot_Master == '3533175']"
   ]
  },
  {
   "cell_type": "code",
   "execution_count": 69,
   "id": "b13e6f32",
   "metadata": {},
   "outputs": [
    {
     "ename": "AttributeError",
     "evalue": "'DataFrame' object has no attribute 'MapBlkLot_Master'",
     "output_type": "error",
     "traceback": [
      "\u001b[0;31m---------------------------------------------------------------------------\u001b[0m",
      "\u001b[0;31mAttributeError\u001b[0m                            Traceback (most recent call last)",
      "Cell \u001b[0;32mIn [69], line 1\u001b[0m\n\u001b[0;32m----> 1\u001b[0m \u001b[43mtrainDf\u001b[49m\u001b[38;5;241;43m.\u001b[39;49m\u001b[43mMapBlkLot_Master\u001b[49m\u001b[38;5;241m.\u001b[39mnunique() \u001b[38;5;241m-\u001b[39m trainDf\u001b[38;5;241m.\u001b[39mshape[\u001b[38;5;241m0\u001b[39m]\n",
      "File \u001b[0;32m~/Library/Python/3.9/lib/python/site-packages/pandas/core/generic.py:5902\u001b[0m, in \u001b[0;36mNDFrame.__getattr__\u001b[0;34m(self, name)\u001b[0m\n\u001b[1;32m   5895\u001b[0m \u001b[38;5;28;01mif\u001b[39;00m (\n\u001b[1;32m   5896\u001b[0m     name \u001b[38;5;129;01mnot\u001b[39;00m \u001b[38;5;129;01min\u001b[39;00m \u001b[38;5;28mself\u001b[39m\u001b[38;5;241m.\u001b[39m_internal_names_set\n\u001b[1;32m   5897\u001b[0m     \u001b[38;5;129;01mand\u001b[39;00m name \u001b[38;5;129;01mnot\u001b[39;00m \u001b[38;5;129;01min\u001b[39;00m \u001b[38;5;28mself\u001b[39m\u001b[38;5;241m.\u001b[39m_metadata\n\u001b[1;32m   5898\u001b[0m     \u001b[38;5;129;01mand\u001b[39;00m name \u001b[38;5;129;01mnot\u001b[39;00m \u001b[38;5;129;01min\u001b[39;00m \u001b[38;5;28mself\u001b[39m\u001b[38;5;241m.\u001b[39m_accessors\n\u001b[1;32m   5899\u001b[0m     \u001b[38;5;129;01mand\u001b[39;00m \u001b[38;5;28mself\u001b[39m\u001b[38;5;241m.\u001b[39m_info_axis\u001b[38;5;241m.\u001b[39m_can_hold_identifiers_and_holds_name(name)\n\u001b[1;32m   5900\u001b[0m ):\n\u001b[1;32m   5901\u001b[0m     \u001b[38;5;28;01mreturn\u001b[39;00m \u001b[38;5;28mself\u001b[39m[name]\n\u001b[0;32m-> 5902\u001b[0m \u001b[38;5;28;01mreturn\u001b[39;00m \u001b[38;5;28;43mobject\u001b[39;49m\u001b[38;5;241;43m.\u001b[39;49m\u001b[38;5;21;43m__getattribute__\u001b[39;49m\u001b[43m(\u001b[49m\u001b[38;5;28;43mself\u001b[39;49m\u001b[43m,\u001b[49m\u001b[43m \u001b[49m\u001b[43mname\u001b[49m\u001b[43m)\u001b[49m\n",
      "\u001b[0;31mAttributeError\u001b[0m: 'DataFrame' object has no attribute 'MapBlkLot_Master'"
     ]
    }
   ],
   "source": [
    "trainDf.MapBlkLot_Master.nunique() - trainDf.shape[0]"
   ]
  },
  {
   "cell_type": "markdown",
   "id": "71e6ffff",
   "metadata": {},
   "source": [
    "So, as expected, I'm short 78 developed parcels."
   ]
  },
  {
   "cell_type": "code",
   "execution_count": 52,
   "id": "02778785",
   "metadata": {},
   "outputs": [],
   "source": [
    "trainDf = trainDf.set_index('MapBlkLot_Master')"
   ]
  },
  {
   "cell_type": "code",
   "execution_count": 53,
   "id": "7d8f7f2c",
   "metadata": {},
   "outputs": [
    {
     "data": {
      "text/plain": [
       "Index(['year', 'Historic', 'Residential_Dummy', 'Zillow_Price_Real',\n",
       "       'Const_FedReserve_Real', 'Envelope_1000', 'Upzone_Ratio',\n",
       "       'zp_OfficeComm', 'zp_DensRestMulti', 'zp_FormBasedMulti', 'zp_PDRInd',\n",
       "       'zp_Public', 'zp_Redev', 'zp_RH2', 'zp_RH3_RM1', 'Developed', 'PROPLOC',\n",
       "       'RP1NBRCDE', 'RP1PRCLID', 'RP1VOLUME', 'RP1CLACDE', 'YRBLT', 'BATHS',\n",
       "       'BEDS', 'ROOMS', 'STOREYNO', 'UNITS', 'ZONE', 'CONSTTYPE', 'DEPTH',\n",
       "       'FRONT', 'SQFT', 'FBA', 'LAREA', 'LOTCODE', 'REPRISDATE', 'RP1TRACDE',\n",
       "       'OWNRPRCNT', 'EXEMPTYPE', 'RP1STACDE', 'RP1EXMVL2', 'RP1EXMVL1',\n",
       "       'ROLLYEAR', 'RECURRSALD', 'RP1FXTVAL', 'RP1IMPVAL', 'RP1LNDVAL',\n",
       "       'RP1PPTVAL'],\n",
       "      dtype='object')"
      ]
     },
     "execution_count": 53,
     "metadata": {},
     "output_type": "execute_result"
    }
   ],
   "source": [
    "trainDf.columns"
   ]
  },
  {
   "cell_type": "code",
   "execution_count": 54,
   "id": "ddd928d1",
   "metadata": {},
   "outputs": [
    {
     "data": {
      "text/plain": [
       "(152335, 48)"
      ]
     },
     "execution_count": 54,
     "metadata": {},
     "output_type": "execute_result"
    }
   ],
   "source": [
    "trainDf.shape"
   ]
  },
  {
   "cell_type": "markdown",
   "id": "f080bea5",
   "metadata": {},
   "source": [
    "Somewhere above, I've introduced two non-unique indexes."
   ]
  },
  {
   "cell_type": "code",
   "execution_count": 55,
   "id": "1e3a8bef",
   "metadata": {},
   "outputs": [],
   "source": [
    "trainX = trainDf.drop(['year', 'Developed', 'RP1PRCLID', 'PROPLOC', \n",
    "                      'Const_FedReserve_Real', 'Zillow_Price_Real', 'zp_RH2'], axis=1)"
   ]
  },
  {
   "cell_type": "code",
   "execution_count": 56,
   "id": "a0e168d6",
   "metadata": {},
   "outputs": [
    {
     "data": {
      "text/plain": [
       "(152335, 41)"
      ]
     },
     "execution_count": 56,
     "metadata": {},
     "output_type": "execute_result"
    }
   ],
   "source": [
    "trainX.shape"
   ]
  },
  {
   "cell_type": "code",
   "execution_count": 78,
   "id": "9cc90ab3",
   "metadata": {},
   "outputs": [],
   "source": [
    "trainX = trainX.loc[~trainX.index.duplicated()]"
   ]
  },
  {
   "cell_type": "code",
   "execution_count": 79,
   "id": "a97c06d3",
   "metadata": {},
   "outputs": [
    {
     "data": {
      "text/plain": [
       "(152333, 41)"
      ]
     },
     "execution_count": 79,
     "metadata": {},
     "output_type": "execute_result"
    }
   ],
   "source": [
    "trainX.shape"
   ]
  },
  {
   "cell_type": "code",
   "execution_count": 82,
   "id": "8b555404",
   "metadata": {},
   "outputs": [],
   "source": [
    "trainY = trainY[~trainY.index.duplicated()]"
   ]
  },
  {
   "cell_type": "code",
   "execution_count": 83,
   "id": "0cea0988",
   "metadata": {},
   "outputs": [
    {
     "data": {
      "text/plain": [
       "(152333,)"
      ]
     },
     "execution_count": 83,
     "metadata": {},
     "output_type": "execute_result"
    }
   ],
   "source": [
    "trainY.shape"
   ]
  },
  {
   "cell_type": "code",
   "execution_count": 84,
   "id": "1ca624d7",
   "metadata": {},
   "outputs": [
    {
     "data": {
      "text/html": [
       "<div>\n",
       "<style scoped>\n",
       "    .dataframe tbody tr th:only-of-type {\n",
       "        vertical-align: middle;\n",
       "    }\n",
       "\n",
       "    .dataframe tbody tr th {\n",
       "        vertical-align: top;\n",
       "    }\n",
       "\n",
       "    .dataframe thead th {\n",
       "        text-align: right;\n",
       "    }\n",
       "</style>\n",
       "<table border=\"1\" class=\"dataframe\">\n",
       "  <thead>\n",
       "    <tr style=\"text-align: right;\">\n",
       "      <th></th>\n",
       "      <th>Historic</th>\n",
       "      <th>Residential_Dummy</th>\n",
       "      <th>Envelope_1000</th>\n",
       "      <th>Upzone_Ratio</th>\n",
       "      <th>zp_OfficeComm</th>\n",
       "      <th>zp_DensRestMulti</th>\n",
       "      <th>zp_FormBasedMulti</th>\n",
       "      <th>zp_PDRInd</th>\n",
       "      <th>zp_Public</th>\n",
       "      <th>zp_Redev</th>\n",
       "      <th>...</th>\n",
       "      <th>RP1TRACDE</th>\n",
       "      <th>OWNRPRCNT</th>\n",
       "      <th>RP1EXMVL2</th>\n",
       "      <th>RP1EXMVL1</th>\n",
       "      <th>ROLLYEAR</th>\n",
       "      <th>RECURRSALD</th>\n",
       "      <th>RP1FXTVAL</th>\n",
       "      <th>RP1IMPVAL</th>\n",
       "      <th>RP1LNDVAL</th>\n",
       "      <th>RP1PPTVAL</th>\n",
       "    </tr>\n",
       "  </thead>\n",
       "  <tbody>\n",
       "    <tr>\n",
       "      <th>count</th>\n",
       "      <td>152333.000000</td>\n",
       "      <td>152333.000000</td>\n",
       "      <td>152333.000000</td>\n",
       "      <td>152333.000000</td>\n",
       "      <td>152333.000000</td>\n",
       "      <td>152333.000000</td>\n",
       "      <td>152333.000000</td>\n",
       "      <td>152333.000000</td>\n",
       "      <td>152333.000000</td>\n",
       "      <td>152333.000000</td>\n",
       "      <td>...</td>\n",
       "      <td>152247.000000</td>\n",
       "      <td>152333.000000</td>\n",
       "      <td>1.523330e+05</td>\n",
       "      <td>152333.000000</td>\n",
       "      <td>152333.0</td>\n",
       "      <td>152333.000000</td>\n",
       "      <td>1.523330e+05</td>\n",
       "      <td>1.523330e+05</td>\n",
       "      <td>1.523330e+05</td>\n",
       "      <td>1.523330e+05</td>\n",
       "    </tr>\n",
       "    <tr>\n",
       "      <th>mean</th>\n",
       "      <td>0.134016</td>\n",
       "      <td>0.911070</td>\n",
       "      <td>4.118889</td>\n",
       "      <td>0.772937</td>\n",
       "      <td>0.012131</td>\n",
       "      <td>0.100280</td>\n",
       "      <td>0.004917</td>\n",
       "      <td>0.018512</td>\n",
       "      <td>0.010044</td>\n",
       "      <td>0.002133</td>\n",
       "      <td>...</td>\n",
       "      <td>1000.519091</td>\n",
       "      <td>0.885773</td>\n",
       "      <td>2.733110e+04</td>\n",
       "      <td>3547.215639</td>\n",
       "      <td>7.0</td>\n",
       "      <td>245533.642973</td>\n",
       "      <td>6.020360e+03</td>\n",
       "      <td>3.442140e+05</td>\n",
       "      <td>3.283077e+05</td>\n",
       "      <td>4.048780e+03</td>\n",
       "    </tr>\n",
       "    <tr>\n",
       "      <th>std</th>\n",
       "      <td>0.340670</td>\n",
       "      <td>0.284644</td>\n",
       "      <td>23.828903</td>\n",
       "      <td>0.660828</td>\n",
       "      <td>0.109472</td>\n",
       "      <td>0.300374</td>\n",
       "      <td>0.069948</td>\n",
       "      <td>0.134794</td>\n",
       "      <td>0.099714</td>\n",
       "      <td>0.046141</td>\n",
       "      <td>...</td>\n",
       "      <td>20.678732</td>\n",
       "      <td>0.227196</td>\n",
       "      <td>1.326790e+06</td>\n",
       "      <td>4338.142932</td>\n",
       "      <td>0.0</td>\n",
       "      <td>403072.734091</td>\n",
       "      <td>8.103218e+05</td>\n",
       "      <td>3.471683e+06</td>\n",
       "      <td>1.748172e+06</td>\n",
       "      <td>2.854760e+05</td>\n",
       "    </tr>\n",
       "    <tr>\n",
       "      <th>min</th>\n",
       "      <td>0.000000</td>\n",
       "      <td>0.000000</td>\n",
       "      <td>0.000000</td>\n",
       "      <td>0.000000</td>\n",
       "      <td>0.000000</td>\n",
       "      <td>0.000000</td>\n",
       "      <td>0.000000</td>\n",
       "      <td>0.000000</td>\n",
       "      <td>0.000000</td>\n",
       "      <td>0.000000</td>\n",
       "      <td>...</td>\n",
       "      <td>1000.000000</td>\n",
       "      <td>0.000000</td>\n",
       "      <td>0.000000e+00</td>\n",
       "      <td>0.000000</td>\n",
       "      <td>7.0</td>\n",
       "      <td>0.000000</td>\n",
       "      <td>0.000000e+00</td>\n",
       "      <td>0.000000e+00</td>\n",
       "      <td>0.000000e+00</td>\n",
       "      <td>0.000000e+00</td>\n",
       "    </tr>\n",
       "    <tr>\n",
       "      <th>25%</th>\n",
       "      <td>0.000000</td>\n",
       "      <td>1.000000</td>\n",
       "      <td>1.000000</td>\n",
       "      <td>0.443853</td>\n",
       "      <td>0.000000</td>\n",
       "      <td>0.000000</td>\n",
       "      <td>0.000000</td>\n",
       "      <td>0.000000</td>\n",
       "      <td>0.000000</td>\n",
       "      <td>0.000000</td>\n",
       "      <td>...</td>\n",
       "      <td>1000.000000</td>\n",
       "      <td>1.000000</td>\n",
       "      <td>0.000000e+00</td>\n",
       "      <td>0.000000</td>\n",
       "      <td>7.0</td>\n",
       "      <td>0.000000</td>\n",
       "      <td>0.000000e+00</td>\n",
       "      <td>6.033600e+04</td>\n",
       "      <td>4.085800e+04</td>\n",
       "      <td>0.000000e+00</td>\n",
       "    </tr>\n",
       "    <tr>\n",
       "      <th>50%</th>\n",
       "      <td>0.000000</td>\n",
       "      <td>1.000000</td>\n",
       "      <td>1.000000</td>\n",
       "      <td>0.561167</td>\n",
       "      <td>0.000000</td>\n",
       "      <td>0.000000</td>\n",
       "      <td>0.000000</td>\n",
       "      <td>0.000000</td>\n",
       "      <td>0.000000</td>\n",
       "      <td>0.000000</td>\n",
       "      <td>...</td>\n",
       "      <td>1000.000000</td>\n",
       "      <td>1.000000</td>\n",
       "      <td>0.000000e+00</td>\n",
       "      <td>0.000000</td>\n",
       "      <td>7.0</td>\n",
       "      <td>0.000000</td>\n",
       "      <td>0.000000e+00</td>\n",
       "      <td>1.433740e+05</td>\n",
       "      <td>1.433960e+05</td>\n",
       "      <td>0.000000e+00</td>\n",
       "    </tr>\n",
       "    <tr>\n",
       "      <th>75%</th>\n",
       "      <td>0.000000</td>\n",
       "      <td>1.000000</td>\n",
       "      <td>2.000000</td>\n",
       "      <td>0.952381</td>\n",
       "      <td>0.000000</td>\n",
       "      <td>0.000000</td>\n",
       "      <td>0.000000</td>\n",
       "      <td>0.000000</td>\n",
       "      <td>0.000000</td>\n",
       "      <td>0.000000</td>\n",
       "      <td>...</td>\n",
       "      <td>1000.000000</td>\n",
       "      <td>1.000000</td>\n",
       "      <td>0.000000e+00</td>\n",
       "      <td>7000.000000</td>\n",
       "      <td>7.0</td>\n",
       "      <td>870318.000000</td>\n",
       "      <td>0.000000e+00</td>\n",
       "      <td>2.801290e+05</td>\n",
       "      <td>3.374060e+05</td>\n",
       "      <td>0.000000e+00</td>\n",
       "    </tr>\n",
       "    <tr>\n",
       "      <th>max</th>\n",
       "      <td>1.000000</td>\n",
       "      <td>1.000000</td>\n",
       "      <td>2297.421872</td>\n",
       "      <td>34.800000</td>\n",
       "      <td>1.000000</td>\n",
       "      <td>1.000000</td>\n",
       "      <td>1.000000</td>\n",
       "      <td>1.000000</td>\n",
       "      <td>1.000000</td>\n",
       "      <td>1.000000</td>\n",
       "      <td>...</td>\n",
       "      <td>9000.000000</td>\n",
       "      <td>1.000000</td>\n",
       "      <td>3.763004e+08</td>\n",
       "      <td>777000.000000</td>\n",
       "      <td>7.0</td>\n",
       "      <td>991231.000000</td>\n",
       "      <td>3.017421e+08</td>\n",
       "      <td>6.120000e+08</td>\n",
       "      <td>2.560200e+08</td>\n",
       "      <td>5.345948e+07</td>\n",
       "    </tr>\n",
       "  </tbody>\n",
       "</table>\n",
       "<p>8 rows × 34 columns</p>\n",
       "</div>"
      ],
      "text/plain": [
       "            Historic  Residential_Dummy  Envelope_1000   Upzone_Ratio  \\\n",
       "count  152333.000000      152333.000000  152333.000000  152333.000000   \n",
       "mean        0.134016           0.911070       4.118889       0.772937   \n",
       "std         0.340670           0.284644      23.828903       0.660828   \n",
       "min         0.000000           0.000000       0.000000       0.000000   \n",
       "25%         0.000000           1.000000       1.000000       0.443853   \n",
       "50%         0.000000           1.000000       1.000000       0.561167   \n",
       "75%         0.000000           1.000000       2.000000       0.952381   \n",
       "max         1.000000           1.000000    2297.421872      34.800000   \n",
       "\n",
       "       zp_OfficeComm  zp_DensRestMulti  zp_FormBasedMulti      zp_PDRInd  \\\n",
       "count  152333.000000     152333.000000      152333.000000  152333.000000   \n",
       "mean        0.012131          0.100280           0.004917       0.018512   \n",
       "std         0.109472          0.300374           0.069948       0.134794   \n",
       "min         0.000000          0.000000           0.000000       0.000000   \n",
       "25%         0.000000          0.000000           0.000000       0.000000   \n",
       "50%         0.000000          0.000000           0.000000       0.000000   \n",
       "75%         0.000000          0.000000           0.000000       0.000000   \n",
       "max         1.000000          1.000000           1.000000       1.000000   \n",
       "\n",
       "           zp_Public       zp_Redev  ...      RP1TRACDE      OWNRPRCNT  \\\n",
       "count  152333.000000  152333.000000  ...  152247.000000  152333.000000   \n",
       "mean        0.010044       0.002133  ...    1000.519091       0.885773   \n",
       "std         0.099714       0.046141  ...      20.678732       0.227196   \n",
       "min         0.000000       0.000000  ...    1000.000000       0.000000   \n",
       "25%         0.000000       0.000000  ...    1000.000000       1.000000   \n",
       "50%         0.000000       0.000000  ...    1000.000000       1.000000   \n",
       "75%         0.000000       0.000000  ...    1000.000000       1.000000   \n",
       "max         1.000000       1.000000  ...    9000.000000       1.000000   \n",
       "\n",
       "          RP1EXMVL2      RP1EXMVL1  ROLLYEAR     RECURRSALD     RP1FXTVAL  \\\n",
       "count  1.523330e+05  152333.000000  152333.0  152333.000000  1.523330e+05   \n",
       "mean   2.733110e+04    3547.215639       7.0  245533.642973  6.020360e+03   \n",
       "std    1.326790e+06    4338.142932       0.0  403072.734091  8.103218e+05   \n",
       "min    0.000000e+00       0.000000       7.0       0.000000  0.000000e+00   \n",
       "25%    0.000000e+00       0.000000       7.0       0.000000  0.000000e+00   \n",
       "50%    0.000000e+00       0.000000       7.0       0.000000  0.000000e+00   \n",
       "75%    0.000000e+00    7000.000000       7.0  870318.000000  0.000000e+00   \n",
       "max    3.763004e+08  777000.000000       7.0  991231.000000  3.017421e+08   \n",
       "\n",
       "          RP1IMPVAL     RP1LNDVAL     RP1PPTVAL  \n",
       "count  1.523330e+05  1.523330e+05  1.523330e+05  \n",
       "mean   3.442140e+05  3.283077e+05  4.048780e+03  \n",
       "std    3.471683e+06  1.748172e+06  2.854760e+05  \n",
       "min    0.000000e+00  0.000000e+00  0.000000e+00  \n",
       "25%    6.033600e+04  4.085800e+04  0.000000e+00  \n",
       "50%    1.433740e+05  1.433960e+05  0.000000e+00  \n",
       "75%    2.801290e+05  3.374060e+05  0.000000e+00  \n",
       "max    6.120000e+08  2.560200e+08  5.345948e+07  \n",
       "\n",
       "[8 rows x 34 columns]"
      ]
     },
     "execution_count": 84,
     "metadata": {},
     "output_type": "execute_result"
    }
   ],
   "source": [
    "trainX.describe()"
   ]
  },
  {
   "cell_type": "code",
   "execution_count": 85,
   "id": "f5814011",
   "metadata": {},
   "outputs": [
    {
     "data": {
      "text/html": [
       "<div>\n",
       "<style scoped>\n",
       "    .dataframe tbody tr th:only-of-type {\n",
       "        vertical-align: middle;\n",
       "    }\n",
       "\n",
       "    .dataframe tbody tr th {\n",
       "        vertical-align: top;\n",
       "    }\n",
       "\n",
       "    .dataframe thead th {\n",
       "        text-align: right;\n",
       "    }\n",
       "</style>\n",
       "<table border=\"1\" class=\"dataframe\">\n",
       "  <thead>\n",
       "    <tr style=\"text-align: right;\">\n",
       "      <th></th>\n",
       "      <th>zp_DensRestMulti</th>\n",
       "      <th>zp_FormBasedMulti</th>\n",
       "      <th>zp_PDRInd</th>\n",
       "      <th>zp_Public</th>\n",
       "      <th>zp_Redev</th>\n",
       "      <th>zp_RH3_RM1</th>\n",
       "      <th>RP1VOLUME</th>\n",
       "      <th>YRBLT</th>\n",
       "      <th>BATHS</th>\n",
       "      <th>BEDS</th>\n",
       "      <th>...</th>\n",
       "      <th>RP1TRACDE</th>\n",
       "      <th>OWNRPRCNT</th>\n",
       "      <th>RP1EXMVL2</th>\n",
       "      <th>RP1EXMVL1</th>\n",
       "      <th>ROLLYEAR</th>\n",
       "      <th>RECURRSALD</th>\n",
       "      <th>RP1FXTVAL</th>\n",
       "      <th>RP1IMPVAL</th>\n",
       "      <th>RP1LNDVAL</th>\n",
       "      <th>RP1PPTVAL</th>\n",
       "    </tr>\n",
       "  </thead>\n",
       "  <tbody>\n",
       "    <tr>\n",
       "      <th>count</th>\n",
       "      <td>152333.000000</td>\n",
       "      <td>152333.000000</td>\n",
       "      <td>152333.000000</td>\n",
       "      <td>152333.000000</td>\n",
       "      <td>152333.000000</td>\n",
       "      <td>152333.000000</td>\n",
       "      <td>152333.000000</td>\n",
       "      <td>152333.000000</td>\n",
       "      <td>152333.000000</td>\n",
       "      <td>152333.000000</td>\n",
       "      <td>...</td>\n",
       "      <td>152247.000000</td>\n",
       "      <td>152333.000000</td>\n",
       "      <td>1.523330e+05</td>\n",
       "      <td>152333.000000</td>\n",
       "      <td>152333.0</td>\n",
       "      <td>152333.000000</td>\n",
       "      <td>1.523330e+05</td>\n",
       "      <td>1.523330e+05</td>\n",
       "      <td>1.523330e+05</td>\n",
       "      <td>1.523330e+05</td>\n",
       "    </tr>\n",
       "    <tr>\n",
       "      <th>mean</th>\n",
       "      <td>0.100280</td>\n",
       "      <td>0.004917</td>\n",
       "      <td>0.018512</td>\n",
       "      <td>0.010044</td>\n",
       "      <td>0.002133</td>\n",
       "      <td>0.126440</td>\n",
       "      <td>22.492402</td>\n",
       "      <td>1859.286950</td>\n",
       "      <td>2.723350</td>\n",
       "      <td>0.872011</td>\n",
       "      <td>...</td>\n",
       "      <td>1000.519091</td>\n",
       "      <td>0.885773</td>\n",
       "      <td>2.733110e+04</td>\n",
       "      <td>3547.215639</td>\n",
       "      <td>7.0</td>\n",
       "      <td>245533.642973</td>\n",
       "      <td>6.020360e+03</td>\n",
       "      <td>3.442140e+05</td>\n",
       "      <td>3.283077e+05</td>\n",
       "      <td>4.048780e+03</td>\n",
       "    </tr>\n",
       "    <tr>\n",
       "      <th>std</th>\n",
       "      <td>0.300374</td>\n",
       "      <td>0.069948</td>\n",
       "      <td>0.134794</td>\n",
       "      <td>0.099714</td>\n",
       "      <td>0.046141</td>\n",
       "      <td>0.332346</td>\n",
       "      <td>12.485101</td>\n",
       "      <td>371.914773</td>\n",
       "      <td>9.708732</td>\n",
       "      <td>11.971218</td>\n",
       "      <td>...</td>\n",
       "      <td>20.678732</td>\n",
       "      <td>0.227196</td>\n",
       "      <td>1.326790e+06</td>\n",
       "      <td>4338.142932</td>\n",
       "      <td>0.0</td>\n",
       "      <td>403072.734091</td>\n",
       "      <td>8.103218e+05</td>\n",
       "      <td>3.471683e+06</td>\n",
       "      <td>1.748172e+06</td>\n",
       "      <td>2.854760e+05</td>\n",
       "    </tr>\n",
       "    <tr>\n",
       "      <th>min</th>\n",
       "      <td>0.000000</td>\n",
       "      <td>0.000000</td>\n",
       "      <td>0.000000</td>\n",
       "      <td>0.000000</td>\n",
       "      <td>0.000000</td>\n",
       "      <td>0.000000</td>\n",
       "      <td>1.000000</td>\n",
       "      <td>0.000000</td>\n",
       "      <td>0.000000</td>\n",
       "      <td>0.000000</td>\n",
       "      <td>...</td>\n",
       "      <td>1000.000000</td>\n",
       "      <td>0.000000</td>\n",
       "      <td>0.000000e+00</td>\n",
       "      <td>0.000000</td>\n",
       "      <td>7.0</td>\n",
       "      <td>0.000000</td>\n",
       "      <td>0.000000e+00</td>\n",
       "      <td>0.000000e+00</td>\n",
       "      <td>0.000000e+00</td>\n",
       "      <td>0.000000e+00</td>\n",
       "    </tr>\n",
       "    <tr>\n",
       "      <th>25%</th>\n",
       "      <td>0.000000</td>\n",
       "      <td>0.000000</td>\n",
       "      <td>0.000000</td>\n",
       "      <td>0.000000</td>\n",
       "      <td>0.000000</td>\n",
       "      <td>0.000000</td>\n",
       "      <td>12.000000</td>\n",
       "      <td>1909.000000</td>\n",
       "      <td>1.000000</td>\n",
       "      <td>0.000000</td>\n",
       "      <td>...</td>\n",
       "      <td>1000.000000</td>\n",
       "      <td>1.000000</td>\n",
       "      <td>0.000000e+00</td>\n",
       "      <td>0.000000</td>\n",
       "      <td>7.0</td>\n",
       "      <td>0.000000</td>\n",
       "      <td>0.000000e+00</td>\n",
       "      <td>6.033600e+04</td>\n",
       "      <td>4.085800e+04</td>\n",
       "      <td>0.000000e+00</td>\n",
       "    </tr>\n",
       "    <tr>\n",
       "      <th>50%</th>\n",
       "      <td>0.000000</td>\n",
       "      <td>0.000000</td>\n",
       "      <td>0.000000</td>\n",
       "      <td>0.000000</td>\n",
       "      <td>0.000000</td>\n",
       "      <td>0.000000</td>\n",
       "      <td>21.000000</td>\n",
       "      <td>1926.000000</td>\n",
       "      <td>2.000000</td>\n",
       "      <td>0.000000</td>\n",
       "      <td>...</td>\n",
       "      <td>1000.000000</td>\n",
       "      <td>1.000000</td>\n",
       "      <td>0.000000e+00</td>\n",
       "      <td>0.000000</td>\n",
       "      <td>7.0</td>\n",
       "      <td>0.000000</td>\n",
       "      <td>0.000000e+00</td>\n",
       "      <td>1.433740e+05</td>\n",
       "      <td>1.433960e+05</td>\n",
       "      <td>0.000000e+00</td>\n",
       "    </tr>\n",
       "    <tr>\n",
       "      <th>75%</th>\n",
       "      <td>0.000000</td>\n",
       "      <td>0.000000</td>\n",
       "      <td>0.000000</td>\n",
       "      <td>0.000000</td>\n",
       "      <td>0.000000</td>\n",
       "      <td>0.000000</td>\n",
       "      <td>35.000000</td>\n",
       "      <td>1947.000000</td>\n",
       "      <td>3.000000</td>\n",
       "      <td>0.000000</td>\n",
       "      <td>...</td>\n",
       "      <td>1000.000000</td>\n",
       "      <td>1.000000</td>\n",
       "      <td>0.000000e+00</td>\n",
       "      <td>7000.000000</td>\n",
       "      <td>7.0</td>\n",
       "      <td>870318.000000</td>\n",
       "      <td>0.000000e+00</td>\n",
       "      <td>2.801290e+05</td>\n",
       "      <td>3.374060e+05</td>\n",
       "      <td>0.000000e+00</td>\n",
       "    </tr>\n",
       "    <tr>\n",
       "      <th>max</th>\n",
       "      <td>1.000000</td>\n",
       "      <td>1.000000</td>\n",
       "      <td>1.000000</td>\n",
       "      <td>1.000000</td>\n",
       "      <td>1.000000</td>\n",
       "      <td>1.000000</td>\n",
       "      <td>44.000000</td>\n",
       "      <td>8687.000000</td>\n",
       "      <td>850.000000</td>\n",
       "      <td>3800.000000</td>\n",
       "      <td>...</td>\n",
       "      <td>9000.000000</td>\n",
       "      <td>1.000000</td>\n",
       "      <td>3.763004e+08</td>\n",
       "      <td>777000.000000</td>\n",
       "      <td>7.0</td>\n",
       "      <td>991231.000000</td>\n",
       "      <td>3.017421e+08</td>\n",
       "      <td>6.120000e+08</td>\n",
       "      <td>2.560200e+08</td>\n",
       "      <td>5.345948e+07</td>\n",
       "    </tr>\n",
       "  </tbody>\n",
       "</table>\n",
       "<p>8 rows × 29 columns</p>\n",
       "</div>"
      ],
      "text/plain": [
       "       zp_DensRestMulti  zp_FormBasedMulti      zp_PDRInd      zp_Public  \\\n",
       "count     152333.000000      152333.000000  152333.000000  152333.000000   \n",
       "mean           0.100280           0.004917       0.018512       0.010044   \n",
       "std            0.300374           0.069948       0.134794       0.099714   \n",
       "min            0.000000           0.000000       0.000000       0.000000   \n",
       "25%            0.000000           0.000000       0.000000       0.000000   \n",
       "50%            0.000000           0.000000       0.000000       0.000000   \n",
       "75%            0.000000           0.000000       0.000000       0.000000   \n",
       "max            1.000000           1.000000       1.000000       1.000000   \n",
       "\n",
       "            zp_Redev     zp_RH3_RM1      RP1VOLUME          YRBLT  \\\n",
       "count  152333.000000  152333.000000  152333.000000  152333.000000   \n",
       "mean        0.002133       0.126440      22.492402    1859.286950   \n",
       "std         0.046141       0.332346      12.485101     371.914773   \n",
       "min         0.000000       0.000000       1.000000       0.000000   \n",
       "25%         0.000000       0.000000      12.000000    1909.000000   \n",
       "50%         0.000000       0.000000      21.000000    1926.000000   \n",
       "75%         0.000000       0.000000      35.000000    1947.000000   \n",
       "max         1.000000       1.000000      44.000000    8687.000000   \n",
       "\n",
       "               BATHS           BEDS  ...      RP1TRACDE      OWNRPRCNT  \\\n",
       "count  152333.000000  152333.000000  ...  152247.000000  152333.000000   \n",
       "mean        2.723350       0.872011  ...    1000.519091       0.885773   \n",
       "std         9.708732      11.971218  ...      20.678732       0.227196   \n",
       "min         0.000000       0.000000  ...    1000.000000       0.000000   \n",
       "25%         1.000000       0.000000  ...    1000.000000       1.000000   \n",
       "50%         2.000000       0.000000  ...    1000.000000       1.000000   \n",
       "75%         3.000000       0.000000  ...    1000.000000       1.000000   \n",
       "max       850.000000    3800.000000  ...    9000.000000       1.000000   \n",
       "\n",
       "          RP1EXMVL2      RP1EXMVL1  ROLLYEAR     RECURRSALD     RP1FXTVAL  \\\n",
       "count  1.523330e+05  152333.000000  152333.0  152333.000000  1.523330e+05   \n",
       "mean   2.733110e+04    3547.215639       7.0  245533.642973  6.020360e+03   \n",
       "std    1.326790e+06    4338.142932       0.0  403072.734091  8.103218e+05   \n",
       "min    0.000000e+00       0.000000       7.0       0.000000  0.000000e+00   \n",
       "25%    0.000000e+00       0.000000       7.0       0.000000  0.000000e+00   \n",
       "50%    0.000000e+00       0.000000       7.0       0.000000  0.000000e+00   \n",
       "75%    0.000000e+00    7000.000000       7.0  870318.000000  0.000000e+00   \n",
       "max    3.763004e+08  777000.000000       7.0  991231.000000  3.017421e+08   \n",
       "\n",
       "          RP1IMPVAL     RP1LNDVAL     RP1PPTVAL  \n",
       "count  1.523330e+05  1.523330e+05  1.523330e+05  \n",
       "mean   3.442140e+05  3.283077e+05  4.048780e+03  \n",
       "std    3.471683e+06  1.748172e+06  2.854760e+05  \n",
       "min    0.000000e+00  0.000000e+00  0.000000e+00  \n",
       "25%    6.033600e+04  4.085800e+04  0.000000e+00  \n",
       "50%    1.433740e+05  1.433960e+05  0.000000e+00  \n",
       "75%    2.801290e+05  3.374060e+05  0.000000e+00  \n",
       "max    6.120000e+08  2.560200e+08  5.345948e+07  \n",
       "\n",
       "[8 rows x 29 columns]"
      ]
     },
     "execution_count": 85,
     "metadata": {},
     "output_type": "execute_result"
    }
   ],
   "source": [
    "trainX.iloc[:,5:].describe()"
   ]
  },
  {
   "cell_type": "code",
   "execution_count": 86,
   "id": "98a10d03",
   "metadata": {},
   "outputs": [
    {
     "data": {
      "text/plain": [
       "8687"
      ]
     },
     "execution_count": 86,
     "metadata": {},
     "output_type": "execute_result"
    }
   ],
   "source": [
    "(trainX.YRBLT[trainX.YRBLT> 2008]).max()"
   ]
  },
  {
   "cell_type": "code",
   "execution_count": 136,
   "id": "1951a4c7",
   "metadata": {},
   "outputs": [
    {
     "data": {
      "text/plain": [
       "229"
      ]
     },
     "execution_count": 136,
     "metadata": {},
     "output_type": "execute_result"
    }
   ],
   "source": [
    "trainY.sum()"
   ]
  },
  {
   "cell_type": "markdown",
   "id": "4ca898d5",
   "metadata": {},
   "source": [
    "### Feature Engineering"
   ]
  },
  {
   "cell_type": "markdown",
   "id": "154c7bf5",
   "metadata": {},
   "source": [
    "#### Use Codes"
   ]
  },
  {
   "cell_type": "code",
   "execution_count": 89,
   "id": "bf05e522",
   "metadata": {},
   "outputs": [],
   "source": [
    "use_codes = use_codes[~use_codes.isna().all(axis=1)]"
   ]
  },
  {
   "cell_type": "code",
   "execution_count": 90,
   "id": "250fdafd",
   "metadata": {},
   "outputs": [
    {
     "data": {
      "text/html": [
       "<div>\n",
       "<style scoped>\n",
       "    .dataframe tbody tr th:only-of-type {\n",
       "        vertical-align: middle;\n",
       "    }\n",
       "\n",
       "    .dataframe tbody tr th {\n",
       "        vertical-align: top;\n",
       "    }\n",
       "\n",
       "    .dataframe thead th {\n",
       "        text-align: right;\n",
       "    }\n",
       "</style>\n",
       "<table border=\"1\" class=\"dataframe\">\n",
       "  <thead>\n",
       "    <tr style=\"text-align: right;\">\n",
       "      <th></th>\n",
       "      <th>USE</th>\n",
       "      <th>DESC</th>\n",
       "      <th>CLASS</th>\n",
       "      <th>DESC.1</th>\n",
       "    </tr>\n",
       "  </thead>\n",
       "  <tbody>\n",
       "    <tr>\n",
       "      <th>0</th>\n",
       "      <td>SRES</td>\n",
       "      <td>Single Family Residential</td>\n",
       "      <td>CO</td>\n",
       "      <td>Coop Units Unsegregated</td>\n",
       "    </tr>\n",
       "    <tr>\n",
       "      <th>1</th>\n",
       "      <td>SRES</td>\n",
       "      <td>Single Family Residential</td>\n",
       "      <td>COS</td>\n",
       "      <td>Coop Units Segregated</td>\n",
       "    </tr>\n",
       "    <tr>\n",
       "      <th>2</th>\n",
       "      <td>SRES</td>\n",
       "      <td>Single Family Residential</td>\n",
       "      <td>D</td>\n",
       "      <td>Dwelling</td>\n",
       "    </tr>\n",
       "    <tr>\n",
       "      <th>3</th>\n",
       "      <td>SRES</td>\n",
       "      <td>Single Family Residential</td>\n",
       "      <td>DBM</td>\n",
       "      <td>Dwelling BMR</td>\n",
       "    </tr>\n",
       "    <tr>\n",
       "      <th>4</th>\n",
       "      <td>SRES</td>\n",
       "      <td>Single Family Residential</td>\n",
       "      <td>LZ</td>\n",
       "      <td>Live/Work Condominium</td>\n",
       "    </tr>\n",
       "  </tbody>\n",
       "</table>\n",
       "</div>"
      ],
      "text/plain": [
       "    USE                       DESC CLASS                   DESC.1\n",
       "0  SRES  Single Family Residential    CO  Coop Units Unsegregated\n",
       "1  SRES  Single Family Residential   COS    Coop Units Segregated\n",
       "2  SRES  Single Family Residential     D                 Dwelling\n",
       "3  SRES  Single Family Residential   DBM             Dwelling BMR\n",
       "4  SRES  Single Family Residential    LZ    Live/Work Condominium"
      ]
     },
     "execution_count": 90,
     "metadata": {},
     "output_type": "execute_result"
    }
   ],
   "source": [
    "use_codes.head()"
   ]
  },
  {
   "cell_type": "code",
   "execution_count": 91,
   "id": "d9233421",
   "metadata": {},
   "outputs": [],
   "source": [
    "use_codes = use_codes[use_codes['CLASS'] != 'CLASS']\n",
    "use_lookup = use_codes.groupby('CLASS')['USE'].agg(list).to_dict()\n",
    "use_lookup = {k: v[-1] for k, v in use_lookup.items()}"
   ]
  },
  {
   "cell_type": "code",
   "execution_count": 92,
   "id": "8890f6cc",
   "metadata": {},
   "outputs": [],
   "source": [
    "trainX['general_use_code'] = trainX.RP1CLACDE.map(use_lookup)"
   ]
  },
  {
   "cell_type": "markdown",
   "id": "6e191043",
   "metadata": {},
   "source": [
    "#### New features"
   ]
  },
  {
   "cell_type": "code",
   "execution_count": 93,
   "id": "c42a07c9",
   "metadata": {},
   "outputs": [],
   "source": [
    "trainX['hasBMR'] = trainX.RP1CLACDE.str.endswith('BM')"
   ]
  },
  {
   "cell_type": "markdown",
   "id": "163a1f6d",
   "metadata": {},
   "source": [
    "#### Neighborhood Code"
   ]
  },
  {
   "cell_type": "code",
   "execution_count": 94,
   "id": "897b9fcb",
   "metadata": {},
   "outputs": [],
   "source": [
    "neighborhood_codes.NEIGHBORHOOD = neighborhood_codes.NEIGHBORHOOD.str.strip().str.lower().str.split(' ').str.join('_')"
   ]
  },
  {
   "cell_type": "code",
   "execution_count": 95,
   "id": "9bf2ff43",
   "metadata": {},
   "outputs": [
    {
     "data": {
      "text/html": [
       "<div>\n",
       "<style scoped>\n",
       "    .dataframe tbody tr th:only-of-type {\n",
       "        vertical-align: middle;\n",
       "    }\n",
       "\n",
       "    .dataframe tbody tr th {\n",
       "        vertical-align: top;\n",
       "    }\n",
       "\n",
       "    .dataframe thead th {\n",
       "        text-align: right;\n",
       "    }\n",
       "</style>\n",
       "<table border=\"1\" class=\"dataframe\">\n",
       "  <thead>\n",
       "    <tr style=\"text-align: right;\">\n",
       "      <th></th>\n",
       "      <th>DISTRICT</th>\n",
       "      <th>CODE</th>\n",
       "      <th>NEIGHBORHOOD</th>\n",
       "      <th>BOUNDRIES</th>\n",
       "    </tr>\n",
       "  </thead>\n",
       "  <tbody>\n",
       "    <tr>\n",
       "      <th>0</th>\n",
       "      <td>1</td>\n",
       "      <td>1A</td>\n",
       "      <td>central_richmond</td>\n",
       "      <td>South of California, Park Presidio, south of F...</td>\n",
       "    </tr>\n",
       "    <tr>\n",
       "      <th>1</th>\n",
       "      <td>1</td>\n",
       "      <td>1B</td>\n",
       "      <td>inner_richmond</td>\n",
       "      <td>South of California, Arguello, south of Fulton...</td>\n",
       "    </tr>\n",
       "    <tr>\n",
       "      <th>2</th>\n",
       "      <td>1</td>\n",
       "      <td>1C</td>\n",
       "      <td>jordan_park/laurel_heights</td>\n",
       "      <td>California, west of Presidio, Geary, Arguello</td>\n",
       "    </tr>\n",
       "    <tr>\n",
       "      <th>3</th>\n",
       "      <td>1</td>\n",
       "      <td>1D</td>\n",
       "      <td>lake_--the_presidio</td>\n",
       "      <td>West and south of Presidio Terrace, Arguello, ...</td>\n",
       "    </tr>\n",
       "    <tr>\n",
       "      <th>4</th>\n",
       "      <td>1</td>\n",
       "      <td>1E</td>\n",
       "      <td>outer_richmond</td>\n",
       "      <td>The Ocean, west of 32nd Avenue, south of Fulton</td>\n",
       "    </tr>\n",
       "  </tbody>\n",
       "</table>\n",
       "</div>"
      ],
      "text/plain": [
       "   DISTRICT CODE                NEIGHBORHOOD  \\\n",
       "0         1   1A            central_richmond   \n",
       "1         1   1B              inner_richmond   \n",
       "2         1   1C  jordan_park/laurel_heights   \n",
       "3         1   1D         lake_--the_presidio   \n",
       "4         1   1E              outer_richmond   \n",
       "\n",
       "                                           BOUNDRIES  \n",
       "0  South of California, Park Presidio, south of F...  \n",
       "1  South of California, Arguello, south of Fulton...  \n",
       "2      California, west of Presidio, Geary, Arguello  \n",
       "3  West and south of Presidio Terrace, Arguello, ...  \n",
       "4    The Ocean, west of 32nd Avenue, south of Fulton  "
      ]
     },
     "execution_count": 95,
     "metadata": {},
     "output_type": "execute_result"
    }
   ],
   "source": [
    "neighborhood_codes.head()"
   ]
  },
  {
   "cell_type": "code",
   "execution_count": 96,
   "id": "c6e66e92",
   "metadata": {},
   "outputs": [],
   "source": [
    "neighborhoods = {k: v[0] for k, v in neighborhood_codes.groupby('CODE')['NEIGHBORHOOD'].agg(list).to_dict().items()}\n",
    "neighborhoods = {(k if len(k) == 3 else '0'+k): v for k, v in neighborhoods.items()} "
   ]
  },
  {
   "cell_type": "code",
   "execution_count": 97,
   "id": "b86ddd40",
   "metadata": {},
   "outputs": [],
   "source": [
    "def lookup_neighborhood(x):\n",
    "    return neighborhoods.get(x, x)"
   ]
  },
  {
   "cell_type": "code",
   "execution_count": 98,
   "id": "22bc5a0d",
   "metadata": {},
   "outputs": [],
   "source": [
    "trainX['neighborhood'] = trainX.RP1NBRCDE.apply(lookup_neighborhood)"
   ]
  },
  {
   "cell_type": "code",
   "execution_count": 99,
   "id": "70c86306",
   "metadata": {},
   "outputs": [],
   "source": [
    "districts = {k: v[0] for k, v in neighborhood_codes.groupby('CODE')['DISTRICT'].agg(list).to_dict().items()}\n",
    "districts = {(k if len(k) == 3 else '0'+k): v for k, v in districts.items()} "
   ]
  },
  {
   "cell_type": "code",
   "execution_count": 100,
   "id": "d7e7e846",
   "metadata": {},
   "outputs": [],
   "source": [
    "def lookup_district(x):\n",
    "    return 'district' + str(districts.get(x, x))"
   ]
  },
  {
   "cell_type": "code",
   "execution_count": 101,
   "id": "f931807f",
   "metadata": {},
   "outputs": [],
   "source": [
    "trainX['district'] = trainX['RP1NBRCDE'].apply(lookup_district)"
   ]
  },
  {
   "cell_type": "code",
   "execution_count": 102,
   "id": "2606d103",
   "metadata": {},
   "outputs": [],
   "source": [
    "trainX = trainX.drop('RP1NBRCDE', axis=1)"
   ]
  },
  {
   "cell_type": "markdown",
   "id": "5bdc141e",
   "metadata": {},
   "source": [
    "### Drop constant columns"
   ]
  },
  {
   "cell_type": "code",
   "execution_count": 103,
   "id": "a97adb78",
   "metadata": {},
   "outputs": [
    {
     "data": {
      "text/plain": [
       "152335"
      ]
     },
     "execution_count": 103,
     "metadata": {},
     "output_type": "execute_result"
    }
   ],
   "source": [
    "trainDf.shape[0] "
   ]
  },
  {
   "cell_type": "code",
   "execution_count": 104,
   "id": "cfbacb3b",
   "metadata": {},
   "outputs": [],
   "source": [
    "trainX = trainX.drop(trainX.columns[trainX.nunique() <= 1], axis=1)"
   ]
  },
  {
   "cell_type": "code",
   "execution_count": 105,
   "id": "251dc177",
   "metadata": {},
   "outputs": [
    {
     "data": {
      "text/plain": [
       "(152333, 42)"
      ]
     },
     "execution_count": 105,
     "metadata": {},
     "output_type": "execute_result"
    }
   ],
   "source": [
    "trainX.shape"
   ]
  },
  {
   "cell_type": "markdown",
   "id": "8546089e",
   "metadata": {},
   "source": [
    "### Baseline model is human model"
   ]
  },
  {
   "cell_type": "markdown",
   "id": "f9bec52d",
   "metadata": {},
   "source": [
    "Evaluate precision, recall, etc."
   ]
  },
  {
   "cell_type": "code",
   "execution_count": 106,
   "id": "7f7f1f3a",
   "metadata": {},
   "outputs": [],
   "source": [
    "rhna4Sites = sites[sites['rhnacyc'] == 'RHNA4']\n",
    "rhna4Sites = rhna4Sites[rhna4Sites.jurisdict == 'San Francisco']"
   ]
  },
  {
   "cell_type": "code",
   "execution_count": 107,
   "id": "a0c228f8",
   "metadata": {},
   "outputs": [
    {
     "data": {
      "text/plain": [
       "(4604, 35)"
      ]
     },
     "execution_count": 107,
     "metadata": {},
     "output_type": "execute_result"
    }
   ],
   "source": [
    "rhna4Sites.shape"
   ]
  },
  {
   "cell_type": "code",
   "execution_count": 108,
   "id": "1cc1560b",
   "metadata": {},
   "outputs": [],
   "source": [
    "rhna4Sites.locapn = rhna4Sites.locapn.str.split('/').str.join('')"
   ]
  },
  {
   "cell_type": "code",
   "execution_count": 109,
   "id": "d5d3f394",
   "metadata": {},
   "outputs": [],
   "source": [
    "rhna4Sites.apn = rhna4Sites.apn.str.split('/').str.join('')"
   ]
  },
  {
   "cell_type": "code",
   "execution_count": 110,
   "id": "4bac7a55",
   "metadata": {},
   "outputs": [
    {
     "data": {
      "text/plain": [
       "0.85"
      ]
     },
     "execution_count": 110,
     "metadata": {},
     "output_type": "execute_result"
    }
   ],
   "source": [
    "round(rhna4Sites.locapn.isin(trainY.index).mean(), 2)"
   ]
  },
  {
   "cell_type": "code",
   "execution_count": 111,
   "id": "b8253fd5",
   "metadata": {},
   "outputs": [
    {
     "data": {
      "text/plain": [
       "0.95"
      ]
     },
     "execution_count": 111,
     "metadata": {},
     "output_type": "execute_result"
    }
   ],
   "source": [
    "round(rhna4Sites.apn.isin(trainY.index).mean(), 2)"
   ]
  },
  {
   "cell_type": "code",
   "execution_count": 112,
   "id": "d6299683",
   "metadata": {},
   "outputs": [],
   "source": [
    "# TODO: Fix this APN matching\n",
    "rhna4Sites = rhna4Sites[np.logical_or(rhna4Sites.locapn.isin(trainY.index), \n",
    "                                      rhna4Sites.apn.isin(trainY.index))]"
   ]
  },
  {
   "cell_type": "code",
   "execution_count": 113,
   "id": "e2395846",
   "metadata": {},
   "outputs": [
    {
     "data": {
      "text/plain": [
       "(4386, 35)"
      ]
     },
     "execution_count": 113,
     "metadata": {},
     "output_type": "execute_result"
    }
   ],
   "source": [
    "rhna4Sites.shape"
   ]
  },
  {
   "cell_type": "code",
   "execution_count": 114,
   "id": "da176f59",
   "metadata": {},
   "outputs": [],
   "source": [
    "predictedSites = trainY.index.isin(rhna4Sites.locapn.values)"
   ]
  },
  {
   "cell_type": "code",
   "execution_count": 115,
   "id": "a62c4fec",
   "metadata": {},
   "outputs": [
    {
     "data": {
      "text/plain": [
       "152333"
      ]
     },
     "execution_count": 115,
     "metadata": {},
     "output_type": "execute_result"
    }
   ],
   "source": [
    "predictedSites.size"
   ]
  },
  {
   "cell_type": "markdown",
   "id": "56adc2fe",
   "metadata": {},
   "source": [
    "The site inventory has a 1.5% chance of development."
   ]
  },
  {
   "cell_type": "code",
   "execution_count": 116,
   "id": "73549b0e",
   "metadata": {},
   "outputs": [
    {
     "data": {
      "text/plain": [
       "1.4"
      ]
     },
     "execution_count": 116,
     "metadata": {},
     "output_type": "execute_result"
    }
   ],
   "source": [
    "round(trainY[predictedSites].mean() * 100, 1)"
   ]
  },
  {
   "cell_type": "markdown",
   "id": "e2098535",
   "metadata": {},
   "source": [
    "The parcels not in the site inventory has a 0.2% chance of development."
   ]
  },
  {
   "cell_type": "code",
   "execution_count": 117,
   "id": "555e295a",
   "metadata": {},
   "outputs": [],
   "source": [
    "predicted = pd.Series([1]*trainY[predictedSites].size + [0]*trainY[~predictedSites].size, \n",
    "                      index=trainY.index[predictedSites].tolist() + trainY.index[~predictedSites].tolist())"
   ]
  },
  {
   "cell_type": "code",
   "execution_count": null,
   "id": "0a76eb75",
   "metadata": {},
   "outputs": [],
   "source": []
  },
  {
   "cell_type": "code",
   "execution_count": 118,
   "id": "a546f950",
   "metadata": {},
   "outputs": [
    {
     "data": {
      "text/plain": [
       "0.0004861448711716092"
      ]
     },
     "execution_count": 118,
     "metadata": {},
     "output_type": "execute_result"
    }
   ],
   "source": [
    "f1_score(predicted, trainY>0)"
   ]
  },
  {
   "cell_type": "code",
   "execution_count": 119,
   "id": "9984361e",
   "metadata": {},
   "outputs": [],
   "source": [
    "precision, recall, fscore, support = precision_recall_fscore_support(predicted, trainY>0)"
   ]
  },
  {
   "cell_type": "code",
   "execution_count": 120,
   "id": "16bd2069",
   "metadata": {},
   "outputs": [
    {
     "data": {
      "text/plain": [
       "array([0.97446484, 0.00436681])"
      ]
     },
     "execution_count": 120,
     "metadata": {},
     "output_type": "execute_result"
    }
   ],
   "source": [
    "precision"
   ]
  },
  {
   "cell_type": "markdown",
   "id": "53fb999b",
   "metadata": {},
   "source": [
    "### Treat inclusion in site inventory as a feature"
   ]
  },
  {
   "cell_type": "code",
   "execution_count": 122,
   "id": "798da078",
   "metadata": {},
   "outputs": [],
   "source": [
    "trainX = trainX[~trainX.index.duplicated(keep='first')]"
   ]
  },
  {
   "cell_type": "code",
   "execution_count": 123,
   "id": "620ac9a9",
   "metadata": {},
   "outputs": [],
   "source": [
    "predicted = predicted[~predicted.index.duplicated(keep='first')]"
   ]
  },
  {
   "cell_type": "code",
   "execution_count": 124,
   "id": "aa0df451",
   "metadata": {},
   "outputs": [],
   "source": [
    "trainX['inInventory'] = predicted"
   ]
  },
  {
   "cell_type": "code",
   "execution_count": 125,
   "id": "54c1ef5f",
   "metadata": {},
   "outputs": [],
   "source": [
    "trainY = trainY[~trainY.index.duplicated(keep='first')]"
   ]
  },
  {
   "cell_type": "markdown",
   "id": "9d8774bc",
   "metadata": {},
   "source": [
    "#### Save trainX and trainY to csv for R"
   ]
  },
  {
   "cell_type": "code",
   "execution_count": 126,
   "id": "9102338a",
   "metadata": {},
   "outputs": [],
   "source": [
    "trainX.to_csv('./data/clean_data/trainX.csv')"
   ]
  },
  {
   "cell_type": "code",
   "execution_count": 127,
   "id": "08c771f2",
   "metadata": {},
   "outputs": [],
   "source": [
    "trainY.to_csv('./data/clean_data/trainY.csv')"
   ]
  },
  {
   "cell_type": "markdown",
   "id": "029b997e",
   "metadata": {},
   "source": [
    "### Dummies"
   ]
  },
  {
   "cell_type": "code",
   "execution_count": 129,
   "id": "731efb36",
   "metadata": {},
   "outputs": [
    {
     "data": {
      "text/plain": [
       "Index(['Historic', 'Residential_Dummy', 'Envelope_1000', 'Upzone_Ratio',\n",
       "       'zp_OfficeComm', 'zp_DensRestMulti', 'zp_FormBasedMulti', 'zp_PDRInd',\n",
       "       'zp_Public', 'zp_Redev', 'zp_RH3_RM1', 'RP1VOLUME', 'RP1CLACDE',\n",
       "       'YRBLT', 'BATHS', 'BEDS', 'ROOMS', 'STOREYNO', 'UNITS', 'ZONE',\n",
       "       'CONSTTYPE', 'DEPTH', 'FRONT', 'SQFT', 'FBA', 'LAREA', 'LOTCODE',\n",
       "       'RP1TRACDE', 'OWNRPRCNT', 'EXEMPTYPE', 'RP1STACDE', 'RP1EXMVL2',\n",
       "       'RP1EXMVL1', 'RECURRSALD', 'RP1FXTVAL', 'RP1IMPVAL', 'RP1LNDVAL',\n",
       "       'RP1PPTVAL', 'general_use_code', 'hasBMR', 'neighborhood', 'district',\n",
       "       'inInventory'],\n",
       "      dtype='object')"
      ]
     },
     "execution_count": 129,
     "metadata": {},
     "output_type": "execute_result"
    }
   ],
   "source": [
    "trainX.columns"
   ]
  },
  {
   "cell_type": "code",
   "execution_count": 130,
   "id": "ef369b57",
   "metadata": {},
   "outputs": [],
   "source": [
    "trainX = pd.get_dummies(trainX, drop_first=True)"
   ]
  },
  {
   "cell_type": "code",
   "execution_count": 131,
   "id": "30f7f100",
   "metadata": {},
   "outputs": [
    {
     "data": {
      "text/plain": [
       "(152333, 368)"
      ]
     },
     "execution_count": 131,
     "metadata": {},
     "output_type": "execute_result"
    }
   ],
   "source": [
    "trainX.shape"
   ]
  },
  {
   "cell_type": "markdown",
   "id": "2d470508",
   "metadata": {},
   "source": [
    "### Drop rows that have nans"
   ]
  },
  {
   "cell_type": "markdown",
   "id": "85500fc3",
   "metadata": {},
   "source": [
    "I have to do this after getting dummies bc a lot of NANs drop out naturally from getting dummies."
   ]
  },
  {
   "cell_type": "code",
   "execution_count": 132,
   "id": "788dc0aa",
   "metadata": {},
   "outputs": [],
   "source": [
    "nonNanX, nonNany = trainX[~trainX.isna().any(axis=1)], trainY[~trainX.isna().any(axis=1)]"
   ]
  },
  {
   "cell_type": "code",
   "execution_count": 133,
   "id": "71c5d3ec",
   "metadata": {},
   "outputs": [
    {
     "data": {
      "text/plain": [
       "(152247, 368)"
      ]
     },
     "execution_count": 133,
     "metadata": {},
     "output_type": "execute_result"
    }
   ],
   "source": [
    "nonNanX.shape"
   ]
  },
  {
   "cell_type": "code",
   "execution_count": 134,
   "id": "0f9490ab",
   "metadata": {},
   "outputs": [],
   "source": [
    "nonNany = (nonNany > 0).astype(int)"
   ]
  },
  {
   "cell_type": "code",
   "execution_count": 135,
   "id": "09ad9006",
   "metadata": {},
   "outputs": [
    {
     "data": {
      "text/plain": [
       "222"
      ]
     },
     "execution_count": 135,
     "metadata": {},
     "output_type": "execute_result"
    }
   ],
   "source": [
    "nonNany.sum()"
   ]
  },
  {
   "cell_type": "markdown",
   "id": "3752c9c2",
   "metadata": {},
   "source": [
    "### Identify multicollinearity issues"
   ]
  },
  {
   "cell_type": "markdown",
   "id": "adb41045",
   "metadata": {},
   "source": [
    "Also have to do this after getting dummies because a lot of the neighborhood and district codes are highly correlated."
   ]
  },
  {
   "cell_type": "code",
   "execution_count": 137,
   "id": "dd4cfc90",
   "metadata": {},
   "outputs": [],
   "source": [
    "corrdf = trainX.corr()"
   ]
  },
  {
   "cell_type": "code",
   "execution_count": 138,
   "id": "d63e9be8",
   "metadata": {},
   "outputs": [],
   "source": [
    "corrdf = round(corrdf, 2)"
   ]
  },
  {
   "cell_type": "code",
   "execution_count": 139,
   "id": "830e0745",
   "metadata": {},
   "outputs": [],
   "source": [
    "upper = corrdf.where(np.triu(np.ones(corrdf.shape), k=1).astype(bool))\n",
    "\n",
    "# Find features with correlation greater than 0.95\n",
    "to_drop = {column:sum(upper[column] > 0.95) for column in upper.columns if any(upper[column] > 0.95)}"
   ]
  },
  {
   "cell_type": "code",
   "execution_count": 140,
   "id": "c1dad5ed",
   "metadata": {},
   "outputs": [
    {
     "data": {
      "text/plain": [
       "['general_use_code_COMO',\n",
       " 'general_use_code_COMR',\n",
       " 'general_use_code_IND',\n",
       " 'district_district08I',\n",
       " 'district_district09B']"
      ]
     },
     "execution_count": 140,
     "metadata": {},
     "output_type": "execute_result"
    }
   ],
   "source": [
    "list(to_drop.keys())"
   ]
  },
  {
   "cell_type": "code",
   "execution_count": 141,
   "id": "4c8fa4bf",
   "metadata": {},
   "outputs": [
    {
     "data": {
      "text/plain": [
       "5"
      ]
     },
     "execution_count": 141,
     "metadata": {},
     "output_type": "execute_result"
    }
   ],
   "source": [
    "len(to_drop)"
   ]
  },
  {
   "cell_type": "code",
   "execution_count": 142,
   "id": "2e76aad7",
   "metadata": {},
   "outputs": [],
   "source": [
    "trainX = trainX.drop(to_drop, axis=1)"
   ]
  },
  {
   "cell_type": "markdown",
   "id": "139e7b5a",
   "metadata": {},
   "source": [
    "### Am I missing any permitted parcels?"
   ]
  },
  {
   "cell_type": "markdown",
   "id": "60e454b5",
   "metadata": {},
   "source": [
    "So I am missing 79 developed parcels"
   ]
  },
  {
   "cell_type": "code",
   "execution_count": 143,
   "id": "887bd569",
   "metadata": {},
   "outputs": [
    {
     "data": {
      "text/plain": [
       "86"
      ]
     },
     "execution_count": 143,
     "metadata": {},
     "output_type": "execute_result"
    }
   ],
   "source": [
    "n_start = parcels[np.logical_and(parcels.year >= 2007, parcels.year <= 2015)].Developed.sum()\n",
    "n_end = nonNany.sum()\n",
    "n_start - n_end"
   ]
  },
  {
   "cell_type": "code",
   "execution_count": 144,
   "id": "15301492",
   "metadata": {},
   "outputs": [
    {
     "data": {
      "text/plain": [
       "(152247,)"
      ]
     },
     "execution_count": 144,
     "metadata": {},
     "output_type": "execute_result"
    }
   ],
   "source": [
    "nonNany.shape"
   ]
  },
  {
   "cell_type": "code",
   "execution_count": 145,
   "id": "7c9de5e5",
   "metadata": {},
   "outputs": [
    {
     "data": {
      "text/plain": [
       "308"
      ]
     },
     "execution_count": 145,
     "metadata": {},
     "output_type": "execute_result"
    }
   ],
   "source": [
    "n_start"
   ]
  },
  {
   "cell_type": "markdown",
   "id": "bdad6bce",
   "metadata": {},
   "source": [
    "That's 28% attrition"
   ]
  },
  {
   "cell_type": "code",
   "execution_count": 146,
   "id": "79596033",
   "metadata": {},
   "outputs": [
    {
     "data": {
      "text/plain": [
       "0.28"
      ]
     },
     "execution_count": 146,
     "metadata": {},
     "output_type": "execute_result"
    }
   ],
   "source": [
    "round((n_start - n_end) / n_start, 2)"
   ]
  },
  {
   "cell_type": "markdown",
   "id": "955b64bc",
   "metadata": {},
   "source": [
    "Whereas I only lose 1% of parcels overall."
   ]
  },
  {
   "cell_type": "code",
   "execution_count": 147,
   "id": "75b787e7",
   "metadata": {},
   "outputs": [
    {
     "data": {
      "text/plain": [
       "0.01"
      ]
     },
     "execution_count": 147,
     "metadata": {},
     "output_type": "execute_result"
    }
   ],
   "source": [
    "n_start = parcels[parcels.year == 2007].shape[0]\n",
    "n_end = trainY.shape[0]\n",
    "round((n_start - n_end) / n_start, 2)"
   ]
  },
  {
   "cell_type": "markdown",
   "id": "49f0c586",
   "metadata": {},
   "source": [
    "Thus, missing observations are not missing at random."
   ]
  },
  {
   "cell_type": "markdown",
   "id": "8a3c39f7",
   "metadata": {},
   "source": [
    "### PCA"
   ]
  },
  {
   "cell_type": "code",
   "execution_count": null,
   "id": "8f40b915",
   "metadata": {},
   "outputs": [],
   "source": [
    "from sklearn import decomposition\n",
    "from sklearn.preprocessing import StandardScaler\n",
    "sc = StandardScaler()\n",
    "sc.fit(nonNanX)\n",
    "X_train_std = sc.transform(nonNanX)\n",
    "\n",
    "pca = decomposition.PCA()\n",
    "pca.fit(X_train_std)\n",
    "X = pca.transform(X_train_std)"
   ]
  },
  {
   "cell_type": "code",
   "execution_count": null,
   "id": "963636da",
   "metadata": {},
   "outputs": [],
   "source": [
    "X_train_pca = pca.fit_transform(X_train_std)\n",
    "#\n",
    "# Determine explained variance using explained_variance_ration_ attribute\n",
    "#\n",
    "exp_var_pca = pca.explained_variance_ratio_\n",
    "#\n",
    "# Cumulative sum of eigenvalues; This will be used to create step plot\n",
    "# for visualizing the variance explained by each principal component.\n",
    "#\n",
    "cum_sum_eigenvalues = np.cumsum(exp_var_pca)\n",
    "#\n",
    "# Create the visualization plot\n",
    "#\n",
    "plt.bar(range(0,len(exp_var_pca)), exp_var_pca, alpha=0.5, align='center', label='Individual explained variance')\n",
    "plt.step(range(0,len(cum_sum_eigenvalues)), cum_sum_eigenvalues, where='mid',label='Cumulative explained variance')\n",
    "plt.ylabel('Explained variance ratio')\n",
    "plt.xlabel('Principal component index')\n",
    "plt.legend(loc='best')\n",
    "plt.tight_layout()\n",
    "plt.show()"
   ]
  },
  {
   "cell_type": "markdown",
   "id": "f7c37bd8",
   "metadata": {},
   "source": [
    "### Fit models to RHNA5. See what we learn"
   ]
  },
  {
   "cell_type": "markdown",
   "id": "e3efb992",
   "metadata": {},
   "source": [
    "Is there non iid behavior in the data? This score seems way too high. So maybe parcels that are nearby are predicted separately and that makes this easier?"
   ]
  },
  {
   "cell_type": "code",
   "execution_count": null,
   "id": "e658f3c9",
   "metadata": {},
   "outputs": [],
   "source": [
    "estimator =  LogisticRegression(C=1, penalty='l1', solver='liblinear')\n",
    "selector = RFE(estimator = estimator, n_features_to_select = 25, step=50)"
   ]
  },
  {
   "cell_type": "code",
   "execution_count": null,
   "id": "50cde386",
   "metadata": {},
   "outputs": [],
   "source": [
    "selector = selector.fit(nonNanX, nonNany)"
   ]
  },
  {
   "cell_type": "code",
   "execution_count": null,
   "id": "12d5f792",
   "metadata": {},
   "outputs": [],
   "source": [
    "keepCols = nonNanX.columns[selector.get_support()]"
   ]
  },
  {
   "cell_type": "code",
   "execution_count": null,
   "id": "e7d8e43a",
   "metadata": {
    "scrolled": true
   },
   "outputs": [],
   "source": [
    "keepCols"
   ]
  },
  {
   "cell_type": "markdown",
   "id": "80f9e9e3",
   "metadata": {},
   "source": [
    "### Does logistic regression identify selection of site inventory as important?"
   ]
  },
  {
   "cell_type": "code",
   "execution_count": null,
   "id": "c77e2c76",
   "metadata": {},
   "outputs": [],
   "source": [
    "trainX2 = nonNanX[keepCols].copy()"
   ]
  },
  {
   "cell_type": "code",
   "execution_count": null,
   "id": "29d0285a",
   "metadata": {},
   "outputs": [],
   "source": []
  },
  {
   "cell_type": "code",
   "execution_count": null,
   "id": "f3d18a19",
   "metadata": {},
   "outputs": [],
   "source": [
    "trainX2['inInventory'].mean()"
   ]
  },
  {
   "cell_type": "code",
   "execution_count": null,
   "id": "0517de46",
   "metadata": {},
   "outputs": [],
   "source": [
    "trainX2.sort_index(inplace=True)"
   ]
  },
  {
   "cell_type": "code",
   "execution_count": null,
   "id": "5c65c8ae",
   "metadata": {},
   "outputs": [],
   "source": [
    "nonNany.sort_index(inplace=True)"
   ]
  },
  {
   "cell_type": "code",
   "execution_count": null,
   "id": "2993b99a",
   "metadata": {},
   "outputs": [],
   "source": [
    "trainX2 = sm.add_constant(trainX2.astype(float))"
   ]
  },
  {
   "cell_type": "code",
   "execution_count": null,
   "id": "8f60648e",
   "metadata": {},
   "outputs": [],
   "source": [
    "lm = sm.Logit(nonNany, trainX2)"
   ]
  },
  {
   "cell_type": "code",
   "execution_count": null,
   "id": "59ffd646",
   "metadata": {},
   "outputs": [],
   "source": [
    "result = lm.fit(solver='bfgs')"
   ]
  },
  {
   "cell_type": "code",
   "execution_count": null,
   "id": "3d01fa68",
   "metadata": {},
   "outputs": [],
   "source": [
    "result.summary()"
   ]
  },
  {
   "cell_type": "markdown",
   "id": "4d571702",
   "metadata": {},
   "source": [
    "### Test Set is RHNA 5"
   ]
  },
  {
   "cell_type": "code",
   "execution_count": null,
   "id": "6ff806b8",
   "metadata": {},
   "outputs": [],
   "source": [
    "0.9979963058929492"
   ]
  }
 ],
 "metadata": {
  "kernelspec": {
   "display_name": "Python 3 (ipykernel)",
   "language": "python",
   "name": "python3"
  },
  "language_info": {
   "codemirror_mode": {
    "name": "ipython",
    "version": 3
   },
   "file_extension": ".py",
   "mimetype": "text/x-python",
   "name": "python",
   "nbconvert_exporter": "python",
   "pygments_lexer": "ipython3",
   "version": "3.9.6"
  }
 },
 "nbformat": 4,
 "nbformat_minor": 5
}
