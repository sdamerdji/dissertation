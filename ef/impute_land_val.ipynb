{
 "cells": [
  {
   "cell_type": "code",
   "execution_count": 1,
   "id": "3dfa5a5c",
   "metadata": {},
   "outputs": [],
   "source": [
    "import matplotlib.pyplot as plt\n",
    "import numpy as np\n",
    "import pandas as pd\n",
    "import geopandas as gpd\n",
    "\n",
    "from scipy import stats\n",
    "\n",
    "from sklearn.datasets import fetch_california_housing\n",
    "from sklearn.ensemble import RandomForestRegressor, ExtraTreesRegressor\n",
    "from sklearn.pipeline import make_pipeline, Pipeline\n",
    "\n",
    "# To use this experimental feature, we need to explicitly ask for it:\n",
    "from sklearn.experimental import enable_iterative_imputer  # noqa\n",
    "from sklearn.impute import IterativeImputer, SimpleImputer\n",
    "from sklearn.model_selection import RandomizedSearchCV\n",
    "from sklearn.neighbors import KNeighborsRegressor\n",
    "from sklearn.pipeline import make_pipeline"
   ]
  },
  {
   "cell_type": "code",
   "execution_count": 9,
   "id": "8f64eb47",
   "metadata": {},
   "outputs": [],
   "source": [
    "tax = gpd.read_file('../data/tax.geojson')\n",
    "\n",
    "# Reduce file size by casting to numeric\n",
    "to_float = ['percent_of_ownership', 'year_property_built', 'supervisor_district_2012',\n",
    "            'supervisor_district', 'number_of_rooms', 'number_of_stories', 'misc_exemption_value',\n",
    "            'number_of_units', 'property_area', 'basement_area']\n",
    "tax[to_float] = tax[to_float].apply(lambda x: pd.to_numeric(x, errors='coerce'))\n",
    "\n",
    "to_int = ['assessed_improvement_value', 'assessed_land_value', 'assessed_personal_property_value',\n",
    "          'assessed_fixtures_value', 'homeowner_exemption_value',\n",
    "          'lot_frontage', 'number_of_bathrooms', 'lot_depth',  'lot_area',\n",
    "          'number_of_bedrooms', 'closed_roll_year', 'volume_number']\n",
    "tax[to_int] = tax[to_int].apply(lambda x: pd.to_numeric(x, errors='coerce', downcast='integer'))\n",
    "\n",
    "# Remove redundant columns (These columns use codes described in plain english by other columns)\n",
    "# tax = tax.drop(['assessor_neighborhood_code', 'property_class_code', 'exemption_code', 'use_code'], axis=1)\n",
    "\n",
    "# Remove other irrelevant columns\n",
    "# tax = tax.drop(['row_id', 'data_as_of', 'data_loaded_at'], axis=1)\n",
    "\n",
    "# Save in efficient format\n",
    "tax.to_feather('../data/tax.geofeather')"
   ]
  },
  {
   "cell_type": "code",
   "execution_count": 2,
   "id": "0883d0bc",
   "metadata": {},
   "outputs": [],
   "source": [
    "tax = gpd.read_feather('../data/tax.geofeather')"
   ]
  },
  {
   "cell_type": "code",
   "execution_count": 3,
   "id": "1c309645",
   "metadata": {},
   "outputs": [],
   "source": [
    "y = tax['assessed_land_value']"
   ]
  },
  {
   "cell_type": "code",
   "execution_count": 4,
   "id": "020c682c",
   "metadata": {},
   "outputs": [],
   "source": [
    "X = tax.drop(['geometry', 'property_location', 'block', 'lot', 'assessed_land_value', 'parcel_number'], axis=1)"
   ]
  },
  {
   "cell_type": "code",
   "execution_count": 7,
   "id": "76d519ac",
   "metadata": {},
   "outputs": [],
   "source": [
    "if 'imputed_land_value' in X.columns:\n",
    "    X = X.drop(columns = ['imputed_land_value'])"
   ]
  },
  {
   "cell_type": "code",
   "execution_count": 5,
   "id": "c003f926",
   "metadata": {},
   "outputs": [],
   "source": [
    "current_date = pd.to_datetime('2023-01-01')\n",
    "time_difference = current_date - X['current_sales_date']\n",
    "X['years_since_last_sale'] = (time_difference / pd.Timedelta(days=365.25))\n",
    "\n",
    "X = X.drop(columns='current_sales_date')"
   ]
  },
  {
   "cell_type": "code",
   "execution_count": 8,
   "id": "6bf99a29",
   "metadata": {},
   "outputs": [
    {
     "data": {
      "text/plain": [
       "Index(['property_class_code_definition', 'lot_code', 'property_area',\n",
       "       'volume_number', 'percent_of_ownership', 'misc_exemption_value',\n",
       "       'zoning_code', 'year_property_built', 'analysis_neighborhood',\n",
       "       'number_of_units', 'use_definition', 'closed_roll_year', 'status_code',\n",
       "       'number_of_bedrooms', 'assessor_neighborhood', 'number_of_stories',\n",
       "       'assessor_neighborhood_district', 'exemption_code_definition',\n",
       "       'lot_area', 'number_of_rooms', 'lot_depth',\n",
       "       'assessed_personal_property_value', 'supervisor_district_2012',\n",
       "       'number_of_bathrooms', 'construction_type', 'lot_frontage',\n",
       "       'homeowner_exemption_value', 'tax_rate_area_code',\n",
       "       'assessed_fixtures_value', 'supervisor_district', 'basement_area',\n",
       "       'assessed_improvement_value', 'years_since_last_sale'],\n",
       "      dtype='object')"
      ]
     },
     "execution_count": 8,
     "metadata": {},
     "output_type": "execute_result"
    }
   ],
   "source": [
    "X.columns"
   ]
  },
  {
   "cell_type": "code",
   "execution_count": 9,
   "id": "6bdbf8df",
   "metadata": {},
   "outputs": [],
   "source": [
    "X = pd.get_dummies(X, drop_first=True, dummy_na=True)"
   ]
  },
  {
   "cell_type": "code",
   "execution_count": 12,
   "id": "1de9716c",
   "metadata": {},
   "outputs": [],
   "source": [
    "X = X.fillna(-9999)"
   ]
  },
  {
   "cell_type": "code",
   "execution_count": 15,
   "id": "0ea7d0bd",
   "metadata": {},
   "outputs": [],
   "source": [
    "trainMask = y != 0"
   ]
  },
  {
   "cell_type": "code",
   "execution_count": 16,
   "id": "91fe4a95",
   "metadata": {},
   "outputs": [],
   "source": [
    "trainX, testX = X[trainMask], X[~trainMask]"
   ]
  },
  {
   "cell_type": "code",
   "execution_count": 17,
   "id": "cecfa8e5",
   "metadata": {},
   "outputs": [],
   "source": [
    "trainY, testY = y[trainMask], y[~trainMask]"
   ]
  },
  {
   "cell_type": "code",
   "execution_count": 18,
   "id": "15c3f537",
   "metadata": {},
   "outputs": [
    {
     "data": {
      "text/plain": [
       "(3003214, 506)"
      ]
     },
     "execution_count": 18,
     "metadata": {},
     "output_type": "execute_result"
    }
   ],
   "source": [
    "trainX.shape"
   ]
  },
  {
   "cell_type": "code",
   "execution_count": 19,
   "id": "0a520021",
   "metadata": {},
   "outputs": [
    {
     "data": {
      "text/plain": [
       "0            13294\n",
       "2          3207694\n",
       "4            21280\n",
       "6            21643\n",
       "7            21643\n",
       "            ...   \n",
       "3086505     510170\n",
       "3086506     857541\n",
       "3086507     744017\n",
       "3086508     135200\n",
       "3086509    1081200\n",
       "Name: assessed_land_value, Length: 3003214, dtype: int32"
      ]
     },
     "execution_count": 19,
     "metadata": {},
     "output_type": "execute_result"
    }
   ],
   "source": [
    "trainY"
   ]
  },
  {
   "cell_type": "code",
   "execution_count": 20,
   "id": "5f13086a",
   "metadata": {},
   "outputs": [],
   "source": [
    "regression = Pipeline([('rf',\n",
    "                        ExtraTreesRegressor(n_estimators=100, random_state=0, \n",
    "                                            max_samples=1000, n_jobs=-1, bootstrap=True))])\n",
    "rf_param_grid = [\n",
    "    {\n",
    "        'rf__max_depth': stats.randint(5, 35),\n",
    "        'rf__ccp_alpha': stats.loguniform(1e-14, 1e-7),\n",
    "        'rf__max_features': stats.uniform(.05, .95),\n",
    "        'rf__max_samples': stats.randint(900, int(trainY.shape[0]*.8))\n",
    "    }\n",
    "]"
   ]
  },
  {
   "cell_type": "code",
   "execution_count": null,
   "id": "10b2f512",
   "metadata": {},
   "outputs": [],
   "source": [
    "rs = RandomizedSearchCV(regression, rf_param_grid, n_iter=10, random_state=0, cv=5)\n",
    "\n",
    "rs.fit(trainX, trainY)\n"
   ]
  },
  {
   "cell_type": "code",
   "execution_count": 155,
   "id": "f94f003d",
   "metadata": {},
   "outputs": [],
   "source": [
    "param_search_results = pd.DataFrame(rs.cv_results_['params'])\n",
    "param_search_results['score'] = rs.cv_results_['mean_test_score']\n",
    "param_search_results = param_search_results.sort_values('score', ascending=False)"
   ]
  },
  {
   "cell_type": "code",
   "execution_count": 138,
   "id": "f1e33f8e",
   "metadata": {},
   "outputs": [],
   "source": [
    "param_search_results.to_csv('./impute_land_value_rf_hyperparams.csv', index=False)"
   ]
  },
  {
   "cell_type": "code",
   "execution_count": 139,
   "id": "be5c0ea1",
   "metadata": {},
   "outputs": [
    {
     "data": {
      "text/html": [
       "<div>\n",
       "<style scoped>\n",
       "    .dataframe tbody tr th:only-of-type {\n",
       "        vertical-align: middle;\n",
       "    }\n",
       "\n",
       "    .dataframe tbody tr th {\n",
       "        vertical-align: top;\n",
       "    }\n",
       "\n",
       "    .dataframe thead th {\n",
       "        text-align: right;\n",
       "    }\n",
       "</style>\n",
       "<table border=\"1\" class=\"dataframe\">\n",
       "  <thead>\n",
       "    <tr style=\"text-align: right;\">\n",
       "      <th></th>\n",
       "      <th>rf__ccp_alpha</th>\n",
       "      <th>rf__max_depth</th>\n",
       "      <th>rf__max_features</th>\n",
       "      <th>rf__min_samples_split</th>\n",
       "      <th>score</th>\n",
       "    </tr>\n",
       "  </thead>\n",
       "  <tbody>\n",
       "    <tr>\n",
       "      <th>5</th>\n",
       "      <td>4.665955e-08</td>\n",
       "      <td>15</td>\n",
       "      <td>0.989309</td>\n",
       "      <td>2</td>\n",
       "      <td>0.605876</td>\n",
       "    </tr>\n",
       "    <tr>\n",
       "      <th>6</th>\n",
       "      <td>6.389465e-08</td>\n",
       "      <td>18</td>\n",
       "      <td>0.839440</td>\n",
       "      <td>2</td>\n",
       "      <td>0.603155</td>\n",
       "    </tr>\n",
       "    <tr>\n",
       "      <th>3</th>\n",
       "      <td>2.560162e-09</td>\n",
       "      <td>20</td>\n",
       "      <td>0.918039</td>\n",
       "      <td>2</td>\n",
       "      <td>0.602815</td>\n",
       "    </tr>\n",
       "    <tr>\n",
       "      <th>19</th>\n",
       "      <td>1.065785e-07</td>\n",
       "      <td>17</td>\n",
       "      <td>0.985973</td>\n",
       "      <td>4</td>\n",
       "      <td>0.602014</td>\n",
       "    </tr>\n",
       "    <tr>\n",
       "      <th>11</th>\n",
       "      <td>4.597148e-07</td>\n",
       "      <td>24</td>\n",
       "      <td>0.724975</td>\n",
       "      <td>2</td>\n",
       "      <td>0.600676</td>\n",
       "    </tr>\n",
       "    <tr>\n",
       "      <th>7</th>\n",
       "      <td>3.105409e-09</td>\n",
       "      <td>24</td>\n",
       "      <td>0.972334</td>\n",
       "      <td>4</td>\n",
       "      <td>0.599031</td>\n",
       "    </tr>\n",
       "    <tr>\n",
       "      <th>2</th>\n",
       "      <td>2.189162e-12</td>\n",
       "      <td>16</td>\n",
       "      <td>0.895863</td>\n",
       "      <td>4</td>\n",
       "      <td>0.598013</td>\n",
       "    </tr>\n",
       "    <tr>\n",
       "      <th>4</th>\n",
       "      <td>3.332543e-12</td>\n",
       "      <td>18</td>\n",
       "      <td>0.684121</td>\n",
       "      <td>3</td>\n",
       "      <td>0.596088</td>\n",
       "    </tr>\n",
       "    <tr>\n",
       "      <th>17</th>\n",
       "      <td>1.118186e-08</td>\n",
       "      <td>15</td>\n",
       "      <td>0.569091</td>\n",
       "      <td>3</td>\n",
       "      <td>0.595667</td>\n",
       "    </tr>\n",
       "    <tr>\n",
       "      <th>16</th>\n",
       "      <td>3.098147e-09</td>\n",
       "      <td>19</td>\n",
       "      <td>0.622213</td>\n",
       "      <td>3</td>\n",
       "      <td>0.594887</td>\n",
       "    </tr>\n",
       "    <tr>\n",
       "      <th>10</th>\n",
       "      <td>5.079407e-09</td>\n",
       "      <td>21</td>\n",
       "      <td>0.611161</td>\n",
       "      <td>3</td>\n",
       "      <td>0.593982</td>\n",
       "    </tr>\n",
       "    <tr>\n",
       "      <th>0</th>\n",
       "      <td>1.962822e-09</td>\n",
       "      <td>20</td>\n",
       "      <td>0.922133</td>\n",
       "      <td>3</td>\n",
       "      <td>0.593649</td>\n",
       "    </tr>\n",
       "    <tr>\n",
       "      <th>15</th>\n",
       "      <td>5.671470e-07</td>\n",
       "      <td>19</td>\n",
       "      <td>0.580655</td>\n",
       "      <td>2</td>\n",
       "      <td>0.593369</td>\n",
       "    </tr>\n",
       "    <tr>\n",
       "      <th>9</th>\n",
       "      <td>5.456347e-10</td>\n",
       "      <td>17</td>\n",
       "      <td>0.567609</td>\n",
       "      <td>2</td>\n",
       "      <td>0.591368</td>\n",
       "    </tr>\n",
       "    <tr>\n",
       "      <th>8</th>\n",
       "      <td>3.075896e-10</td>\n",
       "      <td>18</td>\n",
       "      <td>0.593166</td>\n",
       "      <td>4</td>\n",
       "      <td>0.590962</td>\n",
       "    </tr>\n",
       "    <tr>\n",
       "      <th>14</th>\n",
       "      <td>4.435923e-09</td>\n",
       "      <td>24</td>\n",
       "      <td>0.519213</td>\n",
       "      <td>2</td>\n",
       "      <td>0.590030</td>\n",
       "    </tr>\n",
       "    <tr>\n",
       "      <th>1</th>\n",
       "      <td>5.512926e-09</td>\n",
       "      <td>17</td>\n",
       "      <td>0.718794</td>\n",
       "      <td>4</td>\n",
       "      <td>0.587753</td>\n",
       "    </tr>\n",
       "    <tr>\n",
       "      <th>13</th>\n",
       "      <td>1.056397e-08</td>\n",
       "      <td>17</td>\n",
       "      <td>0.564463</td>\n",
       "      <td>4</td>\n",
       "      <td>0.586648</td>\n",
       "    </tr>\n",
       "    <tr>\n",
       "      <th>18</th>\n",
       "      <td>4.982259e-07</td>\n",
       "      <td>20</td>\n",
       "      <td>0.506786</td>\n",
       "      <td>3</td>\n",
       "      <td>0.586579</td>\n",
       "    </tr>\n",
       "    <tr>\n",
       "      <th>12</th>\n",
       "      <td>2.594726e-07</td>\n",
       "      <td>22</td>\n",
       "      <td>0.530113</td>\n",
       "      <td>4</td>\n",
       "      <td>0.583206</td>\n",
       "    </tr>\n",
       "  </tbody>\n",
       "</table>\n",
       "</div>"
      ],
      "text/plain": [
       "    rf__ccp_alpha  rf__max_depth  rf__max_features  rf__min_samples_split  \\\n",
       "5    4.665955e-08             15          0.989309                      2   \n",
       "6    6.389465e-08             18          0.839440                      2   \n",
       "3    2.560162e-09             20          0.918039                      2   \n",
       "19   1.065785e-07             17          0.985973                      4   \n",
       "11   4.597148e-07             24          0.724975                      2   \n",
       "7    3.105409e-09             24          0.972334                      4   \n",
       "2    2.189162e-12             16          0.895863                      4   \n",
       "4    3.332543e-12             18          0.684121                      3   \n",
       "17   1.118186e-08             15          0.569091                      3   \n",
       "16   3.098147e-09             19          0.622213                      3   \n",
       "10   5.079407e-09             21          0.611161                      3   \n",
       "0    1.962822e-09             20          0.922133                      3   \n",
       "15   5.671470e-07             19          0.580655                      2   \n",
       "9    5.456347e-10             17          0.567609                      2   \n",
       "8    3.075896e-10             18          0.593166                      4   \n",
       "14   4.435923e-09             24          0.519213                      2   \n",
       "1    5.512926e-09             17          0.718794                      4   \n",
       "13   1.056397e-08             17          0.564463                      4   \n",
       "18   4.982259e-07             20          0.506786                      3   \n",
       "12   2.594726e-07             22          0.530113                      4   \n",
       "\n",
       "       score  \n",
       "5   0.605876  \n",
       "6   0.603155  \n",
       "3   0.602815  \n",
       "19  0.602014  \n",
       "11  0.600676  \n",
       "7   0.599031  \n",
       "2   0.598013  \n",
       "4   0.596088  \n",
       "17  0.595667  \n",
       "16  0.594887  \n",
       "10  0.593982  \n",
       "0   0.593649  \n",
       "15  0.593369  \n",
       "9   0.591368  \n",
       "8   0.590962  \n",
       "14  0.590030  \n",
       "1   0.587753  \n",
       "13  0.586648  \n",
       "18  0.586579  \n",
       "12  0.583206  "
      ]
     },
     "execution_count": 139,
     "metadata": {},
     "output_type": "execute_result"
    }
   ],
   "source": [
    "param_search_results"
   ]
  },
  {
   "cell_type": "code",
   "execution_count": 198,
   "id": "9c36e922",
   "metadata": {},
   "outputs": [],
   "source": [
    "etr = ExtraTreesRegressor(n_estimators=2500, random_state=0, max_samples=10000, n_jobs=-1, bootstrap=True,\n",
    "                          ccp_alpha=4.665e-08, max_depth=17, max_features=0.99)"
   ]
  },
  {
   "cell_type": "code",
   "execution_count": 199,
   "id": "5834a8fd",
   "metadata": {},
   "outputs": [
    {
     "data": {
      "text/plain": [
       "ExtraTreesRegressor(bootstrap=True, ccp_alpha=4.665e-08, max_depth=17,\n",
       "                    max_features=0.99, max_samples=10000, n_estimators=2500,\n",
       "                    n_jobs=-1, random_state=0)"
      ]
     },
     "execution_count": 199,
     "metadata": {},
     "output_type": "execute_result"
    }
   ],
   "source": [
    "etr.fit(trainX, trainY)"
   ]
  },
  {
   "cell_type": "code",
   "execution_count": 200,
   "id": "57f2b949",
   "metadata": {},
   "outputs": [
    {
     "data": {
      "text/plain": [
       "0.582542502994855"
      ]
     },
     "execution_count": 200,
     "metadata": {},
     "output_type": "execute_result"
    }
   ],
   "source": [
    "etr.score(trainX, trainY)"
   ]
  },
  {
   "cell_type": "code",
   "execution_count": 201,
   "id": "466ddff8",
   "metadata": {},
   "outputs": [
    {
     "data": {
      "text/plain": [
       "0.582542502994855"
      ]
     },
     "execution_count": 201,
     "metadata": {},
     "output_type": "execute_result"
    }
   ],
   "source": [
    "etr.score(trainX, trainY)"
   ]
  },
  {
   "cell_type": "code",
   "execution_count": 203,
   "id": "d1484f21",
   "metadata": {},
   "outputs": [],
   "source": [
    "predY = etr.predict(testX)"
   ]
  },
  {
   "cell_type": "code",
   "execution_count": 204,
   "id": "a2ee997b",
   "metadata": {},
   "outputs": [
    {
     "data": {
      "text/plain": [
       "array([ 873344.69947623,  656759.74407583,  662886.21558916, ...,\n",
       "         58989.96341101,  538492.9247818 , 3336440.07412276])"
      ]
     },
     "execution_count": 204,
     "metadata": {},
     "output_type": "execute_result"
    }
   ],
   "source": [
    "predY"
   ]
  },
  {
   "cell_type": "code",
   "execution_count": 205,
   "id": "31155d09",
   "metadata": {},
   "outputs": [],
   "source": [
    "tax['imputed_land_value'] = tax['assessed_land_value']"
   ]
  },
  {
   "cell_type": "code",
   "execution_count": 213,
   "id": "b09f3a79",
   "metadata": {},
   "outputs": [],
   "source": [
    "tax.loc[~trainMask, 'imputed_land_value'] = predY"
   ]
  },
  {
   "cell_type": "code",
   "execution_count": 219,
   "id": "b1118480",
   "metadata": {},
   "outputs": [],
   "source": [
    "tax.to_feather('../data/tax.geofeather')"
   ]
  },
  {
   "cell_type": "code",
   "execution_count": null,
   "id": "ec7fb681",
   "metadata": {},
   "outputs": [],
   "source": []
  }
 ],
 "metadata": {
  "kernelspec": {
   "display_name": "Python 3",
   "language": "python",
   "name": "python3"
  },
  "language_info": {
   "codemirror_mode": {
    "name": "ipython",
    "version": 3
   },
   "file_extension": ".py",
   "mimetype": "text/x-python",
   "name": "python",
   "nbconvert_exporter": "python",
   "pygments_lexer": "ipython3",
   "version": "3.8.8"
  }
 },
 "nbformat": 4,
 "nbformat_minor": 5
}
