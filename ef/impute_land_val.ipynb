{
 "cells": [
  {
   "cell_type": "code",
   "execution_count": 1,
   "id": "3dfa5a5c",
   "metadata": {},
   "outputs": [],
   "source": [
    "import matplotlib.pyplot as plt\n",
    "import numpy as np\n",
    "import pandas as pd\n",
    "import geopandas as gpd\n",
    "\n",
    "from scipy import stats\n",
    "\n",
    "from sklearn.datasets import fetch_california_housing\n",
    "from sklearn.ensemble import RandomForestRegressor, ExtraTreesRegressor\n",
    "from sklearn.pipeline import make_pipeline, Pipeline\n",
    "\n",
    "# To use this experimental feature, we need to explicitly ask for it:\n",
    "from sklearn.model_selection import RandomizedSearchCV\n",
    "from sklearn.neighbors import KNeighborsRegressor\n",
    "from sklearn.pipeline import make_pipeline\n",
    "from sklearn.model_selection import KFold\n",
    "\n",
    "from catboost import CatBoostRegressor, Pool, cv\n",
    "\n",
    "from hyperopt import fmin, hp, tpe, STATUS_OK, STATUS_FAIL, Trials\n",
    "import pickle\n",
    "\n",
    "from sklearn.metrics import r2_score\n"
   ]
  },
  {
   "cell_type": "code",
   "execution_count": 2,
   "id": "0883d0bc",
   "metadata": {},
   "outputs": [],
   "source": [
    "tax = gpd.read_feather('../data/tax.geofeather')"
   ]
  },
  {
   "cell_type": "code",
   "execution_count": 61,
   "id": "1c309645",
   "metadata": {},
   "outputs": [],
   "source": [
    "y = tax['assessed_land_value']"
   ]
  },
  {
   "cell_type": "code",
   "execution_count": 62,
   "id": "ce719f72-ba83-4a75-9b59-35045a8399b8",
   "metadata": {},
   "outputs": [],
   "source": [
    "tax['x'] = tax.geometry.centroid.x"
   ]
  },
  {
   "cell_type": "code",
   "execution_count": 63,
   "id": "d5d8a58c-ca96-4524-9df9-3556fd4d66d6",
   "metadata": {},
   "outputs": [],
   "source": [
    "tax['y'] = tax.geometry.centroid.y"
   ]
  },
  {
   "cell_type": "code",
   "execution_count": 64,
   "id": "020c682c",
   "metadata": {},
   "outputs": [],
   "source": [
    "X = tax.drop(['geometry', 'property_location', 'block', 'lot',\n",
    "              'assessed_land_value', 'parcel_number', \n",
    "              'assessor_neighborhood', 'assessor_neighborhood_district', \n",
    "              'analysis_neighborhood',\n",
    "              'supervisor_district_2012', 'supervisor_district'], \n",
    "             axis=1)"
   ]
  },
  {
   "cell_type": "code",
   "execution_count": 65,
   "id": "72ec13ca-219a-45a9-a980-4bf0aa967d9d",
   "metadata": {},
   "outputs": [],
   "source": [
    "current_date = pd.to_datetime('2023-01-01')\n",
    "time_difference = current_date - X['current_sales_date']\n",
    "X['years_since_last_sale'] = (time_difference / pd.Timedelta(days=365.25))\n",
    "X = X.drop(columns='current_sales_date')"
   ]
  },
  {
   "cell_type": "code",
   "execution_count": 66,
   "id": "76d519ac",
   "metadata": {},
   "outputs": [],
   "source": [
    "if 'imputed_land_value' in X.columns:\n",
    "    X = X.drop(columns = ['imputed_land_value'])"
   ]
  },
  {
   "cell_type": "code",
   "execution_count": 67,
   "id": "0ea7d0bd",
   "metadata": {},
   "outputs": [],
   "source": [
    "trainMask = y != 0"
   ]
  },
  {
   "cell_type": "code",
   "execution_count": 68,
   "id": "54b514e7-1d77-4600-a0ab-c7f72887b52e",
   "metadata": {},
   "outputs": [],
   "source": [
    "X.replace({'None': 'NaN', None: 'NaN', 'nan': 'NaN'}, inplace=True)"
   ]
  },
  {
   "cell_type": "code",
   "execution_count": 69,
   "id": "a62f9ef5-3003-4f36-9086-7c66fe808468",
   "metadata": {},
   "outputs": [],
   "source": [
    "trainX, testX = X[trainMask], X[~trainMask]"
   ]
  },
  {
   "cell_type": "code",
   "execution_count": 70,
   "id": "cecfa8e5",
   "metadata": {},
   "outputs": [],
   "source": [
    "trainY = y[trainMask]"
   ]
  },
  {
   "cell_type": "code",
   "execution_count": 71,
   "id": "a4f9d9c2-ebfb-4abf-ac25-a6979d299a2e",
   "metadata": {},
   "outputs": [],
   "source": [
    "trainY = np.log10(trainY)"
   ]
  },
  {
   "cell_type": "code",
   "execution_count": 72,
   "id": "49959396-b847-406b-bcf1-232bfb134bd8",
   "metadata": {},
   "outputs": [],
   "source": [
    "cat_indices = np.where((trainX.dtypes == 'object') | (trainX.dtypes == 'category'))[0]"
   ]
  },
  {
   "cell_type": "code",
   "execution_count": 73,
   "id": "ac190745-7a0b-450f-ac8e-a7b0e0577a6e",
   "metadata": {},
   "outputs": [],
   "source": [
    "train_dataset = Pool(data=trainX,\n",
    "                     label=trainY, \n",
    "                     cat_features=cat_indices)\n",
    "\n",
    "eval_dataset = Pool(data=testX,\n",
    "                    label=testY,\n",
    "                    cat_features=cat_indices)"
   ]
  },
  {
   "cell_type": "code",
   "execution_count": 76,
   "id": "bca6a20f-ecd1-4156-b9b1-21ecc4e9ef6a",
   "metadata": {},
   "outputs": [
    {
     "name": "stdout",
     "output_type": "stream",
     "text": [
      "{'boosting_type': 'Plain', 'border_count': 49, 'depth': 3, 'iterations': 100, 'l2_leaf_reg': 0.6230796831865983, 'learning_rate': 0.9998350599742374, 'loss_function': 'RMSE', 'one_hot_max_size': 37, 'random_strength': 0.37866685630985386, 'subsample': 0.0034430917416565007}\n",
      "{'boosting_type': 'Plain', 'border_count': 26, 'depth': 3, 'iterations': 100, 'l2_leaf_reg': 0.2745707529802382, 'learning_rate': 0.9995688168224243, 'loss_function': 'RMSE', 'one_hot_max_size': 43, 'random_strength': 0.5514888968076841, 'subsample': 0.004152867627059053}\n",
      "{'boosting_type': 'Plain', 'border_count': 29, 'depth': 4, 'iterations': 100, 'l2_leaf_reg': 0.03633899160945536, 'learning_rate': 0.9993738457286979, 'loss_function': 'RMSE', 'one_hot_max_size': 34, 'random_strength': 1.4056042615673574, 'subsample': 0.00226655591060802}\n",
      "{'boosting_type': 'Plain', 'border_count': 12, 'depth': 7, 'iterations': 100, 'l2_leaf_reg': 0.006919942400049253, 'learning_rate': 0.999453998800395, 'loss_function': 'RMSE', 'one_hot_max_size': 50, 'random_strength': 0.6298019029600388, 'subsample': 0.004555698728794583}\n",
      "{'boosting_type': 'Plain', 'border_count': 46, 'depth': 4, 'iterations': 100, 'l2_leaf_reg': 0.013653699579046871, 'learning_rate': 0.9997381128588284, 'loss_function': 'RMSE', 'one_hot_max_size': 32, 'random_strength': 1.853073264436145, 'subsample': 0.00277736142331971}\n",
      "{'boosting_type': 'Plain', 'border_count': 39, 'depth': 6, 'iterations': 100, 'l2_leaf_reg': 0.6784225761147133, 'learning_rate': 0.9996952973484385, 'loss_function': 'RMSE', 'one_hot_max_size': 99, 'random_strength': 1.2455487454176062, 'subsample': 0.004991921744024715}\n",
      "{'boosting_type': 'Plain', 'border_count': 28, 'depth': 2, 'iterations': 100, 'l2_leaf_reg': 0.029506849039737285, 'learning_rate': 0.9999814271685943, 'loss_function': 'RMSE', 'one_hot_max_size': 37, 'random_strength': 1.9806164531163288, 'subsample': 0.003674304530916221}\n",
      "{'boosting_type': 'Plain', 'border_count': 9, 'depth': 7, 'iterations': 100, 'l2_leaf_reg': 0.22473227206020763, 'learning_rate': 0.9996711578540228, 'loss_function': 'RMSE', 'one_hot_max_size': 37, 'random_strength': 0.0676528196981041, 'subsample': 0.0008817128964034278}\n",
      "{'boosting_type': 'Plain', 'border_count': 2, 'depth': 7, 'iterations': 100, 'l2_leaf_reg': 0.963527929805104, 'learning_rate': 0.9997145812979112, 'loss_function': 'RMSE', 'one_hot_max_size': 42, 'random_strength': 0.1984247839676081, 'subsample': 0.0025591560454436956}\n",
      "{'boosting_type': 'Plain', 'border_count': 8, 'depth': 7, 'iterations': 100, 'l2_leaf_reg': 0.03513490075354304, 'learning_rate': 0.9992427986825353, 'loss_function': 'RMSE', 'one_hot_max_size': 85, 'random_strength': 0.9927001648589624, 'subsample': 0.0017367936658909042}\n",
      "100%|███████| 10/10 [11:42<00:00, 70.22s/trial, best loss: 0.21797350607792093]\n"
     ]
    }
   ],
   "source": [
    "def hyperopt_objective(params):\n",
    "    print(params)\n",
    "    cv_data = cv(\n",
    "        params=params,\n",
    "        pool=train_dataset,\n",
    "        fold_count=5,\n",
    "        shuffle=True,\n",
    "        partition_random_seed=1,\n",
    "        stratified=False,\n",
    "        logging_level='Silent',\n",
    "        early_stopping_rounds=10\n",
    "    )\n",
    "    loss = cv_data['test-RMSE-mean'].min()\n",
    "    return loss\n",
    "\n",
    "\n",
    "# We initiate a Trial object to keep track of search results and we set a hyperparameter space\n",
    "trials = Trials()\n",
    "space = {\n",
    "    \"iterations\": 100,\n",
    "    'learning_rate': hp.uniform('learning_rate', .999, 1),\n",
    "    'depth': hp.randint('depth', 2, 8),\n",
    "    'l2_leaf_reg': hp.loguniform('l2_leaf_reg', -5, 0),\n",
    "    'border_count': hp.randint('border_count', 2, 50),\n",
    "    'random_strength': hp.uniform('random_strength', 0, 2),\n",
    "    'boosting_type': 'Plain',\n",
    "    'loss_function': 'RMSE',\n",
    "    'subsample': hp.uniform('subsample', 0.0001, 0.005),\n",
    "    'one_hot_max_size': hp.randint('one_hot_max_size', 10, 100)\n",
    "}\n",
    "\n",
    "# We finally use fmin to perform the search\n",
    "best = fmin(hyperopt_objective,\n",
    "            space=space,\n",
    "            algo=tpe.suggest,\n",
    "            max_evals=10,\n",
    "            rstate=np.random.default_rng(0),\n",
    "            trials=trials)"
   ]
  },
  {
   "cell_type": "code",
   "execution_count": 77,
   "id": "6b546776-436f-4798-a5ec-51e5f0f584c6",
   "metadata": {},
   "outputs": [
    {
     "data": {
      "text/plain": [
       "{'border_count': 39,\n",
       " 'depth': 6,\n",
       " 'l2_leaf_reg': 0.6784225761147133,\n",
       " 'learning_rate': 0.9996952973484385,\n",
       " 'one_hot_max_size': 99,\n",
       " 'random_strength': 1.2455487454176062,\n",
       " 'subsample': 0.004991921744024715}"
      ]
     },
     "execution_count": 77,
     "metadata": {},
     "output_type": "execute_result"
    }
   ],
   "source": [
    "best"
   ]
  },
  {
   "cell_type": "code",
   "execution_count": 78,
   "id": "4bf70562-9d92-4b7e-a337-acba75add80d",
   "metadata": {},
   "outputs": [
    {
     "data": {
      "text/plain": [
       "[0.9007638934158005,\n",
       " 0.8974217162265156,\n",
       " 0.8970358835944835,\n",
       " 0.8981508654629815,\n",
       " 0.8988909527223472]"
      ]
     },
     "execution_count": 78,
     "metadata": {},
     "output_type": "execute_result"
    }
   ],
   "source": [
    "kf = KFold(n_splits=5, shuffle=True, random_state=42)\n",
    "r2_scores = []\n",
    "\n",
    "for train_index, test_index in kf.split(trainX):\n",
    "    X_train_r, X_test_r = trainX.iloc[train_index], trainX.iloc[test_index]\n",
    "    y_train_r, y_test_r = trainY.iloc[train_index], trainY.iloc[test_index]\n",
    "\n",
    "    train_dataset_r = Pool(data=X_train_r, label=y_train_r,  cat_features=cat_indices)\n",
    "    test_dataset_r = Pool(data=X_test_r, label=y_test_r,  cat_features=cat_indices)\n",
    "\n",
    "    model_r = CatBoostRegressor(iterations=100, loss_function='RMSE', random_seed=0, verbose=1, **best)\n",
    "    model_r.fit(train_dataset_r, verbose=0)\n",
    "\n",
    "    predictions_r = model_r.predict(test_dataset_r)\n",
    "    r2 = r2_score(y_test_r, predictions_r)\n",
    "    r2_scores.append(r2)\n",
    "r2_scores"
   ]
  },
  {
   "cell_type": "code",
   "execution_count": 79,
   "id": "34a2ddf3-619a-4e22-b940-81f21d47936f",
   "metadata": {},
   "outputs": [
    {
     "data": {
      "text/plain": [
       "0.8984526622844257"
      ]
     },
     "execution_count": 79,
     "metadata": {},
     "output_type": "execute_result"
    }
   ],
   "source": [
    "sum(r2_scores) / 5"
   ]
  },
  {
   "cell_type": "code",
   "execution_count": 80,
   "id": "3dcafe7f-ab39-47b7-a991-6c733c958514",
   "metadata": {},
   "outputs": [],
   "source": [
    "pickle.dump(trials, open(\"my_trials_impute_land_value.pkl\", \"wb\"))\n",
    "\n",
    "with open(\"my_trials_impute_land_value.pkl\", \"rb\") as f:\n",
    "    object = pickle.load(f)\n",
    "\n",
    "df_trials = pd.DataFrame(object)\n",
    "df_trials.to_csv(r'catboost_results_impute_land_value.csv')"
   ]
  },
  {
   "cell_type": "code",
   "execution_count": 81,
   "id": "9e72a462-2b96-4f16-99d3-7d9eae398045",
   "metadata": {},
   "outputs": [],
   "source": [
    "catboostFinal = CatBoostRegressor(loss_function='RMSE', random_seed=0, **best, iterations=100)"
   ]
  },
  {
   "cell_type": "code",
   "execution_count": 82,
   "id": "e0031c3f-678f-4db2-82ef-23102abfefff",
   "metadata": {},
   "outputs": [
    {
     "name": "stdout",
     "output_type": "stream",
     "text": [
      "0:\tlearn: 0.3340890\ttotal: 213ms\tremaining: 21.1s\n",
      "1:\tlearn: 0.3030293\ttotal: 411ms\tremaining: 20.1s\n",
      "2:\tlearn: 0.2880295\ttotal: 620ms\tremaining: 20.1s\n",
      "3:\tlearn: 0.2748859\ttotal: 791ms\tremaining: 19s\n",
      "4:\tlearn: 0.2702955\ttotal: 963ms\tremaining: 18.3s\n",
      "5:\tlearn: 0.2677726\ttotal: 1.12s\tremaining: 17.6s\n",
      "6:\tlearn: 0.2662157\ttotal: 1.29s\tremaining: 17.1s\n",
      "7:\tlearn: 0.2625266\ttotal: 1.45s\tremaining: 16.7s\n",
      "8:\tlearn: 0.2599493\ttotal: 1.63s\tremaining: 16.4s\n",
      "9:\tlearn: 0.2575355\ttotal: 1.8s\tremaining: 16.2s\n",
      "10:\tlearn: 0.2531870\ttotal: 1.95s\tremaining: 15.8s\n",
      "11:\tlearn: 0.2511291\ttotal: 2.1s\tremaining: 15.4s\n",
      "12:\tlearn: 0.2501334\ttotal: 2.25s\tremaining: 15.1s\n",
      "13:\tlearn: 0.2484798\ttotal: 2.41s\tremaining: 14.8s\n",
      "14:\tlearn: 0.2475637\ttotal: 2.58s\tremaining: 14.6s\n",
      "15:\tlearn: 0.2436080\ttotal: 2.75s\tremaining: 14.4s\n",
      "16:\tlearn: 0.2431285\ttotal: 2.9s\tremaining: 14.2s\n",
      "17:\tlearn: 0.2421038\ttotal: 3.05s\tremaining: 13.9s\n",
      "18:\tlearn: 0.2416347\ttotal: 3.21s\tremaining: 13.7s\n",
      "19:\tlearn: 0.2403426\ttotal: 3.36s\tremaining: 13.4s\n",
      "20:\tlearn: 0.2396405\ttotal: 3.52s\tremaining: 13.2s\n",
      "21:\tlearn: 0.2392445\ttotal: 3.69s\tremaining: 13.1s\n",
      "22:\tlearn: 0.2374248\ttotal: 3.89s\tremaining: 13s\n",
      "23:\tlearn: 0.2368091\ttotal: 4.04s\tremaining: 12.8s\n",
      "24:\tlearn: 0.2355220\ttotal: 4.19s\tremaining: 12.6s\n",
      "25:\tlearn: 0.2351985\ttotal: 4.34s\tremaining: 12.4s\n",
      "26:\tlearn: 0.2345448\ttotal: 4.5s\tremaining: 12.2s\n",
      "27:\tlearn: 0.2339373\ttotal: 4.66s\tremaining: 12s\n",
      "28:\tlearn: 0.2337241\ttotal: 4.82s\tremaining: 11.8s\n",
      "29:\tlearn: 0.2318856\ttotal: 4.97s\tremaining: 11.6s\n",
      "30:\tlearn: 0.2306732\ttotal: 5.13s\tremaining: 11.4s\n",
      "31:\tlearn: 0.2302880\ttotal: 5.29s\tremaining: 11.2s\n",
      "32:\tlearn: 0.2299900\ttotal: 5.45s\tremaining: 11.1s\n",
      "33:\tlearn: 0.2299430\ttotal: 5.61s\tremaining: 10.9s\n",
      "34:\tlearn: 0.2295668\ttotal: 5.78s\tremaining: 10.7s\n",
      "35:\tlearn: 0.2289142\ttotal: 5.93s\tremaining: 10.5s\n",
      "36:\tlearn: 0.2287120\ttotal: 6.08s\tremaining: 10.3s\n",
      "37:\tlearn: 0.2285978\ttotal: 6.23s\tremaining: 10.2s\n",
      "38:\tlearn: 0.2284270\ttotal: 6.39s\tremaining: 10s\n",
      "39:\tlearn: 0.2276861\ttotal: 6.55s\tremaining: 9.83s\n",
      "40:\tlearn: 0.2273405\ttotal: 6.72s\tremaining: 9.67s\n",
      "41:\tlearn: 0.2268951\ttotal: 6.88s\tremaining: 9.51s\n",
      "42:\tlearn: 0.2265522\ttotal: 7.04s\tremaining: 9.33s\n",
      "43:\tlearn: 0.2258417\ttotal: 7.18s\tremaining: 9.13s\n",
      "44:\tlearn: 0.2256145\ttotal: 7.33s\tremaining: 8.96s\n",
      "45:\tlearn: 0.2254599\ttotal: 7.49s\tremaining: 8.79s\n",
      "46:\tlearn: 0.2250417\ttotal: 7.64s\tremaining: 8.62s\n",
      "47:\tlearn: 0.2248185\ttotal: 7.83s\tremaining: 8.48s\n",
      "48:\tlearn: 0.2240950\ttotal: 7.98s\tremaining: 8.3s\n",
      "49:\tlearn: 0.2238921\ttotal: 8.13s\tremaining: 8.13s\n",
      "50:\tlearn: 0.2236661\ttotal: 8.29s\tremaining: 7.96s\n",
      "51:\tlearn: 0.2233467\ttotal: 8.44s\tremaining: 7.79s\n",
      "52:\tlearn: 0.2232056\ttotal: 8.6s\tremaining: 7.63s\n",
      "53:\tlearn: 0.2230101\ttotal: 8.77s\tremaining: 7.47s\n",
      "54:\tlearn: 0.2226972\ttotal: 8.92s\tremaining: 7.3s\n",
      "55:\tlearn: 0.2224778\ttotal: 9.07s\tremaining: 7.13s\n",
      "56:\tlearn: 0.2222573\ttotal: 9.23s\tremaining: 6.96s\n",
      "57:\tlearn: 0.2220896\ttotal: 9.39s\tremaining: 6.8s\n",
      "58:\tlearn: 0.2218336\ttotal: 9.55s\tremaining: 6.64s\n",
      "59:\tlearn: 0.2216004\ttotal: 9.72s\tremaining: 6.48s\n",
      "60:\tlearn: 0.2214462\ttotal: 9.88s\tremaining: 6.32s\n",
      "61:\tlearn: 0.2213314\ttotal: 10s\tremaining: 6.15s\n",
      "62:\tlearn: 0.2212682\ttotal: 10.2s\tremaining: 5.98s\n",
      "63:\tlearn: 0.2210369\ttotal: 10.3s\tremaining: 5.82s\n",
      "64:\tlearn: 0.2209046\ttotal: 10.5s\tremaining: 5.66s\n",
      "65:\tlearn: 0.2205584\ttotal: 10.7s\tremaining: 5.49s\n",
      "66:\tlearn: 0.2204449\ttotal: 10.8s\tremaining: 5.34s\n",
      "67:\tlearn: 0.2203756\ttotal: 11s\tremaining: 5.17s\n",
      "68:\tlearn: 0.2201305\ttotal: 11.1s\tremaining: 5s\n",
      "69:\tlearn: 0.2199858\ttotal: 11.3s\tremaining: 4.83s\n",
      "70:\tlearn: 0.2198662\ttotal: 11.4s\tremaining: 4.67s\n",
      "71:\tlearn: 0.2197651\ttotal: 11.6s\tremaining: 4.51s\n",
      "72:\tlearn: 0.2196004\ttotal: 11.8s\tremaining: 4.35s\n",
      "73:\tlearn: 0.2195502\ttotal: 11.9s\tremaining: 4.19s\n",
      "74:\tlearn: 0.2195083\ttotal: 12.1s\tremaining: 4.02s\n",
      "75:\tlearn: 0.2192534\ttotal: 12.2s\tremaining: 3.86s\n",
      "76:\tlearn: 0.2191714\ttotal: 12.4s\tremaining: 3.7s\n",
      "77:\tlearn: 0.2188656\ttotal: 12.5s\tremaining: 3.54s\n",
      "78:\tlearn: 0.2188066\ttotal: 12.7s\tremaining: 3.38s\n",
      "79:\tlearn: 0.2187373\ttotal: 12.9s\tremaining: 3.22s\n",
      "80:\tlearn: 0.2185916\ttotal: 13s\tremaining: 3.06s\n",
      "81:\tlearn: 0.2185258\ttotal: 13.2s\tremaining: 2.9s\n",
      "82:\tlearn: 0.2183759\ttotal: 13.3s\tremaining: 2.73s\n",
      "83:\tlearn: 0.2178847\ttotal: 13.5s\tremaining: 2.57s\n",
      "84:\tlearn: 0.2175052\ttotal: 13.7s\tremaining: 2.41s\n",
      "85:\tlearn: 0.2174861\ttotal: 13.8s\tremaining: 2.25s\n",
      "86:\tlearn: 0.2172194\ttotal: 14s\tremaining: 2.09s\n",
      "87:\tlearn: 0.2171266\ttotal: 14.1s\tremaining: 1.93s\n",
      "88:\tlearn: 0.2171007\ttotal: 14.3s\tremaining: 1.77s\n",
      "89:\tlearn: 0.2169231\ttotal: 14.5s\tremaining: 1.61s\n",
      "90:\tlearn: 0.2168532\ttotal: 14.6s\tremaining: 1.45s\n",
      "91:\tlearn: 0.2166142\ttotal: 14.8s\tremaining: 1.29s\n",
      "92:\tlearn: 0.2164738\ttotal: 14.9s\tremaining: 1.13s\n",
      "93:\tlearn: 0.2163069\ttotal: 15.1s\tremaining: 964ms\n",
      "94:\tlearn: 0.2161380\ttotal: 15.3s\tremaining: 803ms\n",
      "95:\tlearn: 0.2161157\ttotal: 15.4s\tremaining: 642ms\n",
      "96:\tlearn: 0.2159710\ttotal: 15.6s\tremaining: 482ms\n",
      "97:\tlearn: 0.2158382\ttotal: 15.7s\tremaining: 321ms\n",
      "98:\tlearn: 0.2157479\ttotal: 15.9s\tremaining: 161ms\n",
      "99:\tlearn: 0.2153000\ttotal: 16s\tremaining: 0us\n"
     ]
    },
    {
     "data": {
      "text/plain": [
       "<catboost.core.CatBoostRegressor at 0x1819a6555b0>"
      ]
     },
     "execution_count": 82,
     "metadata": {},
     "output_type": "execute_result"
    }
   ],
   "source": [
    "catboostFinal.fit(train_dataset)"
   ]
  },
  {
   "cell_type": "code",
   "execution_count": 83,
   "id": "a9b62eea-85d6-400d-988f-cc6b96f3f94a",
   "metadata": {},
   "outputs": [],
   "source": [
    "predictions = catboostFinal.predict(testX)"
   ]
  },
  {
   "cell_type": "code",
   "execution_count": 84,
   "id": "6028045b-6528-41ea-adab-0e5c36b6f89b",
   "metadata": {},
   "outputs": [],
   "source": [
    "original_scale = 10 ** predictions"
   ]
  },
  {
   "cell_type": "code",
   "execution_count": 85,
   "id": "3d045a87-b841-4918-a575-1b75e48a8bfd",
   "metadata": {},
   "outputs": [],
   "source": [
    "tax['imputed_land_value'] = tax['assessed_land_value']"
   ]
  },
  {
   "cell_type": "code",
   "execution_count": 86,
   "id": "29a2ef7e-b67d-446e-894c-6d1fa2b099a0",
   "metadata": {},
   "outputs": [
    {
     "data": {
      "text/plain": [
       "0.0"
      ]
     },
     "execution_count": 86,
     "metadata": {},
     "output_type": "execute_result"
    }
   ],
   "source": [
    "(original_scale < 0).mean()"
   ]
  },
  {
   "cell_type": "code",
   "execution_count": 87,
   "id": "8ec3caf0-b7d6-45ac-9160-b3ed95e10234",
   "metadata": {},
   "outputs": [],
   "source": [
    "tax.loc[~trainMask, 'imputed_land_value'] = original_scale"
   ]
  },
  {
   "cell_type": "code",
   "execution_count": 88,
   "id": "f4967fb9-4c25-44be-b1b8-ab2989e784c3",
   "metadata": {},
   "outputs": [
    {
     "data": {
      "text/plain": [
       "count    3.086855e+06\n",
       "mean     5.533686e+05\n",
       "std      5.061907e+07\n",
       "min      1.411172e-01\n",
       "25%      6.418300e+04\n",
       "50%      2.290190e+05\n",
       "75%      4.673920e+05\n",
       "max      8.610502e+10\n",
       "Name: imputed_land_value, dtype: float64"
      ]
     },
     "execution_count": 88,
     "metadata": {},
     "output_type": "execute_result"
    }
   ],
   "source": [
    "(tax['imputed_land_value']).describe()"
   ]
  },
  {
   "cell_type": "code",
   "execution_count": 89,
   "id": "587522dd-cc4c-435b-8d2f-954e8fc1a362",
   "metadata": {},
   "outputs": [
    {
     "data": {
      "text/plain": [
       "count    3.086855e+06\n",
       "mean     4.709204e+05\n",
       "std      2.867748e+06\n",
       "min      0.000000e+00\n",
       "25%      6.003500e+04\n",
       "50%      2.246580e+05\n",
       "75%      4.625970e+05\n",
       "max      6.257076e+08\n",
       "Name: assessed_land_value, dtype: float64"
      ]
     },
     "execution_count": 89,
     "metadata": {},
     "output_type": "execute_result"
    }
   ],
   "source": [
    "(tax['assessed_land_value']).describe()"
   ]
  },
  {
   "cell_type": "code",
   "execution_count": 90,
   "id": "510b6417-d698-4fbd-8c55-354ee2cb19f3",
   "metadata": {},
   "outputs": [
    {
     "data": {
      "text/plain": [
       "0.0"
      ]
     },
     "execution_count": 90,
     "metadata": {},
     "output_type": "execute_result"
    }
   ],
   "source": [
    "(tax['imputed_land_value'] < 0).mean()"
   ]
  },
  {
   "cell_type": "code",
   "execution_count": 91,
   "id": "b28ca67a-db80-4096-9443-25ac43c058a8",
   "metadata": {},
   "outputs": [],
   "source": [
    "tax.to_feather('../data/tax.geofeather')"
   ]
  },
  {
   "cell_type": "markdown",
   "id": "8574a494-8c4c-4d03-8524-4c3a1f517931",
   "metadata": {},
   "source": [
    "## Assessed Value (random forest baseline)"
   ]
  },
  {
   "cell_type": "code",
   "execution_count": 92,
   "id": "6bdbf8df",
   "metadata": {},
   "outputs": [],
   "source": [
    "X_dummy = pd.get_dummies(X, drop_first=True, dummy_na=True)"
   ]
  },
  {
   "cell_type": "code",
   "execution_count": 93,
   "id": "1de9716c",
   "metadata": {},
   "outputs": [],
   "source": [
    "X_dummy = X_dummy.fillna(-9999)"
   ]
  },
  {
   "cell_type": "code",
   "execution_count": 94,
   "id": "91fe4a95",
   "metadata": {},
   "outputs": [],
   "source": [
    "trainX_dummy, testX_dummy = X_dummy[trainMask], X_dummy[~trainMask]"
   ]
  },
  {
   "cell_type": "code",
   "execution_count": 95,
   "id": "5f13086a",
   "metadata": {},
   "outputs": [],
   "source": [
    "regression = Pipeline([('rf',\n",
    "                        ExtraTreesRegressor(n_estimators=100, random_state=0, \n",
    "                                            max_samples=1000, bootstrap=True, n_jobs=-1))])\n",
    "rf_param_grid = [\n",
    "    {\n",
    "        'rf__max_depth': stats.randint(1, 10),\n",
    "        'rf__ccp_alpha': stats.loguniform(1e-10, 1e-1),\n",
    "        'rf__max_features': stats.uniform(.05, .95),\n",
    "        'rf__max_samples': stats.randint(500, 1000)\n",
    "    }\n",
    "]"
   ]
  },
  {
   "cell_type": "code",
   "execution_count": 97,
   "id": "10b2f512",
   "metadata": {},
   "outputs": [
    {
     "data": {
      "text/html": [
       "<style>#sk-container-id-1 {color: black;}#sk-container-id-1 pre{padding: 0;}#sk-container-id-1 div.sk-toggleable {background-color: white;}#sk-container-id-1 label.sk-toggleable__label {cursor: pointer;display: block;width: 100%;margin-bottom: 0;padding: 0.3em;box-sizing: border-box;text-align: center;}#sk-container-id-1 label.sk-toggleable__label-arrow:before {content: \"▸\";float: left;margin-right: 0.25em;color: #696969;}#sk-container-id-1 label.sk-toggleable__label-arrow:hover:before {color: black;}#sk-container-id-1 div.sk-estimator:hover label.sk-toggleable__label-arrow:before {color: black;}#sk-container-id-1 div.sk-toggleable__content {max-height: 0;max-width: 0;overflow: hidden;text-align: left;background-color: #f0f8ff;}#sk-container-id-1 div.sk-toggleable__content pre {margin: 0.2em;color: black;border-radius: 0.25em;background-color: #f0f8ff;}#sk-container-id-1 input.sk-toggleable__control:checked~div.sk-toggleable__content {max-height: 200px;max-width: 100%;overflow: auto;}#sk-container-id-1 input.sk-toggleable__control:checked~label.sk-toggleable__label-arrow:before {content: \"▾\";}#sk-container-id-1 div.sk-estimator input.sk-toggleable__control:checked~label.sk-toggleable__label {background-color: #d4ebff;}#sk-container-id-1 div.sk-label input.sk-toggleable__control:checked~label.sk-toggleable__label {background-color: #d4ebff;}#sk-container-id-1 input.sk-hidden--visually {border: 0;clip: rect(1px 1px 1px 1px);clip: rect(1px, 1px, 1px, 1px);height: 1px;margin: -1px;overflow: hidden;padding: 0;position: absolute;width: 1px;}#sk-container-id-1 div.sk-estimator {font-family: monospace;background-color: #f0f8ff;border: 1px dotted black;border-radius: 0.25em;box-sizing: border-box;margin-bottom: 0.5em;}#sk-container-id-1 div.sk-estimator:hover {background-color: #d4ebff;}#sk-container-id-1 div.sk-parallel-item::after {content: \"\";width: 100%;border-bottom: 1px solid gray;flex-grow: 1;}#sk-container-id-1 div.sk-label:hover label.sk-toggleable__label {background-color: #d4ebff;}#sk-container-id-1 div.sk-serial::before {content: \"\";position: absolute;border-left: 1px solid gray;box-sizing: border-box;top: 0;bottom: 0;left: 50%;z-index: 0;}#sk-container-id-1 div.sk-serial {display: flex;flex-direction: column;align-items: center;background-color: white;padding-right: 0.2em;padding-left: 0.2em;position: relative;}#sk-container-id-1 div.sk-item {position: relative;z-index: 1;}#sk-container-id-1 div.sk-parallel {display: flex;align-items: stretch;justify-content: center;background-color: white;position: relative;}#sk-container-id-1 div.sk-item::before, #sk-container-id-1 div.sk-parallel-item::before {content: \"\";position: absolute;border-left: 1px solid gray;box-sizing: border-box;top: 0;bottom: 0;left: 50%;z-index: -1;}#sk-container-id-1 div.sk-parallel-item {display: flex;flex-direction: column;z-index: 1;position: relative;background-color: white;}#sk-container-id-1 div.sk-parallel-item:first-child::after {align-self: flex-end;width: 50%;}#sk-container-id-1 div.sk-parallel-item:last-child::after {align-self: flex-start;width: 50%;}#sk-container-id-1 div.sk-parallel-item:only-child::after {width: 0;}#sk-container-id-1 div.sk-dashed-wrapped {border: 1px dashed gray;margin: 0 0.4em 0.5em 0.4em;box-sizing: border-box;padding-bottom: 0.4em;background-color: white;}#sk-container-id-1 div.sk-label label {font-family: monospace;font-weight: bold;display: inline-block;line-height: 1.2em;}#sk-container-id-1 div.sk-label-container {text-align: center;}#sk-container-id-1 div.sk-container {/* jupyter's `normalize.less` sets `[hidden] { display: none; }` but bootstrap.min.css set `[hidden] { display: none !important; }` so we also need the `!important` here to be able to override the default hidden behavior on the sphinx rendered scikit-learn.org. See: https://github.com/scikit-learn/scikit-learn/issues/21755 */display: inline-block !important;position: relative;}#sk-container-id-1 div.sk-text-repr-fallback {display: none;}</style><div id=\"sk-container-id-1\" class=\"sk-top-container\"><div class=\"sk-text-repr-fallback\"><pre>RandomizedSearchCV(cv=5,\n",
       "                   estimator=Pipeline(steps=[(&#x27;rf&#x27;,\n",
       "                                              ExtraTreesRegressor(bootstrap=True,\n",
       "                                                                  max_samples=1000,\n",
       "                                                                  n_jobs=-1,\n",
       "                                                                  random_state=0))]),\n",
       "                   param_distributions=[{&#x27;rf__ccp_alpha&#x27;: &lt;scipy.stats._distn_infrastructure.rv_continuous_frozen object at 0x000001819A462C40&gt;,\n",
       "                                         &#x27;rf__max_depth&#x27;: &lt;scipy.stats._distn_infrastructure.rv_discrete_frozen object at 0x000001819A6559A0&gt;,\n",
       "                                         &#x27;rf__max_features&#x27;: &lt;scipy.stats._distn_infrastructure.rv_continuous_frozen object at 0x000001819A9278B0&gt;,\n",
       "                                         &#x27;rf__max_samples&#x27;: &lt;scipy.stats._distn_infrastructure.rv_discrete_frozen object at 0x000001819A469D30&gt;}],\n",
       "                   random_state=0)</pre><b>In a Jupyter environment, please rerun this cell to show the HTML representation or trust the notebook. <br />On GitHub, the HTML representation is unable to render, please try loading this page with nbviewer.org.</b></div><div class=\"sk-container\" hidden><div class=\"sk-item sk-dashed-wrapped\"><div class=\"sk-label-container\"><div class=\"sk-label sk-toggleable\"><input class=\"sk-toggleable__control sk-hidden--visually\" id=\"sk-estimator-id-1\" type=\"checkbox\" ><label for=\"sk-estimator-id-1\" class=\"sk-toggleable__label sk-toggleable__label-arrow\">RandomizedSearchCV</label><div class=\"sk-toggleable__content\"><pre>RandomizedSearchCV(cv=5,\n",
       "                   estimator=Pipeline(steps=[(&#x27;rf&#x27;,\n",
       "                                              ExtraTreesRegressor(bootstrap=True,\n",
       "                                                                  max_samples=1000,\n",
       "                                                                  n_jobs=-1,\n",
       "                                                                  random_state=0))]),\n",
       "                   param_distributions=[{&#x27;rf__ccp_alpha&#x27;: &lt;scipy.stats._distn_infrastructure.rv_continuous_frozen object at 0x000001819A462C40&gt;,\n",
       "                                         &#x27;rf__max_depth&#x27;: &lt;scipy.stats._distn_infrastructure.rv_discrete_frozen object at 0x000001819A6559A0&gt;,\n",
       "                                         &#x27;rf__max_features&#x27;: &lt;scipy.stats._distn_infrastructure.rv_continuous_frozen object at 0x000001819A9278B0&gt;,\n",
       "                                         &#x27;rf__max_samples&#x27;: &lt;scipy.stats._distn_infrastructure.rv_discrete_frozen object at 0x000001819A469D30&gt;}],\n",
       "                   random_state=0)</pre></div></div></div><div class=\"sk-parallel\"><div class=\"sk-parallel-item\"><div class=\"sk-item\"><div class=\"sk-label-container\"><div class=\"sk-label sk-toggleable\"><input class=\"sk-toggleable__control sk-hidden--visually\" id=\"sk-estimator-id-2\" type=\"checkbox\" ><label for=\"sk-estimator-id-2\" class=\"sk-toggleable__label sk-toggleable__label-arrow\">estimator: Pipeline</label><div class=\"sk-toggleable__content\"><pre>Pipeline(steps=[(&#x27;rf&#x27;,\n",
       "                 ExtraTreesRegressor(bootstrap=True, max_samples=1000,\n",
       "                                     n_jobs=-1, random_state=0))])</pre></div></div></div><div class=\"sk-serial\"><div class=\"sk-item\"><div class=\"sk-serial\"><div class=\"sk-item\"><div class=\"sk-estimator sk-toggleable\"><input class=\"sk-toggleable__control sk-hidden--visually\" id=\"sk-estimator-id-3\" type=\"checkbox\" ><label for=\"sk-estimator-id-3\" class=\"sk-toggleable__label sk-toggleable__label-arrow\">ExtraTreesRegressor</label><div class=\"sk-toggleable__content\"><pre>ExtraTreesRegressor(bootstrap=True, max_samples=1000, n_jobs=-1, random_state=0)</pre></div></div></div></div></div></div></div></div></div></div></div></div>"
      ],
      "text/plain": [
       "RandomizedSearchCV(cv=5,\n",
       "                   estimator=Pipeline(steps=[('rf',\n",
       "                                              ExtraTreesRegressor(bootstrap=True,\n",
       "                                                                  max_samples=1000,\n",
       "                                                                  n_jobs=-1,\n",
       "                                                                  random_state=0))]),\n",
       "                   param_distributions=[{'rf__ccp_alpha': <scipy.stats._distn_infrastructure.rv_continuous_frozen object at 0x000001819A462C40>,\n",
       "                                         'rf__max_depth': <scipy.stats._distn_infrastructure.rv_discrete_frozen object at 0x000001819A6559A0>,\n",
       "                                         'rf__max_features': <scipy.stats._distn_infrastructure.rv_continuous_frozen object at 0x000001819A9278B0>,\n",
       "                                         'rf__max_samples': <scipy.stats._distn_infrastructure.rv_discrete_frozen object at 0x000001819A469D30>}],\n",
       "                   random_state=0)"
      ]
     },
     "execution_count": 97,
     "metadata": {},
     "output_type": "execute_result"
    }
   ],
   "source": [
    "rs = RandomizedSearchCV(regression, rf_param_grid, n_iter=10, random_state=0, cv=5)\n",
    "\n",
    "rs.fit(trainX_dummy, trainY)"
   ]
  },
  {
   "cell_type": "code",
   "execution_count": 98,
   "id": "7cc56b2a-a721-4b50-b95b-0a026448ee77",
   "metadata": {},
   "outputs": [
    {
     "data": {
      "text/html": [
       "<div>\n",
       "<style scoped>\n",
       "    .dataframe tbody tr th:only-of-type {\n",
       "        vertical-align: middle;\n",
       "    }\n",
       "\n",
       "    .dataframe tbody tr th {\n",
       "        vertical-align: top;\n",
       "    }\n",
       "\n",
       "    .dataframe thead th {\n",
       "        text-align: right;\n",
       "    }\n",
       "</style>\n",
       "<table border=\"1\" class=\"dataframe\">\n",
       "  <thead>\n",
       "    <tr style=\"text-align: right;\">\n",
       "      <th></th>\n",
       "      <th>rf__ccp_alpha</th>\n",
       "      <th>rf__max_depth</th>\n",
       "      <th>rf__max_features</th>\n",
       "      <th>rf__max_samples</th>\n",
       "      <th>score</th>\n",
       "    </tr>\n",
       "  </thead>\n",
       "  <tbody>\n",
       "    <tr>\n",
       "      <th>2</th>\n",
       "      <td>4.762242e-08</td>\n",
       "      <td>9</td>\n",
       "      <td>0.965480</td>\n",
       "      <td>814</td>\n",
       "      <td>0.825683</td>\n",
       "    </tr>\n",
       "    <tr>\n",
       "      <th>3</th>\n",
       "      <td>1.990609e-06</td>\n",
       "      <td>8</td>\n",
       "      <td>0.552450</td>\n",
       "      <td>588</td>\n",
       "      <td>0.789555</td>\n",
       "    </tr>\n",
       "    <tr>\n",
       "      <th>0</th>\n",
       "      <td>8.696040e-06</td>\n",
       "      <td>6</td>\n",
       "      <td>0.852052</td>\n",
       "      <td>751</td>\n",
       "      <td>0.764714</td>\n",
       "    </tr>\n",
       "    <tr>\n",
       "      <th>5</th>\n",
       "      <td>2.061455e-07</td>\n",
       "      <td>6</td>\n",
       "      <td>0.789249</td>\n",
       "      <td>931</td>\n",
       "      <td>0.757329</td>\n",
       "    </tr>\n",
       "    <tr>\n",
       "      <th>4</th>\n",
       "      <td>3.428176e-07</td>\n",
       "      <td>9</td>\n",
       "      <td>0.132773</td>\n",
       "      <td>615</td>\n",
       "      <td>0.700053</td>\n",
       "    </tr>\n",
       "    <tr>\n",
       "      <th>1</th>\n",
       "      <td>8.015833e-06</td>\n",
       "      <td>4</td>\n",
       "      <td>0.663599</td>\n",
       "      <td>792</td>\n",
       "      <td>0.666153</td>\n",
       "    </tr>\n",
       "    <tr>\n",
       "      <th>6</th>\n",
       "      <td>6.773066e-03</td>\n",
       "      <td>4</td>\n",
       "      <td>0.809201</td>\n",
       "      <td>743</td>\n",
       "      <td>0.663868</td>\n",
       "    </tr>\n",
       "    <tr>\n",
       "      <th>9</th>\n",
       "      <td>1.829801e-06</td>\n",
       "      <td>3</td>\n",
       "      <td>0.483343</td>\n",
       "      <td>790</td>\n",
       "      <td>0.609365</td>\n",
       "    </tr>\n",
       "    <tr>\n",
       "      <th>7</th>\n",
       "      <td>4.833896e-06</td>\n",
       "      <td>4</td>\n",
       "      <td>0.162361</td>\n",
       "      <td>788</td>\n",
       "      <td>0.534285</td>\n",
       "    </tr>\n",
       "    <tr>\n",
       "      <th>8</th>\n",
       "      <td>1.730526e-05</td>\n",
       "      <td>1</td>\n",
       "      <td>0.545756</td>\n",
       "      <td>744</td>\n",
       "      <td>0.408146</td>\n",
       "    </tr>\n",
       "  </tbody>\n",
       "</table>\n",
       "</div>"
      ],
      "text/plain": [
       "   rf__ccp_alpha  rf__max_depth  rf__max_features  rf__max_samples     score\n",
       "2   4.762242e-08              9          0.965480              814  0.825683\n",
       "3   1.990609e-06              8          0.552450              588  0.789555\n",
       "0   8.696040e-06              6          0.852052              751  0.764714\n",
       "5   2.061455e-07              6          0.789249              931  0.757329\n",
       "4   3.428176e-07              9          0.132773              615  0.700053\n",
       "1   8.015833e-06              4          0.663599              792  0.666153\n",
       "6   6.773066e-03              4          0.809201              743  0.663868\n",
       "9   1.829801e-06              3          0.483343              790  0.609365\n",
       "7   4.833896e-06              4          0.162361              788  0.534285\n",
       "8   1.730526e-05              1          0.545756              744  0.408146"
      ]
     },
     "execution_count": 98,
     "metadata": {},
     "output_type": "execute_result"
    }
   ],
   "source": [
    "param_search_results = pd.DataFrame(rs.cv_results_['params'])\n",
    "param_search_results['score'] = rs.cv_results_['mean_test_score']\n",
    "param_search_results = param_search_results.sort_values('score', ascending=False)\n",
    "param_search_results"
   ]
  },
  {
   "cell_type": "code",
   "execution_count": null,
   "id": "de88d3ae-a5f9-435a-8d96-b858d18720f2",
   "metadata": {},
   "outputs": [],
   "source": []
  }
 ],
 "metadata": {
  "kernelspec": {
   "display_name": "Python 3 (ipykernel)",
   "language": "python",
   "name": "python3"
  },
  "language_info": {
   "codemirror_mode": {
    "name": "ipython",
    "version": 3
   },
   "file_extension": ".py",
   "mimetype": "text/x-python",
   "name": "python",
   "nbconvert_exporter": "python",
   "pygments_lexer": "ipython3",
   "version": "3.8.2"
  }
 },
 "nbformat": 4,
 "nbformat_minor": 5
}
