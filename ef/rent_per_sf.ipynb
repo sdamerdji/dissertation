{
 "cells": [
  {
   "cell_type": "code",
   "execution_count": 1,
   "id": "3e0f52ab",
   "metadata": {},
   "outputs": [],
   "source": [
    "import geopandas as gpd\n",
    "import pandas as pd\n",
    "import matplotlib.pyplot as plt"
   ]
  },
  {
   "cell_type": "markdown",
   "id": "78baf604",
   "metadata": {},
   "source": [
    "# Panel Data Version"
   ]
  },
  {
   "cell_type": "markdown",
   "id": "e9d9db6a",
   "metadata": {},
   "source": [
    "### Panel Data of Rents"
   ]
  },
  {
   "cell_type": "code",
   "execution_count": 2,
   "id": "f70d2c23",
   "metadata": {},
   "outputs": [],
   "source": [
    "home_prices = pd.read_csv('../data/efz/Neighborhood_zhvi_uc_sfrcondo_tier_0.33_0.67_sm_sa_month.csv')"
   ]
  },
  {
   "cell_type": "code",
   "execution_count": 3,
   "id": "29c8f791",
   "metadata": {},
   "outputs": [],
   "source": [
    "home_prices = home_prices[home_prices.City == 'San Francisco']\n",
    "annual = [c for c in home_prices.columns if '12-31' in c]\n",
    "neighborhood_rents = home_prices[['RegionName'] + annual].copy()\n",
    "neighborhood_rents.rename(columns={'RegionName': 'neighborhood'}, inplace=True)"
   ]
  },
  {
   "cell_type": "code",
   "execution_count": 4,
   "id": "d8237837",
   "metadata": {},
   "outputs": [],
   "source": [
    "covered_years = neighborhood_rents.columns[1:].str.split('-').str[0].astype(int) + 1"
   ]
  },
  {
   "cell_type": "code",
   "execution_count": 5,
   "id": "8ae5f623",
   "metadata": {},
   "outputs": [],
   "source": [
    "neighborhood_rents.columns = ['neighborhood'] + covered_years.tolist()\n",
    "neighborhood_rents = neighborhood_rents.melt(id_vars='neighborhood', var_name='year', value_name='rent')\n",
    "neighborhood_rents = neighborhood_rents[(neighborhood_rents.year >= 2007) & (neighborhood_rents.year < 2017)]"
   ]
  },
  {
   "cell_type": "code",
   "execution_count": 8,
   "id": "2d256966",
   "metadata": {},
   "outputs": [
    {
     "data": {
      "text/plain": [
       "108"
      ]
     },
     "execution_count": 8,
     "metadata": {},
     "output_type": "execute_result"
    }
   ],
   "source": [
    "neighborhood_rents.neighborhood.nunique()"
   ]
  },
  {
   "cell_type": "markdown",
   "id": "cb620289",
   "metadata": {},
   "source": [
    "Geospatial version"
   ]
  },
  {
   "cell_type": "code",
   "execution_count": 9,
   "id": "2858dbc6",
   "metadata": {},
   "outputs": [],
   "source": [
    "neigh = gpd.read_file('../data/ZillowNeighborhoods-CA/ZillowNeighborhoods-CA.shp')"
   ]
  },
  {
   "cell_type": "code",
   "execution_count": 10,
   "id": "fb567c3a",
   "metadata": {},
   "outputs": [],
   "source": [
    "sf = neigh[neigh.CITY.str.contains('San Francisco')]\n",
    "sf_neighborhoods = sf[['NAME', 'geometry']]\n",
    "sf_neighborhoods = sf_neighborhoods.rename(columns={'NAME': 'zillow_neighborhood_name'})\n",
    "sf_neighborhoods = sf_neighborhoods.replace({'zillow_neighborhood_name': {\n",
    "    'Marina' : 'Marina District',\n",
    "    'Haight-Ashbury': 'Haight',\n",
    "    'South Of Market': 'South of Market',\n",
    "    'Ocean View': 'Oceanview',\n",
    "    'Castro-Upper Market': 'Castro',\n",
    "    'Twin Peaks': 'Clarendon Heights',\n",
    "    'West Of Twin Peaks': 'Forest Knolls'\n",
    "}})"
   ]
  },
  {
   "cell_type": "code",
   "execution_count": 11,
   "id": "8ba78379",
   "metadata": {},
   "outputs": [
    {
     "data": {
      "text/plain": [
       "<Axes: >"
      ]
     },
     "execution_count": 11,
     "metadata": {},
     "output_type": "execute_result"
    },
    {
     "data": {
      "image/png": "[encoded data removed]",
      "text/plain": [
       "<Figure size 432x288 with 1 Axes>"
      ]
     },
     "metadata": {
      "needs_background": "light"
     },
     "output_type": "display_data"
    }
   ],
   "source": [
    "sf_neighborhoods.plot()"
   ]
  },
  {
   "cell_type": "markdown",
   "id": "f0251ae8",
   "metadata": {},
   "source": [
    "### Median sf per home per year in neighborhood"
   ]
  },
  {
   "cell_type": "code",
   "execution_count": 12,
   "id": "d4cacef8",
   "metadata": {},
   "outputs": [],
   "source": [
    "tax = gpd.read_feather('../data/tax.geofeather')"
   ]
  },
  {
   "cell_type": "code",
   "execution_count": 13,
   "id": "43449ff8",
   "metadata": {},
   "outputs": [],
   "source": [
    "tax = tax[tax.closed_roll_year < 2017].copy()"
   ]
  },
  {
   "cell_type": "code",
   "execution_count": 14,
   "id": "1d362681",
   "metadata": {},
   "outputs": [],
   "source": [
    "residential = tax[tax.use_definition.str.contains('Residential') | False]\n",
    "residential = residential[residential['number_of_units'] > 0]\n",
    "residential = residential[residential['property_area'] > 0]"
   ]
  },
  {
   "cell_type": "code",
   "execution_count": 15,
   "id": "a7c40e81",
   "metadata": {},
   "outputs": [],
   "source": [
    "# this line is expensive to run\n",
    "residential = residential.to_crs(epsg=3310).sjoin_nearest(sf_neighborhoods.to_crs(epsg=3310), how='left')"
   ]
  },
  {
   "cell_type": "code",
   "execution_count": 16,
   "id": "7cbdcd2d",
   "metadata": {},
   "outputs": [],
   "source": [
    "residential = residential.drop(columns='index_right')"
   ]
  },
  {
   "cell_type": "code",
   "execution_count": 17,
   "id": "5dbb9b2c",
   "metadata": {},
   "outputs": [
    {
     "data": {
      "text/plain": [
       "40"
      ]
     },
     "execution_count": 17,
     "metadata": {},
     "output_type": "execute_result"
    }
   ],
   "source": [
    "residential.analysis_neighborhood.nunique()"
   ]
  },
  {
   "cell_type": "code",
   "execution_count": 18,
   "id": "43ffa748",
   "metadata": {},
   "outputs": [],
   "source": [
    "residential['home_size1'] = residential['property_area'] / residential['number_of_units']"
   ]
  },
  {
   "cell_type": "code",
   "execution_count": 19,
   "id": "3235d43e",
   "metadata": {},
   "outputs": [],
   "source": [
    "sf_by_neighborhood = residential.groupby(['zillow_neighborhood_name', 'closed_roll_year']).agg({'home_size1':'median'})"
   ]
  },
  {
   "cell_type": "code",
   "execution_count": 20,
   "id": "0df79c68",
   "metadata": {},
   "outputs": [],
   "source": [
    "sf_by_neighborhood = sf_by_neighborhood.reset_index()"
   ]
  },
  {
   "cell_type": "code",
   "execution_count": 21,
   "id": "f826251b",
   "metadata": {},
   "outputs": [
    {
     "data": {
      "text/plain": [
       "zillow_neighborhood_name\n",
       "Bayview               10\n",
       "Pacific Heights       10\n",
       "Noe Valley            10\n",
       "North Beach           10\n",
       "Oceanview             10\n",
       "Outer Mission         10\n",
       "Outer Richmond        10\n",
       "Outer Sunset          10\n",
       "Parkside              10\n",
       "Bernal Heights        10\n",
       "Potrero Hill          10\n",
       "Presidio Heights      10\n",
       "Russian Hill          10\n",
       "Seacliff              10\n",
       "South of Market       10\n",
       "Visitacion Valley     10\n",
       "Nob Hill              10\n",
       "Mission               10\n",
       "Marina District       10\n",
       "Lakeshore             10\n",
       "Inner Sunset          10\n",
       "Inner Richmond        10\n",
       "Haight                10\n",
       "Glen Park             10\n",
       "Forest Knolls         10\n",
       "Financial District    10\n",
       "Excelsior             10\n",
       "Downtown              10\n",
       "Crocker Amazon        10\n",
       "Clarendon Heights     10\n",
       "Chinatown             10\n",
       "Castro                10\n",
       "Western Addition      10\n",
       "Diamond Heights        9\n",
       "Name: count, dtype: int64"
      ]
     },
     "execution_count": 21,
     "metadata": {},
     "output_type": "execute_result"
    }
   ],
   "source": [
    "sf_by_neighborhood.value_counts('zillow_neighborhood_name')"
   ]
  },
  {
   "cell_type": "code",
   "execution_count": 22,
   "id": "33f02449",
   "metadata": {},
   "outputs": [
    {
     "data": {
      "text/html": [
       "<div>\n",
       "<style scoped>\n",
       "    .dataframe tbody tr th:only-of-type {\n",
       "        vertical-align: middle;\n",
       "    }\n",
       "\n",
       "    .dataframe tbody tr th {\n",
       "        vertical-align: top;\n",
       "    }\n",
       "\n",
       "    .dataframe thead th {\n",
       "        text-align: right;\n",
       "    }\n",
       "</style>\n",
       "<table border=\"1\" class=\"dataframe\">\n",
       "  <thead>\n",
       "    <tr style=\"text-align: right;\">\n",
       "      <th></th>\n",
       "      <th>zillow_neighborhood_name</th>\n",
       "      <th>closed_roll_year</th>\n",
       "      <th>home_size1</th>\n",
       "    </tr>\n",
       "  </thead>\n",
       "  <tbody>\n",
       "    <tr>\n",
       "      <th>0</th>\n",
       "      <td>Bayview</td>\n",
       "      <td>2007</td>\n",
       "      <td>1254.000000</td>\n",
       "    </tr>\n",
       "    <tr>\n",
       "      <th>1</th>\n",
       "      <td>Bayview</td>\n",
       "      <td>2008</td>\n",
       "      <td>1255.000000</td>\n",
       "    </tr>\n",
       "    <tr>\n",
       "      <th>2</th>\n",
       "      <td>Bayview</td>\n",
       "      <td>2009</td>\n",
       "      <td>1259.000000</td>\n",
       "    </tr>\n",
       "    <tr>\n",
       "      <th>3</th>\n",
       "      <td>Bayview</td>\n",
       "      <td>2010</td>\n",
       "      <td>1261.000000</td>\n",
       "    </tr>\n",
       "    <tr>\n",
       "      <th>4</th>\n",
       "      <td>Bayview</td>\n",
       "      <td>2011</td>\n",
       "      <td>1270.000000</td>\n",
       "    </tr>\n",
       "    <tr>\n",
       "      <th>...</th>\n",
       "      <td>...</td>\n",
       "      <td>...</td>\n",
       "      <td>...</td>\n",
       "    </tr>\n",
       "    <tr>\n",
       "      <th>334</th>\n",
       "      <td>Western Addition</td>\n",
       "      <td>2012</td>\n",
       "      <td>1078.166667</td>\n",
       "    </tr>\n",
       "    <tr>\n",
       "      <th>335</th>\n",
       "      <td>Western Addition</td>\n",
       "      <td>2013</td>\n",
       "      <td>1080.000000</td>\n",
       "    </tr>\n",
       "    <tr>\n",
       "      <th>336</th>\n",
       "      <td>Western Addition</td>\n",
       "      <td>2014</td>\n",
       "      <td>1080.000000</td>\n",
       "    </tr>\n",
       "    <tr>\n",
       "      <th>337</th>\n",
       "      <td>Western Addition</td>\n",
       "      <td>2015</td>\n",
       "      <td>1078.000000</td>\n",
       "    </tr>\n",
       "    <tr>\n",
       "      <th>338</th>\n",
       "      <td>Western Addition</td>\n",
       "      <td>2016</td>\n",
       "      <td>1080.000000</td>\n",
       "    </tr>\n",
       "  </tbody>\n",
       "</table>\n",
       "<p>339 rows × 3 columns</p>\n",
       "</div>"
      ],
      "text/plain": [
       "    zillow_neighborhood_name  closed_roll_year   home_size1\n",
       "0                    Bayview              2007  1254.000000\n",
       "1                    Bayview              2008  1255.000000\n",
       "2                    Bayview              2009  1259.000000\n",
       "3                    Bayview              2010  1261.000000\n",
       "4                    Bayview              2011  1270.000000\n",
       "..                       ...               ...          ...\n",
       "334         Western Addition              2012  1078.166667\n",
       "335         Western Addition              2013  1080.000000\n",
       "336         Western Addition              2014  1080.000000\n",
       "337         Western Addition              2015  1078.000000\n",
       "338         Western Addition              2016  1080.000000\n",
       "\n",
       "[339 rows x 3 columns]"
      ]
     },
     "execution_count": 22,
     "metadata": {},
     "output_type": "execute_result"
    }
   ],
   "source": [
    "sf_by_neighborhood"
   ]
  },
  {
   "cell_type": "code",
   "execution_count": 27,
   "id": "cf0de123",
   "metadata": {},
   "outputs": [
    {
     "data": {
      "text/plain": [
       "0.9999077214556005"
      ]
     },
     "execution_count": 27,
     "metadata": {},
     "output_type": "execute_result"
    }
   ],
   "source": [
    "residential.zillow_neighborhood_name.isin(neighborhood_rents.neighborhood).mean()"
   ]
  },
  {
   "cell_type": "markdown",
   "id": "87257932",
   "metadata": {},
   "source": [
    "### Match Zillow neighborhoods with SF"
   ]
  },
  {
   "cell_type": "code",
   "execution_count": 28,
   "id": "c04f301b",
   "metadata": {},
   "outputs": [
    {
     "data": {
      "text/html": [
       "<div>\n",
       "<style scoped>\n",
       "    .dataframe tbody tr th:only-of-type {\n",
       "        vertical-align: middle;\n",
       "    }\n",
       "\n",
       "    .dataframe tbody tr th {\n",
       "        vertical-align: top;\n",
       "    }\n",
       "\n",
       "    .dataframe thead th {\n",
       "        text-align: right;\n",
       "    }\n",
       "</style>\n",
       "<table border=\"1\" class=\"dataframe\">\n",
       "  <thead>\n",
       "    <tr style=\"text-align: right;\">\n",
       "      <th></th>\n",
       "      <th>neighborhood</th>\n",
       "      <th>year</th>\n",
       "      <th>rent</th>\n",
       "    </tr>\n",
       "  </thead>\n",
       "  <tbody>\n",
       "    <tr>\n",
       "      <th>648</th>\n",
       "      <td>Outer Sunset</td>\n",
       "      <td>2007</td>\n",
       "      <td>7.825451e+05</td>\n",
       "    </tr>\n",
       "    <tr>\n",
       "      <th>649</th>\n",
       "      <td>Mission</td>\n",
       "      <td>2007</td>\n",
       "      <td>6.568030e+05</td>\n",
       "    </tr>\n",
       "    <tr>\n",
       "      <th>650</th>\n",
       "      <td>South of Market</td>\n",
       "      <td>2007</td>\n",
       "      <td>6.538900e+05</td>\n",
       "    </tr>\n",
       "    <tr>\n",
       "      <th>651</th>\n",
       "      <td>Outer Richmond</td>\n",
       "      <td>2007</td>\n",
       "      <td>8.857205e+05</td>\n",
       "    </tr>\n",
       "    <tr>\n",
       "      <th>652</th>\n",
       "      <td>Parkside</td>\n",
       "      <td>2007</td>\n",
       "      <td>8.434290e+05</td>\n",
       "    </tr>\n",
       "    <tr>\n",
       "      <th>...</th>\n",
       "      <td>...</td>\n",
       "      <td>...</td>\n",
       "      <td>...</td>\n",
       "    </tr>\n",
       "    <tr>\n",
       "      <th>1723</th>\n",
       "      <td>Balboa Terrace</td>\n",
       "      <td>2016</td>\n",
       "      <td>1.836078e+06</td>\n",
       "    </tr>\n",
       "    <tr>\n",
       "      <th>1724</th>\n",
       "      <td>Fisherman's Wharf</td>\n",
       "      <td>2016</td>\n",
       "      <td>1.091039e+06</td>\n",
       "    </tr>\n",
       "    <tr>\n",
       "      <th>1725</th>\n",
       "      <td>St. Francis Wood</td>\n",
       "      <td>2016</td>\n",
       "      <td>2.573600e+06</td>\n",
       "    </tr>\n",
       "    <tr>\n",
       "      <th>1726</th>\n",
       "      <td>Monterey Heights</td>\n",
       "      <td>2016</td>\n",
       "      <td>2.245639e+06</td>\n",
       "    </tr>\n",
       "    <tr>\n",
       "      <th>1727</th>\n",
       "      <td>Westwood Highlands</td>\n",
       "      <td>2016</td>\n",
       "      <td>1.717643e+06</td>\n",
       "    </tr>\n",
       "  </tbody>\n",
       "</table>\n",
       "<p>1080 rows × 3 columns</p>\n",
       "</div>"
      ],
      "text/plain": [
       "            neighborhood  year          rent\n",
       "648         Outer Sunset  2007  7.825451e+05\n",
       "649              Mission  2007  6.568030e+05\n",
       "650      South of Market  2007  6.538900e+05\n",
       "651       Outer Richmond  2007  8.857205e+05\n",
       "652             Parkside  2007  8.434290e+05\n",
       "...                  ...   ...           ...\n",
       "1723      Balboa Terrace  2016  1.836078e+06\n",
       "1724   Fisherman's Wharf  2016  1.091039e+06\n",
       "1725    St. Francis Wood  2016  2.573600e+06\n",
       "1726    Monterey Heights  2016  2.245639e+06\n",
       "1727  Westwood Highlands  2016  1.717643e+06\n",
       "\n",
       "[1080 rows x 3 columns]"
      ]
     },
     "execution_count": 28,
     "metadata": {},
     "output_type": "execute_result"
    }
   ],
   "source": [
    "neighborhood_rents"
   ]
  },
  {
   "cell_type": "code",
   "execution_count": 29,
   "id": "4c93825d",
   "metadata": {},
   "outputs": [
    {
     "data": {
      "text/html": [
       "<div>\n",
       "<style scoped>\n",
       "    .dataframe tbody tr th:only-of-type {\n",
       "        vertical-align: middle;\n",
       "    }\n",
       "\n",
       "    .dataframe tbody tr th {\n",
       "        vertical-align: top;\n",
       "    }\n",
       "\n",
       "    .dataframe thead th {\n",
       "        text-align: right;\n",
       "    }\n",
       "</style>\n",
       "<table border=\"1\" class=\"dataframe\">\n",
       "  <thead>\n",
       "    <tr style=\"text-align: right;\">\n",
       "      <th></th>\n",
       "      <th>zillow_neighborhood_name</th>\n",
       "      <th>closed_roll_year</th>\n",
       "      <th>home_size1</th>\n",
       "    </tr>\n",
       "  </thead>\n",
       "  <tbody>\n",
       "    <tr>\n",
       "      <th>0</th>\n",
       "      <td>Bayview</td>\n",
       "      <td>2007</td>\n",
       "      <td>1254.000000</td>\n",
       "    </tr>\n",
       "    <tr>\n",
       "      <th>1</th>\n",
       "      <td>Bayview</td>\n",
       "      <td>2008</td>\n",
       "      <td>1255.000000</td>\n",
       "    </tr>\n",
       "    <tr>\n",
       "      <th>2</th>\n",
       "      <td>Bayview</td>\n",
       "      <td>2009</td>\n",
       "      <td>1259.000000</td>\n",
       "    </tr>\n",
       "    <tr>\n",
       "      <th>3</th>\n",
       "      <td>Bayview</td>\n",
       "      <td>2010</td>\n",
       "      <td>1261.000000</td>\n",
       "    </tr>\n",
       "    <tr>\n",
       "      <th>4</th>\n",
       "      <td>Bayview</td>\n",
       "      <td>2011</td>\n",
       "      <td>1270.000000</td>\n",
       "    </tr>\n",
       "    <tr>\n",
       "      <th>...</th>\n",
       "      <td>...</td>\n",
       "      <td>...</td>\n",
       "      <td>...</td>\n",
       "    </tr>\n",
       "    <tr>\n",
       "      <th>334</th>\n",
       "      <td>Western Addition</td>\n",
       "      <td>2012</td>\n",
       "      <td>1078.166667</td>\n",
       "    </tr>\n",
       "    <tr>\n",
       "      <th>335</th>\n",
       "      <td>Western Addition</td>\n",
       "      <td>2013</td>\n",
       "      <td>1080.000000</td>\n",
       "    </tr>\n",
       "    <tr>\n",
       "      <th>336</th>\n",
       "      <td>Western Addition</td>\n",
       "      <td>2014</td>\n",
       "      <td>1080.000000</td>\n",
       "    </tr>\n",
       "    <tr>\n",
       "      <th>337</th>\n",
       "      <td>Western Addition</td>\n",
       "      <td>2015</td>\n",
       "      <td>1078.000000</td>\n",
       "    </tr>\n",
       "    <tr>\n",
       "      <th>338</th>\n",
       "      <td>Western Addition</td>\n",
       "      <td>2016</td>\n",
       "      <td>1080.000000</td>\n",
       "    </tr>\n",
       "  </tbody>\n",
       "</table>\n",
       "<p>339 rows × 3 columns</p>\n",
       "</div>"
      ],
      "text/plain": [
       "    zillow_neighborhood_name  closed_roll_year   home_size1\n",
       "0                    Bayview              2007  1254.000000\n",
       "1                    Bayview              2008  1255.000000\n",
       "2                    Bayview              2009  1259.000000\n",
       "3                    Bayview              2010  1261.000000\n",
       "4                    Bayview              2011  1270.000000\n",
       "..                       ...               ...          ...\n",
       "334         Western Addition              2012  1078.166667\n",
       "335         Western Addition              2013  1080.000000\n",
       "336         Western Addition              2014  1080.000000\n",
       "337         Western Addition              2015  1078.000000\n",
       "338         Western Addition              2016  1080.000000\n",
       "\n",
       "[339 rows x 3 columns]"
      ]
     },
     "execution_count": 29,
     "metadata": {},
     "output_type": "execute_result"
    }
   ],
   "source": [
    "sf_by_neighborhood"
   ]
  },
  {
   "cell_type": "code",
   "execution_count": 30,
   "id": "ee74a6c3",
   "metadata": {},
   "outputs": [],
   "source": [
    "rents_by_sf_by_hood = pd.merge(sf_by_neighborhood, neighborhood_rents,\n",
    "                               right_on=['neighborhood', 'year'], \n",
    "                               left_on=['zillow_neighborhood_name', 'closed_roll_year'], \n",
    "                               how='left')"
   ]
  },
  {
   "cell_type": "code",
   "execution_count": 31,
   "id": "71b4525c",
   "metadata": {},
   "outputs": [
    {
     "data": {
      "text/html": [
       "<div>\n",
       "<style scoped>\n",
       "    .dataframe tbody tr th:only-of-type {\n",
       "        vertical-align: middle;\n",
       "    }\n",
       "\n",
       "    .dataframe tbody tr th {\n",
       "        vertical-align: top;\n",
       "    }\n",
       "\n",
       "    .dataframe thead th {\n",
       "        text-align: right;\n",
       "    }\n",
       "</style>\n",
       "<table border=\"1\" class=\"dataframe\">\n",
       "  <thead>\n",
       "    <tr style=\"text-align: right;\">\n",
       "      <th></th>\n",
       "      <th>zillow_neighborhood_name</th>\n",
       "      <th>closed_roll_year</th>\n",
       "      <th>home_size1</th>\n",
       "      <th>neighborhood</th>\n",
       "      <th>year</th>\n",
       "      <th>rent</th>\n",
       "    </tr>\n",
       "  </thead>\n",
       "  <tbody>\n",
       "    <tr>\n",
       "      <th>0</th>\n",
       "      <td>Bayview</td>\n",
       "      <td>2007</td>\n",
       "      <td>1254.000000</td>\n",
       "      <td>Bayview</td>\n",
       "      <td>2007</td>\n",
       "      <td>651657.844415</td>\n",
       "    </tr>\n",
       "    <tr>\n",
       "      <th>1</th>\n",
       "      <td>Bayview</td>\n",
       "      <td>2008</td>\n",
       "      <td>1255.000000</td>\n",
       "      <td>Bayview</td>\n",
       "      <td>2008</td>\n",
       "      <td>632326.903397</td>\n",
       "    </tr>\n",
       "    <tr>\n",
       "      <th>2</th>\n",
       "      <td>Bayview</td>\n",
       "      <td>2009</td>\n",
       "      <td>1259.000000</td>\n",
       "      <td>Bayview</td>\n",
       "      <td>2009</td>\n",
       "      <td>507883.932749</td>\n",
       "    </tr>\n",
       "    <tr>\n",
       "      <th>3</th>\n",
       "      <td>Bayview</td>\n",
       "      <td>2010</td>\n",
       "      <td>1261.000000</td>\n",
       "      <td>Bayview</td>\n",
       "      <td>2010</td>\n",
       "      <td>402944.747816</td>\n",
       "    </tr>\n",
       "    <tr>\n",
       "      <th>4</th>\n",
       "      <td>Bayview</td>\n",
       "      <td>2011</td>\n",
       "      <td>1270.000000</td>\n",
       "      <td>Bayview</td>\n",
       "      <td>2011</td>\n",
       "      <td>399162.834064</td>\n",
       "    </tr>\n",
       "    <tr>\n",
       "      <th>...</th>\n",
       "      <td>...</td>\n",
       "      <td>...</td>\n",
       "      <td>...</td>\n",
       "      <td>...</td>\n",
       "      <td>...</td>\n",
       "      <td>...</td>\n",
       "    </tr>\n",
       "    <tr>\n",
       "      <th>334</th>\n",
       "      <td>Western Addition</td>\n",
       "      <td>2012</td>\n",
       "      <td>1078.166667</td>\n",
       "      <td>Western Addition</td>\n",
       "      <td>2012</td>\n",
       "      <td>499100.008186</td>\n",
       "    </tr>\n",
       "    <tr>\n",
       "      <th>335</th>\n",
       "      <td>Western Addition</td>\n",
       "      <td>2013</td>\n",
       "      <td>1080.000000</td>\n",
       "      <td>Western Addition</td>\n",
       "      <td>2013</td>\n",
       "      <td>583883.776004</td>\n",
       "    </tr>\n",
       "    <tr>\n",
       "      <th>336</th>\n",
       "      <td>Western Addition</td>\n",
       "      <td>2014</td>\n",
       "      <td>1080.000000</td>\n",
       "      <td>Western Addition</td>\n",
       "      <td>2014</td>\n",
       "      <td>676851.275611</td>\n",
       "    </tr>\n",
       "    <tr>\n",
       "      <th>337</th>\n",
       "      <td>Western Addition</td>\n",
       "      <td>2015</td>\n",
       "      <td>1078.000000</td>\n",
       "      <td>Western Addition</td>\n",
       "      <td>2015</td>\n",
       "      <td>793448.061165</td>\n",
       "    </tr>\n",
       "    <tr>\n",
       "      <th>338</th>\n",
       "      <td>Western Addition</td>\n",
       "      <td>2016</td>\n",
       "      <td>1080.000000</td>\n",
       "      <td>Western Addition</td>\n",
       "      <td>2016</td>\n",
       "      <td>950333.922274</td>\n",
       "    </tr>\n",
       "  </tbody>\n",
       "</table>\n",
       "<p>339 rows × 6 columns</p>\n",
       "</div>"
      ],
      "text/plain": [
       "    zillow_neighborhood_name closed_roll_year   home_size1      neighborhood  \\\n",
       "0                    Bayview             2007  1254.000000           Bayview   \n",
       "1                    Bayview             2008  1255.000000           Bayview   \n",
       "2                    Bayview             2009  1259.000000           Bayview   \n",
       "3                    Bayview             2010  1261.000000           Bayview   \n",
       "4                    Bayview             2011  1270.000000           Bayview   \n",
       "..                       ...              ...          ...               ...   \n",
       "334         Western Addition             2012  1078.166667  Western Addition   \n",
       "335         Western Addition             2013  1080.000000  Western Addition   \n",
       "336         Western Addition             2014  1080.000000  Western Addition   \n",
       "337         Western Addition             2015  1078.000000  Western Addition   \n",
       "338         Western Addition             2016  1080.000000  Western Addition   \n",
       "\n",
       "     year           rent  \n",
       "0    2007  651657.844415  \n",
       "1    2008  632326.903397  \n",
       "2    2009  507883.932749  \n",
       "3    2010  402944.747816  \n",
       "4    2011  399162.834064  \n",
       "..    ...            ...  \n",
       "334  2012  499100.008186  \n",
       "335  2013  583883.776004  \n",
       "336  2014  676851.275611  \n",
       "337  2015  793448.061165  \n",
       "338  2016  950333.922274  \n",
       "\n",
       "[339 rows x 6 columns]"
      ]
     },
     "execution_count": 31,
     "metadata": {},
     "output_type": "execute_result"
    }
   ],
   "source": [
    "rents_by_sf_by_hood"
   ]
  },
  {
   "cell_type": "code",
   "execution_count": 32,
   "id": "163e36ce",
   "metadata": {},
   "outputs": [],
   "source": [
    "rents_by_sf_by_hood['rent/sf'] = (rents_by_sf_by_hood['rent'] / rents_by_sf_by_hood['home_size1']).round(0)"
   ]
  },
  {
   "cell_type": "code",
   "execution_count": 33,
   "id": "dd5aaba2",
   "metadata": {},
   "outputs": [
    {
     "data": {
      "text/plain": [
       "0      520.0\n",
       "1      504.0\n",
       "2      403.0\n",
       "3      320.0\n",
       "4      314.0\n",
       "       ...  \n",
       "334    463.0\n",
       "335    541.0\n",
       "336    627.0\n",
       "337    736.0\n",
       "338    880.0\n",
       "Name: rent/sf, Length: 339, dtype: float64"
      ]
     },
     "execution_count": 33,
     "metadata": {},
     "output_type": "execute_result"
    }
   ],
   "source": [
    "rents_by_sf_by_hood['rent/sf']"
   ]
  },
  {
   "cell_type": "markdown",
   "id": "85cc282b",
   "metadata": {},
   "source": [
    "### Impute annual mean. Do better matching later"
   ]
  },
  {
   "cell_type": "code",
   "execution_count": 34,
   "id": "89479a57",
   "metadata": {},
   "outputs": [],
   "source": [
    "rents_by_sf_by_hood = rents_by_sf_by_hood.drop(columns=['neighborhood', 'year'])"
   ]
  },
  {
   "cell_type": "code",
   "execution_count": 35,
   "id": "16a5ff92",
   "metadata": {},
   "outputs": [
    {
     "data": {
      "text/plain": [
       "0.011799410029498525"
      ]
     },
     "execution_count": 35,
     "metadata": {},
     "output_type": "execute_result"
    }
   ],
   "source": [
    "rents_by_sf_by_hood.rent.isna().mean()"
   ]
  },
  {
   "cell_type": "code",
   "execution_count": 36,
   "id": "dc672201",
   "metadata": {},
   "outputs": [],
   "source": [
    "year_avg = rents_by_sf_by_hood.groupby('closed_roll_year').agg({'rent/sf': 'mean'})"
   ]
  },
  {
   "cell_type": "code",
   "execution_count": 37,
   "id": "d0afa0c4",
   "metadata": {},
   "outputs": [
    {
     "data": {
      "text/plain": [
       "rent/sf    707.46875\n",
       "Name: 2007, dtype: float64"
      ]
     },
     "execution_count": 37,
     "metadata": {},
     "output_type": "execute_result"
    }
   ],
   "source": [
    "year_avg.loc[2007]"
   ]
  },
  {
   "cell_type": "code",
   "execution_count": 38,
   "id": "0e5abcd9",
   "metadata": {},
   "outputs": [],
   "source": [
    "for yr in range(2007, 2017):\n",
    "    rents_by_sf_by_hood.loc[rents_by_sf_by_hood.closed_roll_year == yr, 'rent/sf'] = rents_by_sf_by_hood.loc[rents_by_sf_by_hood.closed_roll_year == yr, 'rent/sf'].fillna(year_avg.loc[yr][0])"
   ]
  },
  {
   "cell_type": "code",
   "execution_count": 39,
   "id": "74443754",
   "metadata": {},
   "outputs": [],
   "source": [
    "rents_by_sf_by_hood.to_csv('../data/panel_rent_per_sf_per_neighborhood.csv')"
   ]
  },
  {
   "cell_type": "code",
   "execution_count": 40,
   "id": "12984073",
   "metadata": {},
   "outputs": [
    {
     "data": {
      "text/plain": [
       "<Axes: >"
      ]
     },
     "execution_count": 40,
     "metadata": {},
     "output_type": "execute_result"
    },
    {
     "data": {
      "image/png": "[encoded data removed]",
      "text/plain": [
       "<Figure size 432x288 with 2 Axes>"
      ]
     },
     "metadata": {
      "needs_background": "light"
     },
     "output_type": "display_data"
    }
   ],
   "source": [
    "tmp = pd.merge(sf_neighborhoods, rents_by_sf_by_hood)\n",
    "tmp.query('closed_roll_year == 2016').plot(column = 'rent/sf', legend=True)"
   ]
  }
 ],
 "metadata": {
  "kernelspec": {
   "display_name": "Python 3",
   "language": "python",
   "name": "python3"
  },
  "language_info": {
   "codemirror_mode": {
    "name": "ipython",
    "version": 3
   },
   "file_extension": ".py",
   "mimetype": "text/x-python",
   "name": "python",
   "nbconvert_exporter": "python",
   "pygments_lexer": "ipython3",
   "version": "3.8.8"
  }
 },
 "nbformat": 4,
 "nbformat_minor": 5
}
