{
 "cells": [
  {
   "cell_type": "code",
   "execution_count": 2,
   "id": "3e0f52ab",
   "metadata": {},
   "outputs": [],
   "source": [
    "import geopandas as gpd\n",
    "import pandas as pd\n",
    "import matplotlib.pyplot as plt"
   ]
  },
  {
   "cell_type": "markdown",
   "id": "78baf604",
   "metadata": {},
   "source": [
    "# Panel Data Version"
   ]
  },
  {
   "cell_type": "markdown",
   "id": "e9d9db6a",
   "metadata": {},
   "source": [
    "### Panel Data of Rents"
   ]
  },
  {
   "cell_type": "code",
   "execution_count": 166,
   "id": "f70d2c23",
   "metadata": {},
   "outputs": [],
   "source": [
    "home_prices = pd.read_csv('../data/efz/Neighborhood_zhvi_uc_sfrcondo_tier_0.33_0.67_sm_sa_month.csv')"
   ]
  },
  {
   "cell_type": "code",
   "execution_count": 167,
   "id": "29c8f791",
   "metadata": {},
   "outputs": [],
   "source": [
    "home_prices = home_prices[home_prices.City == 'San Francisco']"
   ]
  },
  {
   "cell_type": "code",
   "execution_count": 168,
   "id": "a30a97ba",
   "metadata": {},
   "outputs": [],
   "source": [
    "annual = [c for c in home_prices.columns if '12-31' in c]"
   ]
  },
  {
   "cell_type": "code",
   "execution_count": 169,
   "id": "7527b347",
   "metadata": {},
   "outputs": [],
   "source": [
    "neighborhood_rents = home_prices[['RegionName'] + annual].copy()"
   ]
  },
  {
   "cell_type": "code",
   "execution_count": 170,
   "id": "70e05d7c",
   "metadata": {},
   "outputs": [],
   "source": [
    "neighborhood_rents.rename(columns={'RegionName': 'neighborhood'}, inplace=True)"
   ]
  },
  {
   "cell_type": "code",
   "execution_count": 171,
   "id": "d8237837",
   "metadata": {},
   "outputs": [],
   "source": [
    "covered_years = neighborhood_rents.columns[1:].str.split('-').str[0].astype(int) + 1"
   ]
  },
  {
   "cell_type": "code",
   "execution_count": 172,
   "id": "8ae5f623",
   "metadata": {},
   "outputs": [],
   "source": [
    "neighborhood_rents.columns = ['neighborhood'] + covered_years.tolist()"
   ]
  },
  {
   "cell_type": "code",
   "execution_count": 173,
   "id": "67c539ac",
   "metadata": {},
   "outputs": [],
   "source": [
    "neighborhood_rents = neighborhood_rents.melt(id_vars='neighborhood', var_name='year', value_name='rent')"
   ]
  },
  {
   "cell_type": "code",
   "execution_count": 174,
   "id": "6f66973c",
   "metadata": {},
   "outputs": [],
   "source": [
    "neighborhood_rents = neighborhood_rents[(neighborhood_rents.year >= 2007) & (neighborhood_rents.year < 2017)]"
   ]
  },
  {
   "cell_type": "code",
   "execution_count": 175,
   "id": "2d256966",
   "metadata": {},
   "outputs": [
    {
     "data": {
      "text/plain": [
       "108"
      ]
     },
     "execution_count": 175,
     "metadata": {},
     "output_type": "execute_result"
    }
   ],
   "source": [
    "neighborhood_rents.neighborhood.nunique()"
   ]
  },
  {
   "cell_type": "markdown",
   "id": "f0251ae8",
   "metadata": {},
   "source": [
    "### Median sf per home per year in neighborhood"
   ]
  },
  {
   "cell_type": "code",
   "execution_count": 47,
   "id": "d4cacef8",
   "metadata": {},
   "outputs": [],
   "source": [
    "tax = gpd.read_feather('../data/tax.geofeather')"
   ]
  },
  {
   "cell_type": "code",
   "execution_count": 50,
   "id": "43449ff8",
   "metadata": {},
   "outputs": [],
   "source": [
    "tax = tax[tax.closed_roll_year < 2017].copy()"
   ]
  },
  {
   "cell_type": "code",
   "execution_count": 64,
   "id": "1d362681",
   "metadata": {},
   "outputs": [],
   "source": [
    "residential = tax[tax.use_definition.str.contains('Residential') | False]"
   ]
  },
  {
   "cell_type": "code",
   "execution_count": 75,
   "id": "2c26d442",
   "metadata": {},
   "outputs": [
    {
     "data": {
      "text/plain": [
       "['number_of_units']"
      ]
     },
     "execution_count": 75,
     "metadata": {},
     "output_type": "execute_result"
    }
   ],
   "source": [
    "[c for c in residential.columns if 'unit' in c]"
   ]
  },
  {
   "cell_type": "code",
   "execution_count": 72,
   "id": "5dbb9b2c",
   "metadata": {},
   "outputs": [
    {
     "data": {
      "text/plain": [
       "40"
      ]
     },
     "execution_count": 72,
     "metadata": {},
     "output_type": "execute_result"
    }
   ],
   "source": [
    "residential.analysis_neighborhood.nunique()"
   ]
  },
  {
   "cell_type": "code",
   "execution_count": 234,
   "id": "43ffa748",
   "metadata": {},
   "outputs": [],
   "source": [
    "residential['home_size1'] = residential['property_area'] / residential['number_of_units']"
   ]
  },
  {
   "cell_type": "code",
   "execution_count": 235,
   "id": "3235d43e",
   "metadata": {},
   "outputs": [],
   "source": [
    "sf_by_neighborhood = residential.groupby(['assessor_neighborhood', 'closed_roll_year']).agg({'home_size1':'median'})"
   ]
  },
  {
   "cell_type": "code",
   "execution_count": 236,
   "id": "0df79c68",
   "metadata": {},
   "outputs": [],
   "source": [
    "sf_by_neighborhood = sf_by_neighborhood.reset_index()"
   ]
  },
  {
   "cell_type": "code",
   "execution_count": 237,
   "id": "f826251b",
   "metadata": {},
   "outputs": [
    {
     "data": {
      "text/plain": [
       "assessor_neighborhood\n",
       "Alamo Square                 10\n",
       "Anza Vista                   10\n",
       "Pine Lake Park               10\n",
       "Parnassus/Ashbury Heights    10\n",
       "Parkside                     10\n",
       "                             ..\n",
       "Haight Ashbury               10\n",
       "Stonestown                    9\n",
       "Lake Shore                    9\n",
       "Lakeside                      9\n",
       "Merced Manor                  9\n",
       "Name: count, Length: 82, dtype: int64"
      ]
     },
     "execution_count": 237,
     "metadata": {},
     "output_type": "execute_result"
    }
   ],
   "source": [
    "sf_by_neighborhood.value_counts('assessor_neighborhood')"
   ]
  },
  {
   "cell_type": "code",
   "execution_count": 238,
   "id": "33f02449",
   "metadata": {},
   "outputs": [
    {
     "data": {
      "text/html": [
       "<div>\n",
       "<style scoped>\n",
       "    .dataframe tbody tr th:only-of-type {\n",
       "        vertical-align: middle;\n",
       "    }\n",
       "\n",
       "    .dataframe tbody tr th {\n",
       "        vertical-align: top;\n",
       "    }\n",
       "\n",
       "    .dataframe thead th {\n",
       "        text-align: right;\n",
       "    }\n",
       "</style>\n",
       "<table border=\"1\" class=\"dataframe\">\n",
       "  <thead>\n",
       "    <tr style=\"text-align: right;\">\n",
       "      <th></th>\n",
       "      <th>assessor_neighborhood</th>\n",
       "      <th>closed_roll_year</th>\n",
       "      <th>home_size1</th>\n",
       "    </tr>\n",
       "  </thead>\n",
       "  <tbody>\n",
       "    <tr>\n",
       "      <th>0</th>\n",
       "      <td>Alamo Square</td>\n",
       "      <td>2007</td>\n",
       "      <td>1275.000000</td>\n",
       "    </tr>\n",
       "    <tr>\n",
       "      <th>1</th>\n",
       "      <td>Alamo Square</td>\n",
       "      <td>2008</td>\n",
       "      <td>1281.000000</td>\n",
       "    </tr>\n",
       "    <tr>\n",
       "      <th>2</th>\n",
       "      <td>Alamo Square</td>\n",
       "      <td>2009</td>\n",
       "      <td>1312.500000</td>\n",
       "    </tr>\n",
       "    <tr>\n",
       "      <th>3</th>\n",
       "      <td>Alamo Square</td>\n",
       "      <td>2010</td>\n",
       "      <td>1334.166667</td>\n",
       "    </tr>\n",
       "    <tr>\n",
       "      <th>4</th>\n",
       "      <td>Alamo Square</td>\n",
       "      <td>2011</td>\n",
       "      <td>1345.000000</td>\n",
       "    </tr>\n",
       "    <tr>\n",
       "      <th>...</th>\n",
       "      <td>...</td>\n",
       "      <td>...</td>\n",
       "      <td>...</td>\n",
       "    </tr>\n",
       "    <tr>\n",
       "      <th>811</th>\n",
       "      <td>Yerba Buena</td>\n",
       "      <td>2012</td>\n",
       "      <td>1187.500000</td>\n",
       "    </tr>\n",
       "    <tr>\n",
       "      <th>812</th>\n",
       "      <td>Yerba Buena</td>\n",
       "      <td>2013</td>\n",
       "      <td>1200.000000</td>\n",
       "    </tr>\n",
       "    <tr>\n",
       "      <th>813</th>\n",
       "      <td>Yerba Buena</td>\n",
       "      <td>2014</td>\n",
       "      <td>1200.000000</td>\n",
       "    </tr>\n",
       "    <tr>\n",
       "      <th>814</th>\n",
       "      <td>Yerba Buena</td>\n",
       "      <td>2015</td>\n",
       "      <td>1202.000000</td>\n",
       "    </tr>\n",
       "    <tr>\n",
       "      <th>815</th>\n",
       "      <td>Yerba Buena</td>\n",
       "      <td>2016</td>\n",
       "      <td>1205.000000</td>\n",
       "    </tr>\n",
       "  </tbody>\n",
       "</table>\n",
       "<p>816 rows × 3 columns</p>\n",
       "</div>"
      ],
      "text/plain": [
       "    assessor_neighborhood  closed_roll_year   home_size1\n",
       "0            Alamo Square              2007  1275.000000\n",
       "1            Alamo Square              2008  1281.000000\n",
       "2            Alamo Square              2009  1312.500000\n",
       "3            Alamo Square              2010  1334.166667\n",
       "4            Alamo Square              2011  1345.000000\n",
       "..                    ...               ...          ...\n",
       "811           Yerba Buena              2012  1187.500000\n",
       "812           Yerba Buena              2013  1200.000000\n",
       "813           Yerba Buena              2014  1200.000000\n",
       "814           Yerba Buena              2015  1202.000000\n",
       "815           Yerba Buena              2016  1205.000000\n",
       "\n",
       "[816 rows x 3 columns]"
      ]
     },
     "execution_count": 238,
     "metadata": {},
     "output_type": "execute_result"
    }
   ],
   "source": [
    "sf_by_neighborhood"
   ]
  },
  {
   "cell_type": "code",
   "execution_count": 239,
   "id": "4e462462",
   "metadata": {},
   "outputs": [
    {
     "data": {
      "text/plain": [
       "0.58"
      ]
     },
     "execution_count": 239,
     "metadata": {},
     "output_type": "execute_result"
    }
   ],
   "source": [
    "residential.analysis_neighborhood.isin(neighborhood_rents.neighborhood).mean().round(2)"
   ]
  },
  {
   "cell_type": "code",
   "execution_count": 240,
   "id": "f8c534ff",
   "metadata": {},
   "outputs": [
    {
     "data": {
      "text/plain": [
       "0.96"
      ]
     },
     "execution_count": 240,
     "metadata": {},
     "output_type": "execute_result"
    }
   ],
   "source": [
    "residential.assessor_neighborhood.isin(neighborhood_rents.neighborhood).mean().round(2)"
   ]
  },
  {
   "cell_type": "code",
   "execution_count": 241,
   "id": "74ab74b1",
   "metadata": {},
   "outputs": [
    {
     "data": {
      "text/plain": [
       "0.72"
      ]
     },
     "execution_count": 241,
     "metadata": {},
     "output_type": "execute_result"
    }
   ],
   "source": [
    "neighborhood_rents.neighborhood.isin(residential.assessor_neighborhood).mean().round(2)"
   ]
  },
  {
   "cell_type": "code",
   "execution_count": 242,
   "id": "0cb5e393",
   "metadata": {},
   "outputs": [
    {
     "data": {
      "text/plain": [
       "0.23148148148148148"
      ]
     },
     "execution_count": 242,
     "metadata": {},
     "output_type": "execute_result"
    }
   ],
   "source": [
    "neighborhood_rents.neighborhood.isin(residential.analysis_neighborhood).mean()"
   ]
  },
  {
   "cell_type": "markdown",
   "id": "87257932",
   "metadata": {},
   "source": [
    "### Match Zillow neighborhoods with SF"
   ]
  },
  {
   "cell_type": "code",
   "execution_count": 243,
   "id": "d66fd358",
   "metadata": {},
   "outputs": [],
   "source": [
    "residential = residential.replace({\n",
    "    'assessor_neighborhood': {\n",
    "        'Central Richmond': 'Inner Richmond',\n",
    "        'Central Sunset': 'Inner Sunset',\n",
    "        'Financial District North': 'Financial District',\n",
    "        'Financial District South': 'Financial District',\n",
    "        'Inner Parkside': 'Inner Sunset',\n",
    "        'Outer Parkside': 'Outer Sunset'\n",
    "}})"
   ]
  },
  {
   "cell_type": "code",
   "execution_count": 244,
   "id": "b4b7939b",
   "metadata": {},
   "outputs": [],
   "source": [
    "tax = tax.replace({\n",
    "    'assessor_neighborhood': {\n",
    "        'Central Richmond': 'Inner Richmond',\n",
    "        'Central Sunset': 'Inner Sunset',\n",
    "        'Financial District North': 'Financial District',\n",
    "        'Financial District South': 'Financial District',\n",
    "        'Inner Parkside': 'Inner Sunset',\n",
    "        'Outer Parkside': 'Outer Sunset'\n",
    "}})"
   ]
  },
  {
   "cell_type": "code",
   "execution_count": 245,
   "id": "cbeb41f0",
   "metadata": {},
   "outputs": [],
   "source": [
    "neighborhood_rents = neighborhood_rents.replace(\n",
    "    {'neighborhood' : {\n",
    "        'Buena Vista': 'Buena Vista Park',\n",
    "        'Laurel Heights': 'Jordan Park/Laurel Heights', \n",
    "        'Eureka Valley': 'Eureka Valley/Dolores Heights',\n",
    "        'Civic Center': 'Van Ness/ Civic Center',\n",
    "        'Laguna Honda': 'Forest Hill Extension',\n",
    "        'Bret Harte': 'Bayview Heights',\n",
    "        'Seacliff': 'Sea Cliff',\n",
    "        'Ashbury Heights': 'Parnassus/Ashbury Heights',\n",
    "        'Haight': 'Haight Ashbury',\n",
    "        'Crocker Amazon': 'Croker Amazon',\n",
    "        'Marina District': 'Marina',\n",
    "        'Presidio': 'Lake --The Presidio',\n",
    "        'Lake': 'Lakeside',\n",
    "        'Mission': 'Inner Mission',\n",
    "        'Union Street': 'Union Square',\n",
    "        'Parkmerced': 'Merced Heights',\n",
    "        'Lakeshore': 'Lake Shore'\n",
    "    }}\n",
    ")\n"
   ]
  },
  {
   "cell_type": "code",
   "execution_count": 246,
   "id": "d56d92a4",
   "metadata": {},
   "outputs": [
    {
     "data": {
      "text/plain": [
       "0.9595755902684262"
      ]
     },
     "execution_count": 246,
     "metadata": {},
     "output_type": "execute_result"
    }
   ],
   "source": [
    "residential.assessor_neighborhood.isin(neighborhood_rents.neighborhood).mean()"
   ]
  },
  {
   "cell_type": "code",
   "execution_count": 247,
   "id": "c04f301b",
   "metadata": {},
   "outputs": [
    {
     "data": {
      "text/html": [
       "<div>\n",
       "<style scoped>\n",
       "    .dataframe tbody tr th:only-of-type {\n",
       "        vertical-align: middle;\n",
       "    }\n",
       "\n",
       "    .dataframe tbody tr th {\n",
       "        vertical-align: top;\n",
       "    }\n",
       "\n",
       "    .dataframe thead th {\n",
       "        text-align: right;\n",
       "    }\n",
       "</style>\n",
       "<table border=\"1\" class=\"dataframe\">\n",
       "  <thead>\n",
       "    <tr style=\"text-align: right;\">\n",
       "      <th></th>\n",
       "      <th>neighborhood</th>\n",
       "      <th>year</th>\n",
       "      <th>rent</th>\n",
       "    </tr>\n",
       "  </thead>\n",
       "  <tbody>\n",
       "    <tr>\n",
       "      <th>648</th>\n",
       "      <td>Outer Sunset</td>\n",
       "      <td>2007</td>\n",
       "      <td>7.825451e+05</td>\n",
       "    </tr>\n",
       "    <tr>\n",
       "      <th>649</th>\n",
       "      <td>Inner Mission</td>\n",
       "      <td>2007</td>\n",
       "      <td>6.568030e+05</td>\n",
       "    </tr>\n",
       "    <tr>\n",
       "      <th>650</th>\n",
       "      <td>South of Market</td>\n",
       "      <td>2007</td>\n",
       "      <td>6.538900e+05</td>\n",
       "    </tr>\n",
       "    <tr>\n",
       "      <th>651</th>\n",
       "      <td>Outer Richmond</td>\n",
       "      <td>2007</td>\n",
       "      <td>8.857205e+05</td>\n",
       "    </tr>\n",
       "    <tr>\n",
       "      <th>652</th>\n",
       "      <td>Parkside</td>\n",
       "      <td>2007</td>\n",
       "      <td>8.434290e+05</td>\n",
       "    </tr>\n",
       "    <tr>\n",
       "      <th>...</th>\n",
       "      <td>...</td>\n",
       "      <td>...</td>\n",
       "      <td>...</td>\n",
       "    </tr>\n",
       "    <tr>\n",
       "      <th>1723</th>\n",
       "      <td>Balboa Terrace</td>\n",
       "      <td>2016</td>\n",
       "      <td>1.836078e+06</td>\n",
       "    </tr>\n",
       "    <tr>\n",
       "      <th>1724</th>\n",
       "      <td>Fisherman's Wharf</td>\n",
       "      <td>2016</td>\n",
       "      <td>1.091039e+06</td>\n",
       "    </tr>\n",
       "    <tr>\n",
       "      <th>1725</th>\n",
       "      <td>St. Francis Wood</td>\n",
       "      <td>2016</td>\n",
       "      <td>2.573600e+06</td>\n",
       "    </tr>\n",
       "    <tr>\n",
       "      <th>1726</th>\n",
       "      <td>Monterey Heights</td>\n",
       "      <td>2016</td>\n",
       "      <td>2.245639e+06</td>\n",
       "    </tr>\n",
       "    <tr>\n",
       "      <th>1727</th>\n",
       "      <td>Westwood Highlands</td>\n",
       "      <td>2016</td>\n",
       "      <td>1.717643e+06</td>\n",
       "    </tr>\n",
       "  </tbody>\n",
       "</table>\n",
       "<p>1080 rows × 3 columns</p>\n",
       "</div>"
      ],
      "text/plain": [
       "            neighborhood  year          rent\n",
       "648         Outer Sunset  2007  7.825451e+05\n",
       "649        Inner Mission  2007  6.568030e+05\n",
       "650      South of Market  2007  6.538900e+05\n",
       "651       Outer Richmond  2007  8.857205e+05\n",
       "652             Parkside  2007  8.434290e+05\n",
       "...                  ...   ...           ...\n",
       "1723      Balboa Terrace  2016  1.836078e+06\n",
       "1724   Fisherman's Wharf  2016  1.091039e+06\n",
       "1725    St. Francis Wood  2016  2.573600e+06\n",
       "1726    Monterey Heights  2016  2.245639e+06\n",
       "1727  Westwood Highlands  2016  1.717643e+06\n",
       "\n",
       "[1080 rows x 3 columns]"
      ]
     },
     "execution_count": 247,
     "metadata": {},
     "output_type": "execute_result"
    }
   ],
   "source": [
    "neighborhood_rents"
   ]
  },
  {
   "cell_type": "code",
   "execution_count": 248,
   "id": "ee74a6c3",
   "metadata": {},
   "outputs": [],
   "source": [
    "rents_by_sf_by_hood = pd.merge(sf_by_neighborhood, neighborhood_rents,\n",
    "                               right_on=['neighborhood', 'year'], \n",
    "                               left_on=['assessor_neighborhood', 'closed_roll_year'], \n",
    "                               how='left')"
   ]
  },
  {
   "cell_type": "code",
   "execution_count": 250,
   "id": "163e36ce",
   "metadata": {},
   "outputs": [],
   "source": [
    "rents_by_sf_by_hood['rent/sf'] = (rents_by_sf_by_hood['rent'] / rents_by_sf_by_hood['home_size1']).round(0)"
   ]
  },
  {
   "cell_type": "markdown",
   "id": "85cc282b",
   "metadata": {},
   "source": [
    "### Impute annual mean. Do better matching later"
   ]
  },
  {
   "cell_type": "code",
   "execution_count": 264,
   "id": "89479a57",
   "metadata": {},
   "outputs": [],
   "source": [
    "rents_by_sf_by_hood = rents_by_sf_by_hood.drop(columns=['neighborhood', 'year'])"
   ]
  },
  {
   "cell_type": "code",
   "execution_count": 267,
   "id": "16a5ff92",
   "metadata": {},
   "outputs": [
    {
     "data": {
      "text/plain": [
       "0.07230392156862746"
      ]
     },
     "execution_count": 267,
     "metadata": {},
     "output_type": "execute_result"
    }
   ],
   "source": [
    "rents_by_sf_by_hood.rent.isna().mean()"
   ]
  },
  {
   "cell_type": "code",
   "execution_count": 284,
   "id": "dc672201",
   "metadata": {},
   "outputs": [],
   "source": [
    "year_avg = rents_by_sf_by_hood.groupby('closed_roll_year').agg({'rent/sf': 'mean'})"
   ]
  },
  {
   "cell_type": "code",
   "execution_count": 288,
   "id": "d0afa0c4",
   "metadata": {},
   "outputs": [
    {
     "data": {
      "text/plain": [
       "rent/sf    682.635135\n",
       "Name: 2007, dtype: float64"
      ]
     },
     "execution_count": 288,
     "metadata": {},
     "output_type": "execute_result"
    }
   ],
   "source": [
    "year_avg.loc[2007]"
   ]
  },
  {
   "cell_type": "code",
   "execution_count": 301,
   "id": "0e5abcd9",
   "metadata": {},
   "outputs": [],
   "source": [
    "for yr in range(2007, 2017):\n",
    "    rents_by_sf_by_hood.loc[rents_by_sf_by_hood.closed_roll_year == yr, 'rent/sf'] = rents_by_sf_by_hood.loc[rents_by_sf_by_hood.closed_roll_year == yr, 'rent/sf'].fillna(year_avg.loc[yr][0])"
   ]
  },
  {
   "cell_type": "code",
   "execution_count": 305,
   "id": "74443754",
   "metadata": {},
   "outputs": [],
   "source": [
    "rents_by_sf_by_hood.to_csv('../data/panel_rent_per_sf_per_neighborhood.csv')"
   ]
  },
  {
   "cell_type": "markdown",
   "id": "38afd891",
   "metadata": {},
   "source": [
    "### Geospatial version"
   ]
  },
  {
   "cell_type": "code",
   "execution_count": 268,
   "id": "690d1e7b",
   "metadata": {},
   "outputs": [],
   "source": [
    "sfneighborhoods = gpd.read_file('../data/SF Find Neighborhoods/geo_export_2ecdf278-8615-4538-9268-0d4992d30e52.shp')"
   ]
  },
  {
   "cell_type": "code",
   "execution_count": 276,
   "id": "87d4fc6d",
   "metadata": {},
   "outputs": [
    {
     "data": {
      "text/plain": [
       "array(['Merced Heights', 'Mission Bay'], dtype=object)"
      ]
     },
     "execution_count": 276,
     "metadata": {},
     "output_type": "execute_result"
    }
   ],
   "source": [
    "rents_by_sf_by_hood[rents_by_sf_by_hood.rent.isna()].assessor_neighborhood[\n",
    "    rents_by_sf_by_hood[rents_by_sf_by_hood.rent.isna()].assessor_neighborhood.isin(sfneighborhoods.name)\n",
    "].unique()"
   ]
  },
  {
   "cell_type": "markdown",
   "id": "90611f35",
   "metadata": {},
   "source": [
    "# Cross-Section Version"
   ]
  },
  {
   "cell_type": "code",
   "execution_count": null,
   "id": "9bd7f670",
   "metadata": {},
   "outputs": [],
   "source": []
  },
  {
   "cell_type": "code",
   "execution_count": 2,
   "id": "70543feb",
   "metadata": {},
   "outputs": [],
   "source": [
    "parcels = gpd.read_feather('../data/df4.geofeather')"
   ]
  },
  {
   "cell_type": "code",
   "execution_count": 113,
   "id": "5f77e695",
   "metadata": {},
   "outputs": [],
   "source": [
    "residential = parcels.loc[parcels.Residential_Dummy.astype(bool)]"
   ]
  },
  {
   "cell_type": "code",
   "execution_count": 124,
   "id": "6dfce750",
   "metadata": {},
   "outputs": [],
   "source": [
    "residential.loc[residential['n_units'] == 0, 'n_units'] = 1"
   ]
  },
  {
   "cell_type": "code",
   "execution_count": 125,
   "id": "d23c2fe9",
   "metadata": {},
   "outputs": [],
   "source": [
    "neighborhoods = residential.groupby('neighborhood').agg({'property_area_in_square_feet':'median',\n",
    "                                                         'home_prices_jan07':'median'})"
   ]
  },
  {
   "cell_type": "code",
   "execution_count": 126,
   "id": "cf06b1f0",
   "metadata": {},
   "outputs": [
    {
     "data": {
      "text/html": [
       "<div>\n",
       "<style scoped>\n",
       "    .dataframe tbody tr th:only-of-type {\n",
       "        vertical-align: middle;\n",
       "    }\n",
       "\n",
       "    .dataframe tbody tr th {\n",
       "        vertical-align: top;\n",
       "    }\n",
       "\n",
       "    .dataframe thead th {\n",
       "        text-align: right;\n",
       "    }\n",
       "</style>\n",
       "<table border=\"1\" class=\"dataframe\">\n",
       "  <thead>\n",
       "    <tr style=\"text-align: right;\">\n",
       "      <th></th>\n",
       "      <th>property_area_in_square_feet</th>\n",
       "      <th>home_prices_jan07</th>\n",
       "    </tr>\n",
       "    <tr>\n",
       "      <th>neighborhood</th>\n",
       "      <th></th>\n",
       "      <th></th>\n",
       "    </tr>\n",
       "  </thead>\n",
       "  <tbody>\n",
       "    <tr>\n",
       "      <th>alamo_square</th>\n",
       "      <td>3972.0</td>\n",
       "      <td>6.638503e+05</td>\n",
       "    </tr>\n",
       "    <tr>\n",
       "      <th>anza_vista</th>\n",
       "      <td>2650.0</td>\n",
       "      <td>7.540330e+05</td>\n",
       "    </tr>\n",
       "    <tr>\n",
       "      <th>balboa_terrace</th>\n",
       "      <td>2078.0</td>\n",
       "      <td>1.539954e+06</td>\n",
       "    </tr>\n",
       "    <tr>\n",
       "      <th>bayview</th>\n",
       "      <td>1372.5</td>\n",
       "      <td>6.527968e+05</td>\n",
       "    </tr>\n",
       "    <tr>\n",
       "      <th>bayview_heights</th>\n",
       "      <td>1200.0</td>\n",
       "      <td>7.013281e+05</td>\n",
       "    </tr>\n",
       "    <tr>\n",
       "      <th>...</th>\n",
       "      <td>...</td>\n",
       "      <td>...</td>\n",
       "    </tr>\n",
       "    <tr>\n",
       "      <th>west_portal</th>\n",
       "      <td>1734.0</td>\n",
       "      <td>1.147515e+06</td>\n",
       "    </tr>\n",
       "    <tr>\n",
       "      <th>western_addition</th>\n",
       "      <td>1900.0</td>\n",
       "      <td>6.000535e+05</td>\n",
       "    </tr>\n",
       "    <tr>\n",
       "      <th>westwood_highlands</th>\n",
       "      <td>1450.0</td>\n",
       "      <td>1.399414e+06</td>\n",
       "    </tr>\n",
       "    <tr>\n",
       "      <th>westwood_park</th>\n",
       "      <td>1375.0</td>\n",
       "      <td>1.059577e+06</td>\n",
       "    </tr>\n",
       "    <tr>\n",
       "      <th>yerba_buena</th>\n",
       "      <td>1250.0</td>\n",
       "      <td>8.633787e+05</td>\n",
       "    </tr>\n",
       "  </tbody>\n",
       "</table>\n",
       "<p>87 rows × 2 columns</p>\n",
       "</div>"
      ],
      "text/plain": [
       "                    property_area_in_square_feet  home_prices_jan07\n",
       "neighborhood                                                       \n",
       "alamo_square                              3972.0       6.638503e+05\n",
       "anza_vista                                2650.0       7.540330e+05\n",
       "balboa_terrace                            2078.0       1.539954e+06\n",
       "bayview                                   1372.5       6.527968e+05\n",
       "bayview_heights                           1200.0       7.013281e+05\n",
       "...                                          ...                ...\n",
       "west_portal                               1734.0       1.147515e+06\n",
       "western_addition                          1900.0       6.000535e+05\n",
       "westwood_highlands                        1450.0       1.399414e+06\n",
       "westwood_park                             1375.0       1.059577e+06\n",
       "yerba_buena                               1250.0       8.633787e+05\n",
       "\n",
       "[87 rows x 2 columns]"
      ]
     },
     "execution_count": 126,
     "metadata": {},
     "output_type": "execute_result"
    }
   ],
   "source": [
    "neighborhoods"
   ]
  },
  {
   "cell_type": "code",
   "execution_count": 127,
   "id": "c55291d2",
   "metadata": {},
   "outputs": [
    {
     "data": {
      "text/plain": [
       "1"
      ]
     },
     "execution_count": 127,
     "metadata": {},
     "output_type": "execute_result"
    }
   ],
   "source": [
    "(neighborhoods['property_area_in_square_feet'] == 0).sum()"
   ]
  },
  {
   "cell_type": "code",
   "execution_count": 171,
   "id": "ad5c6bb8",
   "metadata": {},
   "outputs": [],
   "source": [
    "home_sizes1 = ((residential['property_area_in_square_feet'] / residential['n_units'])).groupby(residential['neighborhood']).median()\n"
   ]
  },
  {
   "cell_type": "code",
   "execution_count": 172,
   "id": "af886526",
   "metadata": {},
   "outputs": [
    {
     "data": {
      "text/plain": [
       "neighborhood\n",
       "alamo_square          1254.875000\n",
       "anza_vista            1550.000000\n",
       "balboa_terrace        2078.000000\n",
       "bayview               1265.000000\n",
       "bayview_heights       1175.000000\n",
       "                         ...     \n",
       "west_portal           1707.000000\n",
       "western_addition       933.586538\n",
       "westwood_highlands    1450.000000\n",
       "westwood_park         1370.000000\n",
       "yerba_buena           1150.000000\n",
       "Length: 87, dtype: float64"
      ]
     },
     "execution_count": 172,
     "metadata": {},
     "output_type": "execute_result"
    }
   ],
   "source": [
    "home_sizes1"
   ]
  },
  {
   "cell_type": "code",
   "execution_count": 173,
   "id": "15c615eb",
   "metadata": {},
   "outputs": [],
   "source": [
    "home_sizes2 = ((residential['Envelope_1000'] / residential['Upzone_Ratio'] * 1000) / residential['n_units']).groupby(residential['neighborhood']).median()\n"
   ]
  },
  {
   "cell_type": "code",
   "execution_count": 174,
   "id": "44e95516",
   "metadata": {},
   "outputs": [
    {
     "data": {
      "text/plain": [
       "neighborhood\n",
       "alamo_square          1313.250000\n",
       "anza_vista            1996.500000\n",
       "balboa_terrace        3093.697360\n",
       "bayview               1874.044071\n",
       "bayview_heights       1875.012042\n",
       "                         ...     \n",
       "west_portal           2499.963874\n",
       "western_addition      1287.500000\n",
       "westwood_highlands    2734.505498\n",
       "westwood_park         2833.502466\n",
       "yerba_buena           1348.878784\n",
       "Length: 87, dtype: float64"
      ]
     },
     "execution_count": 174,
     "metadata": {},
     "output_type": "execute_result"
    }
   ],
   "source": [
    "home_sizes2"
   ]
  },
  {
   "cell_type": "code",
   "execution_count": 175,
   "id": "f7e5bba0",
   "metadata": {},
   "outputs": [
    {
     "data": {
      "text/plain": [
       "(array([ 1.,  0.,  5., 23., 32., 14.,  7.,  2.,  1.,  2.]),\n",
       " array([   0.,  300.,  600.,  900., 1200., 1500., 1800., 2100., 2400.,\n",
       "        2700., 3000.]),\n",
       " <BarContainer object of 10 artists>)"
      ]
     },
     "execution_count": 175,
     "metadata": {},
     "output_type": "execute_result"
    },
    {
     "data": {
      "image/png": "[encoded data removed]",
      "text/plain": [
       "<Figure size 432x288 with 1 Axes>"
      ]
     },
     "metadata": {
      "needs_background": "light"
     },
     "output_type": "display_data"
    }
   ],
   "source": [
    "plt.hist(home_sizes1)"
   ]
  },
  {
   "cell_type": "code",
   "execution_count": 176,
   "id": "9e4b89f4",
   "metadata": {},
   "outputs": [
    {
     "data": {
      "text/plain": [
       "(array([71., 14.,  0.,  1.,  0.,  0.,  0.,  0.,  0.,  1.]),\n",
       " array([  688.27586208,  2728.0982759 ,  4767.92068972,  6807.74310353,\n",
       "         8847.56551735, 10887.38793117, 12927.21034499, 14967.03275881,\n",
       "        17006.85517262, 19046.67758644, 21086.50000026]),\n",
       " <BarContainer object of 10 artists>)"
      ]
     },
     "execution_count": 176,
     "metadata": {},
     "output_type": "execute_result"
    },
    {
     "data": {
      "image/png": "[encoded data removed]",
      "text/plain": [
       "<Figure size 432x288 with 1 Axes>"
      ]
     },
     "metadata": {
      "needs_background": "light"
     },
     "output_type": "display_data"
    }
   ],
   "source": [
    "plt.hist(home_sizes2)"
   ]
  },
  {
   "cell_type": "code",
   "execution_count": 177,
   "id": "311b645c",
   "metadata": {},
   "outputs": [
    {
     "data": {
      "text/plain": [
       "neighborhood\n",
       "downtown                      688.275862\n",
       "union_square                  736.923077\n",
       "van_ness/_civic_center        867.361765\n",
       "telegraph_hill               1008.180153\n",
       "nob_hill                     1075.000000\n",
       "                                ...     \n",
       "financial_district_south     3798.808823\n",
       "st._francis_wood             3865.869924\n",
       "ingleside_terraces           4499.174105\n",
       "mission_bay                  8681.792903\n",
       "south_beach                 21086.500000\n",
       "Length: 87, dtype: float64"
      ]
     },
     "execution_count": 177,
     "metadata": {},
     "output_type": "execute_result"
    }
   ],
   "source": [
    "home_sizes2.sort_values()"
   ]
  },
  {
   "cell_type": "code",
   "execution_count": 178,
   "id": "2f61d69c",
   "metadata": {},
   "outputs": [],
   "source": [
    "home_sizes1.loc[home_sizes1 == 0] = home_sizes2['stonestown']"
   ]
  },
  {
   "cell_type": "code",
   "execution_count": 179,
   "id": "9709f0d4",
   "metadata": {},
   "outputs": [],
   "source": [
    "home_sizes = home_sizes1.copy()"
   ]
  },
  {
   "cell_type": "code",
   "execution_count": 180,
   "id": "162739f7",
   "metadata": {},
   "outputs": [
    {
     "data": {
      "text/plain": [
       "(array([ 4.,  6., 35., 21.,  8.,  7.,  3.,  0.,  1.,  2.]),\n",
       " array([ 612.35294118,  851.11764706, 1089.88235294, 1328.64705882,\n",
       "        1567.41176471, 1806.17647059, 2044.94117647, 2283.70588235,\n",
       "        2522.47058824, 2761.23529412, 3000.        ]),\n",
       " <BarContainer object of 10 artists>)"
      ]
     },
     "execution_count": 180,
     "metadata": {},
     "output_type": "execute_result"
    },
    {
     "data": {
      "image/png": "[encoded data removed]",
      "text/plain": [
       "<Figure size 432x288 with 1 Axes>"
      ]
     },
     "metadata": {
      "needs_background": "light"
     },
     "output_type": "display_data"
    }
   ],
   "source": [
    "plt.hist(home_sizes)"
   ]
  },
  {
   "cell_type": "code",
   "execution_count": 162,
   "id": "092862f9",
   "metadata": {},
   "outputs": [],
   "source": [
    "neighborhoods['home_sizes'] = home_sizes"
   ]
  },
  {
   "cell_type": "code",
   "execution_count": 164,
   "id": "2afa9aec",
   "metadata": {},
   "outputs": [],
   "source": [
    "neighborhoods['$/sf'] = neighborhoods['home_prices_jan07'] / neighborhoods['home_sizes']"
   ]
  },
  {
   "cell_type": "code",
   "execution_count": 167,
   "id": "a066138e",
   "metadata": {},
   "outputs": [
    {
     "data": {
      "text/html": [
       "<div>\n",
       "<style scoped>\n",
       "    .dataframe tbody tr th:only-of-type {\n",
       "        vertical-align: middle;\n",
       "    }\n",
       "\n",
       "    .dataframe tbody tr th {\n",
       "        vertical-align: top;\n",
       "    }\n",
       "\n",
       "    .dataframe thead th {\n",
       "        text-align: right;\n",
       "    }\n",
       "</style>\n",
       "<table border=\"1\" class=\"dataframe\">\n",
       "  <thead>\n",
       "    <tr style=\"text-align: right;\">\n",
       "      <th></th>\n",
       "      <th>property_area_in_square_feet</th>\n",
       "      <th>home_prices_jan07</th>\n",
       "      <th>home_sizes</th>\n",
       "      <th>$/sf</th>\n",
       "    </tr>\n",
       "    <tr>\n",
       "      <th>neighborhood</th>\n",
       "      <th></th>\n",
       "      <th></th>\n",
       "      <th></th>\n",
       "      <th></th>\n",
       "    </tr>\n",
       "  </thead>\n",
       "  <tbody>\n",
       "    <tr>\n",
       "      <th>diamond_heights</th>\n",
       "      <td>1898.0</td>\n",
       "      <td>5.796559e+05</td>\n",
       "      <td>1862.000000</td>\n",
       "      <td>311.308199</td>\n",
       "    </tr>\n",
       "    <tr>\n",
       "      <th>hunters_point</th>\n",
       "      <td>1219.0</td>\n",
       "      <td>3.837898e+05</td>\n",
       "      <td>1219.000000</td>\n",
       "      <td>314.839869</td>\n",
       "    </tr>\n",
       "    <tr>\n",
       "      <th>anza_vista</th>\n",
       "      <td>2650.0</td>\n",
       "      <td>7.540330e+05</td>\n",
       "      <td>1550.000000</td>\n",
       "      <td>486.472907</td>\n",
       "    </tr>\n",
       "    <tr>\n",
       "      <th>pine_lake_park</th>\n",
       "      <td>1719.5</td>\n",
       "      <td>8.411835e+05</td>\n",
       "      <td>1719.500000</td>\n",
       "      <td>489.202365</td>\n",
       "    </tr>\n",
       "    <tr>\n",
       "      <th>merced_manor</th>\n",
       "      <td>2250.0</td>\n",
       "      <td>1.102557e+06</td>\n",
       "      <td>2250.000000</td>\n",
       "      <td>490.025433</td>\n",
       "    </tr>\n",
       "    <tr>\n",
       "      <th>...</th>\n",
       "      <td>...</td>\n",
       "      <td>...</td>\n",
       "      <td>...</td>\n",
       "      <td>...</td>\n",
       "    </tr>\n",
       "    <tr>\n",
       "      <th>noe_valley</th>\n",
       "      <td>1689.5</td>\n",
       "      <td>1.146094e+06</td>\n",
       "      <td>1200.000000</td>\n",
       "      <td>955.078716</td>\n",
       "    </tr>\n",
       "    <tr>\n",
       "      <th>westwood_highlands</th>\n",
       "      <td>1450.0</td>\n",
       "      <td>1.399414e+06</td>\n",
       "      <td>1450.000000</td>\n",
       "      <td>965.113166</td>\n",
       "    </tr>\n",
       "    <tr>\n",
       "      <th>russian_hill</th>\n",
       "      <td>3164.5</td>\n",
       "      <td>1.169982e+06</td>\n",
       "      <td>1198.500000</td>\n",
       "      <td>976.205457</td>\n",
       "    </tr>\n",
       "    <tr>\n",
       "      <th>south_beach</th>\n",
       "      <td>1192.5</td>\n",
       "      <td>9.340347e+05</td>\n",
       "      <td>863.723404</td>\n",
       "      <td>1081.404836</td>\n",
       "    </tr>\n",
       "    <tr>\n",
       "      <th>cow_hollow</th>\n",
       "      <td>2920.0</td>\n",
       "      <td>1.755620e+06</td>\n",
       "      <td>1370.000000</td>\n",
       "      <td>1281.474307</td>\n",
       "    </tr>\n",
       "  </tbody>\n",
       "</table>\n",
       "<p>87 rows × 4 columns</p>\n",
       "</div>"
      ],
      "text/plain": [
       "                    property_area_in_square_feet  home_prices_jan07  \\\n",
       "neighborhood                                                          \n",
       "diamond_heights                           1898.0       5.796559e+05   \n",
       "hunters_point                             1219.0       3.837898e+05   \n",
       "anza_vista                                2650.0       7.540330e+05   \n",
       "pine_lake_park                            1719.5       8.411835e+05   \n",
       "merced_manor                              2250.0       1.102557e+06   \n",
       "...                                          ...                ...   \n",
       "noe_valley                                1689.5       1.146094e+06   \n",
       "westwood_highlands                        1450.0       1.399414e+06   \n",
       "russian_hill                              3164.5       1.169982e+06   \n",
       "south_beach                               1192.5       9.340347e+05   \n",
       "cow_hollow                                2920.0       1.755620e+06   \n",
       "\n",
       "                     home_sizes         $/sf  \n",
       "neighborhood                                  \n",
       "diamond_heights     1862.000000   311.308199  \n",
       "hunters_point       1219.000000   314.839869  \n",
       "anza_vista          1550.000000   486.472907  \n",
       "pine_lake_park      1719.500000   489.202365  \n",
       "merced_manor        2250.000000   490.025433  \n",
       "...                         ...          ...  \n",
       "noe_valley          1200.000000   955.078716  \n",
       "westwood_highlands  1450.000000   965.113166  \n",
       "russian_hill        1198.500000   976.205457  \n",
       "south_beach          863.723404  1081.404836  \n",
       "cow_hollow          1370.000000  1281.474307  \n",
       "\n",
       "[87 rows x 4 columns]"
      ]
     },
     "execution_count": 167,
     "metadata": {},
     "output_type": "execute_result"
    }
   ],
   "source": [
    "neighborhoods.sort_values('$/sf')"
   ]
  },
  {
   "cell_type": "code",
   "execution_count": 168,
   "id": "bbfcaa1a",
   "metadata": {},
   "outputs": [
    {
     "data": {
      "text/plain": [
       "(array([ 2.,  3., 16., 28., 20., 11.,  5.,  1.,  0.,  1.]),\n",
       " array([ 311.30819885,  408.32480965,  505.34142046,  602.35803127,\n",
       "         699.37464208,  796.39125288,  893.40786369,  990.4244745 ,\n",
       "        1087.4410853 , 1184.45769611, 1281.47430692]),\n",
       " <BarContainer object of 10 artists>)"
      ]
     },
     "execution_count": 168,
     "metadata": {},
     "output_type": "execute_result"
    },
    {
     "data": {
      "image/png": "[encoded data removed]",
      "text/plain": [
       "<Figure size 432x288 with 1 Axes>"
      ]
     },
     "metadata": {
      "needs_background": "light"
     },
     "output_type": "display_data"
    }
   ],
   "source": [
    "plt.hist(neighborhoods['$/sf'])"
   ]
  }
 ],
 "metadata": {
  "kernelspec": {
   "display_name": "Python 3",
   "language": "python",
   "name": "python3"
  },
  "language_info": {
   "codemirror_mode": {
    "name": "ipython",
    "version": 3
   },
   "file_extension": ".py",
   "mimetype": "text/x-python",
   "name": "python",
   "nbconvert_exporter": "python",
   "pygments_lexer": "ipython3",
   "version": "3.8.8"
  }
 },
 "nbformat": 4,
 "nbformat_minor": 5
}
