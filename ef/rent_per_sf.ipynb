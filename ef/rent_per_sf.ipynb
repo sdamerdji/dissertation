{
 "cells": [
  {
   "cell_type": "code",
   "execution_count": 89,
   "id": "3e0f52ab",
   "metadata": {},
   "outputs": [],
   "source": [
    "import geopandas as gpd\n",
    "import pandas as pd\n",
    "import matplotlib.pyplot as plt\n",
    "import numpy as np\n",
    "from sklearn.neighbors import KNeighborsRegressor"
   ]
  },
  {
   "cell_type": "markdown",
   "id": "78baf604",
   "metadata": {},
   "source": [
    "# Panel Data Version"
   ]
  },
  {
   "cell_type": "markdown",
   "id": "f0251ae8",
   "metadata": {},
   "source": [
    "### Median square footage per home per year in neighborhood"
   ]
  },
  {
   "cell_type": "code",
   "execution_count": 2,
   "id": "d4cacef8",
   "metadata": {},
   "outputs": [],
   "source": [
    "tax = gpd.read_feather('../data/fair_market_acquisition.geofeather')"
   ]
  },
  {
   "cell_type": "code",
   "execution_count": 3,
   "id": "32968f40-e4fe-480b-99d3-1a2b5a0dc1ce",
   "metadata": {},
   "outputs": [],
   "source": [
    "tax = tax.replace({'South Of Market': 'South of Market', 'Ocean View': 'Oceanview', 'Marina': 'Marina District'})"
   ]
  },
  {
   "cell_type": "code",
   "execution_count": 4,
   "id": "661da105-3f45-4d87-a7b3-99a8fa0c1190",
   "metadata": {},
   "outputs": [],
   "source": [
    "tax[['assessor_neighborhood', 'zillow_neighborhood_name']] = tax[['assessor_neighborhood', 'zillow_neighborhood_name']].replace({'NaN': np.nan})"
   ]
  },
  {
   "cell_type": "code",
   "execution_count": 5,
   "id": "43449ff8",
   "metadata": {},
   "outputs": [],
   "source": [
    "tax = tax[tax.closed_roll_year < 2017].copy()"
   ]
  },
  {
   "cell_type": "code",
   "execution_count": 6,
   "id": "1d362681",
   "metadata": {},
   "outputs": [],
   "source": [
    "residential = tax[tax.use_definition.str.contains('Residential') | False]\n",
    "residential = residential[residential['number_of_units'] > 0]\n",
    "residential = residential[residential['property_area'] > 0]"
   ]
  },
  {
   "cell_type": "code",
   "execution_count": 7,
   "id": "43ffa748",
   "metadata": {},
   "outputs": [],
   "source": [
    "residential['home_size'] = (residential['property_area'] / residential['number_of_units']).round()"
   ]
  },
  {
   "cell_type": "code",
   "execution_count": 8,
   "id": "3235d43e",
   "metadata": {},
   "outputs": [],
   "source": [
    "sqft_by_neighborhood1 = residential.groupby(['assessor_neighborhood', 'closed_roll_year']).agg({'home_size':'median'})"
   ]
  },
  {
   "cell_type": "code",
   "execution_count": 9,
   "id": "bf02e9f5-3358-4cbd-afd5-f21b6a32478b",
   "metadata": {},
   "outputs": [],
   "source": [
    "sqft_by_neighborhood2 = residential.groupby(['zillow_neighborhood_name', 'closed_roll_year']).agg({'home_size':'median'})"
   ]
  },
  {
   "cell_type": "code",
   "execution_count": 10,
   "id": "0df79c68",
   "metadata": {},
   "outputs": [],
   "source": [
    "sqft_by_neighborhood1, sqft_by_neighborhood2 = sqft_by_neighborhood1.reset_index(), sqft_by_neighborhood2.reset_index()"
   ]
  },
  {
   "cell_type": "markdown",
   "id": "e9d9db6a",
   "metadata": {},
   "source": [
    "### Panel Data of Rents"
   ]
  },
  {
   "cell_type": "code",
   "execution_count": 11,
   "id": "f70d2c23",
   "metadata": {},
   "outputs": [],
   "source": [
    "home_prices = pd.read_csv('../data/efz/Neighborhood_zhvi_uc_sfrcondo_tier_0.33_0.67_sm_sa_month.csv')"
   ]
  },
  {
   "cell_type": "code",
   "execution_count": 12,
   "id": "29c8f791",
   "metadata": {},
   "outputs": [],
   "source": [
    "home_prices = home_prices[home_prices.City == 'San Francisco']\n",
    "annual = [c for c in home_prices.columns if '12-31' in c]\n",
    "neighborhood_rents = home_prices[['RegionName'] + annual].copy()\n",
    "neighborhood_rents.rename(columns={'RegionName': 'neighborhood'}, inplace=True)"
   ]
  },
  {
   "cell_type": "code",
   "execution_count": 13,
   "id": "d8237837",
   "metadata": {},
   "outputs": [],
   "source": [
    "covered_years = neighborhood_rents.columns[1:].str.split('-').str[0].astype(int) + 1"
   ]
  },
  {
   "cell_type": "code",
   "execution_count": 14,
   "id": "8ae5f623",
   "metadata": {},
   "outputs": [],
   "source": [
    "neighborhood_rents.columns = ['neighborhood'] + covered_years.tolist()\n",
    "neighborhood_rents = neighborhood_rents.melt(id_vars='neighborhood', var_name='year', value_name='rent')\n",
    "neighborhood_rents = neighborhood_rents[(neighborhood_rents.year >= 2007) & (neighborhood_rents.year < 2017)]"
   ]
  },
  {
   "cell_type": "code",
   "execution_count": 15,
   "id": "2d256966",
   "metadata": {},
   "outputs": [
    {
     "data": {
      "text/plain": [
       "108"
      ]
     },
     "execution_count": 15,
     "metadata": {},
     "output_type": "execute_result"
    }
   ],
   "source": [
    "neighborhood_rents.neighborhood.nunique()"
   ]
  },
  {
   "cell_type": "markdown",
   "id": "87257932",
   "metadata": {},
   "source": [
    "### Match Zillow neighborhoods with SF"
   ]
  },
  {
   "cell_type": "code",
   "execution_count": 16,
   "id": "301011a2-ec97-4537-be71-7551582e1be0",
   "metadata": {},
   "outputs": [],
   "source": [
    "sqft_rent_by_hood1 = pd.merge(sqft_by_neighborhood1, neighborhood_rents,\n",
    "                              right_on=['neighborhood', 'year'], \n",
    "                              left_on=['assessor_neighborhood', 'closed_roll_year'], \n",
    "                              how='inner')"
   ]
  },
  {
   "cell_type": "code",
   "execution_count": 17,
   "id": "ee74a6c3",
   "metadata": {},
   "outputs": [],
   "source": [
    "sqft_rent_by_hood2 = pd.merge(sqft_by_neighborhood2, neighborhood_rents,\n",
    "                              right_on=['neighborhood', 'year'], \n",
    "                              left_on=['zillow_neighborhood_name', 'closed_roll_year'], \n",
    "                              how='inner')"
   ]
  },
  {
   "cell_type": "code",
   "execution_count": 18,
   "id": "71b4525c",
   "metadata": {},
   "outputs": [
    {
     "data": {
      "text/plain": [
       "((608, 6), (299, 6))"
      ]
     },
     "execution_count": 18,
     "metadata": {},
     "output_type": "execute_result"
    }
   ],
   "source": [
    "sqft_rent_by_hood1.shape, sqft_rent_by_hood2.shape"
   ]
  },
  {
   "cell_type": "code",
   "execution_count": 19,
   "id": "163e36ce",
   "metadata": {},
   "outputs": [],
   "source": [
    "sqft_rent_by_hood1['rent/sf'] = (sqft_rent_by_hood1['rent'] / sqft_rent_by_hood1['home_size']).round(0)\n",
    "sqft_rent_by_hood2['rent/sf'] = (sqft_rent_by_hood2['rent'] / sqft_rent_by_hood2['home_size']).round(0)"
   ]
  },
  {
   "cell_type": "markdown",
   "id": "d9e4613a-f15b-44e3-9395-85692bb1e78d",
   "metadata": {},
   "source": [
    "# Roll back into tax df"
   ]
  },
  {
   "cell_type": "code",
   "execution_count": 43,
   "id": "d56320eb-5fde-47fd-884a-515b59845aba",
   "metadata": {},
   "outputs": [],
   "source": [
    "merge1 = pd.merge(tax, \n",
    "                  sqft_rent_by_hood1,\n",
    "                  how='left', \n",
    "                  on=['assessor_neighborhood', 'closed_roll_year'])"
   ]
  },
  {
   "cell_type": "code",
   "execution_count": 44,
   "id": "18dc9826-947c-4833-9701-0617bf023eb3",
   "metadata": {},
   "outputs": [],
   "source": [
    "merge2 = pd.merge(tax, sqft_rent_by_hood2,\n",
    "                  how='left',\n",
    "                  on=['zillow_neighborhood_name', 'closed_roll_year'])"
   ]
  },
  {
   "cell_type": "code",
   "execution_count": 53,
   "id": "dd369d84-f257-4bb8-b03d-a4c96a4fda99",
   "metadata": {},
   "outputs": [],
   "source": [
    "tax['sqft_price'] = merge1['rent/sf'].fillna(merge2['rent/sf']).values"
   ]
  },
  {
   "cell_type": "code",
   "execution_count": 54,
   "id": "44d1e337-b20f-446c-b23f-f370ab4209e9",
   "metadata": {},
   "outputs": [
    {
     "data": {
      "text/plain": [
       "0.05883426935879795"
      ]
     },
     "execution_count": 54,
     "metadata": {},
     "output_type": "execute_result"
    }
   ],
   "source": [
    "tax['sqft_price'].isna().mean()"
   ]
  },
  {
   "cell_type": "markdown",
   "id": "85cc282b",
   "metadata": {},
   "source": [
    "### Impute annual mean. Do better matching later"
   ]
  },
  {
   "cell_type": "code",
   "execution_count": 90,
   "id": "6f45824d-ded1-4d48-b669-3c2f0ed480cc",
   "metadata": {},
   "outputs": [],
   "source": [
    "imputer = KNeighborsRegressor(n_neighbors=2)"
   ]
  },
  {
   "cell_type": "code",
   "execution_count": 67,
   "id": "7b1b9d5d-445d-4eb2-9d6f-2b378f760490",
   "metadata": {},
   "outputs": [],
   "source": [
    "tax_imputed = tax.copy()"
   ]
  },
  {
   "cell_type": "code",
   "execution_count": 82,
   "id": "f27eaa01-49a1-40f3-8717-6bda907a6380",
   "metadata": {},
   "outputs": [],
   "source": [
    "tax_imputed = tax_imputed.reset_index(drop=True)"
   ]
  },
  {
   "cell_type": "code",
   "execution_count": 95,
   "id": "b15121b1-1b42-4447-9d26-6821e25a076e",
   "metadata": {},
   "outputs": [
    {
     "data": {
      "text/plain": [
       "x    False\n",
       "y    False\n",
       "dtype: bool"
      ]
     },
     "execution_count": 95,
     "metadata": {},
     "output_type": "execute_result"
    }
   ],
   "source": [
    "year_df[~missing][['x', 'y']].dropna().isna().any()"
   ]
  },
  {
   "cell_type": "code",
   "execution_count": 102,
   "id": "18b3214f-b482-4294-8f52-89b82620a987",
   "metadata": {},
   "outputs": [
    {
     "data": {
      "text/plain": [
       "x\n",
       "-212141.396304    67\n",
       "-212810.458565    61\n",
       "-211814.866711    50\n",
       "-210251.679990    41\n",
       "-210499.633977    37\n",
       "                  ..\n",
       "-214266.719996     1\n",
       "-219949.755300     1\n",
       "-214507.627256     1\n",
       "-211070.928773     1\n",
       "-219195.053363     1\n",
       "Name: count, Length: 8674, dtype: int64"
      ]
     },
     "execution_count": 102,
     "metadata": {},
     "output_type": "execute_result"
    }
   ],
   "source": [
    "train['x'].value_counts()"
   ]
  },
  {
   "cell_type": "code",
   "execution_count": 109,
   "id": "d0744dad-320f-437e-b9b6-b8eed11f8e35",
   "metadata": {},
   "outputs": [
    {
     "name": "stdout",
     "output_type": "stream",
     "text": [
      "2009\n",
      "2012\n",
      "2014\n",
      "2015\n",
      "2010\n",
      "2008\n",
      "2007\n",
      "2011\n",
      "2013\n",
      "2016\n"
     ]
    }
   ],
   "source": [
    "for year in tax_imputed['closed_roll_year'].unique():\n",
    "    print(year)\n",
    "    # Filter the DataFrame based on the year\n",
    "    year_df = tax_imputed[tax_imputed['closed_roll_year'] == year]\n",
    "    missing = year_df['sqft_price'].isna()\n",
    "    train = year_df[~missing][['x', 'y', 'geometry', 'sqft_price']].dropna().sample(10000, random_state=0)\n",
    "    \n",
    "    # Perform KNN imputation on the subset\n",
    "    imputer.fit(X=train[['x', 'y']], y=train['sqft_price'])\n",
    "    preds = imputer.predict(year_df[missing & year_df['geometry'].notna()][['x', 'y']])\n",
    "    tax_imputed.loc[year_df[missing & year_df['geometry'].notna()].index, 'sqft_price'] = preds"
   ]
  },
  {
   "cell_type": "code",
   "execution_count": 113,
   "id": "0e6b1a67-65db-4920-ad69-ca28e5148af0",
   "metadata": {},
   "outputs": [
    {
     "data": {
      "text/plain": [
       "0.000318406138594761"
      ]
     },
     "execution_count": 113,
     "metadata": {},
     "output_type": "execute_result"
    }
   ],
   "source": [
    "tax_imputed['sqft_price'].isna().mean()"
   ]
  },
  {
   "cell_type": "code",
   "execution_count": 112,
   "id": "6dc50ae1-c918-487c-b804-c75c9d8f113c",
   "metadata": {},
   "outputs": [],
   "source": [
    "tax_imputed.to_feather('../data/ef_df.geofeather')"
   ]
  }
 ],
 "metadata": {
  "kernelspec": {
   "display_name": "Python 3 (ipykernel)",
   "language": "python",
   "name": "python3"
  },
  "language_info": {
   "codemirror_mode": {
    "name": "ipython",
    "version": 3
   },
   "file_extension": ".py",
   "mimetype": "text/x-python",
   "name": "python",
   "nbconvert_exporter": "python",
   "pygments_lexer": "ipython3",
   "version": "3.8.2"
  }
 },
 "nbformat": 4,
 "nbformat_minor": 5
}
