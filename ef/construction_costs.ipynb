{
 "cells": [
  {
   "cell_type": "code",
   "execution_count": 3,
   "id": "fa93f3f5",
   "metadata": {},
   "outputs": [],
   "source": [
    "import pandas as pd\n",
    "import geopandas as gpd\n",
    "import matplotlib.pyplot as plt\n",
    "import numpy as np"
   ]
  },
  {
   "cell_type": "code",
   "execution_count": 4,
   "id": "b0bdc18f",
   "metadata": {},
   "outputs": [],
   "source": [
    "dbi = gpd.read_feather('../data/dbi_permits.geofeather')"
   ]
  },
  {
   "cell_type": "code",
   "execution_count": 5,
   "id": "0219c4cb",
   "metadata": {},
   "outputs": [],
   "source": [
    "homes = pd.read_excel('../data/Housing Production 2005-2022.xlsx')"
   ]
  },
  {
   "cell_type": "code",
   "execution_count": 6,
   "id": "c76c8af1",
   "metadata": {},
   "outputs": [],
   "source": [
    "date_cols = [c for c in dbi.columns if 'date' in c]"
   ]
  },
  {
   "cell_type": "code",
   "execution_count": 7,
   "id": "eb04bec7",
   "metadata": {},
   "outputs": [],
   "source": [
    "dbi[date_cols] = dbi[date_cols].apply(lambda x: pd.to_datetime(x, errors='coerce'))"
   ]
  },
  {
   "cell_type": "code",
   "execution_count": 8,
   "id": "4233c6bb",
   "metadata": {},
   "outputs": [],
   "source": [
    "cost_cols = [c for c in dbi.columns if 'cost' in c]"
   ]
  },
  {
   "cell_type": "code",
   "execution_count": 9,
   "id": "fd09dc41",
   "metadata": {},
   "outputs": [],
   "source": [
    "dbi[cost_cols] = dbi[cost_cols].apply(lambda x: pd.to_numeric(x, errors='coerce'))"
   ]
  },
  {
   "cell_type": "code",
   "execution_count": 10,
   "id": "83a9439d",
   "metadata": {},
   "outputs": [],
   "source": [
    "unit_cols = [c for c in dbi.columns if 'unit' in c]"
   ]
  },
  {
   "cell_type": "code",
   "execution_count": 11,
   "id": "4d473723",
   "metadata": {},
   "outputs": [],
   "source": [
    "dbi[unit_cols] = dbi[unit_cols].apply(lambda x: pd.to_numeric(x, errors='coerce'))"
   ]
  },
  {
   "cell_type": "code",
   "execution_count": 12,
   "id": "833d938f",
   "metadata": {},
   "outputs": [],
   "source": [
    "costs = dbi[dbi.estimated_cost.notna() | dbi.revised_cost.notna()]"
   ]
  },
  {
   "cell_type": "code",
   "execution_count": 13,
   "id": "1ef051e6",
   "metadata": {},
   "outputs": [
    {
     "data": {
      "text/plain": [
       "(1196056, 43)"
      ]
     },
     "execution_count": 13,
     "metadata": {},
     "output_type": "execute_result"
    }
   ],
   "source": [
    "costs.shape"
   ]
  },
  {
   "cell_type": "code",
   "execution_count": 14,
   "id": "ca065758",
   "metadata": {},
   "outputs": [],
   "source": [
    "costs = costs.drop_duplicates()"
   ]
  },
  {
   "cell_type": "code",
   "execution_count": 15,
   "id": "8c0055c0",
   "metadata": {},
   "outputs": [
    {
     "data": {
      "text/plain": [
       "(1196056, 43)"
      ]
     },
     "execution_count": 15,
     "metadata": {},
     "output_type": "execute_result"
    }
   ],
   "source": [
    "costs.shape"
   ]
  },
  {
   "cell_type": "code",
   "execution_count": 16,
   "id": "21c75e84",
   "metadata": {},
   "outputs": [],
   "source": [
    "costs = costs.copy()"
   ]
  },
  {
   "cell_type": "code",
   "execution_count": 17,
   "id": "ffd2928b",
   "metadata": {},
   "outputs": [
    {
     "data": {
      "text/plain": [
       "0.3239973713605383"
      ]
     },
     "execution_count": 17,
     "metadata": {},
     "output_type": "execute_result"
    }
   ],
   "source": [
    "costs.revised_cost.isna().mean()"
   ]
  },
  {
   "cell_type": "code",
   "execution_count": 18,
   "id": "7b8d31e3",
   "metadata": {},
   "outputs": [
    {
     "data": {
      "text/plain": [
       "0.11192368919181042"
      ]
     },
     "execution_count": 18,
     "metadata": {},
     "output_type": "execute_result"
    }
   ],
   "source": [
    "costs.estimated_cost.isna().mean()"
   ]
  },
  {
   "cell_type": "code",
   "execution_count": 19,
   "id": "88d282d3",
   "metadata": {},
   "outputs": [
    {
     "data": {
      "text/plain": [
       "0.4424834623128014"
      ]
     },
     "execution_count": 19,
     "metadata": {},
     "output_type": "execute_result"
    }
   ],
   "source": [
    "(costs.estimated_cost == costs.revised_cost).mean()"
   ]
  },
  {
   "cell_type": "code",
   "execution_count": 20,
   "id": "1da60362",
   "metadata": {},
   "outputs": [
    {
     "data": {
      "text/plain": [
       "0.10122770171296328"
      ]
     },
     "execution_count": 20,
     "metadata": {},
     "output_type": "execute_result"
    }
   ],
   "source": [
    "(costs.estimated_cost < costs.revised_cost).mean()"
   ]
  },
  {
   "cell_type": "code",
   "execution_count": 21,
   "id": "89cf7888",
   "metadata": {},
   "outputs": [
    {
     "data": {
      "text/plain": [
       "0.0203677754218866"
      ]
     },
     "execution_count": 21,
     "metadata": {},
     "output_type": "execute_result"
    }
   ],
   "source": [
    "(costs.estimated_cost > costs.revised_cost).mean()"
   ]
  },
  {
   "cell_type": "code",
   "execution_count": 22,
   "id": "920d90a1",
   "metadata": {},
   "outputs": [],
   "source": [
    "costs['cost'] = costs.revised_cost"
   ]
  },
  {
   "cell_type": "code",
   "execution_count": 23,
   "id": "7d46b4bf",
   "metadata": {},
   "outputs": [],
   "source": [
    "costs['cost'] = costs['cost'].fillna(costs.estimated_cost)"
   ]
  },
  {
   "cell_type": "code",
   "execution_count": 24,
   "id": "977e7c19",
   "metadata": {},
   "outputs": [],
   "source": [
    "costs = costs[costs['cost'] > 1000]\n",
    "costs = costs[~costs.permit_type_definition.isin(('otc alterations permit', 'sign - erect'))]"
   ]
  },
  {
   "cell_type": "code",
   "execution_count": 25,
   "id": "b423046c",
   "metadata": {},
   "outputs": [
    {
     "data": {
      "text/plain": [
       "(248293, 44)"
      ]
     },
     "execution_count": 25,
     "metadata": {},
     "output_type": "execute_result"
    }
   ],
   "source": [
    "costs = costs.drop_duplicates()\n",
    "costs.shape"
   ]
  },
  {
   "cell_type": "code",
   "execution_count": 26,
   "id": "a2d7173c",
   "metadata": {},
   "outputs": [
    {
     "data": {
      "image/png": "[encoded data removed]",
      "text/plain": [
       "<Figure size 432x288 with 1 Axes>"
      ]
     },
     "metadata": {
      "needs_background": "light"
     },
     "output_type": "display_data"
    }
   ],
   "source": [
    "plt.scatter(dbi.estimated_cost, dbi.revised_cost, alpha=.25, s=.25)\n",
    "plt.xlim((0, 1000000))\n",
    "plt.ylim((0, 1000000))\n",
    "plt.ylabel('revised cost')\n",
    "plt.xlabel('estimated cost')\n",
    "plt.show()"
   ]
  },
  {
   "cell_type": "code",
   "execution_count": 27,
   "id": "0e4f48f7",
   "metadata": {},
   "outputs": [],
   "source": [
    "costs['new_units'] = costs['proposed_units'].fillna(0) - costs['existing_units'].fillna(0)"
   ]
  },
  {
   "cell_type": "code",
   "execution_count": 147,
   "id": "037f2223",
   "metadata": {},
   "outputs": [
    {
     "data": {
      "text/plain": [
       "0           0.0\n",
       "3           1.0\n",
       "4           1.0\n",
       "5           0.0\n",
       "6           1.0\n",
       "           ... \n",
       "1205121     2.0\n",
       "1205122     1.0\n",
       "1205123     1.0\n",
       "1205124    15.0\n",
       "1205125     0.0\n",
       "Name: new_units, Length: 871160, dtype: float64"
      ]
     },
     "execution_count": 147,
     "metadata": {},
     "output_type": "execute_result"
    }
   ],
   "source": [
    "costs['new_units']"
   ]
  },
  {
   "cell_type": "code",
   "execution_count": 148,
   "id": "c9029e81",
   "metadata": {},
   "outputs": [],
   "source": [
    "costs = costs.sort_values(['new_units'], ascending=False)"
   ]
  },
  {
   "cell_type": "code",
   "execution_count": 149,
   "id": "82d214b9",
   "metadata": {},
   "outputs": [
    {
     "data": {
      "text/plain": [
       "Index(['record_id', 'proposed_construction_type_description', 'issued_date',\n",
       "       'existing_construction_type_description', 'zipcode',\n",
       "       'neighborhoods_analysis_boundaries', 'fire_only_permit', 'proposed_use',\n",
       "       'existing_use', 'description', 'tidf_compliance', 'revised_cost',\n",
       "       'existing_construction_type', 'site_permit', 'plansets',\n",
       "       'permit_creation_date', 'status_date',\n",
       "       'first_construction_document_date', 'existing_units', 'filed_date',\n",
       "       'street_name', 'block', 'estimated_cost', 'permit_expiration_date',\n",
       "       'unit_suffix', 'proposed_construction_type', 'permit_type_definition',\n",
       "       'status', 'completed_date', 'permit_number', 'street_number_suffix',\n",
       "       'lot', 'number_of_existing_stories', 'street_suffix', 'proposed_units',\n",
       "       'unit', 'permit_type', 'number_of_proposed_stories',\n",
       "       'voluntary_soft_story_retrofit', 'supervisor_district', 'street_number',\n",
       "       'structural_notification', 'geometry', 'cost', 'new_units'],\n",
       "      dtype='object')"
      ]
     },
     "execution_count": 149,
     "metadata": {},
     "output_type": "execute_result"
    }
   ],
   "source": [
    "costs.columns"
   ]
  },
  {
   "cell_type": "code",
   "execution_count": 164,
   "id": "0b415208",
   "metadata": {},
   "outputs": [],
   "source": [
    "df = pd.merge(costs[['geometry', 'permit_creation_date', 'description', 'new_units', 'permit_type_definition',\n",
    "                     'permit_number', 'cost']], homes, left_on='permit_number', right_on='BPA', how='inner')"
   ]
  },
  {
   "cell_type": "code",
   "execution_count": 165,
   "id": "ae3f17ac",
   "metadata": {},
   "outputs": [
    {
     "data": {
      "text/plain": [
       "permit_number\n",
       "200404232121    17\n",
       "201406138394    15\n",
       "201503110506    14\n",
       "201305015894    12\n",
       "200106252306    12\n",
       "                ..\n",
       "200603307960     1\n",
       "200810063424     1\n",
       "9901083S         1\n",
       "200505122300     1\n",
       "201209069084     1\n",
       "Name: count, Length: 4227, dtype: int64"
      ]
     },
     "execution_count": 165,
     "metadata": {},
     "output_type": "execute_result"
    }
   ],
   "source": [
    "df.permit_number.value_counts()"
   ]
  },
  {
   "cell_type": "code",
   "execution_count": 170,
   "id": "d0f306ef",
   "metadata": {},
   "outputs": [
    {
     "data": {
      "text/plain": [
       "(5581, 76)"
      ]
     },
     "execution_count": 170,
     "metadata": {},
     "output_type": "execute_result"
    }
   ],
   "source": [
    "df.shape"
   ]
  },
  {
   "cell_type": "code",
   "execution_count": 171,
   "id": "7bcfad66",
   "metadata": {},
   "outputs": [
    {
     "data": {
      "text/plain": [
       "(5275, 69)"
      ]
     },
     "execution_count": 171,
     "metadata": {},
     "output_type": "execute_result"
    }
   ],
   "source": [
    "homes.shape"
   ]
  },
  {
   "cell_type": "code",
   "execution_count": 177,
   "id": "b454dab7",
   "metadata": {},
   "outputs": [
    {
     "data": {
      "text/html": [
       "<div>\n",
       "<style scoped>\n",
       "    .dataframe tbody tr th:only-of-type {\n",
       "        vertical-align: middle;\n",
       "    }\n",
       "\n",
       "    .dataframe tbody tr th {\n",
       "        vertical-align: top;\n",
       "    }\n",
       "\n",
       "    .dataframe thead th {\n",
       "        text-align: right;\n",
       "    }\n",
       "</style>\n",
       "<table border=\"1\" class=\"dataframe\">\n",
       "  <thead>\n",
       "    <tr style=\"text-align: right;\">\n",
       "      <th></th>\n",
       "      <th>geometry</th>\n",
       "      <th>permit_creation_date</th>\n",
       "      <th>description</th>\n",
       "      <th>new_units</th>\n",
       "      <th>permit_type_definition</th>\n",
       "      <th>permit_number</th>\n",
       "      <th>cost</th>\n",
       "      <th>BPA</th>\n",
       "      <th>Keep/ Exclude</th>\n",
       "      <th>Address</th>\n",
       "      <th>...</th>\n",
       "      <th>Deed Restriction Type (Inclusionary/ Density Bonus)</th>\n",
       "      <th>Assistance Program</th>\n",
       "      <th>Analysis Neighborhood</th>\n",
       "      <th>Planning Dist.</th>\n",
       "      <th>Zoning Dist.</th>\n",
       "      <th>Sup. Dist.</th>\n",
       "      <th>Existing Use</th>\n",
       "      <th>Existing Inventory  Bldg Type</th>\n",
       "      <th>Proposed Inventory  Bldg Type</th>\n",
       "      <th>Proposed Use</th>\n",
       "    </tr>\n",
       "  </thead>\n",
       "  <tbody>\n",
       "    <tr>\n",
       "      <th>0</th>\n",
       "      <td>POINT (-122.41725 37.77582)</td>\n",
       "      <td>2006-07-20</td>\n",
       "      <td>to erect a new 35 story 719 dwelling units wit...</td>\n",
       "      <td>719.0</td>\n",
       "      <td>new construction</td>\n",
       "      <td>200607207084</td>\n",
       "      <td>1.704666e+08</td>\n",
       "      <td>200607207084</td>\n",
       "      <td>Keep</td>\n",
       "      <td>1411 Market St</td>\n",
       "      <td>...</td>\n",
       "      <td>INC</td>\n",
       "      <td>NaN</td>\n",
       "      <td>South of Market</td>\n",
       "      <td>4 - Downtown</td>\n",
       "      <td>C-3-G</td>\n",
       "      <td>6</td>\n",
       "      <td>NaN</td>\n",
       "      <td>NaN</td>\n",
       "      <td>20+</td>\n",
       "      <td>apartments</td>\n",
       "    </tr>\n",
       "    <tr>\n",
       "      <th>1</th>\n",
       "      <td>POINT (-122.41814 37.77415)</td>\n",
       "      <td>2016-06-20</td>\n",
       "      <td>to erect 16 stories, 2 basement, office buildi...</td>\n",
       "      <td>550.0</td>\n",
       "      <td>new construction</td>\n",
       "      <td>201606200387</td>\n",
       "      <td>4.000000e+08</td>\n",
       "      <td>201606200387</td>\n",
       "      <td>Keep</td>\n",
       "      <td>1500 MISSION ST</td>\n",
       "      <td>...</td>\n",
       "      <td>INC</td>\n",
       "      <td>Bond Financed Inclusionary Housing</td>\n",
       "      <td>Mission</td>\n",
       "      <td>8 - Mission</td>\n",
       "      <td>C-3-G</td>\n",
       "      <td>6</td>\n",
       "      <td>NaN</td>\n",
       "      <td>NaN</td>\n",
       "      <td>20+</td>\n",
       "      <td>apartments</td>\n",
       "    </tr>\n",
       "    <tr>\n",
       "      <th>2</th>\n",
       "      <td>POINT (-122.41814 37.77415)</td>\n",
       "      <td>2016-06-20</td>\n",
       "      <td>to erect 16 stories, 2 basement, office buildi...</td>\n",
       "      <td>550.0</td>\n",
       "      <td>new construction</td>\n",
       "      <td>201606200387</td>\n",
       "      <td>4.000000e+08</td>\n",
       "      <td>201606200387</td>\n",
       "      <td>Keep</td>\n",
       "      <td>1500 MISSION ST</td>\n",
       "      <td>...</td>\n",
       "      <td>INC</td>\n",
       "      <td>Bond Financed Inclusionary Housing</td>\n",
       "      <td>Mission</td>\n",
       "      <td>8 - Mission</td>\n",
       "      <td>C-3-G</td>\n",
       "      <td>6</td>\n",
       "      <td>NaN</td>\n",
       "      <td>NaN</td>\n",
       "      <td>20+</td>\n",
       "      <td>apartments</td>\n",
       "    </tr>\n",
       "    <tr>\n",
       "      <th>3</th>\n",
       "      <td>POINT (-122.41814 37.77415)</td>\n",
       "      <td>2016-06-20</td>\n",
       "      <td>to erect 16 stories, 2 basement, office buildi...</td>\n",
       "      <td>550.0</td>\n",
       "      <td>new construction</td>\n",
       "      <td>201606200387</td>\n",
       "      <td>4.000000e+08</td>\n",
       "      <td>201606200387</td>\n",
       "      <td>Keep</td>\n",
       "      <td>1500 MISSION ST</td>\n",
       "      <td>...</td>\n",
       "      <td>INC</td>\n",
       "      <td>Bond Financed Inclusionary Housing</td>\n",
       "      <td>Mission</td>\n",
       "      <td>8 - Mission</td>\n",
       "      <td>C-3-G</td>\n",
       "      <td>6</td>\n",
       "      <td>NaN</td>\n",
       "      <td>NaN</td>\n",
       "      <td>20+</td>\n",
       "      <td>apartments</td>\n",
       "    </tr>\n",
       "    <tr>\n",
       "      <th>4</th>\n",
       "      <td>POINT (-122.41814 37.77415)</td>\n",
       "      <td>2016-06-20</td>\n",
       "      <td>to erect 16 stories, 2 basement, office buildi...</td>\n",
       "      <td>550.0</td>\n",
       "      <td>new construction</td>\n",
       "      <td>201606200387</td>\n",
       "      <td>4.000000e+08</td>\n",
       "      <td>201606200387</td>\n",
       "      <td>Keep</td>\n",
       "      <td>1500 MISSION ST</td>\n",
       "      <td>...</td>\n",
       "      <td>INC</td>\n",
       "      <td>Bond Financed Inclusionary Housing</td>\n",
       "      <td>Mission</td>\n",
       "      <td>8 - Mission</td>\n",
       "      <td>C-3-G</td>\n",
       "      <td>6</td>\n",
       "      <td>NaN</td>\n",
       "      <td>NaN</td>\n",
       "      <td>20+</td>\n",
       "      <td>apartments</td>\n",
       "    </tr>\n",
       "    <tr>\n",
       "      <th>...</th>\n",
       "      <td>...</td>\n",
       "      <td>...</td>\n",
       "      <td>...</td>\n",
       "      <td>...</td>\n",
       "      <td>...</td>\n",
       "      <td>...</td>\n",
       "      <td>...</td>\n",
       "      <td>...</td>\n",
       "      <td>...</td>\n",
       "      <td>...</td>\n",
       "      <td>...</td>\n",
       "      <td>...</td>\n",
       "      <td>...</td>\n",
       "      <td>...</td>\n",
       "      <td>...</td>\n",
       "      <td>...</td>\n",
       "      <td>...</td>\n",
       "      <td>...</td>\n",
       "      <td>...</td>\n",
       "      <td>...</td>\n",
       "      <td>...</td>\n",
       "    </tr>\n",
       "    <tr>\n",
       "      <th>5576</th>\n",
       "      <td>POINT (-122.41932 37.77753)</td>\n",
       "      <td>2018-04-05</td>\n",
       "      <td>to demolish 3 stories, 27 units, apartments bu...</td>\n",
       "      <td>-27.0</td>\n",
       "      <td>demolitions</td>\n",
       "      <td>201804055644</td>\n",
       "      <td>1.470000e+05</td>\n",
       "      <td>201804055644</td>\n",
       "      <td>Keep</td>\n",
       "      <td>200 VAN NESS AV</td>\n",
       "      <td>...</td>\n",
       "      <td>NaN</td>\n",
       "      <td>NaN</td>\n",
       "      <td>Tenderloin</td>\n",
       "      <td>4 - Downtown</td>\n",
       "      <td>C-3-G</td>\n",
       "      <td>6</td>\n",
       "      <td>apartments</td>\n",
       "      <td>20+</td>\n",
       "      <td>20+</td>\n",
       "      <td>NaN</td>\n",
       "    </tr>\n",
       "    <tr>\n",
       "      <th>5577</th>\n",
       "      <td>POINT (-122.39807 37.71879)</td>\n",
       "      <td>2010-06-24</td>\n",
       "      <td>demolish motel for 44 dwelling unit</td>\n",
       "      <td>-44.0</td>\n",
       "      <td>demolitions</td>\n",
       "      <td>201006245204</td>\n",
       "      <td>2.500000e+04</td>\n",
       "      <td>201006245204</td>\n",
       "      <td>Keep</td>\n",
       "      <td>6600 03rd St</td>\n",
       "      <td>...</td>\n",
       "      <td>NaN</td>\n",
       "      <td>NaN</td>\n",
       "      <td>Bayview Hunters Point</td>\n",
       "      <td>10 - South Bayshore</td>\n",
       "      <td>RM-1</td>\n",
       "      <td>10</td>\n",
       "      <td>tourist hotel/motel</td>\n",
       "      <td>20+</td>\n",
       "      <td>20+</td>\n",
       "      <td>NaN</td>\n",
       "    </tr>\n",
       "    <tr>\n",
       "      <th>5578</th>\n",
       "      <td>POINT (-122.41357 37.77910)</td>\n",
       "      <td>2010-10-26</td>\n",
       "      <td>demo portn 4 stry wing of (e) bldg closest to ...</td>\n",
       "      <td>-52.0</td>\n",
       "      <td>additions alterations or repairs</td>\n",
       "      <td>201010263766</td>\n",
       "      <td>1.200000e+06</td>\n",
       "      <td>201010263766</td>\n",
       "      <td>Keep</td>\n",
       "      <td>1167 Market St</td>\n",
       "      <td>...</td>\n",
       "      <td>NaN</td>\n",
       "      <td>NaN</td>\n",
       "      <td>South of Market</td>\n",
       "      <td>4 - Downtown</td>\n",
       "      <td>C-3-G</td>\n",
       "      <td>6</td>\n",
       "      <td>apartments</td>\n",
       "      <td>20+</td>\n",
       "      <td>20+</td>\n",
       "      <td>apartments</td>\n",
       "    </tr>\n",
       "    <tr>\n",
       "      <th>5579</th>\n",
       "      <td>POINT (-122.41350 37.77841)</td>\n",
       "      <td>2010-10-26</td>\n",
       "      <td>demo portn 4 stry wing of (e) bldg closest to ...</td>\n",
       "      <td>-52.0</td>\n",
       "      <td>additions alterations or repairs</td>\n",
       "      <td>201010263766</td>\n",
       "      <td>1.200000e+06</td>\n",
       "      <td>201010263766</td>\n",
       "      <td>Keep</td>\n",
       "      <td>1167 Market St</td>\n",
       "      <td>...</td>\n",
       "      <td>NaN</td>\n",
       "      <td>NaN</td>\n",
       "      <td>South of Market</td>\n",
       "      <td>4 - Downtown</td>\n",
       "      <td>C-3-G</td>\n",
       "      <td>6</td>\n",
       "      <td>apartments</td>\n",
       "      <td>20+</td>\n",
       "      <td>20+</td>\n",
       "      <td>apartments</td>\n",
       "    </tr>\n",
       "    <tr>\n",
       "      <th>5580</th>\n",
       "      <td>POINT (-122.41343 37.77836)</td>\n",
       "      <td>2012-09-06</td>\n",
       "      <td>demolish 8 story residential and commercial bu...</td>\n",
       "      <td>-418.0</td>\n",
       "      <td>demolitions</td>\n",
       "      <td>201209069084</td>\n",
       "      <td>1.500000e+06</td>\n",
       "      <td>201209069084</td>\n",
       "      <td>Keep</td>\n",
       "      <td>1169 MARKET ST</td>\n",
       "      <td>...</td>\n",
       "      <td>NaN</td>\n",
       "      <td>NaN</td>\n",
       "      <td>South of Market</td>\n",
       "      <td>4 - Downtown</td>\n",
       "      <td>C-3-G</td>\n",
       "      <td>6</td>\n",
       "      <td>apartments</td>\n",
       "      <td>20+</td>\n",
       "      <td>20+</td>\n",
       "      <td>NaN</td>\n",
       "    </tr>\n",
       "  </tbody>\n",
       "</table>\n",
       "<p>4554 rows × 76 columns</p>\n",
       "</div>"
      ],
      "text/plain": [
       "                         geometry permit_creation_date  \\\n",
       "0     POINT (-122.41725 37.77582)           2006-07-20   \n",
       "1     POINT (-122.41814 37.77415)           2016-06-20   \n",
       "2     POINT (-122.41814 37.77415)           2016-06-20   \n",
       "3     POINT (-122.41814 37.77415)           2016-06-20   \n",
       "4     POINT (-122.41814 37.77415)           2016-06-20   \n",
       "...                           ...                  ...   \n",
       "5576  POINT (-122.41932 37.77753)           2018-04-05   \n",
       "5577  POINT (-122.39807 37.71879)           2010-06-24   \n",
       "5578  POINT (-122.41357 37.77910)           2010-10-26   \n",
       "5579  POINT (-122.41350 37.77841)           2010-10-26   \n",
       "5580  POINT (-122.41343 37.77836)           2012-09-06   \n",
       "\n",
       "                                            description  new_units  \\\n",
       "0     to erect a new 35 story 719 dwelling units wit...      719.0   \n",
       "1     to erect 16 stories, 2 basement, office buildi...      550.0   \n",
       "2     to erect 16 stories, 2 basement, office buildi...      550.0   \n",
       "3     to erect 16 stories, 2 basement, office buildi...      550.0   \n",
       "4     to erect 16 stories, 2 basement, office buildi...      550.0   \n",
       "...                                                 ...        ...   \n",
       "5576  to demolish 3 stories, 27 units, apartments bu...      -27.0   \n",
       "5577                demolish motel for 44 dwelling unit      -44.0   \n",
       "5578  demo portn 4 stry wing of (e) bldg closest to ...      -52.0   \n",
       "5579  demo portn 4 stry wing of (e) bldg closest to ...      -52.0   \n",
       "5580  demolish 8 story residential and commercial bu...     -418.0   \n",
       "\n",
       "                permit_type_definition permit_number          cost  \\\n",
       "0                     new construction  200607207084  1.704666e+08   \n",
       "1                     new construction  201606200387  4.000000e+08   \n",
       "2                     new construction  201606200387  4.000000e+08   \n",
       "3                     new construction  201606200387  4.000000e+08   \n",
       "4                     new construction  201606200387  4.000000e+08   \n",
       "...                                ...           ...           ...   \n",
       "5576                       demolitions  201804055644  1.470000e+05   \n",
       "5577                       demolitions  201006245204  2.500000e+04   \n",
       "5578  additions alterations or repairs  201010263766  1.200000e+06   \n",
       "5579  additions alterations or repairs  201010263766  1.200000e+06   \n",
       "5580                       demolitions  201209069084  1.500000e+06   \n",
       "\n",
       "               BPA Keep/ Exclude          Address  ...  \\\n",
       "0     200607207084          Keep   1411 Market St  ...   \n",
       "1     201606200387          Keep  1500 MISSION ST  ...   \n",
       "2     201606200387          Keep  1500 MISSION ST  ...   \n",
       "3     201606200387          Keep  1500 MISSION ST  ...   \n",
       "4     201606200387          Keep  1500 MISSION ST  ...   \n",
       "...            ...           ...              ...  ...   \n",
       "5576  201804055644          Keep  200 VAN NESS AV  ...   \n",
       "5577  201006245204          Keep     6600 03rd St  ...   \n",
       "5578  201010263766          Keep   1167 Market St  ...   \n",
       "5579  201010263766          Keep   1167 Market St  ...   \n",
       "5580  201209069084          Keep   1169 MARKET ST  ...   \n",
       "\n",
       "     Deed Restriction Type (Inclusionary/ Density Bonus)  \\\n",
       "0                                                   INC    \n",
       "1                                                   INC    \n",
       "2                                                   INC    \n",
       "3                                                   INC    \n",
       "4                                                   INC    \n",
       "...                                                 ...    \n",
       "5576                                                NaN    \n",
       "5577                                                NaN    \n",
       "5578                                                NaN    \n",
       "5579                                                NaN    \n",
       "5580                                                NaN    \n",
       "\n",
       "                      Assistance Program  Analysis Neighborhood  \\\n",
       "0                                    NaN        South of Market   \n",
       "1     Bond Financed Inclusionary Housing                Mission   \n",
       "2     Bond Financed Inclusionary Housing                Mission   \n",
       "3     Bond Financed Inclusionary Housing                Mission   \n",
       "4     Bond Financed Inclusionary Housing                Mission   \n",
       "...                                  ...                    ...   \n",
       "5576                                 NaN             Tenderloin   \n",
       "5577                                 NaN  Bayview Hunters Point   \n",
       "5578                                 NaN        South of Market   \n",
       "5579                                 NaN        South of Market   \n",
       "5580                                 NaN        South of Market   \n",
       "\n",
       "           Planning Dist. Zoning Dist.  Sup. Dist.         Existing Use  \\\n",
       "0            4 - Downtown        C-3-G           6                  NaN   \n",
       "1             8 - Mission        C-3-G           6                  NaN   \n",
       "2             8 - Mission        C-3-G           6                  NaN   \n",
       "3             8 - Mission        C-3-G           6                  NaN   \n",
       "4             8 - Mission        C-3-G           6                  NaN   \n",
       "...                   ...          ...         ...                  ...   \n",
       "5576         4 - Downtown        C-3-G           6           apartments   \n",
       "5577  10 - South Bayshore         RM-1          10  tourist hotel/motel   \n",
       "5578         4 - Downtown        C-3-G           6           apartments   \n",
       "5579         4 - Downtown        C-3-G           6           apartments   \n",
       "5580         4 - Downtown        C-3-G           6           apartments   \n",
       "\n",
       "      Existing Inventory  Bldg Type  Proposed Inventory  Bldg Type  \\\n",
       "0                               NaN                            20+   \n",
       "1                               NaN                            20+   \n",
       "2                               NaN                            20+   \n",
       "3                               NaN                            20+   \n",
       "4                               NaN                            20+   \n",
       "...                             ...                            ...   \n",
       "5576                            20+                            20+   \n",
       "5577                            20+                            20+   \n",
       "5578                            20+                            20+   \n",
       "5579                            20+                            20+   \n",
       "5580                            20+                            20+   \n",
       "\n",
       "     Proposed Use  \n",
       "0      apartments  \n",
       "1      apartments  \n",
       "2      apartments  \n",
       "3      apartments  \n",
       "4      apartments  \n",
       "...           ...  \n",
       "5576          NaN  \n",
       "5577          NaN  \n",
       "5578   apartments  \n",
       "5579   apartments  \n",
       "5580          NaN  \n",
       "\n",
       "[4554 rows x 76 columns]"
      ]
     },
     "execution_count": 177,
     "metadata": {},
     "output_type": "execute_result"
    }
   ],
   "source": [
    "df.drop_duplicates(['geometry', 'permit_creation_date', 'description', 'new_units', 'permit_type_definition',\n",
    "                     'permit_number', 'cost', 'BPA', 'Net_Units_Completed'] + homes.columns.tolist())"
   ]
  },
  {
   "cell_type": "code",
   "execution_count": 174,
   "id": "f780cd50",
   "metadata": {},
   "outputs": [
    {
     "data": {
      "text/plain": [
       "(5275, 69)"
      ]
     },
     "execution_count": 174,
     "metadata": {},
     "output_type": "execute_result"
    }
   ],
   "source": [
    "homes.drop_duplicates().shape"
   ]
  },
  {
   "cell_type": "code",
   "execution_count": null,
   "id": "315b4518",
   "metadata": {},
   "outputs": [],
   "source": []
  }
 ],
 "metadata": {
  "kernelspec": {
   "display_name": "Python 3",
   "language": "python",
   "name": "python3"
  },
  "language_info": {
   "codemirror_mode": {
    "name": "ipython",
    "version": 3
   },
   "file_extension": ".py",
   "mimetype": "text/x-python",
   "name": "python",
   "nbconvert_exporter": "python",
   "pygments_lexer": "ipython3",
   "version": "3.8.8"
  }
 },
 "nbformat": 4,
 "nbformat_minor": 5
}
