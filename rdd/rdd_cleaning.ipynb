{
 "cells": [
  {
   "cell_type": "code",
   "execution_count": 2,
   "id": "eae6a7a7",
   "metadata": {},
   "outputs": [],
   "source": [
    "import pandas as pd\n",
    "import geopandas as gpd\n",
    "from matplotlib import pyplot as plt\n",
    "import numpy as np\n",
    "import contextily as ctx\n",
    "import scipy.stats as stats"
   ]
  },
  {
   "cell_type": "code",
   "execution_count": 3,
   "id": "c1864619",
   "metadata": {},
   "outputs": [],
   "source": [
    "homes = pd.read_excel('../data/Housing Production 2005-2022.xlsx')\n",
    "dbi = gpd.read_feather('../data/dbi_permits.geofeather')\n",
    "fees = gpd.read_file('../data/Neighborhood-Specific Impact Fee Areas.geojson')"
   ]
  },
  {
   "cell_type": "markdown",
   "id": "082c1f86",
   "metadata": {},
   "source": [
    "## Fees"
   ]
  },
  {
   "cell_type": "code",
   "execution_count": 4,
   "id": "b53fecab",
   "metadata": {},
   "outputs": [],
   "source": [
    "fees.loc[fees.tier.str.contains('Tier 1 if residential') == True, 'tier'] = 'Tier 1'\n",
    "simplefees = fees[fees.tier.isin(['Tier 1', 'Tier 2'])] # , 'Tier 3'\n",
    "simplefees = simplefees.dissolve('tier').reset_index()\n",
    "simplefees = simplefees.to_crs(3310)"
   ]
  },
  {
   "cell_type": "code",
   "execution_count": 5,
   "id": "ed65f5d9",
   "metadata": {},
   "outputs": [
    {
     "data": {
      "text/html": [
       "<div>\n",
       "<style scoped>\n",
       "    .dataframe tbody tr th:only-of-type {\n",
       "        vertical-align: middle;\n",
       "    }\n",
       "\n",
       "    .dataframe tbody tr th {\n",
       "        vertical-align: top;\n",
       "    }\n",
       "\n",
       "    .dataframe thead th {\n",
       "        text-align: right;\n",
       "    }\n",
       "</style>\n",
       "<table border=\"1\" class=\"dataframe\">\n",
       "  <thead>\n",
       "    <tr style=\"text-align: right;\">\n",
       "      <th></th>\n",
       "      <th>tier</th>\n",
       "      <th>geometry</th>\n",
       "      <th>area</th>\n",
       "      <th>url</th>\n",
       "      <th>objectid</th>\n",
       "      <th>ordinance</th>\n",
       "      <th>fee</th>\n",
       "    </tr>\n",
       "  </thead>\n",
       "  <tbody>\n",
       "    <tr>\n",
       "      <th>0</th>\n",
       "      <td>Tier 1</td>\n",
       "      <td>MULTIPOLYGON (((-213124.608 -27091.523, -21312...</td>\n",
       "      <td>None</td>\n",
       "      <td>https://codelibrary.amlegal.com/codes/san_fran...</td>\n",
       "      <td>11</td>\n",
       "      <td>Planning Code Section 423</td>\n",
       "      <td>Eastern Neighborhoods Infrastructure Impact Fe...</td>\n",
       "    </tr>\n",
       "    <tr>\n",
       "      <th>1</th>\n",
       "      <td>Tier 2</td>\n",
       "      <td>MULTIPOLYGON (((-212958.707 -27084.191, -21295...</td>\n",
       "      <td>None</td>\n",
       "      <td>https://codelibrary.amlegal.com/codes/san_fran...</td>\n",
       "      <td>10</td>\n",
       "      <td>Planning Code Section 423</td>\n",
       "      <td>Eastern Neighborhoods Infrastructure Impact Fe...</td>\n",
       "    </tr>\n",
       "  </tbody>\n",
       "</table>\n",
       "</div>"
      ],
      "text/plain": [
       "     tier                                           geometry  area  \\\n",
       "0  Tier 1  MULTIPOLYGON (((-213124.608 -27091.523, -21312...  None   \n",
       "1  Tier 2  MULTIPOLYGON (((-212958.707 -27084.191, -21295...  None   \n",
       "\n",
       "                                                 url objectid  \\\n",
       "0  https://codelibrary.amlegal.com/codes/san_fran...       11   \n",
       "1  https://codelibrary.amlegal.com/codes/san_fran...       10   \n",
       "\n",
       "                   ordinance  \\\n",
       "0  Planning Code Section 423   \n",
       "1  Planning Code Section 423   \n",
       "\n",
       "                                                 fee  \n",
       "0  Eastern Neighborhoods Infrastructure Impact Fe...  \n",
       "1  Eastern Neighborhoods Infrastructure Impact Fe...  "
      ]
     },
     "execution_count": 5,
     "metadata": {},
     "output_type": "execute_result"
    }
   ],
   "source": [
    "simplefees.head()"
   ]
  },
  {
   "cell_type": "markdown",
   "id": "11985287",
   "metadata": {},
   "source": [
    "## Permits"
   ]
  },
  {
   "cell_type": "code",
   "execution_count": 6,
   "id": "da22cddb",
   "metadata": {},
   "outputs": [
    {
     "data": {
      "text/plain": [
       "(5275, 69)"
      ]
     },
     "execution_count": 6,
     "metadata": {},
     "output_type": "execute_result"
    }
   ],
   "source": [
    "homes.shape"
   ]
  },
  {
   "cell_type": "code",
   "execution_count": 7,
   "id": "a3b060cd",
   "metadata": {},
   "outputs": [],
   "source": [
    "dbi = dbi.sort_values('permit_creation_date', ascending=False)\n",
    "dbi = dbi.drop_duplicates('permit_number')\n",
    "\n",
    "# NB: 5 rows in homes don't match-\n",
    "permits = pd.merge(dbi[['geometry', 'permit_number', 'permit_creation_date']],\n",
    "                   homes,\n",
    "                   left_on='permit_number', right_on='BPA', how='inner')\n"
   ]
  },
  {
   "cell_type": "code",
   "execution_count": 8,
   "id": "adde08a7",
   "metadata": {},
   "outputs": [
    {
     "data": {
      "text/html": [
       "<div>\n",
       "<style scoped>\n",
       "    .dataframe tbody tr th:only-of-type {\n",
       "        vertical-align: middle;\n",
       "    }\n",
       "\n",
       "    .dataframe tbody tr th {\n",
       "        vertical-align: top;\n",
       "    }\n",
       "\n",
       "    .dataframe thead th {\n",
       "        text-align: right;\n",
       "    }\n",
       "</style>\n",
       "<table border=\"1\" class=\"dataframe\">\n",
       "  <thead>\n",
       "    <tr style=\"text-align: right;\">\n",
       "      <th></th>\n",
       "      <th>BPA</th>\n",
       "      <th>Keep/ Exclude</th>\n",
       "      <th>Address</th>\n",
       "      <th>BlockLot</th>\n",
       "      <th>MOHCD Project ID</th>\n",
       "      <th>PPTS Project ID</th>\n",
       "      <th>Form No.</th>\n",
       "      <th>Permit Type</th>\n",
       "      <th>PTS Existing Units</th>\n",
       "      <th>PTS Proposed Units</th>\n",
       "      <th>...</th>\n",
       "      <th>Deed Restriction Type (Inclusionary/ Density Bonus)</th>\n",
       "      <th>Assistance Program</th>\n",
       "      <th>Analysis Neighborhood</th>\n",
       "      <th>Planning Dist.</th>\n",
       "      <th>Zoning Dist.</th>\n",
       "      <th>Sup. Dist.</th>\n",
       "      <th>Existing Use</th>\n",
       "      <th>Existing Inventory  Bldg Type</th>\n",
       "      <th>Proposed Inventory  Bldg Type</th>\n",
       "      <th>Proposed Use</th>\n",
       "    </tr>\n",
       "  </thead>\n",
       "  <tbody>\n",
       "    <tr>\n",
       "      <th>0</th>\n",
       "      <td>1801 Wedemeyer St</td>\n",
       "      <td>Keep</td>\n",
       "      <td>1801 Wedemeyer St</td>\n",
       "      <td>1300001</td>\n",
       "      <td>NaN</td>\n",
       "      <td>NaN</td>\n",
       "      <td>3</td>\n",
       "      <td>Site Permit</td>\n",
       "      <td>NaN</td>\n",
       "      <td>154.0</td>\n",
       "      <td>...</td>\n",
       "      <td>NaN</td>\n",
       "      <td>NaN</td>\n",
       "      <td>Inner Richmond</td>\n",
       "      <td>0 - Presidio</td>\n",
       "      <td>RH-1</td>\n",
       "      <td>1</td>\n",
       "      <td>NaN</td>\n",
       "      <td>NaN</td>\n",
       "      <td>20+</td>\n",
       "      <td>apartments</td>\n",
       "    </tr>\n",
       "    <tr>\n",
       "      <th>3666</th>\n",
       "      <td>202304044992</td>\n",
       "      <td>Keep</td>\n",
       "      <td>1427 QUESADA AV</td>\n",
       "      <td>4760019B</td>\n",
       "      <td>NaN</td>\n",
       "      <td>NaN</td>\n",
       "      <td>8</td>\n",
       "      <td>Full BP</td>\n",
       "      <td>1.0</td>\n",
       "      <td>2.0</td>\n",
       "      <td>...</td>\n",
       "      <td>NaN</td>\n",
       "      <td>NaN</td>\n",
       "      <td>Bayview Hunters Point</td>\n",
       "      <td>10 - South Bayshore</td>\n",
       "      <td>RH-1</td>\n",
       "      <td>10</td>\n",
       "      <td>1 FAMILY DWELLING</td>\n",
       "      <td>Single</td>\n",
       "      <td>2 to 4</td>\n",
       "      <td>2 FAMILY DWELLING</td>\n",
       "    </tr>\n",
       "    <tr>\n",
       "      <th>3716</th>\n",
       "      <td>9903234s</td>\n",
       "      <td>Keep</td>\n",
       "      <td>639 Shotwell St</td>\n",
       "      <td>3611053</td>\n",
       "      <td>NaN</td>\n",
       "      <td>1999.805</td>\n",
       "      <td>3</td>\n",
       "      <td>Site Permit</td>\n",
       "      <td>2.0</td>\n",
       "      <td>3.0</td>\n",
       "      <td>...</td>\n",
       "      <td>NaN</td>\n",
       "      <td>NaN</td>\n",
       "      <td>Mission</td>\n",
       "      <td>8 - Mission</td>\n",
       "      <td>RH-3</td>\n",
       "      <td>9</td>\n",
       "      <td>2 family dwelling</td>\n",
       "      <td>2 to 4</td>\n",
       "      <td>2 to 4</td>\n",
       "      <td>apartments</td>\n",
       "    </tr>\n",
       "  </tbody>\n",
       "</table>\n",
       "<p>3 rows × 69 columns</p>\n",
       "</div>"
      ],
      "text/plain": [
       "                    BPA Keep/ Exclude            Address  BlockLot  \\\n",
       "0     1801 Wedemeyer St          Keep  1801 Wedemeyer St   1300001   \n",
       "3666       202304044992          Keep    1427 QUESADA AV  4760019B   \n",
       "3716           9903234s          Keep    639 Shotwell St   3611053   \n",
       "\n",
       "     MOHCD Project ID PPTS Project ID  Form No.  Permit Type  \\\n",
       "0                 NaN             NaN         3  Site Permit   \n",
       "3666              NaN             NaN         8      Full BP   \n",
       "3716              NaN        1999.805         3  Site Permit   \n",
       "\n",
       "      PTS Existing Units  PTS Proposed Units  ...  \\\n",
       "0                    NaN               154.0  ...   \n",
       "3666                 1.0                 2.0  ...   \n",
       "3716                 2.0                 3.0  ...   \n",
       "\n",
       "      Deed Restriction Type (Inclusionary/ Density Bonus)  Assistance Program  \\\n",
       "0                                                   NaN                   NaN   \n",
       "3666                                                NaN                   NaN   \n",
       "3716                                                NaN                   NaN   \n",
       "\n",
       "      Analysis Neighborhood       Planning Dist.  Zoning Dist. Sup. Dist.  \\\n",
       "0            Inner Richmond         0 - Presidio          RH-1          1   \n",
       "3666  Bayview Hunters Point  10 - South Bayshore          RH-1         10   \n",
       "3716                Mission          8 - Mission          RH-3          9   \n",
       "\n",
       "           Existing Use  Existing Inventory  Bldg Type  \\\n",
       "0                   NaN                            NaN   \n",
       "3666  1 FAMILY DWELLING                         Single   \n",
       "3716  2 family dwelling                         2 to 4   \n",
       "\n",
       "     Proposed Inventory  Bldg Type       Proposed Use  \n",
       "0                              20+         apartments  \n",
       "3666                        2 to 4  2 FAMILY DWELLING  \n",
       "3716                        2 to 4         apartments  \n",
       "\n",
       "[3 rows x 69 columns]"
      ]
     },
     "execution_count": 8,
     "metadata": {},
     "output_type": "execute_result"
    }
   ],
   "source": [
    "# I can track down three mismatches by merging on BlockLot in homes and block + lot in dbi. \n",
    "# But for rdd, not worth it bc none are in right location / time\n",
    "homes[~homes.BlockLot.isin(permits.BlockLot)]"
   ]
  },
  {
   "cell_type": "code",
   "execution_count": 9,
   "id": "3a6e8108",
   "metadata": {},
   "outputs": [],
   "source": [
    "permits = permits[permits['permit_creation_date'].dt.year > 2010]\n",
    "permits = permits[['geometry', 'permit_number', 'Permit Issued Date', 'Net_Units_Completed', 'Date_Completed', 'BlockLot']]\n"
   ]
  },
  {
   "cell_type": "code",
   "execution_count": 10,
   "id": "262c5829",
   "metadata": {},
   "outputs": [
    {
     "data": {
      "text/html": [
       "<div>\n",
       "<style scoped>\n",
       "    .dataframe tbody tr th:only-of-type {\n",
       "        vertical-align: middle;\n",
       "    }\n",
       "\n",
       "    .dataframe tbody tr th {\n",
       "        vertical-align: top;\n",
       "    }\n",
       "\n",
       "    .dataframe thead th {\n",
       "        text-align: right;\n",
       "    }\n",
       "</style>\n",
       "<table border=\"1\" class=\"dataframe\">\n",
       "  <thead>\n",
       "    <tr style=\"text-align: right;\">\n",
       "      <th></th>\n",
       "      <th>geometry</th>\n",
       "      <th>permit_number</th>\n",
       "      <th>Permit Issued Date</th>\n",
       "      <th>Net_Units_Completed</th>\n",
       "      <th>Date_Completed</th>\n",
       "      <th>BlockLot</th>\n",
       "    </tr>\n",
       "  </thead>\n",
       "  <tbody>\n",
       "    <tr>\n",
       "      <th>0</th>\n",
       "      <td>POINT (-122.43497 37.75388)</td>\n",
       "      <td>202301109975</td>\n",
       "      <td>2023-02-28</td>\n",
       "      <td>1.0</td>\n",
       "      <td>2023-04-19</td>\n",
       "      <td>2771059</td>\n",
       "    </tr>\n",
       "    <tr>\n",
       "      <th>1</th>\n",
       "      <td>POINT (-122.40793 37.74350)</td>\n",
       "      <td>202212158449</td>\n",
       "      <td>2022-12-16</td>\n",
       "      <td>-1.0</td>\n",
       "      <td>2023-01-25</td>\n",
       "      <td>5556070</td>\n",
       "    </tr>\n",
       "    <tr>\n",
       "      <th>2</th>\n",
       "      <td>POINT (-122.50719 37.75825)</td>\n",
       "      <td>202206307496</td>\n",
       "      <td>2023-03-21</td>\n",
       "      <td>1.0</td>\n",
       "      <td>2023-06-20</td>\n",
       "      <td>1893045</td>\n",
       "    </tr>\n",
       "    <tr>\n",
       "      <th>3</th>\n",
       "      <td>POINT (-122.40475 37.76047)</td>\n",
       "      <td>202206216771</td>\n",
       "      <td>2022-06-21</td>\n",
       "      <td>-1.0</td>\n",
       "      <td>2022-07-11</td>\n",
       "      <td>4075029</td>\n",
       "    </tr>\n",
       "    <tr>\n",
       "      <th>4</th>\n",
       "      <td>POINT (-122.37454 37.73161)</td>\n",
       "      <td>202206136205</td>\n",
       "      <td>2022-11-17</td>\n",
       "      <td>1.0</td>\n",
       "      <td>2023-06-07</td>\n",
       "      <td>4645020</td>\n",
       "    </tr>\n",
       "  </tbody>\n",
       "</table>\n",
       "</div>"
      ],
      "text/plain": [
       "                      geometry permit_number Permit Issued Date  \\\n",
       "0  POINT (-122.43497 37.75388)  202301109975         2023-02-28   \n",
       "1  POINT (-122.40793 37.74350)  202212158449         2022-12-16   \n",
       "2  POINT (-122.50719 37.75825)  202206307496         2023-03-21   \n",
       "3  POINT (-122.40475 37.76047)  202206216771         2022-06-21   \n",
       "4  POINT (-122.37454 37.73161)  202206136205         2022-11-17   \n",
       "\n",
       "   Net_Units_Completed Date_Completed BlockLot  \n",
       "0                  1.0     2023-04-19  2771059  \n",
       "1                 -1.0     2023-01-25  5556070  \n",
       "2                  1.0     2023-06-20  1893045  \n",
       "3                 -1.0     2022-07-11  4075029  \n",
       "4                  1.0     2023-06-07  4645020  "
      ]
     },
     "execution_count": 10,
     "metadata": {},
     "output_type": "execute_result"
    }
   ],
   "source": [
    "permits.head()"
   ]
  },
  {
   "cell_type": "markdown",
   "id": "bfdabee0",
   "metadata": {},
   "source": [
    "## Geospatial Bluesky permits df"
   ]
  },
  {
   "cell_type": "code",
   "execution_count": 14,
   "id": "e0421f7f",
   "metadata": {},
   "outputs": [],
   "source": [
    "year = 2010"
   ]
  },
  {
   "cell_type": "code",
   "execution_count": 12,
   "id": "9129bba3",
   "metadata": {},
   "outputs": [],
   "source": [
    "bluesky = gpd.read_feather('../geobluesky.geofeather')"
   ]
  },
  {
   "cell_type": "code",
   "execution_count": 13,
   "id": "ca5836d1",
   "metadata": {},
   "outputs": [],
   "source": [
    "bluesky = bluesky[bluesky.year == year]"
   ]
  },
  {
   "cell_type": "code",
   "execution_count": 15,
   "id": "f475a5dd",
   "metadata": {},
   "outputs": [],
   "source": [
    "gdf = gpd.sjoin(bluesky, permits.to_crs(bluesky.crs), how='left', predicate='contains')"
   ]
  },
  {
   "cell_type": "code",
   "execution_count": 16,
   "id": "ce9b62a1",
   "metadata": {},
   "outputs": [],
   "source": [
    "gdf.Developed = gdf.index_right.notna()"
   ]
  },
  {
   "cell_type": "code",
   "execution_count": 17,
   "id": "d1498d58",
   "metadata": {},
   "outputs": [],
   "source": [
    "gdf['Net_Units_Completed'] = gdf['Net_Units_Completed'].fillna(0)"
   ]
  },
  {
   "cell_type": "code",
   "execution_count": 18,
   "id": "14803a4b",
   "metadata": {},
   "outputs": [],
   "source": [
    "gdf = gdf.drop(columns=['mapblklot', 'index_right', 'permit_number', 'year'])"
   ]
  },
  {
   "cell_type": "code",
   "execution_count": 19,
   "id": "a372728b",
   "metadata": {},
   "outputs": [],
   "source": [
    "gdf = gdf.to_crs(epsg=3310)\n",
    "gdf['tier1'] =  gdf.geometry.intersects(simplefees.iloc[0].geometry)\n",
    "gdf['tier2'] = gdf.geometry.intersects(simplefees.iloc[1].geometry)"
   ]
  },
  {
   "cell_type": "code",
   "execution_count": 20,
   "id": "a51fa7f8",
   "metadata": {},
   "outputs": [],
   "source": [
    "gdf['x'] = gdf.geometry.centroid.x\n",
    "gdf['y'] = gdf.geometry.centroid.y"
   ]
  },
  {
   "cell_type": "code",
   "execution_count": 21,
   "id": "ce326bf4",
   "metadata": {},
   "outputs": [],
   "source": [
    "min_x, min_y, max_x, max_y = simplefees.total_bounds"
   ]
  },
  {
   "cell_type": "markdown",
   "id": "b814ffa5",
   "metadata": {},
   "source": [
    "## Take the subset of the data where there are fees"
   ]
  },
  {
   "cell_type": "code",
   "execution_count": 22,
   "id": "6a973a97",
   "metadata": {},
   "outputs": [],
   "source": [
    "east_homes = gdf[(gdf['tier1'] ^ gdf['tier2'])].copy()\n",
    "east_homes['tier'] = 'tier2'\n",
    "east_homes.loc[east_homes['tier1'], 'tier'] = 'tier1'"
   ]
  },
  {
   "cell_type": "code",
   "execution_count": 23,
   "id": "f5bd28f1",
   "metadata": {},
   "outputs": [],
   "source": [
    "east_homes = east_homes.to_crs(3310)\n",
    "simplefees = simplefees.to_crs(3310)\n",
    "\n",
    "east_homes['dist_to_tier1'] = east_homes.geometry.distance(simplefees.geometry.iat[0])\n",
    "east_homes['dist_to_tier2'] = east_homes.geometry.distance(simplefees.geometry.iat[1])\n",
    "east_homes['dist_to_boundary'] = np.maximum(east_homes['dist_to_tier1'], east_homes['dist_to_tier2'])\n",
    "east_homes['dist_to_boundary'] = east_homes['dist_to_boundary'] * ((-1)**(east_homes['tier'] == 'tier2'))"
   ]
  },
  {
   "cell_type": "code",
   "execution_count": 24,
   "id": "84562325",
   "metadata": {},
   "outputs": [],
   "source": [
    "boundary_homes = east_homes[(np.absolute(east_homes['dist_to_boundary']) < 200)]"
   ]
  },
  {
   "cell_type": "code",
   "execution_count": 25,
   "id": "96ec19a4",
   "metadata": {},
   "outputs": [
    {
     "data": {
      "text/plain": [
       "293"
      ]
     },
     "execution_count": 25,
     "metadata": {},
     "output_type": "execute_result"
    }
   ],
   "source": [
    "boundary_homes.Developed.sum()"
   ]
  },
  {
   "cell_type": "markdown",
   "id": "bd356c24",
   "metadata": {},
   "source": [
    "## Add tax data"
   ]
  },
  {
   "cell_type": "code",
   "execution_count": 27,
   "id": "74288149",
   "metadata": {},
   "outputs": [],
   "source": [
    "tax = gpd.read_feather('../data/tax.geofeather')"
   ]
  },
  {
   "cell_type": "code",
   "execution_count": 28,
   "id": "fb20a8d0",
   "metadata": {},
   "outputs": [],
   "source": [
    "boundary_homes = boundary_homes.to_crs(tax.crs)"
   ]
  },
  {
   "cell_type": "code",
   "execution_count": 29,
   "id": "953c70e0",
   "metadata": {},
   "outputs": [],
   "source": [
    "tax = tax[tax.closed_roll_year == 2009]"
   ]
  },
  {
   "cell_type": "code",
   "execution_count": 30,
   "id": "4f86dcb7",
   "metadata": {},
   "outputs": [],
   "source": [
    "full_df = gpd.sjoin(boundary_homes, tax, how='inner', predicate='contains') # contains? worried about nans"
   ]
  },
  {
   "cell_type": "code",
   "execution_count": 31,
   "id": "9b4252af",
   "metadata": {},
   "outputs": [],
   "source": [
    "full_df['non_geo_match'] = (full_df['block'] + full_df['lot']).isin(boundary_homes.MapBlkLot_Master)"
   ]
  },
  {
   "cell_type": "code",
   "execution_count": 32,
   "id": "5221c1b3",
   "metadata": {},
   "outputs": [],
   "source": [
    "full_df = full_df.sort_values('non_geo_match', ascending=False).drop_duplicates(['x', 'y'])"
   ]
  },
  {
   "cell_type": "markdown",
   "id": "41a6e043",
   "metadata": {},
   "source": [
    "## Permits"
   ]
  },
  {
   "cell_type": "code",
   "execution_count": 33,
   "id": "5adfe40b",
   "metadata": {},
   "outputs": [],
   "source": [
    "recent_otc = dbi[(2005 <= dbi['permit_creation_date'].dt.year) \n",
    "                 & (dbi['permit_creation_date'].dt.year < 2010) \n",
    "                 & (dbi['permit_type_definition'] == 'otc alterations permit')]"
   ]
  },
  {
   "cell_type": "code",
   "execution_count": 34,
   "id": "4680eac4",
   "metadata": {},
   "outputs": [],
   "source": [
    "full_df = full_df.drop(columns='index_right')"
   ]
  },
  {
   "cell_type": "code",
   "execution_count": 35,
   "id": "c4487881",
   "metadata": {},
   "outputs": [
    {
     "data": {
      "text/plain": [
       "(6959, 69)"
      ]
     },
     "execution_count": 35,
     "metadata": {},
     "output_type": "execute_result"
    }
   ],
   "source": [
    "full_df.shape"
   ]
  },
  {
   "cell_type": "code",
   "execution_count": 36,
   "id": "06d098a1",
   "metadata": {},
   "outputs": [],
   "source": [
    "full_df = gpd.sjoin(full_df, \n",
    "                    gpd.GeoDataFrame(recent_otc.value_counts('geometry').reset_index()).to_crs(full_df.crs),\n",
    "                    predicate='contains',\n",
    "                    how='left')"
   ]
  },
  {
   "cell_type": "code",
   "execution_count": 37,
   "id": "a17b2764",
   "metadata": {},
   "outputs": [],
   "source": [
    "full_df = full_df.rename({'count': 'otc alterations permits'}, axis=1)"
   ]
  },
  {
   "cell_type": "code",
   "execution_count": 38,
   "id": "aea23b1e",
   "metadata": {},
   "outputs": [],
   "source": [
    "full_df['otc alterations permits'] = full_df['otc alterations permits'].fillna(0)"
   ]
  },
  {
   "cell_type": "code",
   "execution_count": 39,
   "id": "1ea67e0c",
   "metadata": {},
   "outputs": [],
   "source": [
    "full_df = full_df.drop(columns=['index_right', 'non_geo_match', 'Zillow_Price_Real', 'Const_FedReserve_Real'])"
   ]
  },
  {
   "cell_type": "code",
   "execution_count": 40,
   "id": "801db36a",
   "metadata": {},
   "outputs": [],
   "source": [
    "full_df.to_feather('../data/clean_fees_rdd.feather')"
   ]
  },
  {
   "cell_type": "code",
   "execution_count": 41,
   "id": "67de0b93",
   "metadata": {},
   "outputs": [],
   "source": [
    "full_df.to_csv('../data/clean_fees_rdd.csv')"
   ]
  },
  {
   "cell_type": "code",
   "execution_count": 42,
   "id": "98257549",
   "metadata": {},
   "outputs": [
    {
     "data": {
      "text/html": [
       "<div>\n",
       "<style scoped>\n",
       "    .dataframe tbody tr th:only-of-type {\n",
       "        vertical-align: middle;\n",
       "    }\n",
       "\n",
       "    .dataframe tbody tr th {\n",
       "        vertical-align: top;\n",
       "    }\n",
       "\n",
       "    .dataframe thead th {\n",
       "        text-align: right;\n",
       "    }\n",
       "</style>\n",
       "<table border=\"1\" class=\"dataframe\">\n",
       "  <thead>\n",
       "    <tr style=\"text-align: right;\">\n",
       "      <th></th>\n",
       "      <th>MapBlkLot_Master</th>\n",
       "      <th>Developed</th>\n",
       "      <th>Historic</th>\n",
       "      <th>Residential_Dummy</th>\n",
       "      <th>Envelope_1000</th>\n",
       "      <th>Upzone_Ratio</th>\n",
       "      <th>zp_OfficeComm</th>\n",
       "      <th>zp_DensRestMulti</th>\n",
       "      <th>zp_FormBasedMulti</th>\n",
       "      <th>zp_PDRInd</th>\n",
       "      <th>...</th>\n",
       "      <th>lot</th>\n",
       "      <th>property_location</th>\n",
       "      <th>parcel_number</th>\n",
       "      <th>assessed_fixtures_value</th>\n",
       "      <th>supervisor_district</th>\n",
       "      <th>assessed_land_value</th>\n",
       "      <th>basement_area</th>\n",
       "      <th>assessed_improvement_value</th>\n",
       "      <th>imputed_land_value</th>\n",
       "      <th>otc alterations permits</th>\n",
       "    </tr>\n",
       "  </thead>\n",
       "  <tbody>\n",
       "    <tr>\n",
       "      <th>1463796</th>\n",
       "      <td>3521009</td>\n",
       "      <td>False</td>\n",
       "      <td>0</td>\n",
       "      <td>0</td>\n",
       "      <td>5.044330</td>\n",
       "      <td>2.627255</td>\n",
       "      <td>0</td>\n",
       "      <td>1</td>\n",
       "      <td>0</td>\n",
       "      <td>0</td>\n",
       "      <td>...</td>\n",
       "      <td>009</td>\n",
       "      <td>0000 0360 11TH                ST0000</td>\n",
       "      <td>3521009</td>\n",
       "      <td>2138</td>\n",
       "      <td>6.0</td>\n",
       "      <td>227412</td>\n",
       "      <td>0.0</td>\n",
       "      <td>295637</td>\n",
       "      <td>227412.0</td>\n",
       "      <td>0.0</td>\n",
       "    </tr>\n",
       "    <tr>\n",
       "      <th>1473936</th>\n",
       "      <td>3995007</td>\n",
       "      <td>False</td>\n",
       "      <td>0</td>\n",
       "      <td>1</td>\n",
       "      <td>16.214481</td>\n",
       "      <td>1.464987</td>\n",
       "      <td>0</td>\n",
       "      <td>0</td>\n",
       "      <td>1</td>\n",
       "      <td>0</td>\n",
       "      <td>...</td>\n",
       "      <td>007</td>\n",
       "      <td>0000 2092 03RD                ST0000</td>\n",
       "      <td>3995007</td>\n",
       "      <td>0</td>\n",
       "      <td>10.0</td>\n",
       "      <td>309908</td>\n",
       "      <td>0.0</td>\n",
       "      <td>293548</td>\n",
       "      <td>309908.0</td>\n",
       "      <td>0.0</td>\n",
       "    </tr>\n",
       "    <tr>\n",
       "      <th>1473948</th>\n",
       "      <td>3995057</td>\n",
       "      <td>False</td>\n",
       "      <td>0</td>\n",
       "      <td>1</td>\n",
       "      <td>19.350072</td>\n",
       "      <td>0.919462</td>\n",
       "      <td>0</td>\n",
       "      <td>0</td>\n",
       "      <td>1</td>\n",
       "      <td>0</td>\n",
       "      <td>...</td>\n",
       "      <td>057</td>\n",
       "      <td>0000 0635 TENNESSEE           ST0201</td>\n",
       "      <td>3995057</td>\n",
       "      <td>0</td>\n",
       "      <td>10.0</td>\n",
       "      <td>19700</td>\n",
       "      <td>0.0</td>\n",
       "      <td>134296</td>\n",
       "      <td>19700.0</td>\n",
       "      <td>0.0</td>\n",
       "    </tr>\n",
       "    <tr>\n",
       "      <th>1473947</th>\n",
       "      <td>3995035</td>\n",
       "      <td>False</td>\n",
       "      <td>0</td>\n",
       "      <td>1</td>\n",
       "      <td>4.203320</td>\n",
       "      <td>1.666667</td>\n",
       "      <td>0</td>\n",
       "      <td>0</td>\n",
       "      <td>0</td>\n",
       "      <td>1</td>\n",
       "      <td>...</td>\n",
       "      <td>035</td>\n",
       "      <td>0000 2080 3RD                 ST0001</td>\n",
       "      <td>3995035</td>\n",
       "      <td>0</td>\n",
       "      <td>10.0</td>\n",
       "      <td>452574</td>\n",
       "      <td>0.0</td>\n",
       "      <td>452574</td>\n",
       "      <td>452574.0</td>\n",
       "      <td>0.0</td>\n",
       "    </tr>\n",
       "    <tr>\n",
       "      <th>1473946</th>\n",
       "      <td>3994006</td>\n",
       "      <td>False</td>\n",
       "      <td>0</td>\n",
       "      <td>0</td>\n",
       "      <td>4.939534</td>\n",
       "      <td>1.666667</td>\n",
       "      <td>0</td>\n",
       "      <td>0</td>\n",
       "      <td>0</td>\n",
       "      <td>1</td>\n",
       "      <td>...</td>\n",
       "      <td>006</td>\n",
       "      <td>0000 0650VILLINOIS            ST0000</td>\n",
       "      <td>3994006</td>\n",
       "      <td>0</td>\n",
       "      <td>10.0</td>\n",
       "      <td>835701</td>\n",
       "      <td>0.0</td>\n",
       "      <td>0</td>\n",
       "      <td>835701.0</td>\n",
       "      <td>0.0</td>\n",
       "    </tr>\n",
       "  </tbody>\n",
       "</table>\n",
       "<p>5 rows × 67 columns</p>\n",
       "</div>"
      ],
      "text/plain": [
       "        MapBlkLot_Master  Developed  Historic  Residential_Dummy  \\\n",
       "1463796          3521009      False         0                  0   \n",
       "1473936          3995007      False         0                  1   \n",
       "1473948          3995057      False         0                  1   \n",
       "1473947          3995035      False         0                  1   \n",
       "1473946          3994006      False         0                  0   \n",
       "\n",
       "         Envelope_1000  Upzone_Ratio  zp_OfficeComm  zp_DensRestMulti  \\\n",
       "1463796       5.044330      2.627255              0                 1   \n",
       "1473936      16.214481      1.464987              0                 0   \n",
       "1473948      19.350072      0.919462              0                 0   \n",
       "1473947       4.203320      1.666667              0                 0   \n",
       "1473946       4.939534      1.666667              0                 0   \n",
       "\n",
       "         zp_FormBasedMulti  zp_PDRInd  ...  lot  \\\n",
       "1463796                  0          0  ...  009   \n",
       "1473936                  1          0  ...  007   \n",
       "1473948                  1          0  ...  057   \n",
       "1473947                  0          1  ...  035   \n",
       "1473946                  0          1  ...  006   \n",
       "\n",
       "                            property_location  parcel_number  \\\n",
       "1463796  0000 0360 11TH                ST0000        3521009   \n",
       "1473936  0000 2092 03RD                ST0000        3995007   \n",
       "1473948  0000 0635 TENNESSEE           ST0201        3995057   \n",
       "1473947  0000 2080 3RD                 ST0001        3995035   \n",
       "1473946  0000 0650VILLINOIS            ST0000        3994006   \n",
       "\n",
       "         assessed_fixtures_value supervisor_district assessed_land_value  \\\n",
       "1463796                     2138                 6.0              227412   \n",
       "1473936                        0                10.0              309908   \n",
       "1473948                        0                10.0               19700   \n",
       "1473947                        0                10.0              452574   \n",
       "1473946                        0                10.0              835701   \n",
       "\n",
       "         basement_area assessed_improvement_value imputed_land_value  \\\n",
       "1463796            0.0                     295637           227412.0   \n",
       "1473936            0.0                     293548           309908.0   \n",
       "1473948            0.0                     134296            19700.0   \n",
       "1473947            0.0                     452574           452574.0   \n",
       "1473946            0.0                          0           835701.0   \n",
       "\n",
       "         otc alterations permits  \n",
       "1463796                      0.0  \n",
       "1473936                      0.0  \n",
       "1473948                      0.0  \n",
       "1473947                      0.0  \n",
       "1473946                      0.0  \n",
       "\n",
       "[5 rows x 67 columns]"
      ]
     },
     "execution_count": 42,
     "metadata": {},
     "output_type": "execute_result"
    }
   ],
   "source": [
    "full_df.head()"
   ]
  },
  {
   "cell_type": "code",
   "execution_count": 43,
   "id": "57f5eefa",
   "metadata": {},
   "outputs": [
    {
     "data": {
      "text/plain": [
       "429"
      ]
     },
     "execution_count": 43,
     "metadata": {},
     "output_type": "execute_result"
    }
   ],
   "source": [
    "full_df.year_property_built.isna().sum()"
   ]
  },
  {
   "cell_type": "code",
   "execution_count": 44,
   "id": "fcac5eda",
   "metadata": {},
   "outputs": [
    {
     "data": {
      "text/plain": [
       "0"
      ]
     },
     "execution_count": 44,
     "metadata": {},
     "output_type": "execute_result"
    }
   ],
   "source": [
    "full_df['y'].isna().sum()"
   ]
  },
  {
   "cell_type": "markdown",
   "id": "8f12c632",
   "metadata": {},
   "source": [
    "## Confirm upzonings can be controlled for by 2010"
   ]
  },
  {
   "cell_type": "code",
   "execution_count": null,
   "id": "d9704853",
   "metadata": {},
   "outputs": [],
   "source": [
    "upzonings = parcels.pivot(index='MapBlkLot_Master', columns='year', values='Upzone_Ratio')\n",
    "upzonings = upzonings.diff(axis=1).iloc[:, 1:-1]"
   ]
  },
  {
   "cell_type": "code",
   "execution_count": null,
   "id": "2afdb58b",
   "metadata": {},
   "outputs": [],
   "source": [
    "plot_upzoning = pd.merge(allParcels[['mapblklot', 'geometry']].drop_duplicates(),\n",
    "                         upzonings,\n",
    "                         right_index=True, \n",
    "                         left_on='mapblklot')"
   ]
  },
  {
   "cell_type": "code",
   "execution_count": null,
   "id": "662fb338",
   "metadata": {},
   "outputs": [],
   "source": [
    "simplefees = simplefees.to_crs(3857)\n",
    "min_x, min_y, max_x, max_y = simplefees.total_bounds"
   ]
  },
  {
   "cell_type": "code",
   "execution_count": null,
   "id": "9cc99908",
   "metadata": {},
   "outputs": [],
   "source": [
    "plot_upzoning = plot_upzoning.to_crs(3857)"
   ]
  },
  {
   "cell_type": "code",
   "execution_count": null,
   "id": "d898b767",
   "metadata": {},
   "outputs": [],
   "source": [
    "fig, ax = plt.subplots(figsize=(15, 15))\n",
    "year = 2010\n",
    "plot_upzoning[['geometry', year]][plot_upzoning[year] > 0].plot(ax=ax, column=year, legend=True)\n",
    "ax.set_xlim(min_x, max_x)\n",
    "ax.set_ylim(min_y, max_y)\n",
    "ctx.add_basemap(ax, source=ctx.providers.CartoDB.PositronNoLabels, attribution=False)"
   ]
  },
  {
   "cell_type": "code",
   "execution_count": null,
   "id": "5eafd38c",
   "metadata": {},
   "outputs": [],
   "source": [
    "plot_upzoning['tier1'] = plot_upzoning.geometry.intersects(simplefees.iloc[0].geometry)\n",
    "plot_upzoning['tier2'] = plot_upzoning.geometry.intersects(simplefees.iloc[1].geometry)"
   ]
  },
  {
   "cell_type": "code",
   "execution_count": null,
   "id": "53832720",
   "metadata": {},
   "outputs": [],
   "source": [
    "eastern_upzonings = plot_upzoning[plot_upzoning.tier1 | plot_upzoning.tier2]"
   ]
  },
  {
   "cell_type": "code",
   "execution_count": null,
   "id": "62820129",
   "metadata": {},
   "outputs": [],
   "source": [
    "eastern_upzonings"
   ]
  },
  {
   "cell_type": "code",
   "execution_count": null,
   "id": "3bc105b9",
   "metadata": {},
   "outputs": [],
   "source": [
    "drop_nan = eastern_upzonings[~eastern_upzonings.isna().any(axis=1)]"
   ]
  },
  {
   "cell_type": "code",
   "execution_count": null,
   "id": "619c38a1",
   "metadata": {},
   "outputs": [],
   "source": [
    "corr_coefficient, p_value = stats.spearmanr(drop_nan[2010], drop_nan['tier2'])\n",
    "corr_coefficient"
   ]
  },
  {
   "cell_type": "code",
   "execution_count": null,
   "id": "337a24a9",
   "metadata": {},
   "outputs": [],
   "source": [
    "corr_coefficient, p_value = stats.spearmanr(drop_nan[2011], drop_nan['tier2'])\n",
    "corr_coefficient"
   ]
  },
  {
   "cell_type": "code",
   "execution_count": null,
   "id": "ca2f805d",
   "metadata": {},
   "outputs": [],
   "source": []
  }
 ],
 "metadata": {
  "kernelspec": {
   "display_name": "Python 3",
   "language": "python",
   "name": "python3"
  },
  "language_info": {
   "codemirror_mode": {
    "name": "ipython",
    "version": 3
   },
   "file_extension": ".py",
   "mimetype": "text/x-python",
   "name": "python",
   "nbconvert_exporter": "python",
   "pygments_lexer": "ipython3",
   "version": "3.8.8"
  }
 },
 "nbformat": 4,
 "nbformat_minor": 5
}
