{
 "cells": [
  {
   "cell_type": "markdown",
   "id": "1ec950c9",
   "metadata": {},
   "source": [
    "### Explanation"
   ]
  },
  {
   "cell_type": "markdown",
   "id": "57f61b74",
   "metadata": {},
   "source": [
    "This notebook attempts to create a dataset suitable for Poisson regression (or log-linear regression more generally) by finding the net new units built on each site in the BlueSky dataset. I was not able to figure out how to do this after perhaps a dozen attempts, so I need to circle back with SF staff."
   ]
  },
  {
   "cell_type": "markdown",
   "id": "5e2d39cc",
   "metadata": {},
   "source": [
    "### Code"
   ]
  },
  {
   "cell_type": "code",
   "execution_count": 319,
   "id": "d8080d8e",
   "metadata": {},
   "outputs": [],
   "source": [
    "import pandas as pd\n",
    "import geopandas as gpd\n",
    "import numpy as np\n",
    "\n",
    "import matplotlib.pyplot as plt\n",
    "import seaborn as sns\n",
    "import contextily as ctx\n",
    "from shapely.wkt import load\n",
    "\n",
    "import clean_utils"
   ]
  },
  {
   "cell_type": "code",
   "execution_count": 479,
   "id": "bec7cb4b",
   "metadata": {},
   "outputs": [],
   "source": [
    "plan_permits = gpd.read_file('../data/SF_Planning_Permitting_Data.geojson', low_memory=False)"
   ]
  },
  {
   "cell_type": "code",
   "execution_count": 312,
   "id": "a8bf98dc",
   "metadata": {},
   "outputs": [],
   "source": [
    "clean_utils.clean_dates(plan_permits)"
   ]
  },
  {
   "cell_type": "code",
   "execution_count": 5,
   "id": "7a8c7574",
   "metadata": {},
   "outputs": [],
   "source": [
    "parcels = pd.read_csv('../data/Blue Sky Code and Inputs/SF_Logistic_Data.csv')"
   ]
  },
  {
   "cell_type": "code",
   "execution_count": 304,
   "id": "d69dc805",
   "metadata": {},
   "outputs": [],
   "source": [
    "allParcels = gpd.read_file('../data/Parcels   Active and Retired/parcels.shp')"
   ]
  },
  {
   "cell_type": "code",
   "execution_count": 7,
   "id": "f2f6846a",
   "metadata": {},
   "outputs": [],
   "source": [
    "sites = gpd.read_file('../data/site_inventory/xn--Bay_Area_Housing_Opportunity_Sites_Inventory__20072023_-it38a.shp')"
   ]
  },
  {
   "cell_type": "markdown",
   "id": "d9c09954",
   "metadata": {},
   "source": [
    "### Training Set is RHNA 4"
   ]
  },
  {
   "cell_type": "code",
   "execution_count": 422,
   "id": "8d7e1f78",
   "metadata": {
    "scrolled": true
   },
   "outputs": [
    {
     "data": {
      "text/plain": [
       "253"
      ]
     },
     "execution_count": 422,
     "metadata": {},
     "output_type": "execute_result"
    }
   ],
   "source": [
    "trainParcels = parcels[(parcels.year >= 2007) & (parcels.year < 2015)]\n",
    "trainY = trainParcels.groupby('MapBlkLot_Master')['Developed'].agg(lambda x: x.ne(0).sum())\n",
    "trainX = trainParcels[trainParcels.year == 2007]\n",
    "trainY.sum()"
   ]
  },
  {
   "cell_type": "markdown",
   "id": "917cc4fb",
   "metadata": {},
   "source": [
    "No duplicative index."
   ]
  },
  {
   "cell_type": "code",
   "execution_count": 424,
   "id": "fc96fbc0",
   "metadata": {},
   "outputs": [
    {
     "data": {
      "text/plain": [
       "0    152965\n",
       "1       251\n",
       "2         1\n",
       "Name: Developed, dtype: int64"
      ]
     },
     "execution_count": 424,
     "metadata": {},
     "output_type": "execute_result"
    }
   ],
   "source": [
    "nunique_lots = trainParcels[trainParcels.year == 2007].MapBlkLot_Master.nunique()\n",
    "n_lots = trainParcels[trainParcels.year == 2007].shape[0]\n",
    "assert nunique_lots == n_lots\n",
    "\n",
    "trainDf = pd.merge(trainX.drop('Developed', axis=1), trainY, left_on='MapBlkLot_Master', right_index=True)\n",
    "trainDf.Developed.value_counts()"
   ]
  },
  {
   "cell_type": "markdown",
   "id": "d0fb4a7d",
   "metadata": {},
   "source": [
    "### Make BlueSky data geospatial"
   ]
  },
  {
   "cell_type": "code",
   "execution_count": 428,
   "id": "f2895739",
   "metadata": {},
   "outputs": [],
   "source": [
    "df = clean_utils.transform_bluesky_to_geospatial(trainDf)"
   ]
  },
  {
   "cell_type": "code",
   "execution_count": 429,
   "id": "d821361a",
   "metadata": {},
   "outputs": [
    {
     "data": {
      "text/plain": [
       "7756"
      ]
     },
     "execution_count": 429,
     "metadata": {},
     "output_type": "execute_result"
    }
   ],
   "source": [
    "df.CANTID_blklot_backup.notna().sum()"
   ]
  },
  {
   "cell_type": "markdown",
   "id": "86a5d5c1",
   "metadata": {},
   "source": [
    "### Developed parcels"
   ]
  },
  {
   "cell_type": "code",
   "execution_count": 364,
   "id": "174e74fb",
   "metadata": {},
   "outputs": [],
   "source": [
    "built = df.loc[df.Developed > 0,]"
   ]
  },
  {
   "cell_type": "code",
   "execution_count": 463,
   "id": "101c4f16",
   "metadata": {},
   "outputs": [],
   "source": [
    "dbi_permits = clean_utils.get_dbi_permits()"
   ]
  },
  {
   "cell_type": "code",
   "execution_count": 464,
   "id": "64848c1d",
   "metadata": {},
   "outputs": [
    {
     "data": {
      "text/plain": [
       "0.53"
      ]
     },
     "execution_count": 464,
     "metadata": {},
     "output_type": "execute_result"
    }
   ],
   "source": [
    "round(built.MapBlkLot_Master.isin(dbi_permits.blocklot).mean(), 2)"
   ]
  },
  {
   "cell_type": "code",
   "execution_count": 465,
   "id": "09983e23",
   "metadata": {},
   "outputs": [],
   "source": [
    "success = ['complete', 'issued', 'approved', 'granted', 'issuing']\n",
    "completed_projects = dbi_permits[dbi_permits['status'].isin(success)].copy()"
   ]
  },
  {
   "cell_type": "markdown",
   "id": "d958d32a",
   "metadata": {},
   "source": [
    "## Use blklot and apn. Compare"
   ]
  },
  {
   "cell_type": "code",
   "execution_count": 466,
   "id": "3189cf3a",
   "metadata": {},
   "outputs": [
    {
     "data": {
      "text/plain": [
       "1986"
      ]
     },
     "execution_count": 466,
     "metadata": {},
     "output_type": "execute_result"
    }
   ],
   "source": [
    "completed_projects['blocklot'].nunique()"
   ]
  },
  {
   "cell_type": "code",
   "execution_count": 473,
   "id": "04e0eecd",
   "metadata": {},
   "outputs": [],
   "source": [
    "dbi_units = completed_projects.groupby(['blocklot'], sort=False)['units'].median()\n",
    "dbi_units = dbi_units.reset_index()\n",
    "merge_blklot = built.merge(dbi_units, how='inner', left_on='blklot', right_on='blocklot')\n",
    "merge_mapblklot = built.merge(dbi_units, how='inner', left_on='mapblklot', right_on='blocklot')\n",
    "merge_mapblklotm = built.merge(dbi_units, how='inner', left_on='MapBlkLot_Master', right_on='blocklot')"
   ]
  },
  {
   "cell_type": "code",
   "execution_count": 474,
   "id": "8ed50036",
   "metadata": {},
   "outputs": [
    {
     "data": {
      "text/plain": [
       "8969.5"
      ]
     },
     "execution_count": 474,
     "metadata": {},
     "output_type": "execute_result"
    }
   ],
   "source": [
    "merge_blklot.units.sum()"
   ]
  },
  {
   "cell_type": "code",
   "execution_count": 396,
   "id": "7c3d91dc",
   "metadata": {},
   "outputs": [],
   "source": [
    "all_match1 = pd.concat((built_poisson_mapblklotm, \n",
    "                        built_poisson_mapblklot,\n",
    "                        built_poisson_blklot), axis=0)\n",
    "all_match1 = all_match1.to_crs('EPSG:4326')\n",
    "all_match1.MapBlkLot_Master.nunique()"
   ]
  },
  {
   "cell_type": "code",
   "execution_count": 401,
   "id": "b2904ae0",
   "metadata": {},
   "outputs": [],
   "source": [
    "built = built.to_crs('EPSG:4326')\n",
    "merge_geo = gpd.sjoin(built, completed_projects, how=\"inner\", predicate='contains')\n",
    "merge_geo.MapBlkLot_Master.nunique()"
   ]
  },
  {
   "cell_type": "code",
   "execution_count": 478,
   "id": "a72ba272",
   "metadata": {},
   "outputs": [
    {
     "data": {
      "text/plain": [
       "276"
      ]
     },
     "execution_count": 478,
     "metadata": {},
     "output_type": "execute_result"
    }
   ],
   "source": [
    "all_match = pd.concat((all_match1, merge_geo), axis=0)\n",
    "all_match = all_match[~all_match.MapBlkLot_Master.duplicated()]\n",
    "all_match.MapBlkLot_Master.nunique()"
   ]
  },
  {
   "cell_type": "markdown",
   "id": "58bae536",
   "metadata": {},
   "source": [
    "I can capture all but 30 permits using DBI dataset."
   ]
  },
  {
   "cell_type": "markdown",
   "id": "cbb6f8df",
   "metadata": {},
   "source": [
    "#### How many matches do I get if I use SF Planning Permits"
   ]
  },
  {
   "cell_type": "markdown",
   "id": "af53d52c",
   "metadata": {},
   "source": [
    "In the SF Planning Permits dataset, almost all mapblock lots are block + lot. Fewer are lot + block. And 29 have some non digit character I need to strip out.\n",
    "\n",
    "Also, 7% blocklots are nans."
   ]
  },
  {
   "cell_type": "code",
   "execution_count": 480,
   "id": "323078be",
   "metadata": {},
   "outputs": [
    {
     "data": {
      "text/plain": [
       "(29, 139)"
      ]
     },
     "execution_count": 480,
     "metadata": {},
     "output_type": "execute_result"
    }
   ],
   "source": [
    "plan_permits[\n",
    "    ~((plan_permits.mapblocklot == (plan_permits.block + plan_permits.lot))\n",
    "       | plan_permits.block.isna()\n",
    "       | (plan_permits.mapblocklot == (plan_permits.lot + plan_permits.block)))\n",
    "].shape"
   ]
  },
  {
   "cell_type": "code",
   "execution_count": 134,
   "id": "ebf44445",
   "metadata": {},
   "outputs": [],
   "source": [
    "ppermits = plan_permits"
   ]
  },
  {
   "cell_type": "code",
   "execution_count": 481,
   "id": "0ab3c676",
   "metadata": {},
   "outputs": [],
   "source": [
    "clean_utils.clean_dates(ppermits)\n",
    "clean_utils.clean_numbers(ppermits)"
   ]
  },
  {
   "cell_type": "code",
   "execution_count": 483,
   "id": "40fcf96d",
   "metadata": {},
   "outputs": [],
   "source": [
    "ppermits['NA_NUMBER_OF_UNITS_EXIST'] = ppermits['number_of_units_exist'].isna()\n",
    "ppermits['units'] = ppermits['number_of_units'].fillna(0) - ppermits['number_of_units_exist'].fillna(0)\n",
    "\n",
    "statuses = ['Closed - Approved', 'Closed',\n",
    "            'Closed - Issued', 'Closed - DR taken-Approved', \n",
    "            'Closed - Appeal Upheld', 'Closed - DR not taken-Approved',\n",
    "            'Approved', 'Permitted', 'Complete',\n",
    "            'Accepted', 'Application Accepted', 'Closed - No DR action-Approved']\n",
    "\n",
    "rhna_ppermits = ppermits[\n",
    "    (ppermits['units'] > 0)\n",
    "    & (ppermits['record_status'].isin(statuses)) \n",
    "    & (((ppermits['close_date'].dt.year >= 2007)\n",
    "        & (ppermits['close_date'].dt.year < 2015))\n",
    "       | ((ppermits['open_date'].dt.year >= 2007)\n",
    "          & (ppermits['open_date'].dt.year < 2015))\n",
    "       | ((ppermits['date_application_accepted'].dt.year >= 2007)\n",
    "          & (ppermits['date_application_accepted'].dt.year < 2015))\n",
    "       | ((ppermits['date_application_submitted'].dt.year >= 2007)\n",
    "          & (ppermits['date_application_submitted'].dt.year < 2015)))\n",
    "].copy()"
   ]
  },
  {
   "cell_type": "code",
   "execution_count": 484,
   "id": "8c10b963",
   "metadata": {},
   "outputs": [],
   "source": [
    "merge_pp_geo = gpd.sjoin(built, rhna_ppermits, how=\"inner\", predicate='contains')"
   ]
  },
  {
   "cell_type": "code",
   "execution_count": 486,
   "id": "11c9faf3",
   "metadata": {},
   "outputs": [
    {
     "data": {
      "text/plain": [
       "279"
      ]
     },
     "execution_count": 486,
     "metadata": {},
     "output_type": "execute_result"
    }
   ],
   "source": [
    "plan_units = rhna_ppermits.groupby(['mapblocklot'], sort=False)['units'].median()\n",
    "merge_pp_mapblklot = built.merge(plan_units, how='inner', left_on='mapblklot', right_on='mapblocklot')\n",
    "all_match3 = pd.concat((all_match, merge_pp_mapblklot, merge_pp_geo), axis=0)\n",
    "all_match3.MapBlkLot_Master.nunique()"
   ]
  },
  {
   "cell_type": "code",
   "execution_count": 487,
   "id": "a13a359f",
   "metadata": {},
   "outputs": [],
   "source": [
    "all_match3 = all_match3[~all_match3.MapBlkLot_Master.duplicated()]"
   ]
  },
  {
   "cell_type": "code",
   "execution_count": 488,
   "id": "d71a2066",
   "metadata": {},
   "outputs": [],
   "source": [
    "finalDf = all_match3[list(trainDf.columns.values) + ['units']]"
   ]
  },
  {
   "cell_type": "code",
   "execution_count": 489,
   "id": "fbe560e3",
   "metadata": {},
   "outputs": [],
   "source": [
    "cantID = built[~built.MapBlkLot_Master.isin(finalDf.MapBlkLot_Master)]"
   ]
  },
  {
   "cell_type": "code",
   "execution_count": 490,
   "id": "5fb994ec",
   "metadata": {},
   "outputs": [
    {
     "data": {
      "text/plain": [
       "(28, 23)"
      ]
     },
     "execution_count": 490,
     "metadata": {},
     "output_type": "execute_result"
    }
   ],
   "source": [
    "cantID.shape"
   ]
  },
  {
   "cell_type": "code",
   "execution_count": 491,
   "id": "9262ba53",
   "metadata": {},
   "outputs": [
    {
     "data": {
      "text/plain": [
       "9"
      ]
     },
     "execution_count": 491,
     "metadata": {},
     "output_type": "execute_result"
    }
   ],
   "source": [
    "cantID.CANTID_blklot_backup.notna().sum()"
   ]
  },
  {
   "cell_type": "markdown",
   "id": "2f2ef137",
   "metadata": {},
   "source": [
    "#### Can I identify missing permits by geo? Only one more."
   ]
  },
  {
   "cell_type": "code",
   "execution_count": 494,
   "id": "2e17e2f2",
   "metadata": {},
   "outputs": [
    {
     "data": {
      "text/plain": [
       "array(['4044031'], dtype=object)"
      ]
     },
     "execution_count": 494,
     "metadata": {},
     "output_type": "execute_result"
    }
   ],
   "source": [
    "gpd.sjoin(cantID, rhna_permits).MapBlkLot_Master.unique()"
   ]
  },
  {
   "cell_type": "markdown",
   "id": "a4790d21",
   "metadata": {},
   "source": [
    "#### Do these unidentified parcels have diff geometries I can try in Parcels?"
   ]
  },
  {
   "cell_type": "markdown",
   "id": "2e362ef5",
   "metadata": {},
   "source": [
    "No. I tried looking at parcels where mapblocklot matched multiple rows in AllParcels, and none of those are the parcels that were developed 2007-2015."
   ]
  },
  {
   "cell_type": "code",
   "execution_count": 495,
   "id": "c935df70",
   "metadata": {},
   "outputs": [],
   "source": [
    "remaining = dbi[\n",
    "    (dbi['units'] > 0)\n",
    "    & (dbi['permit_type'].isin([1, 2, 3, 8]))\n",
    "    & (dbi.blocklot.isin(cantID.MapBlkLot_Master))]"
   ]
  },
  {
   "cell_type": "code",
   "execution_count": 496,
   "id": "ce6bfc6b",
   "metadata": {},
   "outputs": [
    {
     "data": {
      "text/plain": [
       "5"
      ]
     },
     "execution_count": 496,
     "metadata": {},
     "output_type": "execute_result"
    }
   ],
   "source": [
    "remaining.blocklot.nunique()"
   ]
  },
  {
   "cell_type": "code",
   "execution_count": 497,
   "id": "a3333051",
   "metadata": {},
   "outputs": [
    {
     "data": {
      "text/plain": [
       "5"
      ]
     },
     "execution_count": 497,
     "metadata": {},
     "output_type": "execute_result"
    }
   ],
   "source": [
    "dbi_units_remain = remaining.groupby(['blocklot'], sort=False)['units'].median()\n",
    "\n",
    "built_poisson_remainder = cantID.merge(dbi_units_remain, how='inner', left_on='MapBlkLot_Master', right_on='blocklot')\n",
    "built_poisson_remainder.MapBlkLot_Master.nunique()"
   ]
  },
  {
   "cell_type": "code",
   "execution_count": 498,
   "id": "81ff562e",
   "metadata": {},
   "outputs": [],
   "source": [
    "built_poisson_remainder = built_poisson_remainder[list(trainDf.columns.values) + ['units']]"
   ]
  },
  {
   "cell_type": "code",
   "execution_count": 499,
   "id": "4eb6f6ba",
   "metadata": {},
   "outputs": [],
   "source": [
    "all_match_last = pd.concat((finalDf, built_poisson_remainder), axis=0)"
   ]
  },
  {
   "cell_type": "code",
   "execution_count": 500,
   "id": "565e33a7",
   "metadata": {},
   "outputs": [
    {
     "data": {
      "text/plain": [
       "(284, 18)"
      ]
     },
     "execution_count": 500,
     "metadata": {},
     "output_type": "execute_result"
    }
   ],
   "source": [
    "all_match_last.shape"
   ]
  },
  {
   "cell_type": "code",
   "execution_count": 501,
   "id": "56b54465",
   "metadata": {},
   "outputs": [],
   "source": [
    "remaining2 = dbi[\n",
    "    (dbi['units'] > 0)\n",
    "    & (dbi['permit_type'].isin([1, 2, 3, 8]))]"
   ]
  },
  {
   "cell_type": "code",
   "execution_count": 502,
   "id": "5d11127a",
   "metadata": {},
   "outputs": [],
   "source": [
    "cantID2 = cantID[~cantID.MapBlkLot_Master.isin(built_poisson_remainder.MapBlkLot_Master)].copy()"
   ]
  },
  {
   "cell_type": "code",
   "execution_count": 503,
   "id": "e03fa480",
   "metadata": {},
   "outputs": [],
   "source": [
    "lastgeo =  gpd.sjoin(cantID2, remaining2, how=\"inner\", predicate='contains')"
   ]
  },
  {
   "cell_type": "code",
   "execution_count": 504,
   "id": "716c2f45",
   "metadata": {},
   "outputs": [],
   "source": [
    "lastgeoUq = lastgeo[~lastgeo.MapBlkLot_Master.duplicated()]"
   ]
  },
  {
   "cell_type": "code",
   "execution_count": 505,
   "id": "3ec02c18",
   "metadata": {},
   "outputs": [],
   "source": [
    "lastgeoUq = lastgeoUq[list(trainDf.columns.values) + ['units']]"
   ]
  },
  {
   "cell_type": "code",
   "execution_count": 506,
   "id": "8fc4aa6d",
   "metadata": {},
   "outputs": [],
   "source": [
    "fdf = pd.concat((all_match_last, lastgeoUq), axis=0)"
   ]
  },
  {
   "cell_type": "code",
   "execution_count": 510,
   "id": "a5361d98",
   "metadata": {},
   "outputs": [
    {
     "data": {
      "text/plain": [
       "(pandas.core.frame.DataFrame, pandas.core.frame.DataFrame)"
      ]
     },
     "execution_count": 510,
     "metadata": {},
     "output_type": "execute_result"
    }
   ],
   "source": [
    "type(all_match_last), type(lastgeoUq)"
   ]
  },
  {
   "cell_type": "code",
   "execution_count": 507,
   "id": "eff84279",
   "metadata": {},
   "outputs": [
    {
     "data": {
      "text/plain": [
       "(288, 18)"
      ]
     },
     "execution_count": 507,
     "metadata": {},
     "output_type": "execute_result"
    }
   ],
   "source": [
    "fdf.shape"
   ]
  },
  {
   "cell_type": "code",
   "execution_count": 508,
   "id": "24b731c8",
   "metadata": {},
   "outputs": [
    {
     "ename": "AttributeError",
     "evalue": "'DataFrame' object has no attribute 'to_crs'",
     "output_type": "error",
     "traceback": [
      "\u001b[1;31m---------------------------------------------------------------------------\u001b[0m",
      "\u001b[1;31mAttributeError\u001b[0m                            Traceback (most recent call last)",
      "\u001b[1;32m<ipython-input-508-730b4151de6e>\u001b[0m in \u001b[0;36m<module>\u001b[1;34m\u001b[0m\n\u001b[1;32m----> 1\u001b[1;33m \u001b[0mfdf\u001b[0m\u001b[1;33m[\u001b[0m\u001b[1;34m'area'\u001b[0m\u001b[1;33m]\u001b[0m \u001b[1;33m=\u001b[0m \u001b[0mfdf\u001b[0m\u001b[1;33m.\u001b[0m\u001b[0mto_crs\u001b[0m\u001b[1;33m(\u001b[0m\u001b[1;36m5070\u001b[0m\u001b[1;33m)\u001b[0m\u001b[1;33m.\u001b[0m\u001b[0mgeometry\u001b[0m\u001b[1;33m.\u001b[0m\u001b[0marea\u001b[0m\u001b[1;33m\u001b[0m\u001b[1;33m\u001b[0m\u001b[0m\n\u001b[0m",
      "\u001b[1;32m~\\AppData\\Roaming\\Python\\Python38\\site-packages\\pandas\\core\\generic.py\u001b[0m in \u001b[0;36m__getattr__\u001b[1;34m(self, name)\u001b[0m\n\u001b[0;32m   5900\u001b[0m         ):\n\u001b[0;32m   5901\u001b[0m             \u001b[1;32mreturn\u001b[0m \u001b[0mself\u001b[0m\u001b[1;33m[\u001b[0m\u001b[0mname\u001b[0m\u001b[1;33m]\u001b[0m\u001b[1;33m\u001b[0m\u001b[1;33m\u001b[0m\u001b[0m\n\u001b[1;32m-> 5902\u001b[1;33m         \u001b[1;32mreturn\u001b[0m \u001b[0mobject\u001b[0m\u001b[1;33m.\u001b[0m\u001b[0m__getattribute__\u001b[0m\u001b[1;33m(\u001b[0m\u001b[0mself\u001b[0m\u001b[1;33m,\u001b[0m \u001b[0mname\u001b[0m\u001b[1;33m)\u001b[0m\u001b[1;33m\u001b[0m\u001b[1;33m\u001b[0m\u001b[0m\n\u001b[0m\u001b[0;32m   5903\u001b[0m \u001b[1;33m\u001b[0m\u001b[0m\n\u001b[0;32m   5904\u001b[0m     \u001b[1;32mdef\u001b[0m \u001b[0m__setattr__\u001b[0m\u001b[1;33m(\u001b[0m\u001b[0mself\u001b[0m\u001b[1;33m,\u001b[0m \u001b[0mname\u001b[0m\u001b[1;33m:\u001b[0m \u001b[0mstr\u001b[0m\u001b[1;33m,\u001b[0m \u001b[0mvalue\u001b[0m\u001b[1;33m)\u001b[0m \u001b[1;33m->\u001b[0m \u001b[1;32mNone\u001b[0m\u001b[1;33m:\u001b[0m\u001b[1;33m\u001b[0m\u001b[1;33m\u001b[0m\u001b[0m\n",
      "\u001b[1;31mAttributeError\u001b[0m: 'DataFrame' object has no attribute 'to_crs'"
     ]
    }
   ],
   "source": [
    "fdf['area'] = fdf.to_crs(5070).geometry.area"
   ]
  },
  {
   "cell_type": "code",
   "execution_count": 279,
   "id": "35221476",
   "metadata": {},
   "outputs": [],
   "source": [
    "fdf.to_file('clean_built_data.geojson')"
   ]
  },
  {
   "cell_type": "code",
   "execution_count": 282,
   "id": "c9d41f27",
   "metadata": {},
   "outputs": [
    {
     "data": {
      "text/plain": [
       "580"
      ]
     },
     "execution_count": 282,
     "metadata": {},
     "output_type": "execute_result"
    }
   ],
   "source": [
    "trainDf.MapBlkLot_Master.isin(fdf.MapBlkLot_Master).sum()"
   ]
  },
  {
   "cell_type": "code",
   "execution_count": null,
   "id": "92d5c6c4",
   "metadata": {},
   "outputs": [],
   "source": []
  }
 ],
 "metadata": {
  "kernelspec": {
   "display_name": "Python 3 (ipykernel)",
   "language": "python",
   "name": "python3"
  },
  "language_info": {
   "codemirror_mode": {
    "name": "ipython",
    "version": 3
   },
   "file_extension": ".py",
   "mimetype": "text/x-python",
   "name": "python",
   "nbconvert_exporter": "python",
   "pygments_lexer": "ipython3",
   "version": "3.9.6"
  }
 },
 "nbformat": 4,
 "nbformat_minor": 5
}
